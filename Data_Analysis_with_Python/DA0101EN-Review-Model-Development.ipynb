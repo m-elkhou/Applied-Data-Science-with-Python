{
 "cells": [
  {
   "cell_type": "markdown",
   "metadata": {},
   "source": [
    "<div class=\"alert alert-block alert-info\" style=\"margin-top: 20px\">\n",
    "    <a href=\"https://cocl.us/skills_network_DA0101EN_top\">\n",
    "         <img src=\"https://s3-api.us-geo.objectstorage.softlayer.net/cf-courses-data/CognitiveClass/DA0101EN/Images/TopAd.png\" width=\"750\" align=\"center\">\n",
    "    </a>\n",
    "</div>\n"
   ]
  },
  {
   "cell_type": "markdown",
   "metadata": {},
   "source": [
    "<a href=\"https://www.bigdatauniversity.com\"><img src = \"https://s3-api.us-geo.objectstorage.softlayer.net/cf-courses-data/CognitiveClass/DA0101EN/Images/CCLog.png\" width = 300, align = \"center\"></a>\n",
    "\n",
    "<h1 align=center><font size=5>Data Analysis with Python</font></h1>"
   ]
  },
  {
   "cell_type": "markdown",
   "metadata": {},
   "source": [
    "<h1>Module 4: Model Development</h1>"
   ]
  },
  {
   "cell_type": "markdown",
   "metadata": {},
   "source": [
    "<p>In this section, we will develop several models that will predict the price of the car using the variables or features. This is just an estimate but should give us an objective idea of how much the car should cost.</p>"
   ]
  },
  {
   "cell_type": "markdown",
   "metadata": {},
   "source": [
    "Some questions we want to ask in this module\n",
    "<ul>\n",
    "    <li>do I know if the dealer is offering fair value for my trade-in?</li>\n",
    "    <li>do I know if I put a fair value on my car?</li>\n",
    "</ul>\n",
    "<p>Data Analytics, we often use <b>Model Development</b> to help us predict future observations from the data we have.</p>\n",
    "\n",
    "<p>A Model will help us understand the exact relationship between different variables and how these variables are used to predict the result.</p>"
   ]
  },
  {
   "cell_type": "markdown",
   "metadata": {},
   "source": [
    "<h4>Setup</h4>"
   ]
  },
  {
   "cell_type": "markdown",
   "metadata": {},
   "source": [
    " Import libraries"
   ]
  },
  {
   "cell_type": "code",
   "execution_count": 2,
   "metadata": {},
   "outputs": [],
   "source": [
    "import pandas as pd\n",
    "import numpy as np\n",
    "import matplotlib.pyplot as plt"
   ]
  },
  {
   "cell_type": "markdown",
   "metadata": {},
   "source": [
    "load data and store in dataframe df:"
   ]
  },
  {
   "cell_type": "markdown",
   "metadata": {},
   "source": [
    "This dataset was hosted on IBM Cloud object click <a href=\"https://cocl.us/da0101en_object_storage_skills_network\">HERE</a> for free storage."
   ]
  },
  {
   "cell_type": "code",
   "execution_count": 4,
   "metadata": {},
   "outputs": [
    {
     "data": {
      "text/html": "<div>\n<style scoped>\n    .dataframe tbody tr th:only-of-type {\n        vertical-align: middle;\n    }\n\n    .dataframe tbody tr th {\n        vertical-align: top;\n    }\n\n    .dataframe thead th {\n        text-align: right;\n    }\n</style>\n<table border=\"1\" class=\"dataframe\">\n  <thead>\n    <tr style=\"text-align: right;\">\n      <th></th>\n      <th>symboling</th>\n      <th>normalized-losses</th>\n      <th>make</th>\n      <th>aspiration</th>\n      <th>num-of-doors</th>\n      <th>body-style</th>\n      <th>drive-wheels</th>\n      <th>engine-location</th>\n      <th>wheel-base</th>\n      <th>length</th>\n      <th>...</th>\n      <th>compression-ratio</th>\n      <th>horsepower</th>\n      <th>peak-rpm</th>\n      <th>city-mpg</th>\n      <th>highway-mpg</th>\n      <th>price</th>\n      <th>city-L/100km</th>\n      <th>horsepower-binned</th>\n      <th>diesel</th>\n      <th>gas</th>\n    </tr>\n  </thead>\n  <tbody>\n    <tr>\n      <td>0</td>\n      <td>3</td>\n      <td>122</td>\n      <td>alfa-romero</td>\n      <td>std</td>\n      <td>two</td>\n      <td>convertible</td>\n      <td>rwd</td>\n      <td>front</td>\n      <td>88.6</td>\n      <td>0.811148</td>\n      <td>...</td>\n      <td>9.0</td>\n      <td>111.0</td>\n      <td>5000.0</td>\n      <td>21</td>\n      <td>27</td>\n      <td>13495.0</td>\n      <td>11.190476</td>\n      <td>Medium</td>\n      <td>0</td>\n      <td>1</td>\n    </tr>\n    <tr>\n      <td>1</td>\n      <td>3</td>\n      <td>122</td>\n      <td>alfa-romero</td>\n      <td>std</td>\n      <td>two</td>\n      <td>convertible</td>\n      <td>rwd</td>\n      <td>front</td>\n      <td>88.6</td>\n      <td>0.811148</td>\n      <td>...</td>\n      <td>9.0</td>\n      <td>111.0</td>\n      <td>5000.0</td>\n      <td>21</td>\n      <td>27</td>\n      <td>16500.0</td>\n      <td>11.190476</td>\n      <td>Medium</td>\n      <td>0</td>\n      <td>1</td>\n    </tr>\n    <tr>\n      <td>2</td>\n      <td>1</td>\n      <td>122</td>\n      <td>alfa-romero</td>\n      <td>std</td>\n      <td>two</td>\n      <td>hatchback</td>\n      <td>rwd</td>\n      <td>front</td>\n      <td>94.5</td>\n      <td>0.822681</td>\n      <td>...</td>\n      <td>9.0</td>\n      <td>154.0</td>\n      <td>5000.0</td>\n      <td>19</td>\n      <td>26</td>\n      <td>16500.0</td>\n      <td>12.368421</td>\n      <td>Medium</td>\n      <td>0</td>\n      <td>1</td>\n    </tr>\n    <tr>\n      <td>3</td>\n      <td>2</td>\n      <td>164</td>\n      <td>audi</td>\n      <td>std</td>\n      <td>four</td>\n      <td>sedan</td>\n      <td>fwd</td>\n      <td>front</td>\n      <td>99.8</td>\n      <td>0.848630</td>\n      <td>...</td>\n      <td>10.0</td>\n      <td>102.0</td>\n      <td>5500.0</td>\n      <td>24</td>\n      <td>30</td>\n      <td>13950.0</td>\n      <td>9.791667</td>\n      <td>Medium</td>\n      <td>0</td>\n      <td>1</td>\n    </tr>\n    <tr>\n      <td>4</td>\n      <td>2</td>\n      <td>164</td>\n      <td>audi</td>\n      <td>std</td>\n      <td>four</td>\n      <td>sedan</td>\n      <td>4wd</td>\n      <td>front</td>\n      <td>99.4</td>\n      <td>0.848630</td>\n      <td>...</td>\n      <td>8.0</td>\n      <td>115.0</td>\n      <td>5500.0</td>\n      <td>18</td>\n      <td>22</td>\n      <td>17450.0</td>\n      <td>13.055556</td>\n      <td>Medium</td>\n      <td>0</td>\n      <td>1</td>\n    </tr>\n  </tbody>\n</table>\n<p>5 rows × 29 columns</p>\n</div>",
      "text/plain": "   symboling  normalized-losses         make aspiration num-of-doors  \\\n0          3                122  alfa-romero        std          two   \n1          3                122  alfa-romero        std          two   \n2          1                122  alfa-romero        std          two   \n3          2                164         audi        std         four   \n4          2                164         audi        std         four   \n\n    body-style drive-wheels engine-location  wheel-base    length  ...  \\\n0  convertible          rwd           front        88.6  0.811148  ...   \n1  convertible          rwd           front        88.6  0.811148  ...   \n2    hatchback          rwd           front        94.5  0.822681  ...   \n3        sedan          fwd           front        99.8  0.848630  ...   \n4        sedan          4wd           front        99.4  0.848630  ...   \n\n   compression-ratio  horsepower  peak-rpm city-mpg highway-mpg    price  \\\n0                9.0       111.0    5000.0       21          27  13495.0   \n1                9.0       111.0    5000.0       21          27  16500.0   \n2                9.0       154.0    5000.0       19          26  16500.0   \n3               10.0       102.0    5500.0       24          30  13950.0   \n4                8.0       115.0    5500.0       18          22  17450.0   \n\n  city-L/100km  horsepower-binned  diesel  gas  \n0    11.190476             Medium       0    1  \n1    11.190476             Medium       0    1  \n2    12.368421             Medium       0    1  \n3     9.791667             Medium       0    1  \n4    13.055556             Medium       0    1  \n\n[5 rows x 29 columns]"
     },
     "execution_count": 4,
     "metadata": {},
     "output_type": "execute_result"
    }
   ],
   "source": [
    "# path of data \n",
    "path = 'https://s3-api.us-geo.objectstorage.softlayer.net/cf-courses-data/CognitiveClass/DA0101EN/automobileEDA.csv'\n",
    "df = pd.read_csv(path)\n",
    "df.head()"
   ]
  },
  {
   "cell_type": "markdown",
   "metadata": {},
   "source": [
    "<h3>1. Linear Regression and Multiple Linear Regression</h3>"
   ]
  },
  {
   "cell_type": "markdown",
   "metadata": {},
   "source": [
    "\n",
    "<h4>Linear Regression</h4>"
   ]
  },
  {
   "cell_type": "markdown",
   "metadata": {},
   "source": [
    "\n",
    "<p>One example of a Data  Model that we will be using is</p>\n",
    "<b>Simple Linear Regression</b>.\n",
    "\n",
    "<br>\n",
    "<p>Simple Linear Regression is a method to help us understand the relationship between two variables:</p>\n",
    "<ul>\n",
    "    <li>The predictor/independent variable (X)</li>\n",
    "    <li>The response/dependent variable (that we want to predict)(Y)</li>\n",
    "</ul>\n",
    "\n",
    "<p>The result of Linear Regression is a <b>linear function</b> that predicts the response (dependent) variable as a function of the predictor (independent) variable.</p>\n",
    "\n"
   ]
  },
  {
   "cell_type": "markdown",
   "metadata": {},
   "source": [
    "$$\n",
    " Y: Response \\ Variable\\\\\n",
    " X: Predictor \\ Variables\n",
    "$$\n"
   ]
  },
  {
   "cell_type": "markdown",
   "metadata": {},
   "source": [
    " <b>Linear function:</b>\n",
    "$$\n",
    "Yhat = a + b  X\n",
    "$$"
   ]
  },
  {
   "cell_type": "markdown",
   "metadata": {},
   "source": [
    "<ul>\n",
    "    <li>a refers to the <b>intercept</b> of the regression line0, in other words: the value of Y when X is 0</li>\n",
    "    <li>b refers to the <b>slope</b> of the regression line, in other words: the value with which Y changes when X increases by 1 unit</li>\n",
    "</ul>"
   ]
  },
  {
   "cell_type": "markdown",
   "metadata": {},
   "source": [
    "<h4>Lets load the modules for linear regression</h4>"
   ]
  },
  {
   "cell_type": "code",
   "execution_count": 5,
   "metadata": {},
   "outputs": [],
   "source": [
    "from sklearn.linear_model import LinearRegression"
   ]
  },
  {
   "cell_type": "markdown",
   "metadata": {},
   "source": [
    "<h4>Create the linear regression object</h4>"
   ]
  },
  {
   "cell_type": "code",
   "execution_count": 6,
   "metadata": {},
   "outputs": [
    {
     "data": {
      "text/plain": "LinearRegression(copy_X=True, fit_intercept=True, n_jobs=None, normalize=False)"
     },
     "execution_count": 6,
     "metadata": {},
     "output_type": "execute_result"
    }
   ],
   "source": [
    "lm = LinearRegression()\n",
    "lm"
   ]
  },
  {
   "cell_type": "markdown",
   "metadata": {},
   "source": [
    "<h4>How could Highway-mpg help us predict car price?</h4>"
   ]
  },
  {
   "cell_type": "markdown",
   "metadata": {},
   "source": [
    "For this example, we want to look at how highway-mpg can help us predict car price.\n",
    "Using simple linear regression, we will create a linear function with \"highway-mpg\" as the predictor variable and the \"price\" as the response variable."
   ]
  },
  {
   "cell_type": "code",
   "execution_count": 7,
   "metadata": {},
   "outputs": [],
   "source": [
    "X = df[['highway-mpg']]\n",
    "Y = df['price']"
   ]
  },
  {
   "cell_type": "markdown",
   "metadata": {},
   "source": [
    "Fit the linear model using highway-mpg."
   ]
  },
  {
   "cell_type": "code",
   "execution_count": 8,
   "metadata": {},
   "outputs": [
    {
     "data": {
      "text/plain": "LinearRegression(copy_X=True, fit_intercept=True, n_jobs=None, normalize=False)"
     },
     "execution_count": 8,
     "metadata": {},
     "output_type": "execute_result"
    }
   ],
   "source": [
    "lm.fit(X,Y)"
   ]
  },
  {
   "cell_type": "markdown",
   "metadata": {},
   "source": [
    " We can output a prediction "
   ]
  },
  {
   "cell_type": "code",
   "execution_count": 9,
   "metadata": {},
   "outputs": [
    {
     "data": {
      "text/plain": "array([16236.50464347, 16236.50464347, 17058.23802179, 13771.3045085 ,\n       20345.17153508])"
     },
     "execution_count": 9,
     "metadata": {},
     "output_type": "execute_result"
    }
   ],
   "source": [
    "Yhat=lm.predict(X)\n",
    "Yhat[0:5]   "
   ]
  },
  {
   "cell_type": "markdown",
   "metadata": {},
   "source": [
    "<h4>What is the value of the intercept (a)?</h4>"
   ]
  },
  {
   "cell_type": "code",
   "execution_count": 10,
   "metadata": {},
   "outputs": [
    {
     "data": {
      "text/plain": "38423.305858157386"
     },
     "execution_count": 10,
     "metadata": {},
     "output_type": "execute_result"
    }
   ],
   "source": [
    "lm.intercept_"
   ]
  },
  {
   "cell_type": "markdown",
   "metadata": {},
   "source": [
    "<h4>What is the value of the Slope (b)?</h4>"
   ]
  },
  {
   "cell_type": "code",
   "execution_count": 11,
   "metadata": {},
   "outputs": [
    {
     "data": {
      "text/plain": "array([-821.73337832])"
     },
     "execution_count": 11,
     "metadata": {},
     "output_type": "execute_result"
    }
   ],
   "source": [
    "lm.coef_"
   ]
  },
  {
   "cell_type": "markdown",
   "metadata": {},
   "source": [
    "<h3>What is the final estimated linear model we get?</h3>"
   ]
  },
  {
   "cell_type": "markdown",
   "metadata": {},
   "source": [
    "As we saw above, we should get a final linear model with the structure:"
   ]
  },
  {
   "cell_type": "markdown",
   "metadata": {},
   "source": [
    "$$\n",
    "Yhat = a + b  X\n",
    "$$"
   ]
  },
  {
   "cell_type": "markdown",
   "metadata": {},
   "source": [
    "Plugging in the actual values we get:"
   ]
  },
  {
   "cell_type": "markdown",
   "metadata": {},
   "source": [
    "<b>price</b> = 38423.31 - 821.73 x  <b>highway-mpg</b>"
   ]
  },
  {
   "cell_type": "markdown",
   "metadata": {},
   "source": [
    "<div class=\"alert alert-danger alertdanger\" style=\"margin-top: 20px\">\n",
    "<h1>Question #1 a): </h1>\n",
    "\n",
    "<b>Create a linear regression object?</b>\n",
    "</div>"
   ]
  },
  {
   "cell_type": "code",
   "execution_count": 12,
   "metadata": {},
   "outputs": [
    {
     "data": {
      "text/plain": "LinearRegression(copy_X=True, fit_intercept=True, n_jobs=None, normalize=False)"
     },
     "execution_count": 12,
     "metadata": {},
     "output_type": "execute_result"
    }
   ],
   "source": [
    "# Write your code below and press Shift+Enter to execute \n",
    "lm1 = LinearRegression()\n",
    "lm1 "
   ]
  },
  {
   "cell_type": "markdown",
   "metadata": {},
   "source": [
    "Double-click <b>here</b> for the solution.\n",
    "\n",
    "<!-- The answer is below:\n",
    "\n",
    "lm1 = LinearRegression()\n",
    "lm1 \n",
    "\n",
    "-->"
   ]
  },
  {
   "cell_type": "markdown",
   "metadata": {},
   "source": [
    "<div class=\"alert alert-danger alertdanger\" style=\"margin-top: 20px\">\n",
    "<h1> Question #1 b): </h1>\n",
    "\n",
    "<b>Train the model using 'engine-size' as the independent variable and 'price' as the dependent variable?</b>\n",
    "</div>"
   ]
  },
  {
   "cell_type": "code",
   "execution_count": 13,
   "metadata": {},
   "outputs": [
    {
     "data": {
      "text/plain": "LinearRegression(copy_X=True, fit_intercept=True, n_jobs=None, normalize=False)"
     },
     "execution_count": 13,
     "metadata": {},
     "output_type": "execute_result"
    }
   ],
   "source": [
    "lm1.fit(df[['engine-size']],df[['price']])\n",
    "lm1\n"
   ]
  },
  {
   "cell_type": "markdown",
   "metadata": {},
   "source": [
    "Double-click <b>here</b> for the solution.\n",
    "\n",
    "<!-- The answer is below:\n",
    "\n",
    "lm1.fit(df[['engine-size']], df['price'])\n",
    "lm1\n",
    "\n",
    "-->\n"
   ]
  },
  {
   "cell_type": "markdown",
   "metadata": {},
   "source": [
    "<div class=\"alert alert-danger alertdanger\" style=\"margin-top: 20px\">\n",
    "<h1>Question #1 c):</h1>\n",
    "\n",
    "<b>Find the slope and intercept of the model?</b>\n",
    "</div>"
   ]
  },
  {
   "cell_type": "markdown",
   "metadata": {},
   "source": [
    "<h4>Slope</h4>"
   ]
  },
  {
   "cell_type": "code",
   "execution_count": 14,
   "metadata": {},
   "outputs": [
    {
     "name": "stdout",
     "output_type": "stream",
     "text": "the value of the Slope (b)     is:\t [[166.86001569]]\n"
    }
   ],
   "source": [
    "print('the value of the Slope (b)     is:\\t', lm1.coef_)"
   ]
  },
  {
   "cell_type": "markdown",
   "metadata": {},
   "source": [
    "<h4>Intercept</h4>"
   ]
  },
  {
   "cell_type": "code",
   "execution_count": 15,
   "metadata": {},
   "outputs": [
    {
     "name": "stdout",
     "output_type": "stream",
     "text": "the value of the intercept (a) is:\t [-7963.33890628]\n"
    }
   ],
   "source": [
    "print('the value of the intercept (a) is:\\t', lm1.intercept_)"
   ]
  },
  {
   "cell_type": "markdown",
   "metadata": {},
   "source": [
    "Double-click <b>here</b> for the solution.\n",
    "\n",
    "<!-- The answer is below:\n",
    "\n",
    "# Slope \n",
    "lm1.coef_\n",
    "# Intercept\n",
    "lm1.intercept_\n",
    "\n",
    "-->"
   ]
  },
  {
   "cell_type": "markdown",
   "metadata": {},
   "source": [
    "<div class=\"alert alert-danger alertdanger\" style=\"margin-top: 20px\">\n",
    "<h1>Question #1 d): </h1>\n",
    "\n",
    "<b>What is the equation of the predicted line. You can use x and yhat or 'engine-size' or 'price'?</b>\n",
    "</div>"
   ]
  },
  {
   "cell_type": "markdown",
   "metadata": {},
   "source": [
    "# You can type you answer here\n",
    "\n",
    "Y = -7963.33890628 * X + 166.86001569\n",
    "\n",
    "Price = -7963.33890628 * Engine-size + 166.86001569\n"
   ]
  },
  {
   "cell_type": "markdown",
   "metadata": {},
   "source": [
    "\n",
    "\n",
    "Double-click <b>here</b> for the solution.\n",
    "\n",
    "<!-- The answer is below:\n",
    "\n",
    "# using X and Y  \n",
    "Yhat=38423.31-821.733*X\n",
    "\n",
    "Price=38423.31-821.733*engine-size\n",
    "\n",
    "-->"
   ]
  },
  {
   "cell_type": "markdown",
   "metadata": {},
   "source": [
    "<h4>Multiple Linear Regression</h4>"
   ]
  },
  {
   "cell_type": "markdown",
   "metadata": {},
   "source": [
    "<p>What if we want to predict car price using more than one variable?</p>\n",
    "\n",
    "<p>If we want to use more variables in our model to predict car price, we can use <b>Multiple Linear Regression</b>.\n",
    "Multiple Linear Regression is very similar to Simple Linear Regression, but this method is used to explain the relationship between one continuous response (dependent) variable and <b>two or more</b> predictor (independent) variables.\n",
    "Most of the real-world regression models involve multiple predictors. We will illustrate the structure by using four predictor variables, but these results can generalize to any integer:</p>"
   ]
  },
  {
   "cell_type": "markdown",
   "metadata": {},
   "source": [
    "$$\n",
    "Y: Response \\ Variable\\\\\n",
    "X_1 :Predictor\\ Variable \\ 1\\\\\n",
    "X_2: Predictor\\ Variable \\ 2\\\\\n",
    "X_3: Predictor\\ Variable \\ 3\\\\\n",
    "X_4: Predictor\\ Variable \\ 4\\\\\n",
    "$$"
   ]
  },
  {
   "cell_type": "markdown",
   "metadata": {},
   "source": [
    "$$\n",
    "a: intercept\\\\\n",
    "b_1 :coefficients \\ of\\ Variable \\ 1\\\\\n",
    "b_2: coefficients \\ of\\ Variable \\ 2\\\\\n",
    "b_3: coefficients \\ of\\ Variable \\ 3\\\\\n",
    "b_4: coefficients \\ of\\ Variable \\ 4\\\\\n",
    "$$"
   ]
  },
  {
   "cell_type": "markdown",
   "metadata": {},
   "source": [
    "The equation is given by"
   ]
  },
  {
   "cell_type": "markdown",
   "metadata": {},
   "source": [
    "$$\n",
    "Yhat = a + b_1 X_1 + b_2 X_2 + b_3 X_3 + b_4 X_4\n",
    "$$"
   ]
  },
  {
   "cell_type": "markdown",
   "metadata": {},
   "source": [
    "<p>From the previous section  we know that other good predictors of price could be:</p>\n",
    "<ul>\n",
    "    <li>Horsepower</li>\n",
    "    <li>Curb-weight</li>\n",
    "    <li>Engine-size</li>\n",
    "    <li>Highway-mpg</li>\n",
    "</ul>\n",
    "Let's develop a model using these variables as the predictor variables."
   ]
  },
  {
   "cell_type": "code",
   "execution_count": 16,
   "metadata": {},
   "outputs": [],
   "source": [
    "Z = df[['horsepower', 'curb-weight', 'engine-size', 'highway-mpg']]"
   ]
  },
  {
   "cell_type": "markdown",
   "metadata": {},
   "source": [
    "Fit the linear model using the four above-mentioned variables."
   ]
  },
  {
   "cell_type": "code",
   "execution_count": 17,
   "metadata": {},
   "outputs": [
    {
     "data": {
      "text/plain": "LinearRegression(copy_X=True, fit_intercept=True, n_jobs=None, normalize=False)"
     },
     "execution_count": 17,
     "metadata": {},
     "output_type": "execute_result"
    }
   ],
   "source": [
    "lm.fit(Z, df['price'])"
   ]
  },
  {
   "cell_type": "markdown",
   "metadata": {},
   "source": [
    "What is the value of the intercept(a)?"
   ]
  },
  {
   "cell_type": "code",
   "execution_count": 18,
   "metadata": {},
   "outputs": [
    {
     "data": {
      "text/plain": "-15806.624626329198"
     },
     "execution_count": 18,
     "metadata": {},
     "output_type": "execute_result"
    }
   ],
   "source": [
    "lm.intercept_"
   ]
  },
  {
   "cell_type": "markdown",
   "metadata": {},
   "source": [
    "What are the values of the coefficients (b1, b2, b3, b4)?"
   ]
  },
  {
   "cell_type": "code",
   "execution_count": 19,
   "metadata": {},
   "outputs": [
    {
     "data": {
      "text/plain": "array([53.49574423,  4.70770099, 81.53026382, 36.05748882])"
     },
     "execution_count": 19,
     "metadata": {},
     "output_type": "execute_result"
    }
   ],
   "source": [
    "lm.coef_"
   ]
  },
  {
   "cell_type": "markdown",
   "metadata": {},
   "source": [
    " What is the final estimated linear model that we get?"
   ]
  },
  {
   "cell_type": "markdown",
   "metadata": {},
   "source": [
    "As we saw above, we should get a final linear function with the structure:\n",
    "\n",
    "$$\n",
    "Yhat = a + b_1 X_1 + b_2 X_2 + b_3 X_3 + b_4 X_4\n",
    "$$\n",
    "\n",
    "What is the linear function we get in this example?"
   ]
  },
  {
   "cell_type": "markdown",
   "metadata": {},
   "source": [
    "<b>Price</b> = -15678.742628061467 + 52.65851272 x <b>horsepower</b> + 4.69878948 x <b>curb-weight</b> + 81.95906216 x <b>engine-size</b> + 33.58258185 x <b>highway-mpg</b>"
   ]
  },
  {
   "cell_type": "markdown",
   "metadata": {},
   "source": [
    "<div class=\"alert alert-danger alertdanger\" style=\"margin-top: 20px\">\n",
    "<h1> Question  #2 a): </h1>\n",
    "Create and train a Multiple Linear Regression model \"lm2\" where the response variable is price, and the predictor variable is 'normalized-losses' and  'highway-mpg'.\n",
    "</div>"
   ]
  },
  {
   "cell_type": "code",
   "execution_count": 20,
   "metadata": {},
   "outputs": [
    {
     "data": {
      "text/plain": "LinearRegression(copy_X=True, fit_intercept=True, n_jobs=None, normalize=False)"
     },
     "execution_count": 20,
     "metadata": {},
     "output_type": "execute_result"
    }
   ],
   "source": [
    "lm2 = LinearRegression()\n",
    "lm2.fit(df[['normalized-losses', 'highway-mpg']], df['price'])"
   ]
  },
  {
   "cell_type": "markdown",
   "metadata": {},
   "source": [
    "Double-click <b>here</b> for the solution.\n",
    "\n",
    "<!-- The answer is below:\n",
    "\n",
    "lm2 = LinearRegression()\n",
    "lm2.fit(df[['normalized-losses' , 'highway-mpg']],df['price'])\n",
    "\n",
    "-->"
   ]
  },
  {
   "cell_type": "markdown",
   "metadata": {},
   "source": [
    "<div class=\"alert alert-danger alertdanger\" style=\"margin-top: 20px\">\n",
    "<h1>Question  #2 b): </h1>\n",
    "<b>Find the coefficient of the model?</b>\n",
    "</div>"
   ]
  },
  {
   "cell_type": "code",
   "execution_count": 21,
   "metadata": {},
   "outputs": [
    {
     "data": {
      "text/plain": "array([   1.49789586, -820.45434016])"
     },
     "execution_count": 21,
     "metadata": {},
     "output_type": "execute_result"
    }
   ],
   "source": [
    "lm2.coef_"
   ]
  },
  {
   "cell_type": "markdown",
   "metadata": {},
   "source": [
    "Double-click <b>here</b> for the solution.\n",
    "\n",
    "<!-- The answer is below:\n",
    "\n",
    "lm2.coef_\n",
    "\n",
    "-->"
   ]
  },
  {
   "cell_type": "markdown",
   "metadata": {},
   "source": [
    "<h3>2)  Model Evaluation using Visualization</h3>"
   ]
  },
  {
   "cell_type": "markdown",
   "metadata": {},
   "source": [
    "Now that we've developed some models, how do we evaluate our models and how do we choose the best one? One way to do this is by using visualization."
   ]
  },
  {
   "cell_type": "markdown",
   "metadata": {},
   "source": [
    "import the visualization package: seaborn"
   ]
  },
  {
   "cell_type": "code",
   "execution_count": 22,
   "metadata": {},
   "outputs": [],
   "source": [
    "# import the visualization package: seaborn\n",
    "import seaborn as sns\n",
    "%matplotlib inline "
   ]
  },
  {
   "cell_type": "markdown",
   "metadata": {},
   "source": [
    "<h3>Regression Plot</h3>"
   ]
  },
  {
   "cell_type": "markdown",
   "metadata": {},
   "source": [
    "<p>When it comes to simple linear regression, an excellent way to visualize the fit of our model is by using <b>regression plots</b>.</p>\n",
    "\n",
    "<p>This plot will show a combination of a scattered data points (a <b>scatter plot</b>), as well as the fitted <b>linear regression</b> line going through the data. This will give us a reasonable estimate of the relationship between the two variables, the strength of the correlation, as well as the direction (positive or negative correlation).</p>"
   ]
  },
  {
   "cell_type": "markdown",
   "metadata": {},
   "source": [
    " Let's visualize Horsepower as potential predictor variable of price:"
   ]
  },
  {
   "cell_type": "code",
   "execution_count": 23,
   "metadata": {},
   "outputs": [
    {
     "data": {
      "text/plain": "(0, 48271.321820591555)"
     },
     "execution_count": 23,
     "metadata": {},
     "output_type": "execute_result"
    },
    {
     "data": {
      "image/png": "[encoded data removed]",
      "image/svg+xml": "<?xml version=\"1.0\" encoding=\"utf-8\" standalone=\"no\"?>\r\n<!DOCTYPE svg PUBLIC \"-//W3C//DTD SVG 1.1//EN\"\r\n  \"http://www.w3.org/Graphics/SVG/1.1/DTD/svg11.dtd\">\r\n<!-- Created with matplotlib (https://matplotlib.org/) -->\r\n<svg height=\"588.35625pt\" version=\"1.1\" viewBox=\"0 0 736.490625 588.35625\" width=\"736.490625pt\" xmlns=\"http://www.w3.org/2000/svg\" xmlns:xlink=\"http://www.w3.org/1999/xlink\">\r\n <defs>\r\n  <style type=\"text/css\">\r\n*{stroke-linecap:butt;stroke-linejoin:round;}\r\n  </style>\r\n </defs>\r\n <g id=\"figure_1\">\r\n  <g id=\"patch_1\">\r\n   <path d=\"M 0 588.35625 \r\nL 736.490625 588.35625 \r\nL 736.490625 0 \r\nL 0 0 \r\nz\r\n\" style=\"fill:none;\"/>\r\n  </g>\r\n  <g id=\"axes_1\">\r\n   <g id=\"patch_2\">\r\n    <path d=\"M 59.690625 550.8 \r\nL 729.290625 550.8 \r\nL 729.290625 7.2 \r\nL 59.690625 7.2 \r\nz\r\n\"/>\r\n   </g>\r\n   <g id=\"PathCollection_1\">\r\n    <defs>\r\n     <path d=\"M 0 3 \r\nC 0.795609 3 1.55874 2.683901 2.12132 2.12132 \r\nC 2.683901 1.55874 3 0.795609 3 0 \r\nC 3 -0.795609 2.683901 -1.55874 2.12132 -2.12132 \r\nC 1.55874 -2.683901 0.795609 -3 0 -3 \r\nC -0.795609 -3 -1.55874 -2.683901 -2.12132 -2.12132 \r\nC -2.683901 -1.55874 -3 -0.795609 -3 0 \r\nC -3 0.795609 -2.683901 1.55874 -2.12132 2.12132 \r\nC -1.55874 2.683901 -0.795609 3 0 3 \r\nz\r\n\" id=\"m94299fb0e0\" style=\"stroke:#8dd3c7;stroke-opacity:0.8;\"/>\r\n    </defs>\r\n    <g clip-path=\"url(#p2c940c5a34)\">\r\n     <use style=\"fill:#8dd3c7;fill-opacity:0.8;stroke:#8dd3c7;stroke-opacity:0.8;\" x=\"266.439439\" xlink:href=\"#m94299fb0e0\" y=\"398.828152\"/>\r\n     <use style=\"fill:#8dd3c7;fill-opacity:0.8;stroke:#8dd3c7;stroke-opacity:0.8;\" x=\"266.439439\" xlink:href=\"#m94299fb0e0\" y=\"364.98781\"/>\r\n     <use style=\"fill:#8dd3c7;fill-opacity:0.8;stroke:#8dd3c7;stroke-opacity:0.8;\" x=\"250.433041\" xlink:href=\"#m94299fb0e0\" y=\"364.98781\"/>\r\n     <use style=\"fill:#8dd3c7;fill-opacity:0.8;stroke:#8dd3c7;stroke-opacity:0.8;\" x=\"314.458634\" xlink:href=\"#m94299fb0e0\" y=\"393.70424\"/>\r\n     <use style=\"fill:#8dd3c7;fill-opacity:0.8;stroke:#8dd3c7;stroke-opacity:0.8;\" x=\"186.407448\" xlink:href=\"#m94299fb0e0\" y=\"354.289533\"/>\r\n     <use style=\"fill:#8dd3c7;fill-opacity:0.8;stroke:#8dd3c7;stroke-opacity:0.8;\" x=\"234.426643\" xlink:href=\"#m94299fb0e0\" y=\"379.064491\"/>\r\n     <use style=\"fill:#8dd3c7;fill-opacity:0.8;stroke:#8dd3c7;stroke-opacity:0.8;\" x=\"234.426643\" xlink:href=\"#m94299fb0e0\" y=\"351.361583\"/>\r\n     <use style=\"fill:#8dd3c7;fill-opacity:0.8;stroke:#8dd3c7;stroke-opacity:0.8;\" x=\"234.426643\" xlink:href=\"#m94299fb0e0\" y=\"337.735356\"/>\r\n     <use style=\"fill:#8dd3c7;fill-opacity:0.8;stroke:#8dd3c7;stroke-opacity:0.8;\" x=\"154.394651\" xlink:href=\"#m94299fb0e0\" y=\"281.935392\"/>\r\n     <use style=\"fill:#8dd3c7;fill-opacity:0.8;stroke:#8dd3c7;stroke-opacity:0.8;\" x=\"298.452236\" xlink:href=\"#m94299fb0e0\" y=\"365.776105\"/>\r\n     <use style=\"fill:#8dd3c7;fill-opacity:0.8;stroke:#8dd3c7;stroke-opacity:0.8;\" x=\"298.452236\" xlink:href=\"#m94299fb0e0\" y=\"360.201739\"/>\r\n     <use style=\"fill:#8dd3c7;fill-opacity:0.8;stroke:#8dd3c7;stroke-opacity:0.8;\" x=\"282.445837\" xlink:href=\"#m94299fb0e0\" y=\"314.649599\"/>\r\n     <use style=\"fill:#8dd3c7;fill-opacity:0.8;stroke:#8dd3c7;stroke-opacity:0.8;\" x=\"282.445837\" xlink:href=\"#m94299fb0e0\" y=\"313.129318\"/>\r\n     <use style=\"fill:#8dd3c7;fill-opacity:0.8;stroke:#8dd3c7;stroke-opacity:0.8;\" x=\"234.426643\" xlink:href=\"#m94299fb0e0\" y=\"274.165064\"/>\r\n     <use style=\"fill:#8dd3c7;fill-opacity:0.8;stroke:#8dd3c7;stroke-opacity:0.8;\" x=\"186.407448\" xlink:href=\"#m94299fb0e0\" y=\"204.401033\"/>\r\n     <use style=\"fill:#8dd3c7;fill-opacity:0.8;stroke:#8dd3c7;stroke-opacity:0.8;\" x=\"186.407448\" xlink:href=\"#m94299fb0e0\" y=\"85.537539\"/>\r\n     <use style=\"fill:#8dd3c7;fill-opacity:0.8;stroke:#8dd3c7;stroke-opacity:0.8;\" x=\"154.394651\" xlink:href=\"#m94299fb0e0\" y=\"135.481603\"/>\r\n     <use style=\"fill:#8dd3c7;fill-opacity:0.8;stroke:#8dd3c7;stroke-opacity:0.8;\" x=\"682.605793\" xlink:href=\"#m94299fb0e0\" y=\"492.792813\"/>\r\n     <use style=\"fill:#8dd3c7;fill-opacity:0.8;stroke:#8dd3c7;stroke-opacity:0.8;\" x=\"522.541811\" xlink:href=\"#m94299fb0e0\" y=\"479.909834\"/>\r\n     <use style=\"fill:#8dd3c7;fill-opacity:0.8;stroke:#8dd3c7;stroke-opacity:0.8;\" x=\"522.541811\" xlink:href=\"#m94299fb0e0\" y=\"476.756658\"/>\r\n     <use style=\"fill:#8dd3c7;fill-opacity:0.8;stroke:#8dd3c7;stroke-opacity:0.8;\" x=\"490.529014\" xlink:href=\"#m94299fb0e0\" y=\"488.051787\"/>\r\n     <use style=\"fill:#8dd3c7;fill-opacity:0.8;stroke:#8dd3c7;stroke-opacity:0.8;\" x=\"442.50982\" xlink:href=\"#m94299fb0e0\" y=\"478.986404\"/>\r\n     <use style=\"fill:#8dd3c7;fill-opacity:0.8;stroke:#8dd3c7;stroke-opacity:0.8;\" x=\"314.458634\" xlink:href=\"#m94299fb0e0\" y=\"461.193479\"/>\r\n     <use style=\"fill:#8dd3c7;fill-opacity:0.8;stroke:#8dd3c7;stroke-opacity:0.8;\" x=\"442.50982\" xlink:href=\"#m94299fb0e0\" y=\"480.653083\"/>\r\n     <use style=\"fill:#8dd3c7;fill-opacity:0.8;stroke:#8dd3c7;stroke-opacity:0.8;\" x=\"442.50982\" xlink:href=\"#m94299fb0e0\" y=\"475.43908\"/>\r\n     <use style=\"fill:#8dd3c7;fill-opacity:0.8;stroke:#8dd3c7;stroke-opacity:0.8;\" x=\"442.50982\" xlink:href=\"#m94299fb0e0\" y=\"465.112427\"/>\r\n     <use style=\"fill:#8dd3c7;fill-opacity:0.8;stroke:#8dd3c7;stroke-opacity:0.8;\" x=\"314.458634\" xlink:href=\"#m94299fb0e0\" y=\"454.425411\"/>\r\n     <use style=\"fill:#8dd3c7;fill-opacity:0.8;stroke:#8dd3c7;stroke-opacity:0.8;\" x=\"314.458634\" xlink:href=\"#m94299fb0e0\" y=\"450.337543\"/>\r\n     <use style=\"fill:#8dd3c7;fill-opacity:0.8;stroke:#8dd3c7;stroke-opacity:0.8;\" x=\"218.420244\" xlink:href=\"#m94299fb0e0\" y=\"404.807926\"/>\r\n     <use style=\"fill:#8dd3c7;fill-opacity:0.8;stroke:#8dd3c7;stroke-opacity:0.8;\" x=\"698.612192\" xlink:href=\"#m94299fb0e0\" y=\"477.837747\"/>\r\n     <use style=\"fill:#8dd3c7;fill-opacity:0.8;stroke:#8dd3c7;stroke-opacity:0.8;\" x=\"442.50982\" xlink:href=\"#m94299fb0e0\" y=\"473.603481\"/>\r\n     <use style=\"fill:#8dd3c7;fill-opacity:0.8;stroke:#8dd3c7;stroke-opacity:0.8;\" x=\"506.535413\" xlink:href=\"#m94299fb0e0\" y=\"489.999999\"/>\r\n     <use style=\"fill:#8dd3c7;fill-opacity:0.8;stroke:#8dd3c7;stroke-opacity:0.8;\" x=\"378.484227\" xlink:href=\"#m94299fb0e0\" y=\"477.27468\"/>\r\n     <use style=\"fill:#8dd3c7;fill-opacity:0.8;stroke:#8dd3c7;stroke-opacity:0.8;\" x=\"378.484227\" xlink:href=\"#m94299fb0e0\" y=\"470.517873\"/>\r\n     <use style=\"fill:#8dd3c7;fill-opacity:0.8;stroke:#8dd3c7;stroke-opacity:0.8;\" x=\"378.484227\" xlink:href=\"#m94299fb0e0\" y=\"468.64849\"/>\r\n     <use style=\"fill:#8dd3c7;fill-opacity:0.8;stroke:#8dd3c7;stroke-opacity:0.8;\" x=\"378.484227\" xlink:href=\"#m94299fb0e0\" y=\"468.64849\"/>\r\n     <use style=\"fill:#8dd3c7;fill-opacity:0.8;stroke:#8dd3c7;stroke-opacity:0.8;\" x=\"362.477829\" xlink:href=\"#m94299fb0e0\" y=\"461.891683\"/>\r\n     <use style=\"fill:#8dd3c7;fill-opacity:0.8;stroke:#8dd3c7;stroke-opacity:0.8;\" x=\"362.477829\" xlink:href=\"#m94299fb0e0\" y=\"448.378069\"/>\r\n     <use style=\"fill:#8dd3c7;fill-opacity:0.8;stroke:#8dd3c7;stroke-opacity:0.8;\" x=\"362.477829\" xlink:href=\"#m94299fb0e0\" y=\"451.193405\"/>\r\n     <use style=\"fill:#8dd3c7;fill-opacity:0.8;stroke:#8dd3c7;stroke-opacity:0.8;\" x=\"362.477829\" xlink:href=\"#m94299fb0e0\" y=\"434.864455\"/>\r\n     <use style=\"fill:#8dd3c7;fill-opacity:0.8;stroke:#8dd3c7;stroke-opacity:0.8;\" x=\"282.445837\" xlink:href=\"#m94299fb0e0\" y=\"405.021891\"/>\r\n     <use style=\"fill:#8dd3c7;fill-opacity:0.8;stroke:#8dd3c7;stroke-opacity:0.8;\" x=\"330.465032\" xlink:href=\"#m94299fb0e0\" y=\"434.301388\"/>\r\n     <use style=\"fill:#8dd3c7;fill-opacity:0.8;stroke:#8dd3c7;stroke-opacity:0.8;\" x=\"298.452236\" xlink:href=\"#m94299fb0e0\" y=\"474.391775\"/>\r\n     <use style=\"fill:#8dd3c7;fill-opacity:0.8;stroke:#8dd3c7;stroke-opacity:0.8;\" x=\"298.452236\" xlink:href=\"#m94299fb0e0\" y=\"426.384662\"/>\r\n     <use style=\"fill:#8dd3c7;fill-opacity:0.8;stroke:#8dd3c7;stroke-opacity:0.8;\" x=\"138.388253\" xlink:href=\"#m94299fb0e0\" y=\"187.62163\"/>\r\n     <use style=\"fill:#8dd3c7;fill-opacity:0.8;stroke:#8dd3c7;stroke-opacity:0.8;\" x=\"138.388253\" xlink:href=\"#m94299fb0e0\" y=\"150.459192\"/>\r\n     <use style=\"fill:#8dd3c7;fill-opacity:0.8;stroke:#8dd3c7;stroke-opacity:0.8;\" x=\"106.375457\" xlink:href=\"#m94299fb0e0\" y=\"145.391586\"/>\r\n     <use style=\"fill:#8dd3c7;fill-opacity:0.8;stroke:#8dd3c7;stroke-opacity:0.8;\" x=\"330.465032\" xlink:href=\"#m94299fb0e0\" y=\"492.297314\"/>\r\n     <use style=\"fill:#8dd3c7;fill-opacity:0.8;stroke:#8dd3c7;stroke-opacity:0.8;\" x=\"442.50982\" xlink:href=\"#m94299fb0e0\" y=\"482.162103\"/>\r\n     <use style=\"fill:#8dd3c7;fill-opacity:0.8;stroke:#8dd3c7;stroke-opacity:0.8;\" x=\"442.50982\" xlink:href=\"#m94299fb0e0\" y=\"474.279162\"/>\r\n     <use style=\"fill:#8dd3c7;fill-opacity:0.8;stroke:#8dd3c7;stroke-opacity:0.8;\" x=\"442.50982\" xlink:href=\"#m94299fb0e0\" y=\"475.405296\"/>\r\n     <use style=\"fill:#8dd3c7;fill-opacity:0.8;stroke:#8dd3c7;stroke-opacity:0.8;\" x=\"442.50982\" xlink:href=\"#m94299fb0e0\" y=\"467.522355\"/>\r\n     <use style=\"fill:#8dd3c7;fill-opacity:0.8;stroke:#8dd3c7;stroke-opacity:0.8;\" x=\"202.413846\" xlink:href=\"#m94299fb0e0\" y=\"427.544581\"/>\r\n     <use style=\"fill:#8dd3c7;fill-opacity:0.8;stroke:#8dd3c7;stroke-opacity:0.8;\" x=\"202.413846\" xlink:href=\"#m94299fb0e0\" y=\"417.409371\"/>\r\n     <use style=\"fill:#8dd3c7;fill-opacity:0.8;stroke:#8dd3c7;stroke-opacity:0.8;\" x=\"202.413846\" xlink:href=\"#m94299fb0e0\" y=\"397.13895\"/>\r\n     <use style=\"fill:#8dd3c7;fill-opacity:0.8;stroke:#8dd3c7;stroke-opacity:0.8;\" x=\"202.413846\" xlink:href=\"#m94299fb0e0\" y=\"374.61626\"/>\r\n     <use style=\"fill:#8dd3c7;fill-opacity:0.8;stroke:#8dd3c7;stroke-opacity:0.8;\" x=\"346.47143\" xlink:href=\"#m94299fb0e0\" y=\"451.193405\"/>\r\n     <use style=\"fill:#8dd3c7;fill-opacity:0.8;stroke:#8dd3c7;stroke-opacity:0.8;\" x=\"346.47143\" xlink:href=\"#m94299fb0e0\" y=\"455.134876\"/>\r\n     <use style=\"fill:#8dd3c7;fill-opacity:0.8;stroke:#8dd3c7;stroke-opacity:0.8;\" x=\"346.47143\" xlink:href=\"#m94299fb0e0\" y=\"431.486052\"/>\r\n     <use style=\"fill:#8dd3c7;fill-opacity:0.8;stroke:#8dd3c7;stroke-opacity:0.8;\" x=\"346.47143\" xlink:href=\"#m94299fb0e0\" y=\"435.427522\"/>\r\n     <use style=\"fill:#8dd3c7;fill-opacity:0.8;stroke:#8dd3c7;stroke-opacity:0.8;\" x=\"506.535413\" xlink:href=\"#m94299fb0e0\" y=\"429.233783\"/>\r\n     <use style=\"fill:#8dd3c7;fill-opacity:0.8;stroke:#8dd3c7;stroke-opacity:0.8;\" x=\"346.47143\" xlink:href=\"#m94299fb0e0\" y=\"424.166177\"/>\r\n     <use style=\"fill:#8dd3c7;fill-opacity:0.8;stroke:#8dd3c7;stroke-opacity:0.8;\" x=\"266.439439\" xlink:href=\"#m94299fb0e0\" y=\"344.942617\"/>\r\n     <use style=\"fill:#8dd3c7;fill-opacity:0.8;stroke:#8dd3c7;stroke-opacity:0.8;\" x=\"458.516218\" xlink:href=\"#m94299fb0e0\" y=\"344.221891\"/>\r\n     <use style=\"fill:#8dd3c7;fill-opacity:0.8;stroke:#8dd3c7;stroke-opacity:0.8;\" x=\"234.426643\" xlink:href=\"#m94299fb0e0\" y=\"263.050117\"/>\r\n     <use style=\"fill:#8dd3c7;fill-opacity:0.8;stroke:#8dd3c7;stroke-opacity:0.8;\" x=\"234.426643\" xlink:href=\"#m94299fb0e0\" y=\"232.689531\"/>\r\n     <use style=\"fill:#8dd3c7;fill-opacity:0.8;stroke:#8dd3c7;stroke-opacity:0.8;\" x=\"234.426643\" xlink:href=\"#m94299fb0e0\" y=\"233.500348\"/>\r\n     <use style=\"fill:#8dd3c7;fill-opacity:0.8;stroke:#8dd3c7;stroke-opacity:0.8;\" x=\"234.426643\" xlink:href=\"#m94299fb0e0\" y=\"194.941504\"/>\r\n     <use style=\"fill:#8dd3c7;fill-opacity:0.8;stroke:#8dd3c7;stroke-opacity:0.8;\" x=\"122.381855\" xlink:href=\"#m94299fb0e0\" y=\"165.842189\"/>\r\n     <use style=\"fill:#8dd3c7;fill-opacity:0.8;stroke:#8dd3c7;stroke-opacity:0.8;\" x=\"122.381855\" xlink:href=\"#m94299fb0e0\" y=\"156.022296\"/>\r\n     <use style=\"fill:#8dd3c7;fill-opacity:0.8;stroke:#8dd3c7;stroke-opacity:0.8;\" x=\"90.369058\" xlink:href=\"#m94299fb0e0\" y=\"89.535316\"/>\r\n     <use style=\"fill:#8dd3c7;fill-opacity:0.8;stroke:#8dd3c7;stroke-opacity:0.8;\" x=\"90.369058\" xlink:href=\"#m94299fb0e0\" y=\"39.534945\"/>\r\n     <use style=\"fill:#8dd3c7;fill-opacity:0.8;stroke:#8dd3c7;stroke-opacity:0.8;\" x=\"218.420244\" xlink:href=\"#m94299fb0e0\" y=\"364.954026\"/>\r\n     <use style=\"fill:#8dd3c7;fill-opacity:0.8;stroke:#8dd3c7;stroke-opacity:0.8;\" x=\"490.529014\" xlink:href=\"#m94299fb0e0\" y=\"490.112613\"/>\r\n     <use style=\"fill:#8dd3c7;fill-opacity:0.8;stroke:#8dd3c7;stroke-opacity:0.8;\" x=\"442.50982\" xlink:href=\"#m94299fb0e0\" y=\"481.103537\"/>\r\n     <use style=\"fill:#8dd3c7;fill-opacity:0.8;stroke:#8dd3c7;stroke-opacity:0.8;\" x=\"442.50982\" xlink:href=\"#m94299fb0e0\" y=\"475.698091\"/>\r\n     <use style=\"fill:#8dd3c7;fill-opacity:0.8;stroke:#8dd3c7;stroke-opacity:0.8;\" x=\"314.458634\" xlink:href=\"#m94299fb0e0\" y=\"464.21152\"/>\r\n     <use style=\"fill:#8dd3c7;fill-opacity:0.8;stroke:#8dd3c7;stroke-opacity:0.8;\" x=\"314.458634\" xlink:href=\"#m94299fb0e0\" y=\"438.648267\"/>\r\n     <use style=\"fill:#8dd3c7;fill-opacity:0.8;stroke:#8dd3c7;stroke-opacity:0.8;\" x=\"346.47143\" xlink:href=\"#m94299fb0e0\" y=\"455.08983\"/>\r\n     <use style=\"fill:#8dd3c7;fill-opacity:0.8;stroke:#8dd3c7;stroke-opacity:0.8;\" x=\"218.420244\" xlink:href=\"#m94299fb0e0\" y=\"408.580476\"/>\r\n     <use style=\"fill:#8dd3c7;fill-opacity:0.8;stroke:#8dd3c7;stroke-opacity:0.8;\" x=\"218.420244\" xlink:href=\"#m94299fb0e0\" y=\"383.355064\"/>\r\n     <use style=\"fill:#8dd3c7;fill-opacity:0.8;stroke:#8dd3c7;stroke-opacity:0.8;\" x=\"218.420244\" xlink:href=\"#m94299fb0e0\" y=\"387.634375\"/>\r\n     <use style=\"fill:#8dd3c7;fill-opacity:0.8;stroke:#8dd3c7;stroke-opacity:0.8;\" x=\"346.47143\" xlink:href=\"#m94299fb0e0\" y=\"472.094461\"/>\r\n     <use style=\"fill:#8dd3c7;fill-opacity:0.8;stroke:#8dd3c7;stroke-opacity:0.8;\" x=\"346.47143\" xlink:href=\"#m94299fb0e0\" y=\"458.580847\"/>\r\n     <use style=\"fill:#8dd3c7;fill-opacity:0.8;stroke:#8dd3c7;stroke-opacity:0.8;\" x=\"314.458634\" xlink:href=\"#m94299fb0e0\" y=\"446.305981\"/>\r\n     <use style=\"fill:#8dd3c7;fill-opacity:0.8;stroke:#8dd3c7;stroke-opacity:0.8;\" x=\"314.458634\" xlink:href=\"#m94299fb0e0\" y=\"446.305981\"/>\r\n     <use style=\"fill:#8dd3c7;fill-opacity:0.8;stroke:#8dd3c7;stroke-opacity:0.8;\" x=\"426.503421\" xlink:href=\"#m94299fb0e0\" y=\"488.873865\"/>\r\n     <use style=\"fill:#8dd3c7;fill-opacity:0.8;stroke:#8dd3c7;stroke-opacity:0.8;\" x=\"634.586599\" xlink:href=\"#m94299fb0e0\" y=\"470.855713\"/>\r\n     <use style=\"fill:#8dd3c7;fill-opacity:0.8;stroke:#8dd3c7;stroke-opacity:0.8;\" x=\"426.503421\" xlink:href=\"#m94299fb0e0\" y=\"475.923318\"/>\r\n     <use style=\"fill:#8dd3c7;fill-opacity:0.8;stroke:#8dd3c7;stroke-opacity:0.8;\" x=\"426.503421\" xlink:href=\"#m94299fb0e0\" y=\"473.671049\"/>\r\n     <use style=\"fill:#8dd3c7;fill-opacity:0.8;stroke:#8dd3c7;stroke-opacity:0.8;\" x=\"426.503421\" xlink:href=\"#m94299fb0e0\" y=\"468.040377\"/>\r\n     <use style=\"fill:#8dd3c7;fill-opacity:0.8;stroke:#8dd3c7;stroke-opacity:0.8;\" x=\"426.503421\" xlink:href=\"#m94299fb0e0\" y=\"468.603444\"/>\r\n     <use style=\"fill:#8dd3c7;fill-opacity:0.8;stroke:#8dd3c7;stroke-opacity:0.8;\" x=\"426.503421\" xlink:href=\"#m94299fb0e0\" y=\"462.972772\"/>\r\n     <use style=\"fill:#8dd3c7;fill-opacity:0.8;stroke:#8dd3c7;stroke-opacity:0.8;\" x=\"426.503421\" xlink:href=\"#m94299fb0e0\" y=\"466.351175\"/>\r\n     <use style=\"fill:#8dd3c7;fill-opacity:0.8;stroke:#8dd3c7;stroke-opacity:0.8;\" x=\"426.503421\" xlink:href=\"#m94299fb0e0\" y=\"460.720503\"/>\r\n     <use style=\"fill:#8dd3c7;fill-opacity:0.8;stroke:#8dd3c7;stroke-opacity:0.8;\" x=\"426.503421\" xlink:href=\"#m94299fb0e0\" y=\"457.905167\"/>\r\n     <use style=\"fill:#8dd3c7;fill-opacity:0.8;stroke:#8dd3c7;stroke-opacity:0.8;\" x=\"378.484227\" xlink:href=\"#m94299fb0e0\" y=\"450.022225\"/>\r\n     <use style=\"fill:#8dd3c7;fill-opacity:0.8;stroke:#8dd3c7;stroke-opacity:0.8;\" x=\"378.484227\" xlink:href=\"#m94299fb0e0\" y=\"443.265418\"/>\r\n     <use style=\"fill:#8dd3c7;fill-opacity:0.8;stroke:#8dd3c7;stroke-opacity:0.8;\" x=\"186.407448\" xlink:href=\"#m94299fb0e0\" y=\"398.783106\"/>\r\n     <use style=\"fill:#8dd3c7;fill-opacity:0.8;stroke:#8dd3c7;stroke-opacity:0.8;\" x=\"186.407448\" xlink:href=\"#m94299fb0e0\" y=\"388.647896\"/>\r\n     <use style=\"fill:#8dd3c7;fill-opacity:0.8;stroke:#8dd3c7;stroke-opacity:0.8;\" x=\"234.426643\" xlink:href=\"#m94299fb0e0\" y=\"398.783106\"/>\r\n     <use style=\"fill:#8dd3c7;fill-opacity:0.8;stroke:#8dd3c7;stroke-opacity:0.8;\" x=\"234.426643\" xlink:href=\"#m94299fb0e0\" y=\"357.11613\"/>\r\n     <use style=\"fill:#8dd3c7;fill-opacity:0.8;stroke:#8dd3c7;stroke-opacity:0.8;\" x=\"202.413846\" xlink:href=\"#m94299fb0e0\" y=\"328.962768\"/>\r\n     <use style=\"fill:#8dd3c7;fill-opacity:0.8;stroke:#8dd3c7;stroke-opacity:0.8;\" x=\"234.426643\" xlink:href=\"#m94299fb0e0\" y=\"343.602517\"/>\r\n     <use style=\"fill:#8dd3c7;fill-opacity:0.8;stroke:#8dd3c7;stroke-opacity:0.8;\" x=\"218.420244\" xlink:href=\"#m94299fb0e0\" y=\"416.789997\"/>\r\n     <use style=\"fill:#8dd3c7;fill-opacity:0.8;stroke:#8dd3c7;stroke-opacity:0.8;\" x=\"362.477829\" xlink:href=\"#m94299fb0e0\" y=\"402.150248\"/>\r\n     <use style=\"fill:#8dd3c7;fill-opacity:0.8;stroke:#8dd3c7;stroke-opacity:0.8;\" x=\"218.420244\" xlink:href=\"#m94299fb0e0\" y=\"410.70887\"/>\r\n     <use style=\"fill:#8dd3c7;fill-opacity:0.8;stroke:#8dd3c7;stroke-opacity:0.8;\" x=\"234.426643\" xlink:href=\"#m94299fb0e0\" y=\"394.717761\"/>\r\n     <use style=\"fill:#8dd3c7;fill-opacity:0.8;stroke:#8dd3c7;stroke-opacity:0.8;\" x=\"218.420244\" xlink:href=\"#m94299fb0e0\" y=\"375.348248\"/>\r\n     <use style=\"fill:#8dd3c7;fill-opacity:0.8;stroke:#8dd3c7;stroke-opacity:0.8;\" x=\"362.477829\" xlink:href=\"#m94299fb0e0\" y=\"360.483273\"/>\r\n     <use style=\"fill:#8dd3c7;fill-opacity:0.8;stroke:#8dd3c7;stroke-opacity:0.8;\" x=\"218.420244\" xlink:href=\"#m94299fb0e0\" y=\"362.791848\"/>\r\n     <use style=\"fill:#8dd3c7;fill-opacity:0.8;stroke:#8dd3c7;stroke-opacity:0.8;\" x=\"234.426643\" xlink:href=\"#m94299fb0e0\" y=\"358.512537\"/>\r\n     <use style=\"fill:#8dd3c7;fill-opacity:0.8;stroke:#8dd3c7;stroke-opacity:0.8;\" x=\"218.420244\" xlink:href=\"#m94299fb0e0\" y=\"363.523836\"/>\r\n     <use style=\"fill:#8dd3c7;fill-opacity:0.8;stroke:#8dd3c7;stroke-opacity:0.8;\" x=\"362.477829\" xlink:href=\"#m94299fb0e0\" y=\"348.65886\"/>\r\n     <use style=\"fill:#8dd3c7;fill-opacity:0.8;stroke:#8dd3c7;stroke-opacity:0.8;\" x=\"218.420244\" xlink:href=\"#m94299fb0e0\" y=\"346.406591\"/>\r\n     <use style=\"fill:#8dd3c7;fill-opacity:0.8;stroke:#8dd3c7;stroke-opacity:0.8;\" x=\"490.529014\" xlink:href=\"#m94299fb0e0\" y=\"488.051787\"/>\r\n     <use style=\"fill:#8dd3c7;fill-opacity:0.8;stroke:#8dd3c7;stroke-opacity:0.8;\" x=\"314.458634\" xlink:href=\"#m94299fb0e0\" y=\"461.193479\"/>\r\n     <use style=\"fill:#8dd3c7;fill-opacity:0.8;stroke:#8dd3c7;stroke-opacity:0.8;\" x=\"442.50982\" xlink:href=\"#m94299fb0e0\" y=\"480.653083\"/>\r\n     <use style=\"fill:#8dd3c7;fill-opacity:0.8;stroke:#8dd3c7;stroke-opacity:0.8;\" x=\"442.50982\" xlink:href=\"#m94299fb0e0\" y=\"475.43908\"/>\r\n     <use style=\"fill:#8dd3c7;fill-opacity:0.8;stroke:#8dd3c7;stroke-opacity:0.8;\" x=\"442.50982\" xlink:href=\"#m94299fb0e0\" y=\"465.112427\"/>\r\n     <use style=\"fill:#8dd3c7;fill-opacity:0.8;stroke:#8dd3c7;stroke-opacity:0.8;\" x=\"314.458634\" xlink:href=\"#m94299fb0e0\" y=\"450.337543\"/>\r\n     <use style=\"fill:#8dd3c7;fill-opacity:0.8;stroke:#8dd3c7;stroke-opacity:0.8;\" x=\"218.420244\" xlink:href=\"#m94299fb0e0\" y=\"407.060195\"/>\r\n     <use style=\"fill:#8dd3c7;fill-opacity:0.8;stroke:#8dd3c7;stroke-opacity:0.8;\" x=\"266.439439\" xlink:href=\"#m94299fb0e0\" y=\"302.84771\"/>\r\n     <use style=\"fill:#8dd3c7;fill-opacity:0.8;stroke:#8dd3c7;stroke-opacity:0.8;\" x=\"234.426643\" xlink:href=\"#m94299fb0e0\" y=\"184.490976\"/>\r\n     <use style=\"fill:#8dd3c7;fill-opacity:0.8;stroke:#8dd3c7;stroke-opacity:0.8;\" x=\"234.426643\" xlink:href=\"#m94299fb0e0\" y=\"167.598958\"/>\r\n     <use style=\"fill:#8dd3c7;fill-opacity:0.8;stroke:#8dd3c7;stroke-opacity:0.8;\" x=\"234.426643\" xlink:href=\"#m94299fb0e0\" y=\"133.814924\"/>\r\n     <use style=\"fill:#8dd3c7;fill-opacity:0.8;stroke:#8dd3c7;stroke-opacity:0.8;\" x=\"330.465032\" xlink:href=\"#m94299fb0e0\" y=\"446.1258\"/>\r\n     <use style=\"fill:#8dd3c7;fill-opacity:0.8;stroke:#8dd3c7;stroke-opacity:0.8;\" x=\"330.465032\" xlink:href=\"#m94299fb0e0\" y=\"439.368993\"/>\r\n     <use style=\"fill:#8dd3c7;fill-opacity:0.8;stroke:#8dd3c7;stroke-opacity:0.8;\" x=\"282.445837\" xlink:href=\"#m94299fb0e0\" y=\"417.353064\"/>\r\n     <use style=\"fill:#8dd3c7;fill-opacity:0.8;stroke:#8dd3c7;stroke-opacity:0.8;\" x=\"282.445837\" xlink:href=\"#m94299fb0e0\" y=\"413.749434\"/>\r\n     <use style=\"fill:#8dd3c7;fill-opacity:0.8;stroke:#8dd3c7;stroke-opacity:0.8;\" x=\"282.445837\" xlink:href=\"#m94299fb0e0\" y=\"381.429374\"/>\r\n     <use style=\"fill:#8dd3c7;fill-opacity:0.8;stroke:#8dd3c7;stroke-opacity:0.8;\" x=\"282.445837\" xlink:href=\"#m94299fb0e0\" y=\"376.136542\"/>\r\n     <use style=\"fill:#8dd3c7;fill-opacity:0.8;stroke:#8dd3c7;stroke-opacity:0.8;\" x=\"250.433041\" xlink:href=\"#m94299fb0e0\" y=\"346.406591\"/>\r\n     <use style=\"fill:#8dd3c7;fill-opacity:0.8;stroke:#8dd3c7;stroke-opacity:0.8;\" x=\"250.433041\" xlink:href=\"#m94299fb0e0\" y=\"341.113759\"/>\r\n     <use style=\"fill:#8dd3c7;fill-opacity:0.8;stroke:#8dd3c7;stroke-opacity:0.8;\" x=\"410.497023\" xlink:href=\"#m94299fb0e0\" y=\"493.164437\"/>\r\n     <use style=\"fill:#8dd3c7;fill-opacity:0.8;stroke:#8dd3c7;stroke-opacity:0.8;\" x=\"330.465032\" xlink:href=\"#m94299fb0e0\" y=\"471.373735\"/>\r\n     <use style=\"fill:#8dd3c7;fill-opacity:0.8;stroke:#8dd3c7;stroke-opacity:0.8;\" x=\"330.465032\" xlink:href=\"#m94299fb0e0\" y=\"465.179995\"/>\r\n     <use style=\"fill:#8dd3c7;fill-opacity:0.8;stroke:#8dd3c7;stroke-opacity:0.8;\" x=\"426.503421\" xlink:href=\"#m94299fb0e0\" y=\"470.551657\"/>\r\n     <use style=\"fill:#8dd3c7;fill-opacity:0.8;stroke:#8dd3c7;stroke-opacity:0.8;\" x=\"362.477829\" xlink:href=\"#m94299fb0e0\" y=\"463.243044\"/>\r\n     <use style=\"fill:#8dd3c7;fill-opacity:0.8;stroke:#8dd3c7;stroke-opacity:0.8;\" x=\"346.47143\" xlink:href=\"#m94299fb0e0\" y=\"438.637006\"/>\r\n     <use style=\"fill:#8dd3c7;fill-opacity:0.8;stroke:#8dd3c7;stroke-opacity:0.8;\" x=\"234.426643\" xlink:href=\"#m94299fb0e0\" y=\"446.824003\"/>\r\n     <use style=\"fill:#8dd3c7;fill-opacity:0.8;stroke:#8dd3c7;stroke-opacity:0.8;\" x=\"298.452236\" xlink:href=\"#m94299fb0e0\" y=\"424.008519\"/>\r\n     <use style=\"fill:#8dd3c7;fill-opacity:0.8;stroke:#8dd3c7;stroke-opacity:0.8;\" x=\"346.47143\" xlink:href=\"#m94299fb0e0\" y=\"466.756584\"/>\r\n     <use style=\"fill:#8dd3c7;fill-opacity:0.8;stroke:#8dd3c7;stroke-opacity:0.8;\" x=\"330.465032\" xlink:href=\"#m94299fb0e0\" y=\"435.956806\"/>\r\n     <use style=\"fill:#8dd3c7;fill-opacity:0.8;stroke:#8dd3c7;stroke-opacity:0.8;\" x=\"298.452236\" xlink:href=\"#m94299fb0e0\" y=\"460.562844\"/>\r\n     <use style=\"fill:#8dd3c7;fill-opacity:0.8;stroke:#8dd3c7;stroke-opacity:0.8;\" x=\"202.413846\" xlink:href=\"#m94299fb0e0\" y=\"419.109834\"/>\r\n     <use style=\"fill:#8dd3c7;fill-opacity:0.8;stroke:#8dd3c7;stroke-opacity:0.8;\" x=\"458.516218\" xlink:href=\"#m94299fb0e0\" y=\"490.574328\"/>\r\n     <use style=\"fill:#8dd3c7;fill-opacity:0.8;stroke:#8dd3c7;stroke-opacity:0.8;\" x=\"442.50982\" xlink:href=\"#m94299fb0e0\" y=\"479.425597\"/>\r\n     <use style=\"fill:#8dd3c7;fill-opacity:0.8;stroke:#8dd3c7;stroke-opacity:0.8;\" x=\"442.50982\" xlink:href=\"#m94299fb0e0\" y=\"477.736395\"/>\r\n     <use style=\"fill:#8dd3c7;fill-opacity:0.8;stroke:#8dd3c7;stroke-opacity:0.8;\" x=\"426.503421\" xlink:href=\"#m94299fb0e0\" y=\"472.894017\"/>\r\n     <use style=\"fill:#8dd3c7;fill-opacity:0.8;stroke:#8dd3c7;stroke-opacity:0.8;\" x=\"346.47143\" xlink:href=\"#m94299fb0e0\" y=\"461.857899\"/>\r\n     <use style=\"fill:#8dd3c7;fill-opacity:0.8;stroke:#8dd3c7;stroke-opacity:0.8;\" x=\"346.47143\" xlink:href=\"#m94299fb0e0\" y=\"451.947915\"/>\r\n     <use style=\"fill:#8dd3c7;fill-opacity:0.8;stroke:#8dd3c7;stroke-opacity:0.8;\" x=\"426.503421\" xlink:href=\"#m94299fb0e0\" y=\"472.66879\"/>\r\n     <use style=\"fill:#8dd3c7;fill-opacity:0.8;stroke:#8dd3c7;stroke-opacity:0.8;\" x=\"426.503421\" xlink:href=\"#m94299fb0e0\" y=\"469.74084\"/>\r\n     <use style=\"fill:#8dd3c7;fill-opacity:0.8;stroke:#8dd3c7;stroke-opacity:0.8;\" x=\"410.497023\" xlink:href=\"#m94299fb0e0\" y=\"461.857899\"/>\r\n     <use style=\"fill:#8dd3c7;fill-opacity:0.8;stroke:#8dd3c7;stroke-opacity:0.8;\" x=\"586.567404\" xlink:href=\"#m94299fb0e0\" y=\"463.096647\"/>\r\n     <use style=\"fill:#8dd3c7;fill-opacity:0.8;stroke:#8dd3c7;stroke-opacity:0.8;\" x=\"586.567404\" xlink:href=\"#m94299fb0e0\" y=\"463.659714\"/>\r\n     <use style=\"fill:#8dd3c7;fill-opacity:0.8;stroke:#8dd3c7;stroke-opacity:0.8;\" x=\"378.484227\" xlink:href=\"#m94299fb0e0\" y=\"456.67768\"/>\r\n     <use style=\"fill:#8dd3c7;fill-opacity:0.8;stroke:#8dd3c7;stroke-opacity:0.8;\" x=\"378.484227\" xlink:href=\"#m94299fb0e0\" y=\"446.54247\"/>\r\n     <use style=\"fill:#8dd3c7;fill-opacity:0.8;stroke:#8dd3c7;stroke-opacity:0.8;\" x=\"378.484227\" xlink:href=\"#m94299fb0e0\" y=\"460.056083\"/>\r\n     <use style=\"fill:#8dd3c7;fill-opacity:0.8;stroke:#8dd3c7;stroke-opacity:0.8;\" x=\"378.484227\" xlink:href=\"#m94299fb0e0\" y=\"458.029041\"/>\r\n     <use style=\"fill:#8dd3c7;fill-opacity:0.8;stroke:#8dd3c7;stroke-opacity:0.8;\" x=\"298.452236\" xlink:href=\"#m94299fb0e0\" y=\"446.092016\"/>\r\n     <use style=\"fill:#8dd3c7;fill-opacity:0.8;stroke:#8dd3c7;stroke-opacity:0.8;\" x=\"298.452236\" xlink:href=\"#m94299fb0e0\" y=\"443.389293\"/>\r\n     <use style=\"fill:#8dd3c7;fill-opacity:0.8;stroke:#8dd3c7;stroke-opacity:0.8;\" x=\"314.458634\" xlink:href=\"#m94299fb0e0\" y=\"455.652898\"/>\r\n     <use style=\"fill:#8dd3c7;fill-opacity:0.8;stroke:#8dd3c7;stroke-opacity:0.8;\" x=\"314.458634\" xlink:href=\"#m94299fb0e0\" y=\"442.251897\"/>\r\n     <use style=\"fill:#8dd3c7;fill-opacity:0.8;stroke:#8dd3c7;stroke-opacity:0.8;\" x=\"314.458634\" xlink:href=\"#m94299fb0e0\" y=\"438.310427\"/>\r\n     <use style=\"fill:#8dd3c7;fill-opacity:0.8;stroke:#8dd3c7;stroke-opacity:0.8;\" x=\"314.458634\" xlink:href=\"#m94299fb0e0\" y=\"424.684199\"/>\r\n     <use style=\"fill:#8dd3c7;fill-opacity:0.8;stroke:#8dd3c7;stroke-opacity:0.8;\" x=\"314.458634\" xlink:href=\"#m94299fb0e0\" y=\"420.742729\"/>\r\n     <use style=\"fill:#8dd3c7;fill-opacity:0.8;stroke:#8dd3c7;stroke-opacity:0.8;\" x=\"314.458634\" xlink:href=\"#m94299fb0e0\" y=\"351.823298\"/>\r\n     <use style=\"fill:#8dd3c7;fill-opacity:0.8;stroke:#8dd3c7;stroke-opacity:0.8;\" x=\"378.484227\" xlink:href=\"#m94299fb0e0\" y=\"450.033487\"/>\r\n     <use style=\"fill:#8dd3c7;fill-opacity:0.8;stroke:#8dd3c7;stroke-opacity:0.8;\" x=\"362.477829\" xlink:href=\"#m94299fb0e0\" y=\"430.326133\"/>\r\n     <use style=\"fill:#8dd3c7;fill-opacity:0.8;stroke:#8dd3c7;stroke-opacity:0.8;\" x=\"346.47143\" xlink:href=\"#m94299fb0e0\" y=\"438.321688\"/>\r\n     <use style=\"fill:#8dd3c7;fill-opacity:0.8;stroke:#8dd3c7;stroke-opacity:0.8;\" x=\"346.47143\" xlink:href=\"#m94299fb0e0\" y=\"428.073864\"/>\r\n     <use style=\"fill:#8dd3c7;fill-opacity:0.8;stroke:#8dd3c7;stroke-opacity:0.8;\" x=\"346.47143\" xlink:href=\"#m94299fb0e0\" y=\"424.132393\"/>\r\n     <use style=\"fill:#8dd3c7;fill-opacity:0.8;stroke:#8dd3c7;stroke-opacity:0.8;\" x=\"218.420244\" xlink:href=\"#m94299fb0e0\" y=\"364.334652\"/>\r\n     <use style=\"fill:#8dd3c7;fill-opacity:0.8;stroke:#8dd3c7;stroke-opacity:0.8;\" x=\"218.420244\" xlink:href=\"#m94299fb0e0\" y=\"370.641006\"/>\r\n     <use style=\"fill:#8dd3c7;fill-opacity:0.8;stroke:#8dd3c7;stroke-opacity:0.8;\" x=\"218.420244\" xlink:href=\"#m94299fb0e0\" y=\"374.1095\"/>\r\n     <use style=\"fill:#8dd3c7;fill-opacity:0.8;stroke:#8dd3c7;stroke-opacity:0.8;\" x=\"218.420244\" xlink:href=\"#m94299fb0e0\" y=\"373.433819\"/>\r\n     <use style=\"fill:#8dd3c7;fill-opacity:0.8;stroke:#8dd3c7;stroke-opacity:0.8;\" x=\"570.561006\" xlink:href=\"#m94299fb0e0\" y=\"463.243044\"/>\r\n     <use style=\"fill:#8dd3c7;fill-opacity:0.8;stroke:#8dd3c7;stroke-opacity:0.8;\" x=\"378.484227\" xlink:href=\"#m94299fb0e0\" y=\"460.990775\"/>\r\n     <use style=\"fill:#8dd3c7;fill-opacity:0.8;stroke:#8dd3c7;stroke-opacity:0.8;\" x=\"570.561006\" xlink:href=\"#m94299fb0e0\" y=\"460.765548\"/>\r\n     <use style=\"fill:#8dd3c7;fill-opacity:0.8;stroke:#8dd3c7;stroke-opacity:0.8;\" x=\"378.484227\" xlink:href=\"#m94299fb0e0\" y=\"458.513279\"/>\r\n     <use style=\"fill:#8dd3c7;fill-opacity:0.8;stroke:#8dd3c7;stroke-opacity:0.8;\" x=\"378.484227\" xlink:href=\"#m94299fb0e0\" y=\"455.134876\"/>\r\n     <use style=\"fill:#8dd3c7;fill-opacity:0.8;stroke:#8dd3c7;stroke-opacity:0.8;\" x=\"506.535413\" xlink:href=\"#m94299fb0e0\" y=\"443.873531\"/>\r\n     <use style=\"fill:#8dd3c7;fill-opacity:0.8;stroke:#8dd3c7;stroke-opacity:0.8;\" x=\"346.47143\" xlink:href=\"#m94299fb0e0\" y=\"438.242859\"/>\r\n     <use style=\"fill:#8dd3c7;fill-opacity:0.8;stroke:#8dd3c7;stroke-opacity:0.8;\" x=\"298.452236\" xlink:href=\"#m94299fb0e0\" y=\"420.224707\"/>\r\n     <use style=\"fill:#8dd3c7;fill-opacity:0.8;stroke:#8dd3c7;stroke-opacity:0.8;\" x=\"298.452236\" xlink:href=\"#m94299fb0e0\" y=\"438.411779\"/>\r\n     <use style=\"fill:#8dd3c7;fill-opacity:0.8;stroke:#8dd3c7;stroke-opacity:0.8;\" x=\"218.420244\" xlink:href=\"#m94299fb0e0\" y=\"401.080421\"/>\r\n     <use style=\"fill:#8dd3c7;fill-opacity:0.8;stroke:#8dd3c7;stroke-opacity:0.8;\" x=\"442.50982\" xlink:href=\"#m94299fb0e0\" y=\"394.886681\"/>\r\n     <use style=\"fill:#8dd3c7;fill-opacity:0.8;stroke:#8dd3c7;stroke-opacity:0.8;\" x=\"330.465032\" xlink:href=\"#m94299fb0e0\" y=\"412.398072\"/>\r\n     <use style=\"fill:#8dd3c7;fill-opacity:0.8;stroke:#8dd3c7;stroke-opacity:0.8;\" x=\"282.445837\" xlink:href=\"#m94299fb0e0\" y=\"405.078198\"/>\r\n     <use style=\"fill:#8dd3c7;fill-opacity:0.8;stroke:#8dd3c7;stroke-opacity:0.8;\" x=\"282.445837\" xlink:href=\"#m94299fb0e0\" y=\"399.729059\"/>\r\n     <use style=\"fill:#8dd3c7;fill-opacity:0.8;stroke:#8dd3c7;stroke-opacity:0.8;\" x=\"282.445837\" xlink:href=\"#m94299fb0e0\" y=\"370.787403\"/>\r\n     <use style=\"fill:#8dd3c7;fill-opacity:0.8;stroke:#8dd3c7;stroke-opacity:0.8;\" x=\"282.445837\" xlink:href=\"#m94299fb0e0\" y=\"364.81889\"/>\r\n     <use style=\"fill:#8dd3c7;fill-opacity:0.8;stroke:#8dd3c7;stroke-opacity:0.8;\" x=\"186.407448\" xlink:href=\"#m94299fb0e0\" y=\"343.366028\"/>\r\n     <use style=\"fill:#8dd3c7;fill-opacity:0.8;stroke:#8dd3c7;stroke-opacity:0.8;\" x=\"186.407448\" xlink:href=\"#m94299fb0e0\" y=\"337.397516\"/>\r\n     <use style=\"fill:#8dd3c7;fill-opacity:0.8;stroke:#8dd3c7;stroke-opacity:0.8;\" x=\"282.445837\" xlink:href=\"#m94299fb0e0\" y=\"361.102646\"/>\r\n     <use style=\"fill:#8dd3c7;fill-opacity:0.8;stroke:#8dd3c7;stroke-opacity:0.8;\" x=\"234.426643\" xlink:href=\"#m94299fb0e0\" y=\"336.327688\"/>\r\n     <use style=\"fill:#8dd3c7;fill-opacity:0.8;stroke:#8dd3c7;stroke-opacity:0.8;\" x=\"202.413846\" xlink:href=\"#m94299fb0e0\" y=\"308.850007\"/>\r\n     <use style=\"fill:#8dd3c7;fill-opacity:0.8;stroke:#8dd3c7;stroke-opacity:0.8;\" x=\"266.439439\" xlink:href=\"#m94299fb0e0\" y=\"297.757582\"/>\r\n     <use style=\"fill:#8dd3c7;fill-opacity:0.8;stroke:#8dd3c7;stroke-opacity:0.8;\" x=\"234.426643\" xlink:href=\"#m94299fb0e0\" y=\"296.012073\"/>\r\n    </g>\r\n   </g>\r\n   <g id=\"PolyCollection_1\">\r\n    <path clip-path=\"url(#p2c940c5a34)\" d=\"M 59.690625 213.750655 \r\nL 59.690625 284.017245 \r\nL 66.454261 287.192021 \r\nL 73.217898 290.366796 \r\nL 79.981534 293.541572 \r\nL 86.74517 296.715276 \r\nL 93.508807 299.887847 \r\nL 100.272443 303.051186 \r\nL 107.03608 306.135158 \r\nL 113.799716 309.393985 \r\nL 120.563352 312.618238 \r\nL 127.326989 315.912411 \r\nL 134.090625 318.963155 \r\nL 140.854261 322.098628 \r\nL 147.617898 325.295923 \r\nL 154.381534 328.494899 \r\nL 161.14517 331.798377 \r\nL 167.908807 334.937402 \r\nL 174.672443 338.085228 \r\nL 181.43608 341.281654 \r\nL 188.199716 344.477419 \r\nL 194.963352 347.676983 \r\nL 201.726989 350.88176 \r\nL 208.490625 354.08337 \r\nL 215.254261 357.320403 \r\nL 222.017898 360.667548 \r\nL 228.781534 363.893546 \r\nL 235.54517 367.233843 \r\nL 242.308807 370.603447 \r\nL 249.072443 373.717633 \r\nL 255.83608 376.98808 \r\nL 262.599716 380.112902 \r\nL 269.363352 383.236801 \r\nL 276.126989 386.766006 \r\nL 282.890625 390.196666 \r\nL 289.654261 393.460594 \r\nL 296.417898 396.773934 \r\nL 303.181534 400.061097 \r\nL 309.94517 403.425388 \r\nL 316.708807 406.877915 \r\nL 323.472443 410.230981 \r\nL 330.23608 413.694814 \r\nL 336.999716 417.525442 \r\nL 343.763352 421.272324 \r\nL 350.526989 424.779313 \r\nL 357.290625 428.733983 \r\nL 364.054261 432.843591 \r\nL 370.817898 437.071349 \r\nL 377.581534 441.486778 \r\nL 384.34517 445.699371 \r\nL 391.108807 450.080074 \r\nL 397.872443 454.650992 \r\nL 404.63608 459.03786 \r\nL 411.399716 463.668522 \r\nL 418.163352 468.243434 \r\nL 424.926989 472.756588 \r\nL 431.690625 477.176857 \r\nL 438.454261 481.593653 \r\nL 445.217898 486.023366 \r\nL 451.981534 490.555811 \r\nL 458.74517 494.908904 \r\nL 465.508807 499.268997 \r\nL 472.272443 504.000718 \r\nL 479.03608 508.544919 \r\nL 485.799716 513.43815 \r\nL 492.563352 517.93661 \r\nL 499.326989 522.783842 \r\nL 506.090625 527.68874 \r\nL 512.854261 532.580775 \r\nL 519.617898 537.047764 \r\nL 526.381534 541.548921 \r\nL 533.14517 546.338969 \r\nL 539.908807 551.129016 \r\nL 546.672443 555.916205 \r\nL 553.43608 560.702133 \r\nL 560.199716 565.486294 \r\nL 566.963352 570.270456 \r\nL 573.726989 575.054617 \r\nL 580.490625 579.838778 \r\nL 587.254261 584.62294 \r\nL 594.017898 589.407101 \r\nL 600.781534 594.259239 \r\nL 607.54517 599.080357 \r\nL 614.308807 603.765339 \r\nL 621.072443 608.548631 \r\nL 627.83608 613.247434 \r\nL 634.599716 617.993389 \r\nL 641.363352 622.793046 \r\nL 648.126989 627.592704 \r\nL 654.890625 632.392361 \r\nL 661.654261 637.192018 \r\nL 668.417898 641.991676 \r\nL 675.181534 646.791333 \r\nL 681.94517 651.59099 \r\nL 688.708807 656.333439 \r\nL 695.472443 661.00197 \r\nL 702.23608 665.670502 \r\nL 708.999716 670.338776 \r\nL 715.763352 675.00543 \r\nL 722.526989 679.671608 \r\nL 729.290625 684.337786 \r\nL 729.290625 594.744444 \r\nL 729.290625 594.744444 \r\nL 722.526989 591.506546 \r\nL 715.763352 588.268648 \r\nL 708.999716 585.03075 \r\nL 702.23608 581.79902 \r\nL 695.472443 578.730769 \r\nL 688.708807 575.662518 \r\nL 681.94517 572.594268 \r\nL 675.181534 569.421114 \r\nL 668.417898 566.144853 \r\nL 661.654261 562.861148 \r\nL 654.890625 559.577443 \r\nL 648.126989 556.293738 \r\nL 641.363352 553.010032 \r\nL 634.599716 549.726327 \r\nL 627.83608 546.442622 \r\nL 621.072443 543.158916 \r\nL 614.308807 539.879352 \r\nL 607.54517 536.802837 \r\nL 600.781534 533.796227 \r\nL 594.017898 530.628304 \r\nL 587.254261 527.193647 \r\nL 580.490625 523.75899 \r\nL 573.726989 520.324713 \r\nL 566.963352 516.944984 \r\nL 560.199716 513.70058 \r\nL 553.43608 510.460603 \r\nL 546.672443 507.343798 \r\nL 539.908807 504.233185 \r\nL 533.14517 501.110208 \r\nL 526.381534 497.978866 \r\nL 519.617898 494.904431 \r\nL 512.854261 491.796029 \r\nL 506.090625 488.557691 \r\nL 499.326989 485.449629 \r\nL 492.563352 482.260152 \r\nL 485.799716 478.863901 \r\nL 479.03608 475.617417 \r\nL 472.272443 472.53766 \r\nL 465.508807 469.036072 \r\nL 458.74517 465.45716 \r\nL 451.981534 462.405889 \r\nL 445.217898 459.249722 \r\nL 438.454261 455.792716 \r\nL 431.690625 452.331079 \r\nL 424.926989 448.894226 \r\nL 418.163352 445.411725 \r\nL 411.399716 441.962999 \r\nL 404.63608 438.26295 \r\nL 397.872443 434.691789 \r\nL 391.108807 431.1039 \r\nL 384.34517 427.220797 \r\nL 377.581534 423.318896 \r\nL 370.817898 419.995901 \r\nL 364.054261 416.315999 \r\nL 357.290625 412.374325 \r\nL 350.526989 408.606356 \r\nL 343.763352 404.489721 \r\nL 336.999716 400.374811 \r\nL 330.23608 396.663754 \r\nL 323.472443 392.486477 \r\nL 316.708807 388.313724 \r\nL 309.94517 384.07515 \r\nL 303.181534 379.723658 \r\nL 296.417898 375.217922 \r\nL 289.654261 370.623553 \r\nL 282.890625 366.068259 \r\nL 276.126989 361.653755 \r\nL 269.363352 356.964207 \r\nL 262.599716 352.572979 \r\nL 255.83608 347.893249 \r\nL 249.072443 343.331466 \r\nL 242.308807 338.972889 \r\nL 235.54517 334.273081 \r\nL 228.781534 329.624576 \r\nL 222.017898 324.89964 \r\nL 215.254261 320.32991 \r\nL 208.490625 315.770354 \r\nL 201.726989 311.214408 \r\nL 194.963352 306.658461 \r\nL 188.199716 302.09649 \r\nL 181.43608 297.38208 \r\nL 174.672443 292.702773 \r\nL 167.908807 288.113608 \r\nL 161.14517 283.525556 \r\nL 154.381534 278.940864 \r\nL 147.617898 274.359106 \r\nL 140.854261 269.780496 \r\nL 134.090625 265.200194 \r\nL 127.326989 260.523541 \r\nL 120.563352 255.8265 \r\nL 113.799716 251.129459 \r\nL 107.03608 246.432419 \r\nL 100.272443 241.736785 \r\nL 93.508807 237.042707 \r\nL 86.74517 232.376604 \r\nL 79.981534 227.766193 \r\nL 73.217898 223.155781 \r\nL 66.454261 218.54537 \r\nL 59.690625 213.750655 \r\nz\r\n\" style=\"fill:#8dd3c7;fill-opacity:0.15;\"/>\r\n   </g>\r\n   <g id=\"matplotlib.axis_1\">\r\n    <g id=\"xtick_1\">\r\n     <g id=\"line2d_1\">\r\n      <defs>\r\n       <path d=\"M 0 0 \r\nL 0 3.5 \r\n\" id=\"mf9efac13ea\" style=\"stroke:#ffffff;stroke-width:0.8;\"/>\r\n      </defs>\r\n      <g>\r\n       <use style=\"fill:#ffffff;stroke:#ffffff;stroke-width:0.8;\" x=\"74.36266\" xlink:href=\"#mf9efac13ea\" y=\"550.8\"/>\r\n      </g>\r\n     </g>\r\n     <g id=\"text_1\">\r\n      <!-- 15 -->\r\n      <defs>\r\n       <path d=\"M 12.40625 8.296875 \r\nL 28.515625 8.296875 \r\nL 28.515625 63.921875 \r\nL 10.984375 60.40625 \r\nL 10.984375 69.390625 \r\nL 28.421875 72.90625 \r\nL 38.28125 72.90625 \r\nL 38.28125 8.296875 \r\nL 54.390625 8.296875 \r\nL 54.390625 0 \r\nL 12.40625 0 \r\nz\r\n\" id=\"DejaVuSans-49\"/>\r\n       <path d=\"M 10.796875 72.90625 \r\nL 49.515625 72.90625 \r\nL 49.515625 64.59375 \r\nL 19.828125 64.59375 \r\nL 19.828125 46.734375 \r\nQ 21.96875 47.46875 24.109375 47.828125 \r\nQ 26.265625 48.1875 28.421875 48.1875 \r\nQ 40.625 48.1875 47.75 41.5 \r\nQ 54.890625 34.8125 54.890625 23.390625 \r\nQ 54.890625 11.625 47.5625 5.09375 \r\nQ 40.234375 -1.421875 26.90625 -1.421875 \r\nQ 22.3125 -1.421875 17.546875 -0.640625 \r\nQ 12.796875 0.140625 7.71875 1.703125 \r\nL 7.71875 11.625 \r\nQ 12.109375 9.234375 16.796875 8.0625 \r\nQ 21.484375 6.890625 26.703125 6.890625 \r\nQ 35.15625 6.890625 40.078125 11.328125 \r\nQ 45.015625 15.765625 45.015625 23.390625 \r\nQ 45.015625 31 40.078125 35.4375 \r\nQ 35.15625 39.890625 26.703125 39.890625 \r\nQ 22.75 39.890625 18.8125 39.015625 \r\nQ 14.890625 38.140625 10.796875 36.28125 \r\nz\r\n\" id=\"DejaVuSans-53\"/>\r\n      </defs>\r\n      <g style=\"fill:#ffffff;\" transform=\"translate(68.00016 565.398438)scale(0.1 -0.1)\">\r\n       <use xlink:href=\"#DejaVuSans-49\"/>\r\n       <use x=\"63.623047\" xlink:href=\"#DejaVuSans-53\"/>\r\n      </g>\r\n     </g>\r\n    </g>\r\n    <g id=\"xtick_2\">\r\n     <g id=\"line2d_2\">\r\n      <g>\r\n       <use style=\"fill:#ffffff;stroke:#ffffff;stroke-width:0.8;\" x=\"154.394651\" xlink:href=\"#mf9efac13ea\" y=\"550.8\"/>\r\n      </g>\r\n     </g>\r\n     <g id=\"text_2\">\r\n      <!-- 20 -->\r\n      <defs>\r\n       <path d=\"M 19.1875 8.296875 \r\nL 53.609375 8.296875 \r\nL 53.609375 0 \r\nL 7.328125 0 \r\nL 7.328125 8.296875 \r\nQ 12.9375 14.109375 22.625 23.890625 \r\nQ 32.328125 33.6875 34.8125 36.53125 \r\nQ 39.546875 41.84375 41.421875 45.53125 \r\nQ 43.3125 49.21875 43.3125 52.78125 \r\nQ 43.3125 58.59375 39.234375 62.25 \r\nQ 35.15625 65.921875 28.609375 65.921875 \r\nQ 23.96875 65.921875 18.8125 64.3125 \r\nQ 13.671875 62.703125 7.8125 59.421875 \r\nL 7.8125 69.390625 \r\nQ 13.765625 71.78125 18.9375 73 \r\nQ 24.125 74.21875 28.421875 74.21875 \r\nQ 39.75 74.21875 46.484375 68.546875 \r\nQ 53.21875 62.890625 53.21875 53.421875 \r\nQ 53.21875 48.921875 51.53125 44.890625 \r\nQ 49.859375 40.875 45.40625 35.40625 \r\nQ 44.1875 33.984375 37.640625 27.21875 \r\nQ 31.109375 20.453125 19.1875 8.296875 \r\nz\r\n\" id=\"DejaVuSans-50\"/>\r\n       <path d=\"M 31.78125 66.40625 \r\nQ 24.171875 66.40625 20.328125 58.90625 \r\nQ 16.5 51.421875 16.5 36.375 \r\nQ 16.5 21.390625 20.328125 13.890625 \r\nQ 24.171875 6.390625 31.78125 6.390625 \r\nQ 39.453125 6.390625 43.28125 13.890625 \r\nQ 47.125 21.390625 47.125 36.375 \r\nQ 47.125 51.421875 43.28125 58.90625 \r\nQ 39.453125 66.40625 31.78125 66.40625 \r\nz\r\nM 31.78125 74.21875 \r\nQ 44.046875 74.21875 50.515625 64.515625 \r\nQ 56.984375 54.828125 56.984375 36.375 \r\nQ 56.984375 17.96875 50.515625 8.265625 \r\nQ 44.046875 -1.421875 31.78125 -1.421875 \r\nQ 19.53125 -1.421875 13.0625 8.265625 \r\nQ 6.59375 17.96875 6.59375 36.375 \r\nQ 6.59375 54.828125 13.0625 64.515625 \r\nQ 19.53125 74.21875 31.78125 74.21875 \r\nz\r\n\" id=\"DejaVuSans-48\"/>\r\n      </defs>\r\n      <g style=\"fill:#ffffff;\" transform=\"translate(148.032151 565.398438)scale(0.1 -0.1)\">\r\n       <use xlink:href=\"#DejaVuSans-50\"/>\r\n       <use x=\"63.623047\" xlink:href=\"#DejaVuSans-48\"/>\r\n      </g>\r\n     </g>\r\n    </g>\r\n    <g id=\"xtick_3\">\r\n     <g id=\"line2d_3\">\r\n      <g>\r\n       <use style=\"fill:#ffffff;stroke:#ffffff;stroke-width:0.8;\" x=\"234.426643\" xlink:href=\"#mf9efac13ea\" y=\"550.8\"/>\r\n      </g>\r\n     </g>\r\n     <g id=\"text_3\">\r\n      <!-- 25 -->\r\n      <g style=\"fill:#ffffff;\" transform=\"translate(228.064143 565.398438)scale(0.1 -0.1)\">\r\n       <use xlink:href=\"#DejaVuSans-50\"/>\r\n       <use x=\"63.623047\" xlink:href=\"#DejaVuSans-53\"/>\r\n      </g>\r\n     </g>\r\n    </g>\r\n    <g id=\"xtick_4\">\r\n     <g id=\"line2d_4\">\r\n      <g>\r\n       <use style=\"fill:#ffffff;stroke:#ffffff;stroke-width:0.8;\" x=\"314.458634\" xlink:href=\"#mf9efac13ea\" y=\"550.8\"/>\r\n      </g>\r\n     </g>\r\n     <g id=\"text_4\">\r\n      <!-- 30 -->\r\n      <defs>\r\n       <path d=\"M 40.578125 39.3125 \r\nQ 47.65625 37.796875 51.625 33 \r\nQ 55.609375 28.21875 55.609375 21.1875 \r\nQ 55.609375 10.40625 48.1875 4.484375 \r\nQ 40.765625 -1.421875 27.09375 -1.421875 \r\nQ 22.515625 -1.421875 17.65625 -0.515625 \r\nQ 12.796875 0.390625 7.625 2.203125 \r\nL 7.625 11.71875 \r\nQ 11.71875 9.328125 16.59375 8.109375 \r\nQ 21.484375 6.890625 26.8125 6.890625 \r\nQ 36.078125 6.890625 40.9375 10.546875 \r\nQ 45.796875 14.203125 45.796875 21.1875 \r\nQ 45.796875 27.640625 41.28125 31.265625 \r\nQ 36.765625 34.90625 28.71875 34.90625 \r\nL 20.21875 34.90625 \r\nL 20.21875 43.015625 \r\nL 29.109375 43.015625 \r\nQ 36.375 43.015625 40.234375 45.921875 \r\nQ 44.09375 48.828125 44.09375 54.296875 \r\nQ 44.09375 59.90625 40.109375 62.90625 \r\nQ 36.140625 65.921875 28.71875 65.921875 \r\nQ 24.65625 65.921875 20.015625 65.03125 \r\nQ 15.375 64.15625 9.8125 62.3125 \r\nL 9.8125 71.09375 \r\nQ 15.4375 72.65625 20.34375 73.4375 \r\nQ 25.25 74.21875 29.59375 74.21875 \r\nQ 40.828125 74.21875 47.359375 69.109375 \r\nQ 53.90625 64.015625 53.90625 55.328125 \r\nQ 53.90625 49.265625 50.4375 45.09375 \r\nQ 46.96875 40.921875 40.578125 39.3125 \r\nz\r\n\" id=\"DejaVuSans-51\"/>\r\n      </defs>\r\n      <g style=\"fill:#ffffff;\" transform=\"translate(308.096134 565.398438)scale(0.1 -0.1)\">\r\n       <use xlink:href=\"#DejaVuSans-51\"/>\r\n       <use x=\"63.623047\" xlink:href=\"#DejaVuSans-48\"/>\r\n      </g>\r\n     </g>\r\n    </g>\r\n    <g id=\"xtick_5\">\r\n     <g id=\"line2d_5\">\r\n      <g>\r\n       <use style=\"fill:#ffffff;stroke:#ffffff;stroke-width:0.8;\" x=\"394.490625\" xlink:href=\"#mf9efac13ea\" y=\"550.8\"/>\r\n      </g>\r\n     </g>\r\n     <g id=\"text_5\">\r\n      <!-- 35 -->\r\n      <g style=\"fill:#ffffff;\" transform=\"translate(388.128125 565.398438)scale(0.1 -0.1)\">\r\n       <use xlink:href=\"#DejaVuSans-51\"/>\r\n       <use x=\"63.623047\" xlink:href=\"#DejaVuSans-53\"/>\r\n      </g>\r\n     </g>\r\n    </g>\r\n    <g id=\"xtick_6\">\r\n     <g id=\"line2d_6\">\r\n      <g>\r\n       <use style=\"fill:#ffffff;stroke:#ffffff;stroke-width:0.8;\" x=\"474.522616\" xlink:href=\"#mf9efac13ea\" y=\"550.8\"/>\r\n      </g>\r\n     </g>\r\n     <g id=\"text_6\">\r\n      <!-- 40 -->\r\n      <defs>\r\n       <path d=\"M 37.796875 64.3125 \r\nL 12.890625 25.390625 \r\nL 37.796875 25.390625 \r\nz\r\nM 35.203125 72.90625 \r\nL 47.609375 72.90625 \r\nL 47.609375 25.390625 \r\nL 58.015625 25.390625 \r\nL 58.015625 17.1875 \r\nL 47.609375 17.1875 \r\nL 47.609375 0 \r\nL 37.796875 0 \r\nL 37.796875 17.1875 \r\nL 4.890625 17.1875 \r\nL 4.890625 26.703125 \r\nz\r\n\" id=\"DejaVuSans-52\"/>\r\n      </defs>\r\n      <g style=\"fill:#ffffff;\" transform=\"translate(468.160116 565.398438)scale(0.1 -0.1)\">\r\n       <use xlink:href=\"#DejaVuSans-52\"/>\r\n       <use x=\"63.623047\" xlink:href=\"#DejaVuSans-48\"/>\r\n      </g>\r\n     </g>\r\n    </g>\r\n    <g id=\"xtick_7\">\r\n     <g id=\"line2d_7\">\r\n      <g>\r\n       <use style=\"fill:#ffffff;stroke:#ffffff;stroke-width:0.8;\" x=\"554.554607\" xlink:href=\"#mf9efac13ea\" y=\"550.8\"/>\r\n      </g>\r\n     </g>\r\n     <g id=\"text_7\">\r\n      <!-- 45 -->\r\n      <g style=\"fill:#ffffff;\" transform=\"translate(548.192107 565.398438)scale(0.1 -0.1)\">\r\n       <use xlink:href=\"#DejaVuSans-52\"/>\r\n       <use x=\"63.623047\" xlink:href=\"#DejaVuSans-53\"/>\r\n      </g>\r\n     </g>\r\n    </g>\r\n    <g id=\"xtick_8\">\r\n     <g id=\"line2d_8\">\r\n      <g>\r\n       <use style=\"fill:#ffffff;stroke:#ffffff;stroke-width:0.8;\" x=\"634.586599\" xlink:href=\"#mf9efac13ea\" y=\"550.8\"/>\r\n      </g>\r\n     </g>\r\n     <g id=\"text_8\">\r\n      <!-- 50 -->\r\n      <g style=\"fill:#ffffff;\" transform=\"translate(628.224099 565.398438)scale(0.1 -0.1)\">\r\n       <use xlink:href=\"#DejaVuSans-53\"/>\r\n       <use x=\"63.623047\" xlink:href=\"#DejaVuSans-48\"/>\r\n      </g>\r\n     </g>\r\n    </g>\r\n    <g id=\"xtick_9\">\r\n     <g id=\"line2d_9\">\r\n      <g>\r\n       <use style=\"fill:#ffffff;stroke:#ffffff;stroke-width:0.8;\" x=\"714.61859\" xlink:href=\"#mf9efac13ea\" y=\"550.8\"/>\r\n      </g>\r\n     </g>\r\n     <g id=\"text_9\">\r\n      <!-- 55 -->\r\n      <g style=\"fill:#ffffff;\" transform=\"translate(708.25609 565.398438)scale(0.1 -0.1)\">\r\n       <use xlink:href=\"#DejaVuSans-53\"/>\r\n       <use x=\"63.623047\" xlink:href=\"#DejaVuSans-53\"/>\r\n      </g>\r\n     </g>\r\n    </g>\r\n    <g id=\"text_10\">\r\n     <!-- highway-mpg -->\r\n     <defs>\r\n      <path d=\"M 54.890625 33.015625 \r\nL 54.890625 0 \r\nL 45.90625 0 \r\nL 45.90625 32.71875 \r\nQ 45.90625 40.484375 42.875 44.328125 \r\nQ 39.84375 48.1875 33.796875 48.1875 \r\nQ 26.515625 48.1875 22.3125 43.546875 \r\nQ 18.109375 38.921875 18.109375 30.90625 \r\nL 18.109375 0 \r\nL 9.078125 0 \r\nL 9.078125 75.984375 \r\nL 18.109375 75.984375 \r\nL 18.109375 46.1875 \r\nQ 21.34375 51.125 25.703125 53.5625 \r\nQ 30.078125 56 35.796875 56 \r\nQ 45.21875 56 50.046875 50.171875 \r\nQ 54.890625 44.34375 54.890625 33.015625 \r\nz\r\n\" id=\"DejaVuSans-104\"/>\r\n      <path d=\"M 9.421875 54.6875 \r\nL 18.40625 54.6875 \r\nL 18.40625 0 \r\nL 9.421875 0 \r\nz\r\nM 9.421875 75.984375 \r\nL 18.40625 75.984375 \r\nL 18.40625 64.59375 \r\nL 9.421875 64.59375 \r\nz\r\n\" id=\"DejaVuSans-105\"/>\r\n      <path d=\"M 45.40625 27.984375 \r\nQ 45.40625 37.75 41.375 43.109375 \r\nQ 37.359375 48.484375 30.078125 48.484375 \r\nQ 22.859375 48.484375 18.828125 43.109375 \r\nQ 14.796875 37.75 14.796875 27.984375 \r\nQ 14.796875 18.265625 18.828125 12.890625 \r\nQ 22.859375 7.515625 30.078125 7.515625 \r\nQ 37.359375 7.515625 41.375 12.890625 \r\nQ 45.40625 18.265625 45.40625 27.984375 \r\nz\r\nM 54.390625 6.78125 \r\nQ 54.390625 -7.171875 48.1875 -13.984375 \r\nQ 42 -20.796875 29.203125 -20.796875 \r\nQ 24.46875 -20.796875 20.265625 -20.09375 \r\nQ 16.0625 -19.390625 12.109375 -17.921875 \r\nL 12.109375 -9.1875 \r\nQ 16.0625 -11.328125 19.921875 -12.34375 \r\nQ 23.78125 -13.375 27.78125 -13.375 \r\nQ 36.625 -13.375 41.015625 -8.765625 \r\nQ 45.40625 -4.15625 45.40625 5.171875 \r\nL 45.40625 9.625 \r\nQ 42.625 4.78125 38.28125 2.390625 \r\nQ 33.9375 0 27.875 0 \r\nQ 17.828125 0 11.671875 7.65625 \r\nQ 5.515625 15.328125 5.515625 27.984375 \r\nQ 5.515625 40.671875 11.671875 48.328125 \r\nQ 17.828125 56 27.875 56 \r\nQ 33.9375 56 38.28125 53.609375 \r\nQ 42.625 51.21875 45.40625 46.390625 \r\nL 45.40625 54.6875 \r\nL 54.390625 54.6875 \r\nz\r\n\" id=\"DejaVuSans-103\"/>\r\n      <path d=\"M 4.203125 54.6875 \r\nL 13.1875 54.6875 \r\nL 24.421875 12.015625 \r\nL 35.59375 54.6875 \r\nL 46.1875 54.6875 \r\nL 57.421875 12.015625 \r\nL 68.609375 54.6875 \r\nL 77.59375 54.6875 \r\nL 63.28125 0 \r\nL 52.6875 0 \r\nL 40.921875 44.828125 \r\nL 29.109375 0 \r\nL 18.5 0 \r\nz\r\n\" id=\"DejaVuSans-119\"/>\r\n      <path d=\"M 34.28125 27.484375 \r\nQ 23.390625 27.484375 19.1875 25 \r\nQ 14.984375 22.515625 14.984375 16.5 \r\nQ 14.984375 11.71875 18.140625 8.90625 \r\nQ 21.296875 6.109375 26.703125 6.109375 \r\nQ 34.1875 6.109375 38.703125 11.40625 \r\nQ 43.21875 16.703125 43.21875 25.484375 \r\nL 43.21875 27.484375 \r\nz\r\nM 52.203125 31.203125 \r\nL 52.203125 0 \r\nL 43.21875 0 \r\nL 43.21875 8.296875 \r\nQ 40.140625 3.328125 35.546875 0.953125 \r\nQ 30.953125 -1.421875 24.3125 -1.421875 \r\nQ 15.921875 -1.421875 10.953125 3.296875 \r\nQ 6 8.015625 6 15.921875 \r\nQ 6 25.140625 12.171875 29.828125 \r\nQ 18.359375 34.515625 30.609375 34.515625 \r\nL 43.21875 34.515625 \r\nL 43.21875 35.40625 \r\nQ 43.21875 41.609375 39.140625 45 \r\nQ 35.0625 48.390625 27.6875 48.390625 \r\nQ 23 48.390625 18.546875 47.265625 \r\nQ 14.109375 46.140625 10.015625 43.890625 \r\nL 10.015625 52.203125 \r\nQ 14.9375 54.109375 19.578125 55.046875 \r\nQ 24.21875 56 28.609375 56 \r\nQ 40.484375 56 46.34375 49.84375 \r\nQ 52.203125 43.703125 52.203125 31.203125 \r\nz\r\n\" id=\"DejaVuSans-97\"/>\r\n      <path d=\"M 32.171875 -5.078125 \r\nQ 28.375 -14.84375 24.75 -17.8125 \r\nQ 21.140625 -20.796875 15.09375 -20.796875 \r\nL 7.90625 -20.796875 \r\nL 7.90625 -13.28125 \r\nL 13.1875 -13.28125 \r\nQ 16.890625 -13.28125 18.9375 -11.515625 \r\nQ 21 -9.765625 23.484375 -3.21875 \r\nL 25.09375 0.875 \r\nL 2.984375 54.6875 \r\nL 12.5 54.6875 \r\nL 29.59375 11.921875 \r\nL 46.6875 54.6875 \r\nL 56.203125 54.6875 \r\nz\r\n\" id=\"DejaVuSans-121\"/>\r\n      <path d=\"M 4.890625 31.390625 \r\nL 31.203125 31.390625 \r\nL 31.203125 23.390625 \r\nL 4.890625 23.390625 \r\nz\r\n\" id=\"DejaVuSans-45\"/>\r\n      <path d=\"M 52 44.1875 \r\nQ 55.375 50.25 60.0625 53.125 \r\nQ 64.75 56 71.09375 56 \r\nQ 79.640625 56 84.28125 50.015625 \r\nQ 88.921875 44.046875 88.921875 33.015625 \r\nL 88.921875 0 \r\nL 79.890625 0 \r\nL 79.890625 32.71875 \r\nQ 79.890625 40.578125 77.09375 44.375 \r\nQ 74.3125 48.1875 68.609375 48.1875 \r\nQ 61.625 48.1875 57.5625 43.546875 \r\nQ 53.515625 38.921875 53.515625 30.90625 \r\nL 53.515625 0 \r\nL 44.484375 0 \r\nL 44.484375 32.71875 \r\nQ 44.484375 40.625 41.703125 44.40625 \r\nQ 38.921875 48.1875 33.109375 48.1875 \r\nQ 26.21875 48.1875 22.15625 43.53125 \r\nQ 18.109375 38.875 18.109375 30.90625 \r\nL 18.109375 0 \r\nL 9.078125 0 \r\nL 9.078125 54.6875 \r\nL 18.109375 54.6875 \r\nL 18.109375 46.1875 \r\nQ 21.1875 51.21875 25.484375 53.609375 \r\nQ 29.78125 56 35.6875 56 \r\nQ 41.65625 56 45.828125 52.96875 \r\nQ 50 49.953125 52 44.1875 \r\nz\r\n\" id=\"DejaVuSans-109\"/>\r\n      <path d=\"M 18.109375 8.203125 \r\nL 18.109375 -20.796875 \r\nL 9.078125 -20.796875 \r\nL 9.078125 54.6875 \r\nL 18.109375 54.6875 \r\nL 18.109375 46.390625 \r\nQ 20.953125 51.265625 25.265625 53.625 \r\nQ 29.59375 56 35.59375 56 \r\nQ 45.5625 56 51.78125 48.09375 \r\nQ 58.015625 40.1875 58.015625 27.296875 \r\nQ 58.015625 14.40625 51.78125 6.484375 \r\nQ 45.5625 -1.421875 35.59375 -1.421875 \r\nQ 29.59375 -1.421875 25.265625 0.953125 \r\nQ 20.953125 3.328125 18.109375 8.203125 \r\nz\r\nM 48.6875 27.296875 \r\nQ 48.6875 37.203125 44.609375 42.84375 \r\nQ 40.53125 48.484375 33.40625 48.484375 \r\nQ 26.265625 48.484375 22.1875 42.84375 \r\nQ 18.109375 37.203125 18.109375 27.296875 \r\nQ 18.109375 17.390625 22.1875 11.75 \r\nQ 26.265625 6.109375 33.40625 6.109375 \r\nQ 40.53125 6.109375 44.609375 11.75 \r\nQ 48.6875 17.390625 48.6875 27.296875 \r\nz\r\n\" id=\"DejaVuSans-112\"/>\r\n     </defs>\r\n     <g style=\"fill:#ffffff;\" transform=\"translate(360.455469 579.076563)scale(0.1 -0.1)\">\r\n      <use xlink:href=\"#DejaVuSans-104\"/>\r\n      <use x=\"63.378906\" xlink:href=\"#DejaVuSans-105\"/>\r\n      <use x=\"91.162109\" xlink:href=\"#DejaVuSans-103\"/>\r\n      <use x=\"154.638672\" xlink:href=\"#DejaVuSans-104\"/>\r\n      <use x=\"218.017578\" xlink:href=\"#DejaVuSans-119\"/>\r\n      <use x=\"299.804688\" xlink:href=\"#DejaVuSans-97\"/>\r\n      <use x=\"361.083984\" xlink:href=\"#DejaVuSans-121\"/>\r\n      <use x=\"420.248047\" xlink:href=\"#DejaVuSans-45\"/>\r\n      <use x=\"456.332031\" xlink:href=\"#DejaVuSans-109\"/>\r\n      <use x=\"553.744141\" xlink:href=\"#DejaVuSans-112\"/>\r\n      <use x=\"617.220703\" xlink:href=\"#DejaVuSans-103\"/>\r\n     </g>\r\n    </g>\r\n   </g>\r\n   <g id=\"matplotlib.axis_2\">\r\n    <g id=\"ytick_1\">\r\n     <g id=\"line2d_10\">\r\n      <defs>\r\n       <path d=\"M 0 0 \r\nL -3.5 0 \r\n\" id=\"m77672e8ca8\" style=\"stroke:#ffffff;stroke-width:0.8;\"/>\r\n      </defs>\r\n      <g>\r\n       <use style=\"fill:#ffffff;stroke:#ffffff;stroke-width:0.8;\" x=\"59.690625\" xlink:href=\"#m77672e8ca8\" y=\"550.8\"/>\r\n      </g>\r\n     </g>\r\n     <g id=\"text_11\">\r\n      <!-- 0 -->\r\n      <g style=\"fill:#ffffff;\" transform=\"translate(46.328125 554.599219)scale(0.1 -0.1)\">\r\n       <use xlink:href=\"#DejaVuSans-48\"/>\r\n      </g>\r\n     </g>\r\n    </g>\r\n    <g id=\"ytick_2\">\r\n     <g id=\"line2d_11\">\r\n      <g>\r\n       <use style=\"fill:#ffffff;stroke:#ffffff;stroke-width:0.8;\" x=\"59.690625\" xlink:href=\"#m77672e8ca8\" y=\"438.186552\"/>\r\n      </g>\r\n     </g>\r\n     <g id=\"text_12\">\r\n      <!-- 10000 -->\r\n      <g style=\"fill:#ffffff;\" transform=\"translate(20.878125 441.985771)scale(0.1 -0.1)\">\r\n       <use xlink:href=\"#DejaVuSans-49\"/>\r\n       <use x=\"63.623047\" xlink:href=\"#DejaVuSans-48\"/>\r\n       <use x=\"127.246094\" xlink:href=\"#DejaVuSans-48\"/>\r\n       <use x=\"190.869141\" xlink:href=\"#DejaVuSans-48\"/>\r\n       <use x=\"254.492188\" xlink:href=\"#DejaVuSans-48\"/>\r\n      </g>\r\n     </g>\r\n    </g>\r\n    <g id=\"ytick_3\">\r\n     <g id=\"line2d_12\">\r\n      <g>\r\n       <use style=\"fill:#ffffff;stroke:#ffffff;stroke-width:0.8;\" x=\"59.690625\" xlink:href=\"#m77672e8ca8\" y=\"325.573104\"/>\r\n      </g>\r\n     </g>\r\n     <g id=\"text_13\">\r\n      <!-- 20000 -->\r\n      <g style=\"fill:#ffffff;\" transform=\"translate(20.878125 329.372322)scale(0.1 -0.1)\">\r\n       <use xlink:href=\"#DejaVuSans-50\"/>\r\n       <use x=\"63.623047\" xlink:href=\"#DejaVuSans-48\"/>\r\n       <use x=\"127.246094\" xlink:href=\"#DejaVuSans-48\"/>\r\n       <use x=\"190.869141\" xlink:href=\"#DejaVuSans-48\"/>\r\n       <use x=\"254.492188\" xlink:href=\"#DejaVuSans-48\"/>\r\n      </g>\r\n     </g>\r\n    </g>\r\n    <g id=\"ytick_4\">\r\n     <g id=\"line2d_13\">\r\n      <g>\r\n       <use style=\"fill:#ffffff;stroke:#ffffff;stroke-width:0.8;\" x=\"59.690625\" xlink:href=\"#m77672e8ca8\" y=\"212.959655\"/>\r\n      </g>\r\n     </g>\r\n     <g id=\"text_14\">\r\n      <!-- 30000 -->\r\n      <g style=\"fill:#ffffff;\" transform=\"translate(20.878125 216.758874)scale(0.1 -0.1)\">\r\n       <use xlink:href=\"#DejaVuSans-51\"/>\r\n       <use x=\"63.623047\" xlink:href=\"#DejaVuSans-48\"/>\r\n       <use x=\"127.246094\" xlink:href=\"#DejaVuSans-48\"/>\r\n       <use x=\"190.869141\" xlink:href=\"#DejaVuSans-48\"/>\r\n       <use x=\"254.492188\" xlink:href=\"#DejaVuSans-48\"/>\r\n      </g>\r\n     </g>\r\n    </g>\r\n    <g id=\"ytick_5\">\r\n     <g id=\"line2d_14\">\r\n      <g>\r\n       <use style=\"fill:#ffffff;stroke:#ffffff;stroke-width:0.8;\" x=\"59.690625\" xlink:href=\"#m77672e8ca8\" y=\"100.346207\"/>\r\n      </g>\r\n     </g>\r\n     <g id=\"text_15\">\r\n      <!-- 40000 -->\r\n      <g style=\"fill:#ffffff;\" transform=\"translate(20.878125 104.145426)scale(0.1 -0.1)\">\r\n       <use xlink:href=\"#DejaVuSans-52\"/>\r\n       <use x=\"63.623047\" xlink:href=\"#DejaVuSans-48\"/>\r\n       <use x=\"127.246094\" xlink:href=\"#DejaVuSans-48\"/>\r\n       <use x=\"190.869141\" xlink:href=\"#DejaVuSans-48\"/>\r\n       <use x=\"254.492188\" xlink:href=\"#DejaVuSans-48\"/>\r\n      </g>\r\n     </g>\r\n    </g>\r\n    <g id=\"text_16\">\r\n     <!-- price -->\r\n     <defs>\r\n      <path d=\"M 41.109375 46.296875 \r\nQ 39.59375 47.171875 37.8125 47.578125 \r\nQ 36.03125 48 33.890625 48 \r\nQ 26.265625 48 22.1875 43.046875 \r\nQ 18.109375 38.09375 18.109375 28.8125 \r\nL 18.109375 0 \r\nL 9.078125 0 \r\nL 9.078125 54.6875 \r\nL 18.109375 54.6875 \r\nL 18.109375 46.1875 \r\nQ 20.953125 51.171875 25.484375 53.578125 \r\nQ 30.03125 56 36.53125 56 \r\nQ 37.453125 56 38.578125 55.875 \r\nQ 39.703125 55.765625 41.0625 55.515625 \r\nz\r\n\" id=\"DejaVuSans-114\"/>\r\n      <path d=\"M 48.78125 52.59375 \r\nL 48.78125 44.1875 \r\nQ 44.96875 46.296875 41.140625 47.34375 \r\nQ 37.3125 48.390625 33.40625 48.390625 \r\nQ 24.65625 48.390625 19.8125 42.84375 \r\nQ 14.984375 37.3125 14.984375 27.296875 \r\nQ 14.984375 17.28125 19.8125 11.734375 \r\nQ 24.65625 6.203125 33.40625 6.203125 \r\nQ 37.3125 6.203125 41.140625 7.25 \r\nQ 44.96875 8.296875 48.78125 10.40625 \r\nL 48.78125 2.09375 \r\nQ 45.015625 0.34375 40.984375 -0.53125 \r\nQ 36.96875 -1.421875 32.421875 -1.421875 \r\nQ 20.0625 -1.421875 12.78125 6.34375 \r\nQ 5.515625 14.109375 5.515625 27.296875 \r\nQ 5.515625 40.671875 12.859375 48.328125 \r\nQ 20.21875 56 33.015625 56 \r\nQ 37.15625 56 41.109375 55.140625 \r\nQ 45.0625 54.296875 48.78125 52.59375 \r\nz\r\n\" id=\"DejaVuSans-99\"/>\r\n      <path d=\"M 56.203125 29.59375 \r\nL 56.203125 25.203125 \r\nL 14.890625 25.203125 \r\nQ 15.484375 15.921875 20.484375 11.0625 \r\nQ 25.484375 6.203125 34.421875 6.203125 \r\nQ 39.59375 6.203125 44.453125 7.46875 \r\nQ 49.3125 8.734375 54.109375 11.28125 \r\nL 54.109375 2.78125 \r\nQ 49.265625 0.734375 44.1875 -0.34375 \r\nQ 39.109375 -1.421875 33.890625 -1.421875 \r\nQ 20.796875 -1.421875 13.15625 6.1875 \r\nQ 5.515625 13.8125 5.515625 26.8125 \r\nQ 5.515625 40.234375 12.765625 48.109375 \r\nQ 20.015625 56 32.328125 56 \r\nQ 43.359375 56 49.78125 48.890625 \r\nQ 56.203125 41.796875 56.203125 29.59375 \r\nz\r\nM 47.21875 32.234375 \r\nQ 47.125 39.59375 43.09375 43.984375 \r\nQ 39.0625 48.390625 32.421875 48.390625 \r\nQ 24.90625 48.390625 20.390625 44.140625 \r\nQ 15.875 39.890625 15.1875 32.171875 \r\nz\r\n\" id=\"DejaVuSans-101\"/>\r\n     </defs>\r\n     <g style=\"fill:#ffffff;\" transform=\"translate(14.798438 291.444531)rotate(-90)scale(0.1 -0.1)\">\r\n      <use xlink:href=\"#DejaVuSans-112\"/>\r\n      <use x=\"63.476562\" xlink:href=\"#DejaVuSans-114\"/>\r\n      <use x=\"104.589844\" xlink:href=\"#DejaVuSans-105\"/>\r\n      <use x=\"132.373047\" xlink:href=\"#DejaVuSans-99\"/>\r\n      <use x=\"187.353516\" xlink:href=\"#DejaVuSans-101\"/>\r\n     </g>\r\n    </g>\r\n   </g>\r\n   <g id=\"line2d_15\">\r\n    <path clip-path=\"url(#p2c940c5a34)\" d=\"M 59.690625 248.426864 \r\nL 66.454261 252.337143 \r\nL 73.217898 256.247423 \r\nL 79.981534 260.157702 \r\nL 86.74517 264.067982 \r\nL 93.508807 267.978262 \r\nL 100.272443 271.888541 \r\nL 107.03608 275.798821 \r\nL 113.799716 279.709101 \r\nL 120.563352 283.61938 \r\nL 127.326989 287.52966 \r\nL 134.090625 291.43994 \r\nL 140.854261 295.350219 \r\nL 147.617898 299.260499 \r\nL 154.381534 303.170779 \r\nL 161.14517 307.081058 \r\nL 167.908807 310.991338 \r\nL 174.672443 314.901617 \r\nL 181.43608 318.811897 \r\nL 188.199716 322.722177 \r\nL 194.963352 326.632456 \r\nL 201.726989 330.542736 \r\nL 208.490625 334.453016 \r\nL 215.254261 338.363295 \r\nL 222.017898 342.273575 \r\nL 228.781534 346.183855 \r\nL 235.54517 350.094134 \r\nL 242.308807 354.004414 \r\nL 249.072443 357.914694 \r\nL 255.83608 361.824973 \r\nL 262.599716 365.735253 \r\nL 269.363352 369.645532 \r\nL 276.126989 373.555812 \r\nL 282.890625 377.466092 \r\nL 289.654261 381.376371 \r\nL 296.417898 385.286651 \r\nL 303.181534 389.196931 \r\nL 309.94517 393.10721 \r\nL 316.708807 397.01749 \r\nL 323.472443 400.92777 \r\nL 330.23608 404.838049 \r\nL 336.999716 408.748329 \r\nL 343.763352 412.658609 \r\nL 350.526989 416.568888 \r\nL 357.290625 420.479168 \r\nL 364.054261 424.389448 \r\nL 370.817898 428.299727 \r\nL 377.581534 432.210007 \r\nL 384.34517 436.120286 \r\nL 391.108807 440.030566 \r\nL 397.872443 443.940846 \r\nL 404.63608 447.851125 \r\nL 411.399716 451.761405 \r\nL 418.163352 455.671685 \r\nL 424.926989 459.581964 \r\nL 431.690625 463.492244 \r\nL 438.454261 467.402524 \r\nL 445.217898 471.312803 \r\nL 451.981534 475.223083 \r\nL 458.74517 479.133363 \r\nL 465.508807 483.043642 \r\nL 472.272443 486.953922 \r\nL 479.03608 490.864201 \r\nL 485.799716 494.774481 \r\nL 492.563352 498.684761 \r\nL 499.326989 502.59504 \r\nL 506.090625 506.50532 \r\nL 512.854261 510.4156 \r\nL 519.617898 514.325879 \r\nL 526.381534 518.236159 \r\nL 533.14517 522.146439 \r\nL 539.908807 526.056718 \r\nL 546.672443 529.966998 \r\nL 553.43608 533.877278 \r\nL 560.199716 537.787557 \r\nL 566.963352 541.697837 \r\nL 573.726989 545.608116 \r\nL 580.490625 549.518396 \r\nL 587.254261 553.428676 \r\nL 594.017898 557.338955 \r\nL 600.781534 561.249235 \r\nL 607.54517 565.159515 \r\nL 614.308807 569.069794 \r\nL 621.072443 572.980074 \r\nL 627.83608 576.890354 \r\nL 634.599716 580.800633 \r\nL 641.363352 584.710913 \r\nL 648.126989 588.621193 \r\nL 649.398422 589.35625 \r\n\" style=\"fill:none;stroke:#8dd3c7;stroke-linecap:square;stroke-width:2.25;\"/>\r\n   </g>\r\n   <g id=\"patch_3\">\r\n    <path d=\"M 59.690625 550.8 \r\nL 59.690625 7.2 \r\n\" style=\"fill:none;stroke:#ffffff;stroke-linecap:square;stroke-linejoin:miter;stroke-width:0.8;\"/>\r\n   </g>\r\n   <g id=\"patch_4\">\r\n    <path d=\"M 729.290625 550.8 \r\nL 729.290625 7.2 \r\n\" style=\"fill:none;stroke:#ffffff;stroke-linecap:square;stroke-linejoin:miter;stroke-width:0.8;\"/>\r\n   </g>\r\n   <g id=\"patch_5\">\r\n    <path d=\"M 59.690625 550.8 \r\nL 729.290625 550.8 \r\n\" style=\"fill:none;stroke:#ffffff;stroke-linecap:square;stroke-linejoin:miter;stroke-width:0.8;\"/>\r\n   </g>\r\n   <g id=\"patch_6\">\r\n    <path d=\"M 59.690625 7.2 \r\nL 729.290625 7.2 \r\n\" style=\"fill:none;stroke:#ffffff;stroke-linecap:square;stroke-linejoin:miter;stroke-width:0.8;\"/>\r\n   </g>\r\n  </g>\r\n </g>\r\n <defs>\r\n  <clipPath id=\"p2c940c5a34\">\r\n   <rect height=\"543.6\" width=\"669.6\" x=\"59.690625\" y=\"7.2\"/>\r\n  </clipPath>\r\n </defs>\r\n</svg>\r\n",
      "text/plain": "<Figure size 864x720 with 1 Axes>"
     },
     "metadata": {
      "needs_background": "dark"
     },
     "output_type": "display_data"
    }
   ],
   "source": [
    "width = 12\n",
    "height = 10\n",
    "plt.figure(figsize=(width, height))\n",
    "sns.regplot(x=\"highway-mpg\", y=\"price\", data=df)\n",
    "plt.ylim(0,)"
   ]
  },
  {
   "cell_type": "markdown",
   "metadata": {},
   "source": [
    "<p>We can see from this plot that price is negatively correlated to highway-mpg, since the regression slope is negative.\n",
    "One thing to keep in mind when looking at a regression plot is to pay attention to how scattered the data points are around the regression line. This will give you a good indication of the variance of the data, and whether a linear model would be the best fit or not. If the data is too far off from the line, this linear model might not be the best model for this data. Let's compare this plot to the regression plot of \"peak-rpm\".</p>"
   ]
  },
  {
   "cell_type": "code",
   "execution_count": 24,
   "metadata": {},
   "outputs": [
    {
     "data": {
      "text/plain": "(0, 47422.919330307624)"
     },
     "execution_count": 24,
     "metadata": {},
     "output_type": "execute_result"
    },
    {
     "data": {
      "image/png": "[encoded data removed]",
      "image/svg+xml": "<?xml version=\"1.0\" encoding=\"utf-8\" standalone=\"no\"?>\r\n<!DOCTYPE svg PUBLIC \"-//W3C//DTD SVG 1.1//EN\"\r\n  \"http://www.w3.org/Graphics/SVG/1.1/DTD/svg11.dtd\">\r\n<!-- Created with matplotlib (https://matplotlib.org/) -->\r\n<svg height=\"588.35625pt\" version=\"1.1\" viewBox=\"0 0 736.490625 588.35625\" width=\"736.490625pt\" xmlns=\"http://www.w3.org/2000/svg\" xmlns:xlink=\"http://www.w3.org/1999/xlink\">\r\n <defs>\r\n  <style type=\"text/css\">\r\n*{stroke-linecap:butt;stroke-linejoin:round;}\r\n  </style>\r\n </defs>\r\n <g id=\"figure_1\">\r\n  <g id=\"patch_1\">\r\n   <path d=\"M 0 588.35625 \r\nL 736.490625 588.35625 \r\nL 736.490625 0 \r\nL 0 0 \r\nz\r\n\" style=\"fill:none;\"/>\r\n  </g>\r\n  <g id=\"axes_1\">\r\n   <g id=\"patch_2\">\r\n    <path d=\"M 59.690625 550.8 \r\nL 729.290625 550.8 \r\nL 729.290625 7.2 \r\nL 59.690625 7.2 \r\nz\r\n\"/>\r\n   </g>\r\n   <g id=\"PathCollection_1\">\r\n    <defs>\r\n     <path d=\"M 0 3 \r\nC 0.795609 3 1.55874 2.683901 2.12132 2.12132 \r\nC 2.683901 1.55874 3 0.795609 3 0 \r\nC 3 -0.795609 2.683901 -1.55874 2.12132 -2.12132 \r\nC 1.55874 -2.683901 0.795609 -3 0 -3 \r\nC -0.795609 -3 -1.55874 -2.683901 -2.12132 -2.12132 \r\nC -2.683901 -1.55874 -3 -0.795609 -3 0 \r\nC -3 0.795609 -2.683901 1.55874 -2.12132 2.12132 \r\nC -1.55874 2.683901 -0.795609 3 0 3 \r\nz\r\n\" id=\"m0adf60b35e\" style=\"stroke:#8dd3c7;stroke-opacity:0.8;\"/>\r\n    </defs>\r\n    <g clip-path=\"url(#p06141a8b70)\">\r\n     <use style=\"fill:#8dd3c7;fill-opacity:0.8;stroke:#8dd3c7;stroke-opacity:0.8;\" x=\"301.509522\" xlink:href=\"#m0adf60b35e\" y=\"396.109355\"/>\r\n     <use style=\"fill:#8dd3c7;fill-opacity:0.8;stroke:#8dd3c7;stroke-opacity:0.8;\" x=\"301.509522\" xlink:href=\"#m0adf60b35e\" y=\"361.663605\"/>\r\n     <use style=\"fill:#8dd3c7;fill-opacity:0.8;stroke:#8dd3c7;stroke-opacity:0.8;\" x=\"301.509522\" xlink:href=\"#m0adf60b35e\" y=\"361.663605\"/>\r\n     <use style=\"fill:#8dd3c7;fill-opacity:0.8;stroke:#8dd3c7;stroke-opacity:0.8;\" x=\"425.484326\" xlink:href=\"#m0adf60b35e\" y=\"390.893775\"/>\r\n     <use style=\"fill:#8dd3c7;fill-opacity:0.8;stroke:#8dd3c7;stroke-opacity:0.8;\" x=\"425.484326\" xlink:href=\"#m0adf60b35e\" y=\"350.773934\"/>\r\n     <use style=\"fill:#8dd3c7;fill-opacity:0.8;stroke:#8dd3c7;stroke-opacity:0.8;\" x=\"425.484326\" xlink:href=\"#m0adf60b35e\" y=\"375.99212\"/>\r\n     <use style=\"fill:#8dd3c7;fill-opacity:0.8;stroke:#8dd3c7;stroke-opacity:0.8;\" x=\"425.484326\" xlink:href=\"#m0adf60b35e\" y=\"347.793603\"/>\r\n     <use style=\"fill:#8dd3c7;fill-opacity:0.8;stroke:#8dd3c7;stroke-opacity:0.8;\" x=\"425.484326\" xlink:href=\"#m0adf60b35e\" y=\"333.9236\"/>\r\n     <use style=\"fill:#8dd3c7;fill-opacity:0.8;stroke:#8dd3c7;stroke-opacity:0.8;\" x=\"425.484326\" xlink:href=\"#m0adf60b35e\" y=\"277.125368\"/>\r\n     <use style=\"fill:#8dd3c7;fill-opacity:0.8;stroke:#8dd3c7;stroke-opacity:0.8;\" x=\"499.869209\" xlink:href=\"#m0adf60b35e\" y=\"362.466002\"/>\r\n     <use style=\"fill:#8dd3c7;fill-opacity:0.8;stroke:#8dd3c7;stroke-opacity:0.8;\" x=\"499.869209\" xlink:href=\"#m0adf60b35e\" y=\"356.79191\"/>\r\n     <use style=\"fill:#8dd3c7;fill-opacity:0.8;stroke:#8dd3c7;stroke-opacity:0.8;\" x=\"115.547315\" xlink:href=\"#m0adf60b35e\" y=\"310.424836\"/>\r\n     <use style=\"fill:#8dd3c7;fill-opacity:0.8;stroke:#8dd3c7;stroke-opacity:0.8;\" x=\"115.547315\" xlink:href=\"#m0adf60b35e\" y=\"308.877357\"/>\r\n     <use style=\"fill:#8dd3c7;fill-opacity:0.8;stroke:#8dd3c7;stroke-opacity:0.8;\" x=\"115.547315\" xlink:href=\"#m0adf60b35e\" y=\"269.216028\"/>\r\n     <use style=\"fill:#8dd3c7;fill-opacity:0.8;stroke:#8dd3c7;stroke-opacity:0.8;\" x=\"400.689365\" xlink:href=\"#m0adf60b35e\" y=\"198.203909\"/>\r\n     <use style=\"fill:#8dd3c7;fill-opacity:0.8;stroke:#8dd3c7;stroke-opacity:0.8;\" x=\"400.689365\" xlink:href=\"#m0adf60b35e\" y=\"77.21393\"/>\r\n     <use style=\"fill:#8dd3c7;fill-opacity:0.8;stroke:#8dd3c7;stroke-opacity:0.8;\" x=\"400.689365\" xlink:href=\"#m0adf60b35e\" y=\"128.0515\"/>\r\n     <use style=\"fill:#8dd3c7;fill-opacity:0.8;stroke:#8dd3c7;stroke-opacity:0.8;\" x=\"326.304483\" xlink:href=\"#m0adf60b35e\" y=\"491.755056\"/>\r\n     <use style=\"fill:#8dd3c7;fill-opacity:0.8;stroke:#8dd3c7;stroke-opacity:0.8;\" x=\"400.689365\" xlink:href=\"#m0adf60b35e\" y=\"478.6416\"/>\r\n     <use style=\"fill:#8dd3c7;fill-opacity:0.8;stroke:#8dd3c7;stroke-opacity:0.8;\" x=\"400.689365\" xlink:href=\"#m0adf60b35e\" y=\"475.432012\"/>\r\n     <use style=\"fill:#8dd3c7;fill-opacity:0.8;stroke:#8dd3c7;stroke-opacity:0.8;\" x=\"425.484326\" xlink:href=\"#m0adf60b35e\" y=\"486.929213\"/>\r\n     <use style=\"fill:#8dd3c7;fill-opacity:0.8;stroke:#8dd3c7;stroke-opacity:0.8;\" x=\"425.484326\" xlink:href=\"#m0adf60b35e\" y=\"477.701649\"/>\r\n     <use style=\"fill:#8dd3c7;fill-opacity:0.8;stroke:#8dd3c7;stroke-opacity:0.8;\" x=\"425.484326\" xlink:href=\"#m0adf60b35e\" y=\"459.590406\"/>\r\n     <use style=\"fill:#8dd3c7;fill-opacity:0.8;stroke:#8dd3c7;stroke-opacity:0.8;\" x=\"425.484326\" xlink:href=\"#m0adf60b35e\" y=\"479.398145\"/>\r\n     <use style=\"fill:#8dd3c7;fill-opacity:0.8;stroke:#8dd3c7;stroke-opacity:0.8;\" x=\"425.484326\" xlink:href=\"#m0adf60b35e\" y=\"474.090863\"/>\r\n     <use style=\"fill:#8dd3c7;fill-opacity:0.8;stroke:#8dd3c7;stroke-opacity:0.8;\" x=\"425.484326\" xlink:href=\"#m0adf60b35e\" y=\"463.579465\"/>\r\n     <use style=\"fill:#8dd3c7;fill-opacity:0.8;stroke:#8dd3c7;stroke-opacity:0.8;\" x=\"425.484326\" xlink:href=\"#m0adf60b35e\" y=\"452.701256\"/>\r\n     <use style=\"fill:#8dd3c7;fill-opacity:0.8;stroke:#8dd3c7;stroke-opacity:0.8;\" x=\"301.509522\" xlink:href=\"#m0adf60b35e\" y=\"448.540256\"/>\r\n     <use style=\"fill:#8dd3c7;fill-opacity:0.8;stroke:#8dd3c7;stroke-opacity:0.8;\" x=\"301.509522\" xlink:href=\"#m0adf60b35e\" y=\"402.196108\"/>\r\n     <use style=\"fill:#8dd3c7;fill-opacity:0.8;stroke:#8dd3c7;stroke-opacity:0.8;\" x=\"251.9196\" xlink:href=\"#m0adf60b35e\" y=\"476.532442\"/>\r\n     <use style=\"fill:#8dd3c7;fill-opacity:0.8;stroke:#8dd3c7;stroke-opacity:0.8;\" x=\"549.459131\" xlink:href=\"#m0adf60b35e\" y=\"472.222425\"/>\r\n     <use style=\"fill:#8dd3c7;fill-opacity:0.8;stroke:#8dd3c7;stroke-opacity:0.8;\" x=\"425.484326\" xlink:href=\"#m0adf60b35e\" y=\"488.912279\"/>\r\n     <use style=\"fill:#8dd3c7;fill-opacity:0.8;stroke:#8dd3c7;stroke-opacity:0.8;\" x=\"549.459131\" xlink:href=\"#m0adf60b35e\" y=\"475.959302\"/>\r\n     <use style=\"fill:#8dd3c7;fill-opacity:0.8;stroke:#8dd3c7;stroke-opacity:0.8;\" x=\"549.459131\" xlink:href=\"#m0adf60b35e\" y=\"469.081615\"/>\r\n     <use style=\"fill:#8dd3c7;fill-opacity:0.8;stroke:#8dd3c7;stroke-opacity:0.8;\" x=\"549.459131\" xlink:href=\"#m0adf60b35e\" y=\"467.178788\"/>\r\n     <use style=\"fill:#8dd3c7;fill-opacity:0.8;stroke:#8dd3c7;stroke-opacity:0.8;\" x=\"549.459131\" xlink:href=\"#m0adf60b35e\" y=\"467.178788\"/>\r\n     <use style=\"fill:#8dd3c7;fill-opacity:0.8;stroke:#8dd3c7;stroke-opacity:0.8;\" x=\"499.869209\" xlink:href=\"#m0adf60b35e\" y=\"460.301101\"/>\r\n     <use style=\"fill:#8dd3c7;fill-opacity:0.8;stroke:#8dd3c7;stroke-opacity:0.8;\" x=\"499.869209\" xlink:href=\"#m0adf60b35e\" y=\"446.545727\"/>\r\n     <use style=\"fill:#8dd3c7;fill-opacity:0.8;stroke:#8dd3c7;stroke-opacity:0.8;\" x=\"499.869209\" xlink:href=\"#m0adf60b35e\" y=\"449.411429\"/>\r\n     <use style=\"fill:#8dd3c7;fill-opacity:0.8;stroke:#8dd3c7;stroke-opacity:0.8;\" x=\"499.869209\" xlink:href=\"#m0adf60b35e\" y=\"432.790352\"/>\r\n     <use style=\"fill:#8dd3c7;fill-opacity:0.8;stroke:#8dd3c7;stroke-opacity:0.8;\" x=\"499.869209\" xlink:href=\"#m0adf60b35e\" y=\"402.413901\"/>\r\n     <use style=\"fill:#8dd3c7;fill-opacity:0.8;stroke:#8dd3c7;stroke-opacity:0.8;\" x=\"425.484326\" xlink:href=\"#m0adf60b35e\" y=\"432.217212\"/>\r\n     <use style=\"fill:#8dd3c7;fill-opacity:0.8;stroke:#8dd3c7;stroke-opacity:0.8;\" x=\"251.9196\" xlink:href=\"#m0adf60b35e\" y=\"473.024822\"/>\r\n     <use style=\"fill:#8dd3c7;fill-opacity:0.8;stroke:#8dd3c7;stroke-opacity:0.8;\" x=\"301.509522\" xlink:href=\"#m0adf60b35e\" y=\"424.158855\"/>\r\n     <use style=\"fill:#8dd3c7;fill-opacity:0.8;stroke:#8dd3c7;stroke-opacity:0.8;\" x=\"239.522119\" xlink:href=\"#m0adf60b35e\" y=\"181.124319\"/>\r\n     <use style=\"fill:#8dd3c7;fill-opacity:0.8;stroke:#8dd3c7;stroke-opacity:0.8;\" x=\"239.522119\" xlink:href=\"#m0adf60b35e\" y=\"143.29704\"/>\r\n     <use style=\"fill:#8dd3c7;fill-opacity:0.8;stroke:#8dd3c7;stroke-opacity:0.8;\" x=\"301.509522\" xlink:href=\"#m0adf60b35e\" y=\"138.138775\"/>\r\n     <use style=\"fill:#8dd3c7;fill-opacity:0.8;stroke:#8dd3c7;stroke-opacity:0.8;\" x=\"301.509522\" xlink:href=\"#m0adf60b35e\" y=\"491.250693\"/>\r\n     <use style=\"fill:#8dd3c7;fill-opacity:0.8;stroke:#8dd3c7;stroke-opacity:0.8;\" x=\"301.509522\" xlink:href=\"#m0adf60b35e\" y=\"480.934162\"/>\r\n     <use style=\"fill:#8dd3c7;fill-opacity:0.8;stroke:#8dd3c7;stroke-opacity:0.8;\" x=\"301.509522\" xlink:href=\"#m0adf60b35e\" y=\"472.910194\"/>\r\n     <use style=\"fill:#8dd3c7;fill-opacity:0.8;stroke:#8dd3c7;stroke-opacity:0.8;\" x=\"301.509522\" xlink:href=\"#m0adf60b35e\" y=\"474.056475\"/>\r\n     <use style=\"fill:#8dd3c7;fill-opacity:0.8;stroke:#8dd3c7;stroke-opacity:0.8;\" x=\"301.509522\" xlink:href=\"#m0adf60b35e\" y=\"466.032507\"/>\r\n     <use style=\"fill:#8dd3c7;fill-opacity:0.8;stroke:#8dd3c7;stroke-opacity:0.8;\" x=\"549.459131\" xlink:href=\"#m0adf60b35e\" y=\"425.339525\"/>\r\n     <use style=\"fill:#8dd3c7;fill-opacity:0.8;stroke:#8dd3c7;stroke-opacity:0.8;\" x=\"549.459131\" xlink:href=\"#m0adf60b35e\" y=\"415.022994\"/>\r\n     <use style=\"fill:#8dd3c7;fill-opacity:0.8;stroke:#8dd3c7;stroke-opacity:0.8;\" x=\"549.459131\" xlink:href=\"#m0adf60b35e\" y=\"394.389933\"/>\r\n     <use style=\"fill:#8dd3c7;fill-opacity:0.8;stroke:#8dd3c7;stroke-opacity:0.8;\" x=\"549.459131\" xlink:href=\"#m0adf60b35e\" y=\"371.464309\"/>\r\n     <use style=\"fill:#8dd3c7;fill-opacity:0.8;stroke:#8dd3c7;stroke-opacity:0.8;\" x=\"251.9196\" xlink:href=\"#m0adf60b35e\" y=\"449.411429\"/>\r\n     <use style=\"fill:#8dd3c7;fill-opacity:0.8;stroke:#8dd3c7;stroke-opacity:0.8;\" x=\"251.9196\" xlink:href=\"#m0adf60b35e\" y=\"453.423414\"/>\r\n     <use style=\"fill:#8dd3c7;fill-opacity:0.8;stroke:#8dd3c7;stroke-opacity:0.8;\" x=\"251.9196\" xlink:href=\"#m0adf60b35e\" y=\"429.351509\"/>\r\n     <use style=\"fill:#8dd3c7;fill-opacity:0.8;stroke:#8dd3c7;stroke-opacity:0.8;\" x=\"251.9196\" xlink:href=\"#m0adf60b35e\" y=\"433.363493\"/>\r\n     <use style=\"fill:#8dd3c7;fill-opacity:0.8;stroke:#8dd3c7;stroke-opacity:0.8;\" x=\"214.727158\" xlink:href=\"#m0adf60b35e\" y=\"427.058946\"/>\r\n     <use style=\"fill:#8dd3c7;fill-opacity:0.8;stroke:#8dd3c7;stroke-opacity:0.8;\" x=\"251.9196\" xlink:href=\"#m0adf60b35e\" y=\"421.900681\"/>\r\n     <use style=\"fill:#8dd3c7;fill-opacity:0.8;stroke:#8dd3c7;stroke-opacity:0.8;\" x=\"301.509522\" xlink:href=\"#m0adf60b35e\" y=\"341.2598\"/>\r\n     <use style=\"fill:#8dd3c7;fill-opacity:0.8;stroke:#8dd3c7;stroke-opacity:0.8;\" x=\"103.149834\" xlink:href=\"#m0adf60b35e\" y=\"340.52618\"/>\r\n     <use style=\"fill:#8dd3c7;fill-opacity:0.8;stroke:#8dd3c7;stroke-opacity:0.8;\" x=\"140.342276\" xlink:href=\"#m0adf60b35e\" y=\"257.902233\"/>\r\n     <use style=\"fill:#8dd3c7;fill-opacity:0.8;stroke:#8dd3c7;stroke-opacity:0.8;\" x=\"140.342276\" xlink:href=\"#m0adf60b35e\" y=\"226.998492\"/>\r\n     <use style=\"fill:#8dd3c7;fill-opacity:0.8;stroke:#8dd3c7;stroke-opacity:0.8;\" x=\"140.342276\" xlink:href=\"#m0adf60b35e\" y=\"227.823814\"/>\r\n     <use style=\"fill:#8dd3c7;fill-opacity:0.8;stroke:#8dd3c7;stroke-opacity:0.8;\" x=\"140.342276\" xlink:href=\"#m0adf60b35e\" y=\"188.575147\"/>\r\n     <use style=\"fill:#8dd3c7;fill-opacity:0.8;stroke:#8dd3c7;stroke-opacity:0.8;\" x=\"239.522119\" xlink:href=\"#m0adf60b35e\" y=\"158.955241\"/>\r\n     <use style=\"fill:#8dd3c7;fill-opacity:0.8;stroke:#8dd3c7;stroke-opacity:0.8;\" x=\"239.522119\" xlink:href=\"#m0adf60b35e\" y=\"148.959669\"/>\r\n     <use style=\"fill:#8dd3c7;fill-opacity:0.8;stroke:#8dd3c7;stroke-opacity:0.8;\" x=\"177.534717\" xlink:href=\"#m0adf60b35e\" y=\"81.283228\"/>\r\n     <use style=\"fill:#8dd3c7;fill-opacity:0.8;stroke:#8dd3c7;stroke-opacity:0.8;\" x=\"177.534717\" xlink:href=\"#m0adf60b35e\" y=\"30.388344\"/>\r\n     <use style=\"fill:#8dd3c7;fill-opacity:0.8;stroke:#8dd3c7;stroke-opacity:0.8;\" x=\"301.509522\" xlink:href=\"#m0adf60b35e\" y=\"361.629217\"/>\r\n     <use style=\"fill:#8dd3c7;fill-opacity:0.8;stroke:#8dd3c7;stroke-opacity:0.8;\" x=\"425.484326\" xlink:href=\"#m0adf60b35e\" y=\"489.026907\"/>\r\n     <use style=\"fill:#8dd3c7;fill-opacity:0.8;stroke:#8dd3c7;stroke-opacity:0.8;\" x=\"425.484326\" xlink:href=\"#m0adf60b35e\" y=\"479.856658\"/>\r\n     <use style=\"fill:#8dd3c7;fill-opacity:0.8;stroke:#8dd3c7;stroke-opacity:0.8;\" x=\"425.484326\" xlink:href=\"#m0adf60b35e\" y=\"474.354508\"/>\r\n     <use style=\"fill:#8dd3c7;fill-opacity:0.8;stroke:#8dd3c7;stroke-opacity:0.8;\" x=\"425.484326\" xlink:href=\"#m0adf60b35e\" y=\"462.66244\"/>\r\n     <use style=\"fill:#8dd3c7;fill-opacity:0.8;stroke:#8dd3c7;stroke-opacity:0.8;\" x=\"425.484326\" xlink:href=\"#m0adf60b35e\" y=\"436.641857\"/>\r\n     <use style=\"fill:#8dd3c7;fill-opacity:0.8;stroke:#8dd3c7;stroke-opacity:0.8;\" x=\"301.509522\" xlink:href=\"#m0adf60b35e\" y=\"453.377562\"/>\r\n     <use style=\"fill:#8dd3c7;fill-opacity:0.8;stroke:#8dd3c7;stroke-opacity:0.8;\" x=\"301.509522\" xlink:href=\"#m0adf60b35e\" y=\"406.03615\"/>\r\n     <use style=\"fill:#8dd3c7;fill-opacity:0.8;stroke:#8dd3c7;stroke-opacity:0.8;\" x=\"301.509522\" xlink:href=\"#m0adf60b35e\" y=\"380.359451\"/>\r\n     <use style=\"fill:#8dd3c7;fill-opacity:0.8;stroke:#8dd3c7;stroke-opacity:0.8;\" x=\"301.509522\" xlink:href=\"#m0adf60b35e\" y=\"384.71532\"/>\r\n     <use style=\"fill:#8dd3c7;fill-opacity:0.8;stroke:#8dd3c7;stroke-opacity:0.8;\" x=\"301.509522\" xlink:href=\"#m0adf60b35e\" y=\"470.686408\"/>\r\n     <use style=\"fill:#8dd3c7;fill-opacity:0.8;stroke:#8dd3c7;stroke-opacity:0.8;\" x=\"301.509522\" xlink:href=\"#m0adf60b35e\" y=\"456.931034\"/>\r\n     <use style=\"fill:#8dd3c7;fill-opacity:0.8;stroke:#8dd3c7;stroke-opacity:0.8;\" x=\"425.484326\" xlink:href=\"#m0adf60b35e\" y=\"444.436569\"/>\r\n     <use style=\"fill:#8dd3c7;fill-opacity:0.8;stroke:#8dd3c7;stroke-opacity:0.8;\" x=\"425.484326\" xlink:href=\"#m0adf60b35e\" y=\"444.436569\"/>\r\n     <use style=\"fill:#8dd3c7;fill-opacity:0.8;stroke:#8dd3c7;stroke-opacity:0.8;\" x=\"351.099443\" xlink:href=\"#m0adf60b35e\" y=\"487.765998\"/>\r\n     <use style=\"fill:#8dd3c7;fill-opacity:0.8;stroke:#8dd3c7;stroke-opacity:0.8;\" x=\"251.9196\" xlink:href=\"#m0adf60b35e\" y=\"469.425499\"/>\r\n     <use style=\"fill:#8dd3c7;fill-opacity:0.8;stroke:#8dd3c7;stroke-opacity:0.8;\" x=\"351.099443\" xlink:href=\"#m0adf60b35e\" y=\"474.583764\"/>\r\n     <use style=\"fill:#8dd3c7;fill-opacity:0.8;stroke:#8dd3c7;stroke-opacity:0.8;\" x=\"351.099443\" xlink:href=\"#m0adf60b35e\" y=\"472.291202\"/>\r\n     <use style=\"fill:#8dd3c7;fill-opacity:0.8;stroke:#8dd3c7;stroke-opacity:0.8;\" x=\"351.099443\" xlink:href=\"#m0adf60b35e\" y=\"466.559796\"/>\r\n     <use style=\"fill:#8dd3c7;fill-opacity:0.8;stroke:#8dd3c7;stroke-opacity:0.8;\" x=\"351.099443\" xlink:href=\"#m0adf60b35e\" y=\"467.132937\"/>\r\n     <use style=\"fill:#8dd3c7;fill-opacity:0.8;stroke:#8dd3c7;stroke-opacity:0.8;\" x=\"351.099443\" xlink:href=\"#m0adf60b35e\" y=\"461.401531\"/>\r\n     <use style=\"fill:#8dd3c7;fill-opacity:0.8;stroke:#8dd3c7;stroke-opacity:0.8;\" x=\"351.099443\" xlink:href=\"#m0adf60b35e\" y=\"464.840374\"/>\r\n     <use style=\"fill:#8dd3c7;fill-opacity:0.8;stroke:#8dd3c7;stroke-opacity:0.8;\" x=\"351.099443\" xlink:href=\"#m0adf60b35e\" y=\"459.108968\"/>\r\n     <use style=\"fill:#8dd3c7;fill-opacity:0.8;stroke:#8dd3c7;stroke-opacity:0.8;\" x=\"351.099443\" xlink:href=\"#m0adf60b35e\" y=\"456.243265\"/>\r\n     <use style=\"fill:#8dd3c7;fill-opacity:0.8;stroke:#8dd3c7;stroke-opacity:0.8;\" x=\"351.099443\" xlink:href=\"#m0adf60b35e\" y=\"448.219297\"/>\r\n     <use style=\"fill:#8dd3c7;fill-opacity:0.8;stroke:#8dd3c7;stroke-opacity:0.8;\" x=\"351.099443\" xlink:href=\"#m0adf60b35e\" y=\"441.34161\"/>\r\n     <use style=\"fill:#8dd3c7;fill-opacity:0.8;stroke:#8dd3c7;stroke-opacity:0.8;\" x=\"351.099443\" xlink:href=\"#m0adf60b35e\" y=\"396.063503\"/>\r\n     <use style=\"fill:#8dd3c7;fill-opacity:0.8;stroke:#8dd3c7;stroke-opacity:0.8;\" x=\"351.099443\" xlink:href=\"#m0adf60b35e\" y=\"385.746973\"/>\r\n     <use style=\"fill:#8dd3c7;fill-opacity:0.8;stroke:#8dd3c7;stroke-opacity:0.8;\" x=\"351.099443\" xlink:href=\"#m0adf60b35e\" y=\"396.063503\"/>\r\n     <use style=\"fill:#8dd3c7;fill-opacity:0.8;stroke:#8dd3c7;stroke-opacity:0.8;\" x=\"351.099443\" xlink:href=\"#m0adf60b35e\" y=\"353.6511\"/>\r\n     <use style=\"fill:#8dd3c7;fill-opacity:0.8;stroke:#8dd3c7;stroke-opacity:0.8;\" x=\"351.099443\" xlink:href=\"#m0adf60b35e\" y=\"324.99407\"/>\r\n     <use style=\"fill:#8dd3c7;fill-opacity:0.8;stroke:#8dd3c7;stroke-opacity:0.8;\" x=\"351.099443\" xlink:href=\"#m0adf60b35e\" y=\"339.895725\"/>\r\n     <use style=\"fill:#8dd3c7;fill-opacity:0.8;stroke:#8dd3c7;stroke-opacity:0.8;\" x=\"301.509522\" xlink:href=\"#m0adf60b35e\" y=\"414.392539\"/>\r\n     <use style=\"fill:#8dd3c7;fill-opacity:0.8;stroke:#8dd3c7;stroke-opacity:0.8;\" x=\"90.752354\" xlink:href=\"#m0adf60b35e\" y=\"399.490884\"/>\r\n     <use style=\"fill:#8dd3c7;fill-opacity:0.8;stroke:#8dd3c7;stroke-opacity:0.8;\" x=\"301.509522\" xlink:href=\"#m0adf60b35e\" y=\"408.202621\"/>\r\n     <use style=\"fill:#8dd3c7;fill-opacity:0.8;stroke:#8dd3c7;stroke-opacity:0.8;\" x=\"90.752354\" xlink:href=\"#m0adf60b35e\" y=\"391.925428\"/>\r\n     <use style=\"fill:#8dd3c7;fill-opacity:0.8;stroke:#8dd3c7;stroke-opacity:0.8;\" x=\"301.509522\" xlink:href=\"#m0adf60b35e\" y=\"372.209392\"/>\r\n     <use style=\"fill:#8dd3c7;fill-opacity:0.8;stroke:#8dd3c7;stroke-opacity:0.8;\" x=\"90.752354\" xlink:href=\"#m0adf60b35e\" y=\"357.07848\"/>\r\n     <use style=\"fill:#8dd3c7;fill-opacity:0.8;stroke:#8dd3c7;stroke-opacity:0.8;\" x=\"301.509522\" xlink:href=\"#m0adf60b35e\" y=\"359.428357\"/>\r\n     <use style=\"fill:#8dd3c7;fill-opacity:0.8;stroke:#8dd3c7;stroke-opacity:0.8;\" x=\"90.752354\" xlink:href=\"#m0adf60b35e\" y=\"355.072488\"/>\r\n     <use style=\"fill:#8dd3c7;fill-opacity:0.8;stroke:#8dd3c7;stroke-opacity:0.8;\" x=\"301.509522\" xlink:href=\"#m0adf60b35e\" y=\"360.17344\"/>\r\n     <use style=\"fill:#8dd3c7;fill-opacity:0.8;stroke:#8dd3c7;stroke-opacity:0.8;\" x=\"90.752354\" xlink:href=\"#m0adf60b35e\" y=\"345.042528\"/>\r\n     <use style=\"fill:#8dd3c7;fill-opacity:0.8;stroke:#8dd3c7;stroke-opacity:0.8;\" x=\"450.279287\" xlink:href=\"#m0adf60b35e\" y=\"342.749966\"/>\r\n     <use style=\"fill:#8dd3c7;fill-opacity:0.8;stroke:#8dd3c7;stroke-opacity:0.8;\" x=\"425.484326\" xlink:href=\"#m0adf60b35e\" y=\"486.929213\"/>\r\n     <use style=\"fill:#8dd3c7;fill-opacity:0.8;stroke:#8dd3c7;stroke-opacity:0.8;\" x=\"425.484326\" xlink:href=\"#m0adf60b35e\" y=\"459.590406\"/>\r\n     <use style=\"fill:#8dd3c7;fill-opacity:0.8;stroke:#8dd3c7;stroke-opacity:0.8;\" x=\"425.484326\" xlink:href=\"#m0adf60b35e\" y=\"479.398145\"/>\r\n     <use style=\"fill:#8dd3c7;fill-opacity:0.8;stroke:#8dd3c7;stroke-opacity:0.8;\" x=\"425.484326\" xlink:href=\"#m0adf60b35e\" y=\"474.090863\"/>\r\n     <use style=\"fill:#8dd3c7;fill-opacity:0.8;stroke:#8dd3c7;stroke-opacity:0.8;\" x=\"425.484326\" xlink:href=\"#m0adf60b35e\" y=\"463.579465\"/>\r\n     <use style=\"fill:#8dd3c7;fill-opacity:0.8;stroke:#8dd3c7;stroke-opacity:0.8;\" x=\"301.509522\" xlink:href=\"#m0adf60b35e\" y=\"448.540256\"/>\r\n     <use style=\"fill:#8dd3c7;fill-opacity:0.8;stroke:#8dd3c7;stroke-opacity:0.8;\" x=\"301.509522\" xlink:href=\"#m0adf60b35e\" y=\"404.48867\"/>\r\n     <use style=\"fill:#8dd3c7;fill-opacity:0.8;stroke:#8dd3c7;stroke-opacity:0.8;\" x=\"425.484326\" xlink:href=\"#m0adf60b35e\" y=\"298.411809\"/>\r\n     <use style=\"fill:#8dd3c7;fill-opacity:0.8;stroke:#8dd3c7;stroke-opacity:0.8;\" x=\"524.66417\" xlink:href=\"#m0adf60b35e\" y=\"177.937657\"/>\r\n     <use style=\"fill:#8dd3c7;fill-opacity:0.8;stroke:#8dd3c7;stroke-opacity:0.8;\" x=\"524.66417\" xlink:href=\"#m0adf60b35e\" y=\"160.74344\"/>\r\n     <use style=\"fill:#8dd3c7;fill-opacity:0.8;stroke:#8dd3c7;stroke-opacity:0.8;\" x=\"524.66417\" xlink:href=\"#m0adf60b35e\" y=\"126.355004\"/>\r\n     <use style=\"fill:#8dd3c7;fill-opacity:0.8;stroke:#8dd3c7;stroke-opacity:0.8;\" x=\"332.59483\" xlink:href=\"#m0adf60b35e\" y=\"444.253164\"/>\r\n     <use style=\"fill:#8dd3c7;fill-opacity:0.8;stroke:#8dd3c7;stroke-opacity:0.8;\" x=\"332.59483\" xlink:href=\"#m0adf60b35e\" y=\"437.375477\"/>\r\n     <use style=\"fill:#8dd3c7;fill-opacity:0.8;stroke:#8dd3c7;stroke-opacity:0.8;\" x=\"363.496924\" xlink:href=\"#m0adf60b35e\" y=\"414.96568\"/>\r\n     <use style=\"fill:#8dd3c7;fill-opacity:0.8;stroke:#8dd3c7;stroke-opacity:0.8;\" x=\"363.496924\" xlink:href=\"#m0adf60b35e\" y=\"411.29758\"/>\r\n     <use style=\"fill:#8dd3c7;fill-opacity:0.8;stroke:#8dd3c7;stroke-opacity:0.8;\" x=\"363.496924\" xlink:href=\"#m0adf60b35e\" y=\"378.39931\"/>\r\n     <use style=\"fill:#8dd3c7;fill-opacity:0.8;stroke:#8dd3c7;stroke-opacity:0.8;\" x=\"363.496924\" xlink:href=\"#m0adf60b35e\" y=\"373.011789\"/>\r\n     <use style=\"fill:#8dd3c7;fill-opacity:0.8;stroke:#8dd3c7;stroke-opacity:0.8;\" x=\"425.484326\" xlink:href=\"#m0adf60b35e\" y=\"342.749966\"/>\r\n     <use style=\"fill:#8dd3c7;fill-opacity:0.8;stroke:#8dd3c7;stroke-opacity:0.8;\" x=\"425.484326\" xlink:href=\"#m0adf60b35e\" y=\"337.362444\"/>\r\n     <use style=\"fill:#8dd3c7;fill-opacity:0.8;stroke:#8dd3c7;stroke-opacity:0.8;\" x=\"276.714561\" xlink:href=\"#m0adf60b35e\" y=\"492.133329\"/>\r\n     <use style=\"fill:#8dd3c7;fill-opacity:0.8;stroke:#8dd3c7;stroke-opacity:0.8;\" x=\"152.739756\" xlink:href=\"#m0adf60b35e\" y=\"469.952788\"/>\r\n     <use style=\"fill:#8dd3c7;fill-opacity:0.8;stroke:#8dd3c7;stroke-opacity:0.8;\" x=\"152.739756\" xlink:href=\"#m0adf60b35e\" y=\"463.648242\"/>\r\n     <use style=\"fill:#8dd3c7;fill-opacity:0.8;stroke:#8dd3c7;stroke-opacity:0.8;\" x=\"251.9196\" xlink:href=\"#m0adf60b35e\" y=\"469.116003\"/>\r\n     <use style=\"fill:#8dd3c7;fill-opacity:0.8;stroke:#8dd3c7;stroke-opacity:0.8;\" x=\"152.739756\" xlink:href=\"#m0adf60b35e\" y=\"461.676638\"/>\r\n     <use style=\"fill:#8dd3c7;fill-opacity:0.8;stroke:#8dd3c7;stroke-opacity:0.8;\" x=\"351.099443\" xlink:href=\"#m0adf60b35e\" y=\"436.630394\"/>\r\n     <use style=\"fill:#8dd3c7;fill-opacity:0.8;stroke:#8dd3c7;stroke-opacity:0.8;\" x=\"251.9196\" xlink:href=\"#m0adf60b35e\" y=\"444.963859\"/>\r\n     <use style=\"fill:#8dd3c7;fill-opacity:0.8;stroke:#8dd3c7;stroke-opacity:0.8;\" x=\"251.9196\" xlink:href=\"#m0adf60b35e\" y=\"421.740202\"/>\r\n     <use style=\"fill:#8dd3c7;fill-opacity:0.8;stroke:#8dd3c7;stroke-opacity:0.8;\" x=\"251.9196\" xlink:href=\"#m0adf60b35e\" y=\"465.253035\"/>\r\n     <use style=\"fill:#8dd3c7;fill-opacity:0.8;stroke:#8dd3c7;stroke-opacity:0.8;\" x=\"351.099443\" xlink:href=\"#m0adf60b35e\" y=\"433.902245\"/>\r\n     <use style=\"fill:#8dd3c7;fill-opacity:0.8;stroke:#8dd3c7;stroke-opacity:0.8;\" x=\"251.9196\" xlink:href=\"#m0adf60b35e\" y=\"458.948489\"/>\r\n     <use style=\"fill:#8dd3c7;fill-opacity:0.8;stroke:#8dd3c7;stroke-opacity:0.8;\" x=\"251.9196\" xlink:href=\"#m0adf60b35e\" y=\"416.753879\"/>\r\n     <use style=\"fill:#8dd3c7;fill-opacity:0.8;stroke:#8dd3c7;stroke-opacity:0.8;\" x=\"251.9196\" xlink:href=\"#m0adf60b35e\" y=\"489.496882\"/>\r\n     <use style=\"fill:#8dd3c7;fill-opacity:0.8;stroke:#8dd3c7;stroke-opacity:0.8;\" x=\"251.9196\" xlink:href=\"#m0adf60b35e\" y=\"478.148699\"/>\r\n     <use style=\"fill:#8dd3c7;fill-opacity:0.8;stroke:#8dd3c7;stroke-opacity:0.8;\" x=\"251.9196\" xlink:href=\"#m0adf60b35e\" y=\"476.429277\"/>\r\n     <use style=\"fill:#8dd3c7;fill-opacity:0.8;stroke:#8dd3c7;stroke-opacity:0.8;\" x=\"251.9196\" xlink:href=\"#m0adf60b35e\" y=\"471.500268\"/>\r\n     <use style=\"fill:#8dd3c7;fill-opacity:0.8;stroke:#8dd3c7;stroke-opacity:0.8;\" x=\"251.9196\" xlink:href=\"#m0adf60b35e\" y=\"460.266712\"/>\r\n     <use style=\"fill:#8dd3c7;fill-opacity:0.8;stroke:#8dd3c7;stroke-opacity:0.8;\" x=\"251.9196\" xlink:href=\"#m0adf60b35e\" y=\"450.179438\"/>\r\n     <use style=\"fill:#8dd3c7;fill-opacity:0.8;stroke:#8dd3c7;stroke-opacity:0.8;\" x=\"251.9196\" xlink:href=\"#m0adf60b35e\" y=\"471.271012\"/>\r\n     <use style=\"fill:#8dd3c7;fill-opacity:0.8;stroke:#8dd3c7;stroke-opacity:0.8;\" x=\"251.9196\" xlink:href=\"#m0adf60b35e\" y=\"468.290681\"/>\r\n     <use style=\"fill:#8dd3c7;fill-opacity:0.8;stroke:#8dd3c7;stroke-opacity:0.8;\" x=\"177.534717\" xlink:href=\"#m0adf60b35e\" y=\"460.266712\"/>\r\n     <use style=\"fill:#8dd3c7;fill-opacity:0.8;stroke:#8dd3c7;stroke-opacity:0.8;\" x=\"177.534717\" xlink:href=\"#m0adf60b35e\" y=\"461.527622\"/>\r\n     <use style=\"fill:#8dd3c7;fill-opacity:0.8;stroke:#8dd3c7;stroke-opacity:0.8;\" x=\"251.9196\" xlink:href=\"#m0adf60b35e\" y=\"462.100762\"/>\r\n     <use style=\"fill:#8dd3c7;fill-opacity:0.8;stroke:#8dd3c7;stroke-opacity:0.8;\" x=\"251.9196\" xlink:href=\"#m0adf60b35e\" y=\"454.993819\"/>\r\n     <use style=\"fill:#8dd3c7;fill-opacity:0.8;stroke:#8dd3c7;stroke-opacity:0.8;\" x=\"251.9196\" xlink:href=\"#m0adf60b35e\" y=\"444.677288\"/>\r\n     <use style=\"fill:#8dd3c7;fill-opacity:0.8;stroke:#8dd3c7;stroke-opacity:0.8;\" x=\"251.9196\" xlink:href=\"#m0adf60b35e\" y=\"458.432662\"/>\r\n     <use style=\"fill:#8dd3c7;fill-opacity:0.8;stroke:#8dd3c7;stroke-opacity:0.8;\" x=\"251.9196\" xlink:href=\"#m0adf60b35e\" y=\"456.369356\"/>\r\n     <use style=\"fill:#8dd3c7;fill-opacity:0.8;stroke:#8dd3c7;stroke-opacity:0.8;\" x=\"698.228896\" xlink:href=\"#m0adf60b35e\" y=\"444.218776\"/>\r\n     <use style=\"fill:#8dd3c7;fill-opacity:0.8;stroke:#8dd3c7;stroke-opacity:0.8;\" x=\"698.228896\" xlink:href=\"#m0adf60b35e\" y=\"441.467701\"/>\r\n     <use style=\"fill:#8dd3c7;fill-opacity:0.8;stroke:#8dd3c7;stroke-opacity:0.8;\" x=\"251.9196\" xlink:href=\"#m0adf60b35e\" y=\"453.950703\"/>\r\n     <use style=\"fill:#8dd3c7;fill-opacity:0.8;stroke:#8dd3c7;stroke-opacity:0.8;\" x=\"251.9196\" xlink:href=\"#m0adf60b35e\" y=\"440.309957\"/>\r\n     <use style=\"fill:#8dd3c7;fill-opacity:0.8;stroke:#8dd3c7;stroke-opacity:0.8;\" x=\"251.9196\" xlink:href=\"#m0adf60b35e\" y=\"436.297973\"/>\r\n     <use style=\"fill:#8dd3c7;fill-opacity:0.8;stroke:#8dd3c7;stroke-opacity:0.8;\" x=\"251.9196\" xlink:href=\"#m0adf60b35e\" y=\"422.42797\"/>\r\n     <use style=\"fill:#8dd3c7;fill-opacity:0.8;stroke:#8dd3c7;stroke-opacity:0.8;\" x=\"251.9196\" xlink:href=\"#m0adf60b35e\" y=\"418.415986\"/>\r\n     <use style=\"fill:#8dd3c7;fill-opacity:0.8;stroke:#8dd3c7;stroke-opacity:0.8;\" x=\"251.9196\" xlink:href=\"#m0adf60b35e\" y=\"348.263578\"/>\r\n     <use style=\"fill:#8dd3c7;fill-opacity:0.8;stroke:#8dd3c7;stroke-opacity:0.8;\" x=\"103.149834\" xlink:href=\"#m0adf60b35e\" y=\"448.23076\"/>\r\n     <use style=\"fill:#8dd3c7;fill-opacity:0.8;stroke:#8dd3c7;stroke-opacity:0.8;\" x=\"177.534717\" xlink:href=\"#m0adf60b35e\" y=\"428.170839\"/>\r\n     <use style=\"fill:#8dd3c7;fill-opacity:0.8;stroke:#8dd3c7;stroke-opacity:0.8;\" x=\"103.149834\" xlink:href=\"#m0adf60b35e\" y=\"436.309436\"/>\r\n     <use style=\"fill:#8dd3c7;fill-opacity:0.8;stroke:#8dd3c7;stroke-opacity:0.8;\" x=\"103.149834\" xlink:href=\"#m0adf60b35e\" y=\"425.878277\"/>\r\n     <use style=\"fill:#8dd3c7;fill-opacity:0.8;stroke:#8dd3c7;stroke-opacity:0.8;\" x=\"103.149834\" xlink:href=\"#m0adf60b35e\" y=\"421.866293\"/>\r\n     <use style=\"fill:#8dd3c7;fill-opacity:0.8;stroke:#8dd3c7;stroke-opacity:0.8;\" x=\"351.099443\" xlink:href=\"#m0adf60b35e\" y=\"360.998762\"/>\r\n     <use style=\"fill:#8dd3c7;fill-opacity:0.8;stroke:#8dd3c7;stroke-opacity:0.8;\" x=\"351.099443\" xlink:href=\"#m0adf60b35e\" y=\"367.417937\"/>\r\n     <use style=\"fill:#8dd3c7;fill-opacity:0.8;stroke:#8dd3c7;stroke-opacity:0.8;\" x=\"351.099443\" xlink:href=\"#m0adf60b35e\" y=\"370.948483\"/>\r\n     <use style=\"fill:#8dd3c7;fill-opacity:0.8;stroke:#8dd3c7;stroke-opacity:0.8;\" x=\"351.099443\" xlink:href=\"#m0adf60b35e\" y=\"370.260714\"/>\r\n     <use style=\"fill:#8dd3c7;fill-opacity:0.8;stroke:#8dd3c7;stroke-opacity:0.8;\" x=\"251.9196\" xlink:href=\"#m0adf60b35e\" y=\"461.676638\"/>\r\n     <use style=\"fill:#8dd3c7;fill-opacity:0.8;stroke:#8dd3c7;stroke-opacity:0.8;\" x=\"363.496924\" xlink:href=\"#m0adf60b35e\" y=\"459.384076\"/>\r\n     <use style=\"fill:#8dd3c7;fill-opacity:0.8;stroke:#8dd3c7;stroke-opacity:0.8;\" x=\"251.9196\" xlink:href=\"#m0adf60b35e\" y=\"459.15482\"/>\r\n     <use style=\"fill:#8dd3c7;fill-opacity:0.8;stroke:#8dd3c7;stroke-opacity:0.8;\" x=\"363.496924\" xlink:href=\"#m0adf60b35e\" y=\"456.862257\"/>\r\n     <use style=\"fill:#8dd3c7;fill-opacity:0.8;stroke:#8dd3c7;stroke-opacity:0.8;\" x=\"363.496924\" xlink:href=\"#m0adf60b35e\" y=\"453.423414\"/>\r\n     <use style=\"fill:#8dd3c7;fill-opacity:0.8;stroke:#8dd3c7;stroke-opacity:0.8;\" x=\"177.534717\" xlink:href=\"#m0adf60b35e\" y=\"441.960602\"/>\r\n     <use style=\"fill:#8dd3c7;fill-opacity:0.8;stroke:#8dd3c7;stroke-opacity:0.8;\" x=\"425.484326\" xlink:href=\"#m0adf60b35e\" y=\"436.229196\"/>\r\n     <use style=\"fill:#8dd3c7;fill-opacity:0.8;stroke:#8dd3c7;stroke-opacity:0.8;\" x=\"425.484326\" xlink:href=\"#m0adf60b35e\" y=\"417.888697\"/>\r\n     <use style=\"fill:#8dd3c7;fill-opacity:0.8;stroke:#8dd3c7;stroke-opacity:0.8;\" x=\"425.484326\" xlink:href=\"#m0adf60b35e\" y=\"436.401138\"/>\r\n     <use style=\"fill:#8dd3c7;fill-opacity:0.8;stroke:#8dd3c7;stroke-opacity:0.8;\" x=\"425.484326\" xlink:href=\"#m0adf60b35e\" y=\"398.401917\"/>\r\n     <use style=\"fill:#8dd3c7;fill-opacity:0.8;stroke:#8dd3c7;stroke-opacity:0.8;\" x=\"177.534717\" xlink:href=\"#m0adf60b35e\" y=\"392.09737\"/>\r\n     <use style=\"fill:#8dd3c7;fill-opacity:0.8;stroke:#8dd3c7;stroke-opacity:0.8;\" x=\"425.484326\" xlink:href=\"#m0adf60b35e\" y=\"409.922043\"/>\r\n     <use style=\"fill:#8dd3c7;fill-opacity:0.8;stroke:#8dd3c7;stroke-opacity:0.8;\" x=\"400.689365\" xlink:href=\"#m0adf60b35e\" y=\"402.471215\"/>\r\n     <use style=\"fill:#8dd3c7;fill-opacity:0.8;stroke:#8dd3c7;stroke-opacity:0.8;\" x=\"400.689365\" xlink:href=\"#m0adf60b35e\" y=\"397.02638\"/>\r\n     <use style=\"fill:#8dd3c7;fill-opacity:0.8;stroke:#8dd3c7;stroke-opacity:0.8;\" x=\"400.689365\" xlink:href=\"#m0adf60b35e\" y=\"367.566953\"/>\r\n     <use style=\"fill:#8dd3c7;fill-opacity:0.8;stroke:#8dd3c7;stroke-opacity:0.8;\" x=\"400.689365\" xlink:href=\"#m0adf60b35e\" y=\"361.491663\"/>\r\n     <use style=\"fill:#8dd3c7;fill-opacity:0.8;stroke:#8dd3c7;stroke-opacity:0.8;\" x=\"326.304483\" xlink:href=\"#m0adf60b35e\" y=\"339.655006\"/>\r\n     <use style=\"fill:#8dd3c7;fill-opacity:0.8;stroke:#8dd3c7;stroke-opacity:0.8;\" x=\"326.304483\" xlink:href=\"#m0adf60b35e\" y=\"333.579716\"/>\r\n     <use style=\"fill:#8dd3c7;fill-opacity:0.8;stroke:#8dd3c7;stroke-opacity:0.8;\" x=\"400.689365\" xlink:href=\"#m0adf60b35e\" y=\"357.708935\"/>\r\n     <use style=\"fill:#8dd3c7;fill-opacity:0.8;stroke:#8dd3c7;stroke-opacity:0.8;\" x=\"375.894404\" xlink:href=\"#m0adf60b35e\" y=\"332.490749\"/>\r\n     <use style=\"fill:#8dd3c7;fill-opacity:0.8;stroke:#8dd3c7;stroke-opacity:0.8;\" x=\"425.484326\" xlink:href=\"#m0adf60b35e\" y=\"304.521488\"/>\r\n     <use style=\"fill:#8dd3c7;fill-opacity:0.8;stroke:#8dd3c7;stroke-opacity:0.8;\" x=\"251.9196\" xlink:href=\"#m0adf60b35e\" y=\"293.230619\"/>\r\n     <use style=\"fill:#8dd3c7;fill-opacity:0.8;stroke:#8dd3c7;stroke-opacity:0.8;\" x=\"400.689365\" xlink:href=\"#m0adf60b35e\" y=\"291.453883\"/>\r\n    </g>\r\n   </g>\r\n   <g id=\"PolyCollection_1\">\r\n    <path clip-path=\"url(#p06141a8b70)\" d=\"M 59.690625 341.871975 \r\nL 59.690625 414.000137 \r\nL 66.454261 413.753718 \r\nL 73.217898 413.507298 \r\nL 79.981534 413.260879 \r\nL 86.74517 413.014029 \r\nL 93.508807 412.818155 \r\nL 100.272443 412.555061 \r\nL 107.03608 412.287568 \r\nL 113.799716 412.025006 \r\nL 120.563352 411.761592 \r\nL 127.326989 411.498089 \r\nL 134.090625 411.234586 \r\nL 140.854261 410.970719 \r\nL 147.617898 410.438487 \r\nL 154.381534 410.444078 \r\nL 161.14517 410.272524 \r\nL 167.908807 410.052024 \r\nL 174.672443 410.031885 \r\nL 181.43608 409.875127 \r\nL 188.199716 409.650146 \r\nL 194.963352 409.520191 \r\nL 201.726989 409.510164 \r\nL 208.490625 409.477664 \r\nL 215.254261 409.351602 \r\nL 222.017898 409.303971 \r\nL 228.781534 409.330679 \r\nL 235.54517 409.222383 \r\nL 242.308807 408.94386 \r\nL 249.072443 408.828047 \r\nL 255.83608 409.16542 \r\nL 262.599716 409.46284 \r\nL 269.363352 409.507918 \r\nL 276.126989 409.518916 \r\nL 282.890625 409.50611 \r\nL 289.654261 409.506574 \r\nL 296.417898 409.732213 \r\nL 303.181534 410.098901 \r\nL 309.94517 410.380766 \r\nL 316.708807 410.864829 \r\nL 323.472443 411.37285 \r\nL 330.23608 411.920208 \r\nL 336.999716 412.4048 \r\nL 343.763352 413.03145 \r\nL 350.526989 413.753599 \r\nL 357.290625 414.297588 \r\nL 364.054261 414.807055 \r\nL 370.817898 415.541282 \r\nL 377.581534 416.398637 \r\nL 384.34517 417.052275 \r\nL 391.108807 417.660561 \r\nL 397.872443 418.485728 \r\nL 404.63608 419.285772 \r\nL 411.399716 419.98723 \r\nL 418.163352 420.973129 \r\nL 424.926989 421.981094 \r\nL 431.690625 423.048919 \r\nL 438.454261 424.06296 \r\nL 445.217898 425.357943 \r\nL 451.981534 426.19158 \r\nL 458.74517 427.167506 \r\nL 465.508807 428.053452 \r\nL 472.272443 429.05764 \r\nL 479.03608 430.065319 \r\nL 485.799716 431.331451 \r\nL 492.563352 432.64427 \r\nL 499.326989 434.036092 \r\nL 506.090625 435.255966 \r\nL 512.854261 436.562723 \r\nL 519.617898 437.773258 \r\nL 526.381534 438.843309 \r\nL 533.14517 439.934503 \r\nL 539.908807 441.004896 \r\nL 546.672443 442.075289 \r\nL 553.43608 443.226078 \r\nL 560.199716 444.45255 \r\nL 566.963352 445.816922 \r\nL 573.726989 446.877144 \r\nL 580.490625 448.077443 \r\nL 587.254261 449.548981 \r\nL 594.017898 450.76743 \r\nL 600.781534 452.191179 \r\nL 607.54517 453.644066 \r\nL 614.308807 454.828595 \r\nL 621.072443 455.884995 \r\nL 627.83608 456.935424 \r\nL 634.599716 458.113348 \r\nL 641.363352 459.379754 \r\nL 648.126989 460.646159 \r\nL 654.890625 461.912565 \r\nL 661.654261 463.23805 \r\nL 668.417898 464.455584 \r\nL 675.181534 465.73003 \r\nL 681.94517 466.999482 \r\nL 688.708807 468.265512 \r\nL 695.472443 469.531543 \r\nL 702.23608 470.797573 \r\nL 708.999716 472.063603 \r\nL 715.763352 473.329634 \r\nL 722.526989 474.664619 \r\nL 729.290625 475.940601 \r\nL 729.290625 382.642445 \r\nL 729.290625 382.642445 \r\nL 722.526989 382.864769 \r\nL 715.763352 383.029632 \r\nL 708.999716 383.20839 \r\nL 702.23608 383.404491 \r\nL 695.472443 383.602913 \r\nL 688.708807 383.812761 \r\nL 681.94517 384.187481 \r\nL 675.181534 384.421034 \r\nL 668.417898 384.643358 \r\nL 661.654261 384.865682 \r\nL 654.890625 385.088005 \r\nL 648.126989 385.310329 \r\nL 641.363352 385.532653 \r\nL 634.599716 385.756759 \r\nL 627.83608 385.981023 \r\nL 621.072443 386.205287 \r\nL 614.308807 386.429551 \r\nL 607.54517 386.653815 \r\nL 600.781534 386.878079 \r\nL 594.017898 387.120857 \r\nL 587.254261 387.336681 \r\nL 580.490625 387.617868 \r\nL 573.726989 387.908211 \r\nL 566.963352 387.990973 \r\nL 560.199716 388.207758 \r\nL 553.43608 388.424542 \r\nL 546.672443 388.649489 \r\nL 539.908807 388.668391 \r\nL 533.14517 388.635792 \r\nL 526.381534 388.907571 \r\nL 519.617898 389.333693 \r\nL 512.854261 389.687873 \r\nL 506.090625 389.723799 \r\nL 499.326989 389.994761 \r\nL 492.563352 390.23425 \r\nL 485.799716 389.923019 \r\nL 479.03608 389.912584 \r\nL 472.272443 390.058889 \r\nL 465.508807 390.025275 \r\nL 458.74517 390.299968 \r\nL 451.981534 390.669206 \r\nL 445.217898 390.681689 \r\nL 438.454261 390.709102 \r\nL 431.690625 390.985621 \r\nL 424.926989 390.859554 \r\nL 418.163352 390.745269 \r\nL 411.399716 391.011835 \r\nL 404.63608 390.659268 \r\nL 397.872443 390.528053 \r\nL 391.108807 390.165863 \r\nL 384.34517 389.828251 \r\nL 377.581534 389.68575 \r\nL 370.817898 389.632105 \r\nL 364.054261 389.359991 \r\nL 357.290625 388.748541 \r\nL 350.526989 388.61761 \r\nL 343.763352 388.263991 \r\nL 336.999716 387.601424 \r\nL 330.23608 387.056698 \r\nL 323.472443 386.636081 \r\nL 316.708807 385.856378 \r\nL 309.94517 384.713502 \r\nL 303.181534 384.070224 \r\nL 296.417898 383.516615 \r\nL 289.654261 382.656763 \r\nL 282.890625 381.342475 \r\nL 276.126989 380.33176 \r\nL 269.363352 379.521685 \r\nL 262.599716 378.311327 \r\nL 255.83608 377.090936 \r\nL 249.072443 376.390983 \r\nL 242.308807 375.087301 \r\nL 235.54517 374.204689 \r\nL 228.781534 373.309785 \r\nL 222.017898 372.037637 \r\nL 215.254261 370.742191 \r\nL 208.490625 369.577864 \r\nL 201.726989 368.577353 \r\nL 194.963352 367.3207 \r\nL 188.199716 365.866209 \r\nL 181.43608 364.345441 \r\nL 174.672443 363.010526 \r\nL 167.908807 361.623243 \r\nL 161.14517 360.316926 \r\nL 154.381534 359.012347 \r\nL 147.617898 357.708632 \r\nL 140.854261 356.507779 \r\nL 134.090625 355.394871 \r\nL 127.326989 354.283876 \r\nL 120.563352 353.172881 \r\nL 113.799716 352.061886 \r\nL 107.03608 350.950891 \r\nL 100.272443 349.800176 \r\nL 93.508807 348.471543 \r\nL 86.74517 347.142921 \r\nL 79.981534 345.820653 \r\nL 73.217898 344.546933 \r\nL 66.454261 343.1626 \r\nL 59.690625 341.871975 \r\nz\r\n\" style=\"fill:#8dd3c7;fill-opacity:0.15;\"/>\r\n   </g>\r\n   <g id=\"matplotlib.axis_1\">\r\n    <g id=\"xtick_1\">\r\n     <g id=\"line2d_1\">\r\n      <defs>\r\n       <path d=\"M 0 0 \r\nL 0 3.5 \r\n\" id=\"m2d8cd9a76c\" style=\"stroke:#ffffff;stroke-width:0.8;\"/>\r\n      </defs>\r\n      <g>\r\n       <use style=\"fill:#ffffff;stroke:#ffffff;stroke-width:0.8;\" x=\"177.534717\" xlink:href=\"#m2d8cd9a76c\" y=\"550.8\"/>\r\n      </g>\r\n     </g>\r\n     <g id=\"text_1\">\r\n      <!-- 4500 -->\r\n      <defs>\r\n       <path d=\"M 37.796875 64.3125 \r\nL 12.890625 25.390625 \r\nL 37.796875 25.390625 \r\nz\r\nM 35.203125 72.90625 \r\nL 47.609375 72.90625 \r\nL 47.609375 25.390625 \r\nL 58.015625 25.390625 \r\nL 58.015625 17.1875 \r\nL 47.609375 17.1875 \r\nL 47.609375 0 \r\nL 37.796875 0 \r\nL 37.796875 17.1875 \r\nL 4.890625 17.1875 \r\nL 4.890625 26.703125 \r\nz\r\n\" id=\"DejaVuSans-52\"/>\r\n       <path d=\"M 10.796875 72.90625 \r\nL 49.515625 72.90625 \r\nL 49.515625 64.59375 \r\nL 19.828125 64.59375 \r\nL 19.828125 46.734375 \r\nQ 21.96875 47.46875 24.109375 47.828125 \r\nQ 26.265625 48.1875 28.421875 48.1875 \r\nQ 40.625 48.1875 47.75 41.5 \r\nQ 54.890625 34.8125 54.890625 23.390625 \r\nQ 54.890625 11.625 47.5625 5.09375 \r\nQ 40.234375 -1.421875 26.90625 -1.421875 \r\nQ 22.3125 -1.421875 17.546875 -0.640625 \r\nQ 12.796875 0.140625 7.71875 1.703125 \r\nL 7.71875 11.625 \r\nQ 12.109375 9.234375 16.796875 8.0625 \r\nQ 21.484375 6.890625 26.703125 6.890625 \r\nQ 35.15625 6.890625 40.078125 11.328125 \r\nQ 45.015625 15.765625 45.015625 23.390625 \r\nQ 45.015625 31 40.078125 35.4375 \r\nQ 35.15625 39.890625 26.703125 39.890625 \r\nQ 22.75 39.890625 18.8125 39.015625 \r\nQ 14.890625 38.140625 10.796875 36.28125 \r\nz\r\n\" id=\"DejaVuSans-53\"/>\r\n       <path d=\"M 31.78125 66.40625 \r\nQ 24.171875 66.40625 20.328125 58.90625 \r\nQ 16.5 51.421875 16.5 36.375 \r\nQ 16.5 21.390625 20.328125 13.890625 \r\nQ 24.171875 6.390625 31.78125 6.390625 \r\nQ 39.453125 6.390625 43.28125 13.890625 \r\nQ 47.125 21.390625 47.125 36.375 \r\nQ 47.125 51.421875 43.28125 58.90625 \r\nQ 39.453125 66.40625 31.78125 66.40625 \r\nz\r\nM 31.78125 74.21875 \r\nQ 44.046875 74.21875 50.515625 64.515625 \r\nQ 56.984375 54.828125 56.984375 36.375 \r\nQ 56.984375 17.96875 50.515625 8.265625 \r\nQ 44.046875 -1.421875 31.78125 -1.421875 \r\nQ 19.53125 -1.421875 13.0625 8.265625 \r\nQ 6.59375 17.96875 6.59375 36.375 \r\nQ 6.59375 54.828125 13.0625 64.515625 \r\nQ 19.53125 74.21875 31.78125 74.21875 \r\nz\r\n\" id=\"DejaVuSans-48\"/>\r\n      </defs>\r\n      <g style=\"fill:#ffffff;\" transform=\"translate(164.809717 565.398438)scale(0.1 -0.1)\">\r\n       <use xlink:href=\"#DejaVuSans-52\"/>\r\n       <use x=\"63.623047\" xlink:href=\"#DejaVuSans-53\"/>\r\n       <use x=\"127.246094\" xlink:href=\"#DejaVuSans-48\"/>\r\n       <use x=\"190.869141\" xlink:href=\"#DejaVuSans-48\"/>\r\n      </g>\r\n     </g>\r\n    </g>\r\n    <g id=\"xtick_2\">\r\n     <g id=\"line2d_2\">\r\n      <g>\r\n       <use style=\"fill:#ffffff;stroke:#ffffff;stroke-width:0.8;\" x=\"301.509522\" xlink:href=\"#m2d8cd9a76c\" y=\"550.8\"/>\r\n      </g>\r\n     </g>\r\n     <g id=\"text_2\">\r\n      <!-- 5000 -->\r\n      <g style=\"fill:#ffffff;\" transform=\"translate(288.784522 565.398438)scale(0.1 -0.1)\">\r\n       <use xlink:href=\"#DejaVuSans-53\"/>\r\n       <use x=\"63.623047\" xlink:href=\"#DejaVuSans-48\"/>\r\n       <use x=\"127.246094\" xlink:href=\"#DejaVuSans-48\"/>\r\n       <use x=\"190.869141\" xlink:href=\"#DejaVuSans-48\"/>\r\n      </g>\r\n     </g>\r\n    </g>\r\n    <g id=\"xtick_3\">\r\n     <g id=\"line2d_3\">\r\n      <g>\r\n       <use style=\"fill:#ffffff;stroke:#ffffff;stroke-width:0.8;\" x=\"425.484326\" xlink:href=\"#m2d8cd9a76c\" y=\"550.8\"/>\r\n      </g>\r\n     </g>\r\n     <g id=\"text_3\">\r\n      <!-- 5500 -->\r\n      <g style=\"fill:#ffffff;\" transform=\"translate(412.759326 565.398438)scale(0.1 -0.1)\">\r\n       <use xlink:href=\"#DejaVuSans-53\"/>\r\n       <use x=\"63.623047\" xlink:href=\"#DejaVuSans-53\"/>\r\n       <use x=\"127.246094\" xlink:href=\"#DejaVuSans-48\"/>\r\n       <use x=\"190.869141\" xlink:href=\"#DejaVuSans-48\"/>\r\n      </g>\r\n     </g>\r\n    </g>\r\n    <g id=\"xtick_4\">\r\n     <g id=\"line2d_4\">\r\n      <g>\r\n       <use style=\"fill:#ffffff;stroke:#ffffff;stroke-width:0.8;\" x=\"549.459131\" xlink:href=\"#m2d8cd9a76c\" y=\"550.8\"/>\r\n      </g>\r\n     </g>\r\n     <g id=\"text_4\">\r\n      <!-- 6000 -->\r\n      <defs>\r\n       <path d=\"M 33.015625 40.375 \r\nQ 26.375 40.375 22.484375 35.828125 \r\nQ 18.609375 31.296875 18.609375 23.390625 \r\nQ 18.609375 15.53125 22.484375 10.953125 \r\nQ 26.375 6.390625 33.015625 6.390625 \r\nQ 39.65625 6.390625 43.53125 10.953125 \r\nQ 47.40625 15.53125 47.40625 23.390625 \r\nQ 47.40625 31.296875 43.53125 35.828125 \r\nQ 39.65625 40.375 33.015625 40.375 \r\nz\r\nM 52.59375 71.296875 \r\nL 52.59375 62.3125 \r\nQ 48.875 64.0625 45.09375 64.984375 \r\nQ 41.3125 65.921875 37.59375 65.921875 \r\nQ 27.828125 65.921875 22.671875 59.328125 \r\nQ 17.53125 52.734375 16.796875 39.40625 \r\nQ 19.671875 43.65625 24.015625 45.921875 \r\nQ 28.375 48.1875 33.59375 48.1875 \r\nQ 44.578125 48.1875 50.953125 41.515625 \r\nQ 57.328125 34.859375 57.328125 23.390625 \r\nQ 57.328125 12.15625 50.6875 5.359375 \r\nQ 44.046875 -1.421875 33.015625 -1.421875 \r\nQ 20.359375 -1.421875 13.671875 8.265625 \r\nQ 6.984375 17.96875 6.984375 36.375 \r\nQ 6.984375 53.65625 15.1875 63.9375 \r\nQ 23.390625 74.21875 37.203125 74.21875 \r\nQ 40.921875 74.21875 44.703125 73.484375 \r\nQ 48.484375 72.75 52.59375 71.296875 \r\nz\r\n\" id=\"DejaVuSans-54\"/>\r\n      </defs>\r\n      <g style=\"fill:#ffffff;\" transform=\"translate(536.734131 565.398438)scale(0.1 -0.1)\">\r\n       <use xlink:href=\"#DejaVuSans-54\"/>\r\n       <use x=\"63.623047\" xlink:href=\"#DejaVuSans-48\"/>\r\n       <use x=\"127.246094\" xlink:href=\"#DejaVuSans-48\"/>\r\n       <use x=\"190.869141\" xlink:href=\"#DejaVuSans-48\"/>\r\n      </g>\r\n     </g>\r\n    </g>\r\n    <g id=\"xtick_5\">\r\n     <g id=\"line2d_5\">\r\n      <g>\r\n       <use style=\"fill:#ffffff;stroke:#ffffff;stroke-width:0.8;\" x=\"673.433935\" xlink:href=\"#m2d8cd9a76c\" y=\"550.8\"/>\r\n      </g>\r\n     </g>\r\n     <g id=\"text_5\">\r\n      <!-- 6500 -->\r\n      <g style=\"fill:#ffffff;\" transform=\"translate(660.708935 565.398438)scale(0.1 -0.1)\">\r\n       <use xlink:href=\"#DejaVuSans-54\"/>\r\n       <use x=\"63.623047\" xlink:href=\"#DejaVuSans-53\"/>\r\n       <use x=\"127.246094\" xlink:href=\"#DejaVuSans-48\"/>\r\n       <use x=\"190.869141\" xlink:href=\"#DejaVuSans-48\"/>\r\n      </g>\r\n     </g>\r\n    </g>\r\n    <g id=\"text_6\">\r\n     <!-- peak-rpm -->\r\n     <defs>\r\n      <path d=\"M 18.109375 8.203125 \r\nL 18.109375 -20.796875 \r\nL 9.078125 -20.796875 \r\nL 9.078125 54.6875 \r\nL 18.109375 54.6875 \r\nL 18.109375 46.390625 \r\nQ 20.953125 51.265625 25.265625 53.625 \r\nQ 29.59375 56 35.59375 56 \r\nQ 45.5625 56 51.78125 48.09375 \r\nQ 58.015625 40.1875 58.015625 27.296875 \r\nQ 58.015625 14.40625 51.78125 6.484375 \r\nQ 45.5625 -1.421875 35.59375 -1.421875 \r\nQ 29.59375 -1.421875 25.265625 0.953125 \r\nQ 20.953125 3.328125 18.109375 8.203125 \r\nz\r\nM 48.6875 27.296875 \r\nQ 48.6875 37.203125 44.609375 42.84375 \r\nQ 40.53125 48.484375 33.40625 48.484375 \r\nQ 26.265625 48.484375 22.1875 42.84375 \r\nQ 18.109375 37.203125 18.109375 27.296875 \r\nQ 18.109375 17.390625 22.1875 11.75 \r\nQ 26.265625 6.109375 33.40625 6.109375 \r\nQ 40.53125 6.109375 44.609375 11.75 \r\nQ 48.6875 17.390625 48.6875 27.296875 \r\nz\r\n\" id=\"DejaVuSans-112\"/>\r\n      <path d=\"M 56.203125 29.59375 \r\nL 56.203125 25.203125 \r\nL 14.890625 25.203125 \r\nQ 15.484375 15.921875 20.484375 11.0625 \r\nQ 25.484375 6.203125 34.421875 6.203125 \r\nQ 39.59375 6.203125 44.453125 7.46875 \r\nQ 49.3125 8.734375 54.109375 11.28125 \r\nL 54.109375 2.78125 \r\nQ 49.265625 0.734375 44.1875 -0.34375 \r\nQ 39.109375 -1.421875 33.890625 -1.421875 \r\nQ 20.796875 -1.421875 13.15625 6.1875 \r\nQ 5.515625 13.8125 5.515625 26.8125 \r\nQ 5.515625 40.234375 12.765625 48.109375 \r\nQ 20.015625 56 32.328125 56 \r\nQ 43.359375 56 49.78125 48.890625 \r\nQ 56.203125 41.796875 56.203125 29.59375 \r\nz\r\nM 47.21875 32.234375 \r\nQ 47.125 39.59375 43.09375 43.984375 \r\nQ 39.0625 48.390625 32.421875 48.390625 \r\nQ 24.90625 48.390625 20.390625 44.140625 \r\nQ 15.875 39.890625 15.1875 32.171875 \r\nz\r\n\" id=\"DejaVuSans-101\"/>\r\n      <path d=\"M 34.28125 27.484375 \r\nQ 23.390625 27.484375 19.1875 25 \r\nQ 14.984375 22.515625 14.984375 16.5 \r\nQ 14.984375 11.71875 18.140625 8.90625 \r\nQ 21.296875 6.109375 26.703125 6.109375 \r\nQ 34.1875 6.109375 38.703125 11.40625 \r\nQ 43.21875 16.703125 43.21875 25.484375 \r\nL 43.21875 27.484375 \r\nz\r\nM 52.203125 31.203125 \r\nL 52.203125 0 \r\nL 43.21875 0 \r\nL 43.21875 8.296875 \r\nQ 40.140625 3.328125 35.546875 0.953125 \r\nQ 30.953125 -1.421875 24.3125 -1.421875 \r\nQ 15.921875 -1.421875 10.953125 3.296875 \r\nQ 6 8.015625 6 15.921875 \r\nQ 6 25.140625 12.171875 29.828125 \r\nQ 18.359375 34.515625 30.609375 34.515625 \r\nL 43.21875 34.515625 \r\nL 43.21875 35.40625 \r\nQ 43.21875 41.609375 39.140625 45 \r\nQ 35.0625 48.390625 27.6875 48.390625 \r\nQ 23 48.390625 18.546875 47.265625 \r\nQ 14.109375 46.140625 10.015625 43.890625 \r\nL 10.015625 52.203125 \r\nQ 14.9375 54.109375 19.578125 55.046875 \r\nQ 24.21875 56 28.609375 56 \r\nQ 40.484375 56 46.34375 49.84375 \r\nQ 52.203125 43.703125 52.203125 31.203125 \r\nz\r\n\" id=\"DejaVuSans-97\"/>\r\n      <path d=\"M 9.078125 75.984375 \r\nL 18.109375 75.984375 \r\nL 18.109375 31.109375 \r\nL 44.921875 54.6875 \r\nL 56.390625 54.6875 \r\nL 27.390625 29.109375 \r\nL 57.625 0 \r\nL 45.90625 0 \r\nL 18.109375 26.703125 \r\nL 18.109375 0 \r\nL 9.078125 0 \r\nz\r\n\" id=\"DejaVuSans-107\"/>\r\n      <path d=\"M 4.890625 31.390625 \r\nL 31.203125 31.390625 \r\nL 31.203125 23.390625 \r\nL 4.890625 23.390625 \r\nz\r\n\" id=\"DejaVuSans-45\"/>\r\n      <path d=\"M 41.109375 46.296875 \r\nQ 39.59375 47.171875 37.8125 47.578125 \r\nQ 36.03125 48 33.890625 48 \r\nQ 26.265625 48 22.1875 43.046875 \r\nQ 18.109375 38.09375 18.109375 28.8125 \r\nL 18.109375 0 \r\nL 9.078125 0 \r\nL 9.078125 54.6875 \r\nL 18.109375 54.6875 \r\nL 18.109375 46.1875 \r\nQ 20.953125 51.171875 25.484375 53.578125 \r\nQ 30.03125 56 36.53125 56 \r\nQ 37.453125 56 38.578125 55.875 \r\nQ 39.703125 55.765625 41.0625 55.515625 \r\nz\r\n\" id=\"DejaVuSans-114\"/>\r\n      <path d=\"M 52 44.1875 \r\nQ 55.375 50.25 60.0625 53.125 \r\nQ 64.75 56 71.09375 56 \r\nQ 79.640625 56 84.28125 50.015625 \r\nQ 88.921875 44.046875 88.921875 33.015625 \r\nL 88.921875 0 \r\nL 79.890625 0 \r\nL 79.890625 32.71875 \r\nQ 79.890625 40.578125 77.09375 44.375 \r\nQ 74.3125 48.1875 68.609375 48.1875 \r\nQ 61.625 48.1875 57.5625 43.546875 \r\nQ 53.515625 38.921875 53.515625 30.90625 \r\nL 53.515625 0 \r\nL 44.484375 0 \r\nL 44.484375 32.71875 \r\nQ 44.484375 40.625 41.703125 44.40625 \r\nQ 38.921875 48.1875 33.109375 48.1875 \r\nQ 26.21875 48.1875 22.15625 43.53125 \r\nQ 18.109375 38.875 18.109375 30.90625 \r\nL 18.109375 0 \r\nL 9.078125 0 \r\nL 9.078125 54.6875 \r\nL 18.109375 54.6875 \r\nL 18.109375 46.1875 \r\nQ 21.1875 51.21875 25.484375 53.609375 \r\nQ 29.78125 56 35.6875 56 \r\nQ 41.65625 56 45.828125 52.96875 \r\nQ 50 49.953125 52 44.1875 \r\nz\r\n\" id=\"DejaVuSans-109\"/>\r\n     </defs>\r\n     <g style=\"fill:#ffffff;\" transform=\"translate(370.376563 579.076563)scale(0.1 -0.1)\">\r\n      <use xlink:href=\"#DejaVuSans-112\"/>\r\n      <use x=\"63.476562\" xlink:href=\"#DejaVuSans-101\"/>\r\n      <use x=\"125\" xlink:href=\"#DejaVuSans-97\"/>\r\n      <use x=\"186.279297\" xlink:href=\"#DejaVuSans-107\"/>\r\n      <use x=\"244.189453\" xlink:href=\"#DejaVuSans-45\"/>\r\n      <use x=\"280.273438\" xlink:href=\"#DejaVuSans-114\"/>\r\n      <use x=\"321.386719\" xlink:href=\"#DejaVuSans-112\"/>\r\n      <use x=\"384.863281\" xlink:href=\"#DejaVuSans-109\"/>\r\n     </g>\r\n    </g>\r\n   </g>\r\n   <g id=\"matplotlib.axis_2\">\r\n    <g id=\"ytick_1\">\r\n     <g id=\"line2d_6\">\r\n      <defs>\r\n       <path d=\"M 0 0 \r\nL -3.5 0 \r\n\" id=\"mb03e267bd0\" style=\"stroke:#ffffff;stroke-width:0.8;\"/>\r\n      </defs>\r\n      <g>\r\n       <use style=\"fill:#ffffff;stroke:#ffffff;stroke-width:0.8;\" x=\"59.690625\" xlink:href=\"#mb03e267bd0\" y=\"550.8\"/>\r\n      </g>\r\n     </g>\r\n     <g id=\"text_7\">\r\n      <!-- 0 -->\r\n      <g style=\"fill:#ffffff;\" transform=\"translate(46.328125 554.599219)scale(0.1 -0.1)\">\r\n       <use xlink:href=\"#DejaVuSans-48\"/>\r\n      </g>\r\n     </g>\r\n    </g>\r\n    <g id=\"ytick_2\">\r\n     <g id=\"line2d_7\">\r\n      <g>\r\n       <use style=\"fill:#ffffff;stroke:#ffffff;stroke-width:0.8;\" x=\"59.690625\" xlink:href=\"#mb03e267bd0\" y=\"436.171882\"/>\r\n      </g>\r\n     </g>\r\n     <g id=\"text_8\">\r\n      <!-- 10000 -->\r\n      <defs>\r\n       <path d=\"M 12.40625 8.296875 \r\nL 28.515625 8.296875 \r\nL 28.515625 63.921875 \r\nL 10.984375 60.40625 \r\nL 10.984375 69.390625 \r\nL 28.421875 72.90625 \r\nL 38.28125 72.90625 \r\nL 38.28125 8.296875 \r\nL 54.390625 8.296875 \r\nL 54.390625 0 \r\nL 12.40625 0 \r\nz\r\n\" id=\"DejaVuSans-49\"/>\r\n      </defs>\r\n      <g style=\"fill:#ffffff;\" transform=\"translate(20.878125 439.971101)scale(0.1 -0.1)\">\r\n       <use xlink:href=\"#DejaVuSans-49\"/>\r\n       <use x=\"63.623047\" xlink:href=\"#DejaVuSans-48\"/>\r\n       <use x=\"127.246094\" xlink:href=\"#DejaVuSans-48\"/>\r\n       <use x=\"190.869141\" xlink:href=\"#DejaVuSans-48\"/>\r\n       <use x=\"254.492188\" xlink:href=\"#DejaVuSans-48\"/>\r\n      </g>\r\n     </g>\r\n    </g>\r\n    <g id=\"ytick_3\">\r\n     <g id=\"line2d_8\">\r\n      <g>\r\n       <use style=\"fill:#ffffff;stroke:#ffffff;stroke-width:0.8;\" x=\"59.690625\" xlink:href=\"#mb03e267bd0\" y=\"321.543764\"/>\r\n      </g>\r\n     </g>\r\n     <g id=\"text_9\">\r\n      <!-- 20000 -->\r\n      <defs>\r\n       <path d=\"M 19.1875 8.296875 \r\nL 53.609375 8.296875 \r\nL 53.609375 0 \r\nL 7.328125 0 \r\nL 7.328125 8.296875 \r\nQ 12.9375 14.109375 22.625 23.890625 \r\nQ 32.328125 33.6875 34.8125 36.53125 \r\nQ 39.546875 41.84375 41.421875 45.53125 \r\nQ 43.3125 49.21875 43.3125 52.78125 \r\nQ 43.3125 58.59375 39.234375 62.25 \r\nQ 35.15625 65.921875 28.609375 65.921875 \r\nQ 23.96875 65.921875 18.8125 64.3125 \r\nQ 13.671875 62.703125 7.8125 59.421875 \r\nL 7.8125 69.390625 \r\nQ 13.765625 71.78125 18.9375 73 \r\nQ 24.125 74.21875 28.421875 74.21875 \r\nQ 39.75 74.21875 46.484375 68.546875 \r\nQ 53.21875 62.890625 53.21875 53.421875 \r\nQ 53.21875 48.921875 51.53125 44.890625 \r\nQ 49.859375 40.875 45.40625 35.40625 \r\nQ 44.1875 33.984375 37.640625 27.21875 \r\nQ 31.109375 20.453125 19.1875 8.296875 \r\nz\r\n\" id=\"DejaVuSans-50\"/>\r\n      </defs>\r\n      <g style=\"fill:#ffffff;\" transform=\"translate(20.878125 325.342982)scale(0.1 -0.1)\">\r\n       <use xlink:href=\"#DejaVuSans-50\"/>\r\n       <use x=\"63.623047\" xlink:href=\"#DejaVuSans-48\"/>\r\n       <use x=\"127.246094\" xlink:href=\"#DejaVuSans-48\"/>\r\n       <use x=\"190.869141\" xlink:href=\"#DejaVuSans-48\"/>\r\n       <use x=\"254.492188\" xlink:href=\"#DejaVuSans-48\"/>\r\n      </g>\r\n     </g>\r\n    </g>\r\n    <g id=\"ytick_4\">\r\n     <g id=\"line2d_9\">\r\n      <g>\r\n       <use style=\"fill:#ffffff;stroke:#ffffff;stroke-width:0.8;\" x=\"59.690625\" xlink:href=\"#mb03e267bd0\" y=\"206.915646\"/>\r\n      </g>\r\n     </g>\r\n     <g id=\"text_10\">\r\n      <!-- 30000 -->\r\n      <defs>\r\n       <path d=\"M 40.578125 39.3125 \r\nQ 47.65625 37.796875 51.625 33 \r\nQ 55.609375 28.21875 55.609375 21.1875 \r\nQ 55.609375 10.40625 48.1875 4.484375 \r\nQ 40.765625 -1.421875 27.09375 -1.421875 \r\nQ 22.515625 -1.421875 17.65625 -0.515625 \r\nQ 12.796875 0.390625 7.625 2.203125 \r\nL 7.625 11.71875 \r\nQ 11.71875 9.328125 16.59375 8.109375 \r\nQ 21.484375 6.890625 26.8125 6.890625 \r\nQ 36.078125 6.890625 40.9375 10.546875 \r\nQ 45.796875 14.203125 45.796875 21.1875 \r\nQ 45.796875 27.640625 41.28125 31.265625 \r\nQ 36.765625 34.90625 28.71875 34.90625 \r\nL 20.21875 34.90625 \r\nL 20.21875 43.015625 \r\nL 29.109375 43.015625 \r\nQ 36.375 43.015625 40.234375 45.921875 \r\nQ 44.09375 48.828125 44.09375 54.296875 \r\nQ 44.09375 59.90625 40.109375 62.90625 \r\nQ 36.140625 65.921875 28.71875 65.921875 \r\nQ 24.65625 65.921875 20.015625 65.03125 \r\nQ 15.375 64.15625 9.8125 62.3125 \r\nL 9.8125 71.09375 \r\nQ 15.4375 72.65625 20.34375 73.4375 \r\nQ 25.25 74.21875 29.59375 74.21875 \r\nQ 40.828125 74.21875 47.359375 69.109375 \r\nQ 53.90625 64.015625 53.90625 55.328125 \r\nQ 53.90625 49.265625 50.4375 45.09375 \r\nQ 46.96875 40.921875 40.578125 39.3125 \r\nz\r\n\" id=\"DejaVuSans-51\"/>\r\n      </defs>\r\n      <g style=\"fill:#ffffff;\" transform=\"translate(20.878125 210.714864)scale(0.1 -0.1)\">\r\n       <use xlink:href=\"#DejaVuSans-51\"/>\r\n       <use x=\"63.623047\" xlink:href=\"#DejaVuSans-48\"/>\r\n       <use x=\"127.246094\" xlink:href=\"#DejaVuSans-48\"/>\r\n       <use x=\"190.869141\" xlink:href=\"#DejaVuSans-48\"/>\r\n       <use x=\"254.492188\" xlink:href=\"#DejaVuSans-48\"/>\r\n      </g>\r\n     </g>\r\n    </g>\r\n    <g id=\"ytick_5\">\r\n     <g id=\"line2d_10\">\r\n      <g>\r\n       <use style=\"fill:#ffffff;stroke:#ffffff;stroke-width:0.8;\" x=\"59.690625\" xlink:href=\"#mb03e267bd0\" y=\"92.287527\"/>\r\n      </g>\r\n     </g>\r\n     <g id=\"text_11\">\r\n      <!-- 40000 -->\r\n      <g style=\"fill:#ffffff;\" transform=\"translate(20.878125 96.086746)scale(0.1 -0.1)\">\r\n       <use xlink:href=\"#DejaVuSans-52\"/>\r\n       <use x=\"63.623047\" xlink:href=\"#DejaVuSans-48\"/>\r\n       <use x=\"127.246094\" xlink:href=\"#DejaVuSans-48\"/>\r\n       <use x=\"190.869141\" xlink:href=\"#DejaVuSans-48\"/>\r\n       <use x=\"254.492188\" xlink:href=\"#DejaVuSans-48\"/>\r\n      </g>\r\n     </g>\r\n    </g>\r\n    <g id=\"text_12\">\r\n     <!-- price -->\r\n     <defs>\r\n      <path d=\"M 9.421875 54.6875 \r\nL 18.40625 54.6875 \r\nL 18.40625 0 \r\nL 9.421875 0 \r\nz\r\nM 9.421875 75.984375 \r\nL 18.40625 75.984375 \r\nL 18.40625 64.59375 \r\nL 9.421875 64.59375 \r\nz\r\n\" id=\"DejaVuSans-105\"/>\r\n      <path d=\"M 48.78125 52.59375 \r\nL 48.78125 44.1875 \r\nQ 44.96875 46.296875 41.140625 47.34375 \r\nQ 37.3125 48.390625 33.40625 48.390625 \r\nQ 24.65625 48.390625 19.8125 42.84375 \r\nQ 14.984375 37.3125 14.984375 27.296875 \r\nQ 14.984375 17.28125 19.8125 11.734375 \r\nQ 24.65625 6.203125 33.40625 6.203125 \r\nQ 37.3125 6.203125 41.140625 7.25 \r\nQ 44.96875 8.296875 48.78125 10.40625 \r\nL 48.78125 2.09375 \r\nQ 45.015625 0.34375 40.984375 -0.53125 \r\nQ 36.96875 -1.421875 32.421875 -1.421875 \r\nQ 20.0625 -1.421875 12.78125 6.34375 \r\nQ 5.515625 14.109375 5.515625 27.296875 \r\nQ 5.515625 40.671875 12.859375 48.328125 \r\nQ 20.21875 56 33.015625 56 \r\nQ 37.15625 56 41.109375 55.140625 \r\nQ 45.0625 54.296875 48.78125 52.59375 \r\nz\r\n\" id=\"DejaVuSans-99\"/>\r\n     </defs>\r\n     <g style=\"fill:#ffffff;\" transform=\"translate(14.798438 291.444531)rotate(-90)scale(0.1 -0.1)\">\r\n      <use xlink:href=\"#DejaVuSans-112\"/>\r\n      <use x=\"63.476562\" xlink:href=\"#DejaVuSans-114\"/>\r\n      <use x=\"104.589844\" xlink:href=\"#DejaVuSans-105\"/>\r\n      <use x=\"132.373047\" xlink:href=\"#DejaVuSans-99\"/>\r\n      <use x=\"187.353516\" xlink:href=\"#DejaVuSans-101\"/>\r\n     </g>\r\n    </g>\r\n   </g>\r\n   <g id=\"line2d_11\">\r\n    <path clip-path=\"url(#p06141a8b70)\" d=\"M 59.690625 378.248732 \r\nL 66.454261 378.776867 \r\nL 73.217898 379.305002 \r\nL 79.981534 379.833137 \r\nL 86.74517 380.361272 \r\nL 93.508807 380.889408 \r\nL 100.272443 381.417543 \r\nL 107.03608 381.945678 \r\nL 113.799716 382.473813 \r\nL 120.563352 383.001948 \r\nL 127.326989 383.530083 \r\nL 134.090625 384.058219 \r\nL 140.854261 384.586354 \r\nL 147.617898 385.114489 \r\nL 154.381534 385.642624 \r\nL 161.14517 386.170759 \r\nL 167.908807 386.698895 \r\nL 174.672443 387.22703 \r\nL 181.43608 387.755165 \r\nL 188.199716 388.2833 \r\nL 194.963352 388.811435 \r\nL 201.726989 389.33957 \r\nL 208.490625 389.867706 \r\nL 215.254261 390.395841 \r\nL 222.017898 390.923976 \r\nL 228.781534 391.452111 \r\nL 235.54517 391.980246 \r\nL 242.308807 392.508381 \r\nL 249.072443 393.036517 \r\nL 255.83608 393.564652 \r\nL 262.599716 394.092787 \r\nL 269.363352 394.620922 \r\nL 276.126989 395.149057 \r\nL 282.890625 395.677193 \r\nL 289.654261 396.205328 \r\nL 296.417898 396.733463 \r\nL 303.181534 397.261598 \r\nL 309.94517 397.789733 \r\nL 316.708807 398.317868 \r\nL 323.472443 398.846004 \r\nL 330.23608 399.374139 \r\nL 336.999716 399.902274 \r\nL 343.763352 400.430409 \r\nL 350.526989 400.958544 \r\nL 357.290625 401.48668 \r\nL 364.054261 402.014815 \r\nL 370.817898 402.54295 \r\nL 377.581534 403.071085 \r\nL 384.34517 403.59922 \r\nL 391.108807 404.127355 \r\nL 397.872443 404.655491 \r\nL 404.63608 405.183626 \r\nL 411.399716 405.711761 \r\nL 418.163352 406.239896 \r\nL 424.926989 406.768031 \r\nL 431.690625 407.296167 \r\nL 438.454261 407.824302 \r\nL 445.217898 408.352437 \r\nL 451.981534 408.880572 \r\nL 458.74517 409.408707 \r\nL 465.508807 409.936842 \r\nL 472.272443 410.464978 \r\nL 479.03608 410.993113 \r\nL 485.799716 411.521248 \r\nL 492.563352 412.049383 \r\nL 499.326989 412.577518 \r\nL 506.090625 413.105654 \r\nL 512.854261 413.633789 \r\nL 519.617898 414.161924 \r\nL 526.381534 414.690059 \r\nL 533.14517 415.218194 \r\nL 539.908807 415.746329 \r\nL 546.672443 416.274465 \r\nL 553.43608 416.8026 \r\nL 560.199716 417.330735 \r\nL 566.963352 417.85887 \r\nL 573.726989 418.387005 \r\nL 580.490625 418.91514 \r\nL 587.254261 419.443276 \r\nL 594.017898 419.971411 \r\nL 600.781534 420.499546 \r\nL 607.54517 421.027681 \r\nL 614.308807 421.555816 \r\nL 621.072443 422.083952 \r\nL 627.83608 422.612087 \r\nL 634.599716 423.140222 \r\nL 641.363352 423.668357 \r\nL 648.126989 424.196492 \r\nL 654.890625 424.724627 \r\nL 661.654261 425.252763 \r\nL 668.417898 425.780898 \r\nL 675.181534 426.309033 \r\nL 681.94517 426.837168 \r\nL 688.708807 427.365303 \r\nL 695.472443 427.893439 \r\nL 702.23608 428.421574 \r\nL 708.999716 428.949709 \r\nL 715.763352 429.477844 \r\nL 722.526989 430.005979 \r\nL 729.290625 430.534114 \r\n\" style=\"fill:none;stroke:#8dd3c7;stroke-linecap:square;stroke-width:2.25;\"/>\r\n   </g>\r\n   <g id=\"patch_3\">\r\n    <path d=\"M 59.690625 550.8 \r\nL 59.690625 7.2 \r\n\" style=\"fill:none;stroke:#ffffff;stroke-linecap:square;stroke-linejoin:miter;stroke-width:0.8;\"/>\r\n   </g>\r\n   <g id=\"patch_4\">\r\n    <path d=\"M 729.290625 550.8 \r\nL 729.290625 7.2 \r\n\" style=\"fill:none;stroke:#ffffff;stroke-linecap:square;stroke-linejoin:miter;stroke-width:0.8;\"/>\r\n   </g>\r\n   <g id=\"patch_5\">\r\n    <path d=\"M 59.690625 550.8 \r\nL 729.290625 550.8 \r\n\" style=\"fill:none;stroke:#ffffff;stroke-linecap:square;stroke-linejoin:miter;stroke-width:0.8;\"/>\r\n   </g>\r\n   <g id=\"patch_6\">\r\n    <path d=\"M 59.690625 7.2 \r\nL 729.290625 7.2 \r\n\" style=\"fill:none;stroke:#ffffff;stroke-linecap:square;stroke-linejoin:miter;stroke-width:0.8;\"/>\r\n   </g>\r\n  </g>\r\n </g>\r\n <defs>\r\n  <clipPath id=\"p06141a8b70\">\r\n   <rect height=\"543.6\" width=\"669.6\" x=\"59.690625\" y=\"7.2\"/>\r\n  </clipPath>\r\n </defs>\r\n</svg>\r\n",
      "text/plain": "<Figure size 864x720 with 1 Axes>"
     },
     "metadata": {
      "needs_background": "dark"
     },
     "output_type": "display_data"
    }
   ],
   "source": [
    "plt.figure(figsize=(width, height))\n",
    "sns.regplot(x=\"peak-rpm\", y=\"price\", data=df)\n",
    "plt.ylim(0,)"
   ]
  },
  {
   "cell_type": "markdown",
   "metadata": {},
   "source": [
    "<p>Comparing the regression plot of \"peak-rpm\" and \"highway-mpg\" we see that the points for \"highway-mpg\" are much closer to the generated line and on the average decrease. The points for \"peak-rpm\" have more spread around the predicted line, and it is much harder to determine if the points are decreasing or increasing as the \"highway-mpg\" increases.</p>"
   ]
  },
  {
   "cell_type": "markdown",
   "metadata": {},
   "source": [
    "<div class=\"alert alert-danger alertdanger\" style=\"margin-top: 20px\">\n",
    "<h1>Question #3:</h1>\n",
    "<b>Given the regression plots above is \"peak-rpm\" or \"highway-mpg\" more strongly correlated with \"price\". Use the method  \".corr()\" to verify your answer.</b>\n",
    "</div>"
   ]
  },
  {
   "cell_type": "code",
   "execution_count": 25,
   "metadata": {},
   "outputs": [
    {
     "data": {
      "text/html": "<div>\n<style scoped>\n    .dataframe tbody tr th:only-of-type {\n        vertical-align: middle;\n    }\n\n    .dataframe tbody tr th {\n        vertical-align: top;\n    }\n\n    .dataframe thead th {\n        text-align: right;\n    }\n</style>\n<table border=\"1\" class=\"dataframe\">\n  <thead>\n    <tr style=\"text-align: right;\">\n      <th></th>\n      <th>peak-rpm</th>\n      <th>highway-mpg</th>\n      <th>price</th>\n    </tr>\n  </thead>\n  <tbody>\n    <tr>\n      <td>peak-rpm</td>\n      <td>1.000000</td>\n      <td>-0.058598</td>\n      <td>-0.101616</td>\n    </tr>\n    <tr>\n      <td>highway-mpg</td>\n      <td>-0.058598</td>\n      <td>1.000000</td>\n      <td>-0.704692</td>\n    </tr>\n    <tr>\n      <td>price</td>\n      <td>-0.101616</td>\n      <td>-0.704692</td>\n      <td>1.000000</td>\n    </tr>\n  </tbody>\n</table>\n</div>",
      "text/plain": "             peak-rpm  highway-mpg     price\npeak-rpm     1.000000    -0.058598 -0.101616\nhighway-mpg -0.058598     1.000000 -0.704692\nprice       -0.101616    -0.704692  1.000000"
     },
     "execution_count": 25,
     "metadata": {},
     "output_type": "execute_result"
    }
   ],
   "source": [
    "df[[\"peak-rpm\",\"highway-mpg\",\"price\"]].corr()"
   ]
  },
  {
   "cell_type": "markdown",
   "metadata": {},
   "source": [
    "Double-click <b>here</b> for the solution.\n",
    "\n",
    "<!-- The answer is below:\n",
    "\n",
    "The variable \"peak-rpm\" has a stronger correlation with \"price\", it is approximate -0.704692  compared to   \"highway-mpg\" which is approximate     -0.101616. You can verify it using the following command:\n",
    "df[[\"peak-rpm\",\"highway-mpg\",\"price\"]].corr()\n",
    "\n",
    "-->"
   ]
  },
  {
   "cell_type": "markdown",
   "metadata": {},
   "source": [
    "<h3>Residual Plot</h3>\n",
    "\n",
    "<p>A good way to visualize the variance of the data is to use a residual plot.</p>\n",
    "\n",
    "<p>What is a <b>residual</b>?</p>\n",
    "\n",
    "<p>The difference between the observed value (y) and the predicted value (Yhat) is called the residual (e). When we look at a regression plot, the residual is the distance from the data point to the fitted regression line.</p>\n",
    "\n",
    "<p>So what is a <b>residual plot</b>?</p>\n",
    "\n",
    "<p>A residual plot is a graph that shows the residuals on the vertical y-axis and the independent variable on the horizontal x-axis.</p>\n",
    "\n",
    "<p>What do we pay attention to when looking at a residual plot?</p>\n",
    "\n",
    "<p>We look at the spread of the residuals:</p>\n",
    "\n",
    "<p>- If the points in a residual plot are <b>randomly spread out around the x-axis</b>, then a <b>linear model is appropriate</b> for the data. Why is that? Randomly spread out residuals means that the variance is constant, and thus the linear model is a good fit for this data.</p>"
   ]
  },
  {
   "cell_type": "code",
   "execution_count": 26,
   "metadata": {},
   "outputs": [
    {
     "data": {
      "image/png": "[encoded data removed]",
      "image/svg+xml": "<?xml version=\"1.0\" encoding=\"utf-8\" standalone=\"no\"?>\r\n<!DOCTYPE svg PUBLIC \"-//W3C//DTD SVG 1.1//EN\"\r\n  \"http://www.w3.org/Graphics/SVG/1.1/DTD/svg11.dtd\">\r\n<!-- Created with matplotlib (https://matplotlib.org/) -->\r\n<svg height=\"588.35625pt\" version=\"1.1\" viewBox=\"0 0 744.870312 588.35625\" width=\"744.870312pt\" xmlns=\"http://www.w3.org/2000/svg\" xmlns:xlink=\"http://www.w3.org/1999/xlink\">\r\n <defs>\r\n  <style type=\"text/css\">\r\n*{stroke-linecap:butt;stroke-linejoin:round;}\r\n  </style>\r\n </defs>\r\n <g id=\"figure_1\">\r\n  <g id=\"patch_1\">\r\n   <path d=\"M 0 588.35625 \r\nL 744.870312 588.35625 \r\nL 744.870312 0 \r\nL 0 0 \r\nz\r\n\" style=\"fill:none;\"/>\r\n  </g>\r\n  <g id=\"axes_1\">\r\n   <g id=\"patch_2\">\r\n    <path d=\"M 68.070312 550.8 \r\nL 737.670313 550.8 \r\nL 737.670313 7.2 \r\nL 68.070312 7.2 \r\nz\r\n\"/>\r\n   </g>\r\n   <g id=\"PathCollection_1\">\r\n    <defs>\r\n     <path d=\"M 0 3 \r\nC 0.795609 3 1.55874 2.683901 2.12132 2.12132 \r\nC 2.683901 1.55874 3 0.795609 3 0 \r\nC 3 -0.795609 2.683901 -1.55874 2.12132 -2.12132 \r\nC 1.55874 -2.683901 0.795609 -3 0 -3 \r\nC -0.795609 -3 -1.55874 -2.683901 -2.12132 -2.12132 \r\nC -2.683901 -1.55874 -3 -0.795609 -3 0 \r\nC -3 0.795609 -2.683901 1.55874 -2.12132 2.12132 \r\nC -1.55874 2.683901 -0.795609 3 0 3 \r\nz\r\n\" id=\"me0a97321cd\" style=\"stroke:#8dd3c7;stroke-opacity:0.8;\"/>\r\n    </defs>\r\n    <g clip-path=\"url(#pddb2960360)\">\r\n     <use style=\"fill:#8dd3c7;fill-opacity:0.8;stroke:#8dd3c7;stroke-opacity:0.8;\" x=\"274.819127\" xlink:href=\"#me0a97321cd\" y=\"427.553109\"/>\r\n     <use style=\"fill:#8dd3c7;fill-opacity:0.8;stroke:#8dd3c7;stroke-opacity:0.8;\" x=\"274.819127\" xlink:href=\"#me0a97321cd\" y=\"377.412096\"/>\r\n     <use style=\"fill:#8dd3c7;fill-opacity:0.8;stroke:#8dd3c7;stroke-opacity:0.8;\" x=\"258.812728\" xlink:href=\"#me0a97321cd\" y=\"391.123425\"/>\r\n     <use style=\"fill:#8dd3c7;fill-opacity:0.8;stroke:#8dd3c7;stroke-opacity:0.8;\" x=\"322.838321\" xlink:href=\"#me0a97321cd\" y=\"378.827054\"/>\r\n     <use style=\"fill:#8dd3c7;fill-opacity:0.8;stroke:#8dd3c7;stroke-opacity:0.8;\" x=\"194.787135\" xlink:href=\"#me0a97321cd\" y=\"430.117174\"/>\r\n     <use style=\"fill:#8dd3c7;fill-opacity:0.8;stroke:#8dd3c7;stroke-opacity:0.8;\" x=\"242.80633\" xlink:href=\"#me0a97321cd\" y=\"425.692081\"/>\r\n     <use style=\"fill:#8dd3c7;fill-opacity:0.8;stroke:#8dd3c7;stroke-opacity:0.8;\" x=\"242.80633\" xlink:href=\"#me0a97321cd\" y=\"384.644862\"/>\r\n     <use style=\"fill:#8dd3c7;fill-opacity:0.8;stroke:#8dd3c7;stroke-opacity:0.8;\" x=\"242.80633\" xlink:href=\"#me0a97321cd\" y=\"364.45497\"/>\r\n     <use style=\"fill:#8dd3c7;fill-opacity:0.8;stroke:#8dd3c7;stroke-opacity:0.8;\" x=\"162.774339\" xlink:href=\"#me0a97321cd\" y=\"350.333173\"/>\r\n     <use style=\"fill:#8dd3c7;fill-opacity:0.8;stroke:#8dd3c7;stroke-opacity:0.8;\" x=\"306.831923\" xlink:href=\"#me0a97321cd\" y=\"351.157447\"/>\r\n     <use style=\"fill:#8dd3c7;fill-opacity:0.8;stroke:#8dd3c7;stroke-opacity:0.8;\" x=\"306.831923\" xlink:href=\"#me0a97321cd\" y=\"342.897946\"/>\r\n     <use style=\"fill:#8dd3c7;fill-opacity:0.8;stroke:#8dd3c7;stroke-opacity:0.8;\" x=\"290.825525\" xlink:href=\"#me0a97321cd\" y=\"289.114966\"/>\r\n     <use style=\"fill:#8dd3c7;fill-opacity:0.8;stroke:#8dd3c7;stroke-opacity:0.8;\" x=\"290.825525\" xlink:href=\"#me0a97321cd\" y=\"286.862375\"/>\r\n     <use style=\"fill:#8dd3c7;fill-opacity:0.8;stroke:#8dd3c7;stroke-opacity:0.8;\" x=\"242.80633\" xlink:href=\"#me0a97321cd\" y=\"270.263282\"/>\r\n     <use style=\"fill:#8dd3c7;fill-opacity:0.8;stroke:#8dd3c7;stroke-opacity:0.8;\" x=\"194.787135\" xlink:href=\"#me0a97321cd\" y=\"208.028358\"/>\r\n     <use style=\"fill:#8dd3c7;fill-opacity:0.8;stroke:#8dd3c7;stroke-opacity:0.8;\" x=\"194.787135\" xlink:href=\"#me0a97321cd\" y=\"31.909091\"/>\r\n     <use style=\"fill:#8dd3c7;fill-opacity:0.8;stroke:#8dd3c7;stroke-opacity:0.8;\" x=\"162.774339\" xlink:href=\"#me0a97321cd\" y=\"133.333545\"/>\r\n     <use style=\"fill:#8dd3c7;fill-opacity:0.8;stroke:#8dd3c7;stroke-opacity:0.8;\" x=\"690.985481\" xlink:href=\"#me0a97321cd\" y=\"210.285376\"/>\r\n     <use style=\"fill:#8dd3c7;fill-opacity:0.8;stroke:#8dd3c7;stroke-opacity:0.8;\" x=\"530.921498\" xlink:href=\"#me0a97321cd\" y=\"328.310043\"/>\r\n     <use style=\"fill:#8dd3c7;fill-opacity:0.8;stroke:#8dd3c7;stroke-opacity:0.8;\" x=\"530.921498\" xlink:href=\"#me0a97321cd\" y=\"323.638002\"/>\r\n     <use style=\"fill:#8dd3c7;fill-opacity:0.8;stroke:#8dd3c7;stroke-opacity:0.8;\" x=\"498.908702\" xlink:href=\"#me0a97321cd\" y=\"367.796579\"/>\r\n     <use style=\"fill:#8dd3c7;fill-opacity:0.8;stroke:#8dd3c7;stroke-opacity:0.8;\" x=\"450.889507\" xlink:href=\"#me0a97321cd\" y=\"395.498449\"/>\r\n     <use style=\"fill:#8dd3c7;fill-opacity:0.8;stroke:#8dd3c7;stroke-opacity:0.8;\" x=\"322.838321\" xlink:href=\"#me0a97321cd\" y=\"478.825422\"/>\r\n     <use style=\"fill:#8dd3c7;fill-opacity:0.8;stroke:#8dd3c7;stroke-opacity:0.8;\" x=\"450.889507\" xlink:href=\"#me0a97321cd\" y=\"397.967956\"/>\r\n     <use style=\"fill:#8dd3c7;fill-opacity:0.8;stroke:#8dd3c7;stroke-opacity:0.8;\" x=\"450.889507\" xlink:href=\"#me0a97321cd\" y=\"390.242402\"/>\r\n     <use style=\"fill:#8dd3c7;fill-opacity:0.8;stroke:#8dd3c7;stroke-opacity:0.8;\" x=\"450.889507\" xlink:href=\"#me0a97321cd\" y=\"374.941467\"/>\r\n     <use style=\"fill:#8dd3c7;fill-opacity:0.8;stroke:#8dd3c7;stroke-opacity:0.8;\" x=\"322.838321\" xlink:href=\"#me0a97321cd\" y=\"468.797219\"/>\r\n     <use style=\"fill:#8dd3c7;fill-opacity:0.8;stroke:#8dd3c7;stroke-opacity:0.8;\" x=\"322.838321\" xlink:href=\"#me0a97321cd\" y=\"462.740251\"/>\r\n     <use style=\"fill:#8dd3c7;fill-opacity:0.8;stroke:#8dd3c7;stroke-opacity:0.8;\" x=\"226.799932\" xlink:href=\"#me0a97321cd\" y=\"477.547289\"/>\r\n     <use style=\"fill:#8dd3c7;fill-opacity:0.8;stroke:#8dd3c7;stroke-opacity:0.8;\" x=\"706.991879\" xlink:href=\"#me0a97321cd\" y=\"174.415223\"/>\r\n     <use style=\"fill:#8dd3c7;fill-opacity:0.8;stroke:#8dd3c7;stroke-opacity:0.8;\" x=\"450.889507\" xlink:href=\"#me0a97321cd\" y=\"387.522607\"/>\r\n     <use style=\"fill:#8dd3c7;fill-opacity:0.8;stroke:#8dd3c7;stroke-opacity:0.8;\" x=\"514.9151\" xlink:href=\"#me0a97321cd\" y=\"356.971904\"/>\r\n     <use style=\"fill:#8dd3c7;fill-opacity:0.8;stroke:#8dd3c7;stroke-opacity:0.8;\" x=\"386.863914\" xlink:href=\"#me0a97321cd\" y=\"447.807515\"/>\r\n     <use style=\"fill:#8dd3c7;fill-opacity:0.8;stroke:#8dd3c7;stroke-opacity:0.8;\" x=\"386.863914\" xlink:href=\"#me0a97321cd\" y=\"437.795998\"/>\r\n     <use style=\"fill:#8dd3c7;fill-opacity:0.8;stroke:#8dd3c7;stroke-opacity:0.8;\" x=\"386.863914\" xlink:href=\"#me0a97321cd\" y=\"435.026145\"/>\r\n     <use style=\"fill:#8dd3c7;fill-opacity:0.8;stroke:#8dd3c7;stroke-opacity:0.8;\" x=\"386.863914\" xlink:href=\"#me0a97321cd\" y=\"435.026145\"/>\r\n     <use style=\"fill:#8dd3c7;fill-opacity:0.8;stroke:#8dd3c7;stroke-opacity:0.8;\" x=\"370.857516\" xlink:href=\"#me0a97321cd\" y=\"438.725957\"/>\r\n     <use style=\"fill:#8dd3c7;fill-opacity:0.8;stroke:#8dd3c7;stroke-opacity:0.8;\" x=\"370.857516\" xlink:href=\"#me0a97321cd\" y=\"418.702924\"/>\r\n     <use style=\"fill:#8dd3c7;fill-opacity:0.8;stroke:#8dd3c7;stroke-opacity:0.8;\" x=\"370.857516\" xlink:href=\"#me0a97321cd\" y=\"422.874389\"/>\r\n     <use style=\"fill:#8dd3c7;fill-opacity:0.8;stroke:#8dd3c7;stroke-opacity:0.8;\" x=\"370.857516\" xlink:href=\"#me0a97321cd\" y=\"398.67989\"/>\r\n     <use style=\"fill:#8dd3c7;fill-opacity:0.8;stroke:#8dd3c7;stroke-opacity:0.8;\" x=\"290.825525\" xlink:href=\"#me0a97321cd\" y=\"423.019004\"/>\r\n     <use style=\"fill:#8dd3c7;fill-opacity:0.8;stroke:#8dd3c7;stroke-opacity:0.8;\" x=\"338.84472\" xlink:href=\"#me0a97321cd\" y=\"425.268256\"/>\r\n     <use style=\"fill:#8dd3c7;fill-opacity:0.8;stroke:#8dd3c7;stroke-opacity:0.8;\" x=\"306.831923\" xlink:href=\"#me0a97321cd\" y=\"512.092581\"/>\r\n     <use style=\"fill:#8dd3c7;fill-opacity:0.8;stroke:#8dd3c7;stroke-opacity:0.8;\" x=\"306.831923\" xlink:href=\"#me0a97321cd\" y=\"440.960754\"/>\r\n     <use style=\"fill:#8dd3c7;fill-opacity:0.8;stroke:#8dd3c7;stroke-opacity:0.8;\" x=\"146.767941\" xlink:href=\"#me0a97321cd\" y=\"224.300412\"/>\r\n     <use style=\"fill:#8dd3c7;fill-opacity:0.8;stroke:#8dd3c7;stroke-opacity:0.8;\" x=\"146.767941\" xlink:href=\"#me0a97321cd\" y=\"169.23707\"/>\r\n     <use style=\"fill:#8dd3c7;fill-opacity:0.8;stroke:#8dd3c7;stroke-opacity:0.8;\" x=\"114.755144\" xlink:href=\"#me0a97321cd\" y=\"189.151091\"/>\r\n     <use style=\"fill:#8dd3c7;fill-opacity:0.8;stroke:#8dd3c7;stroke-opacity:0.8;\" x=\"338.84472\" xlink:href=\"#me0a97321cd\" y=\"511.200442\"/>\r\n     <use style=\"fill:#8dd3c7;fill-opacity:0.8;stroke:#8dd3c7;stroke-opacity:0.8;\" x=\"450.889507\" xlink:href=\"#me0a97321cd\" y=\"400.203862\"/>\r\n     <use style=\"fill:#8dd3c7;fill-opacity:0.8;stroke:#8dd3c7;stroke-opacity:0.8;\" x=\"450.889507\" xlink:href=\"#me0a97321cd\" y=\"388.523759\"/>\r\n     <use style=\"fill:#8dd3c7;fill-opacity:0.8;stroke:#8dd3c7;stroke-opacity:0.8;\" x=\"450.889507\" xlink:href=\"#me0a97321cd\" y=\"390.192345\"/>\r\n     <use style=\"fill:#8dd3c7;fill-opacity:0.8;stroke:#8dd3c7;stroke-opacity:0.8;\" x=\"450.889507\" xlink:href=\"#me0a97321cd\" y=\"378.512242\"/>\r\n     <use style=\"fill:#8dd3c7;fill-opacity:0.8;stroke:#8dd3c7;stroke-opacity:0.8;\" x=\"210.793534\" xlink:href=\"#me0a97321cd\" y=\"524.947373\"/>\r\n     <use style=\"fill:#8dd3c7;fill-opacity:0.8;stroke:#8dd3c7;stroke-opacity:0.8;\" x=\"210.793534\" xlink:href=\"#me0a97321cd\" y=\"509.930098\"/>\r\n     <use style=\"fill:#8dd3c7;fill-opacity:0.8;stroke:#8dd3c7;stroke-opacity:0.8;\" x=\"210.793534\" xlink:href=\"#me0a97321cd\" y=\"479.895547\"/>\r\n     <use style=\"fill:#8dd3c7;fill-opacity:0.8;stroke:#8dd3c7;stroke-opacity:0.8;\" x=\"210.793534\" xlink:href=\"#me0a97321cd\" y=\"446.523824\"/>\r\n     <use style=\"fill:#8dd3c7;fill-opacity:0.8;stroke:#8dd3c7;stroke-opacity:0.8;\" x=\"354.851118\" xlink:href=\"#me0a97321cd\" y=\"436.585718\"/>\r\n     <use style=\"fill:#8dd3c7;fill-opacity:0.8;stroke:#8dd3c7;stroke-opacity:0.8;\" x=\"354.851118\" xlink:href=\"#me0a97321cd\" y=\"442.42577\"/>\r\n     <use style=\"fill:#8dd3c7;fill-opacity:0.8;stroke:#8dd3c7;stroke-opacity:0.8;\" x=\"354.851118\" xlink:href=\"#me0a97321cd\" y=\"407.385461\"/>\r\n     <use style=\"fill:#8dd3c7;fill-opacity:0.8;stroke:#8dd3c7;stroke-opacity:0.8;\" x=\"354.851118\" xlink:href=\"#me0a97321cd\" y=\"413.225512\"/>\r\n     <use style=\"fill:#8dd3c7;fill-opacity:0.8;stroke:#8dd3c7;stroke-opacity:0.8;\" x=\"514.9151\" xlink:href=\"#me0a97321cd\" y=\"266.934996\"/>\r\n     <use style=\"fill:#8dd3c7;fill-opacity:0.8;stroke:#8dd3c7;stroke-opacity:0.8;\" x=\"354.851118\" xlink:href=\"#me0a97321cd\" y=\"396.539651\"/>\r\n     <use style=\"fill:#8dd3c7;fill-opacity:0.8;stroke:#8dd3c7;stroke-opacity:0.8;\" x=\"274.819127\" xlink:href=\"#me0a97321cd\" y=\"347.711262\"/>\r\n     <use style=\"fill:#8dd3c7;fill-opacity:0.8;stroke:#8dd3c7;stroke-opacity:0.8;\" x=\"466.895905\" xlink:href=\"#me0a97321cd\" y=\"182.107416\"/>\r\n     <use style=\"fill:#8dd3c7;fill-opacity:0.8;stroke:#8dd3c7;stroke-opacity:0.8;\" x=\"242.80633\" xlink:href=\"#me0a97321cd\" y=\"253.794337\"/>\r\n     <use style=\"fill:#8dd3c7;fill-opacity:0.8;stroke:#8dd3c7;stroke-opacity:0.8;\" x=\"242.80633\" xlink:href=\"#me0a97321cd\" y=\"208.809254\"/>\r\n     <use style=\"fill:#8dd3c7;fill-opacity:0.8;stroke:#8dd3c7;stroke-opacity:0.8;\" x=\"242.80633\" xlink:href=\"#me0a97321cd\" y=\"210.010636\"/>\r\n     <use style=\"fill:#8dd3c7;fill-opacity:0.8;stroke:#8dd3c7;stroke-opacity:0.8;\" x=\"242.80633\" xlink:href=\"#me0a97321cd\" y=\"152.878247\"/>\r\n     <use style=\"fill:#8dd3c7;fill-opacity:0.8;stroke:#8dd3c7;stroke-opacity:0.8;\" x=\"130.761542\" xlink:href=\"#me0a97321cd\" y=\"205.741286\"/>\r\n     <use style=\"fill:#8dd3c7;fill-opacity:0.8;stroke:#8dd3c7;stroke-opacity:0.8;\" x=\"130.761542\" xlink:href=\"#me0a97321cd\" y=\"191.191215\"/>\r\n     <use style=\"fill:#8dd3c7;fill-opacity:0.8;stroke:#8dd3c7;stroke-opacity:0.8;\" x=\"98.748746\" xlink:href=\"#me0a97321cd\" y=\"120.100547\"/>\r\n     <use style=\"fill:#8dd3c7;fill-opacity:0.8;stroke:#8dd3c7;stroke-opacity:0.8;\" x=\"98.748746\" xlink:href=\"#me0a97321cd\" y=\"46.015323\"/>\r\n     <use style=\"fill:#8dd3c7;fill-opacity:0.8;stroke:#8dd3c7;stroke-opacity:0.8;\" x=\"226.799932\" xlink:href=\"#me0a97321cd\" y=\"418.496026\"/>\r\n     <use style=\"fill:#8dd3c7;fill-opacity:0.8;stroke:#8dd3c7;stroke-opacity:0.8;\" x=\"498.908702\" xlink:href=\"#me0a97321cd\" y=\"370.850092\"/>\r\n     <use style=\"fill:#8dd3c7;fill-opacity:0.8;stroke:#8dd3c7;stroke-opacity:0.8;\" x=\"450.889507\" xlink:href=\"#me0a97321cd\" y=\"398.635391\"/>\r\n     <use style=\"fill:#8dd3c7;fill-opacity:0.8;stroke:#8dd3c7;stroke-opacity:0.8;\" x=\"450.889507\" xlink:href=\"#me0a97321cd\" y=\"390.626177\"/>\r\n     <use style=\"fill:#8dd3c7;fill-opacity:0.8;stroke:#8dd3c7;stroke-opacity:0.8;\" x=\"322.838321\" xlink:href=\"#me0a97321cd\" y=\"483.297233\"/>\r\n     <use style=\"fill:#8dd3c7;fill-opacity:0.8;stroke:#8dd3c7;stroke-opacity:0.8;\" x=\"322.838321\" xlink:href=\"#me0a97321cd\" y=\"445.420327\"/>\r\n     <use style=\"fill:#8dd3c7;fill-opacity:0.8;stroke:#8dd3c7;stroke-opacity:0.8;\" x=\"354.851118\" xlink:href=\"#me0a97321cd\" y=\"442.359026\"/>\r\n     <use style=\"fill:#8dd3c7;fill-opacity:0.8;stroke:#8dd3c7;stroke-opacity:0.8;\" x=\"226.799932\" xlink:href=\"#me0a97321cd\" y=\"483.137053\"/>\r\n     <use style=\"fill:#8dd3c7;fill-opacity:0.8;stroke:#8dd3c7;stroke-opacity:0.8;\" x=\"226.799932\" xlink:href=\"#me0a97321cd\" y=\"445.760723\"/>\r\n     <use style=\"fill:#8dd3c7;fill-opacity:0.8;stroke:#8dd3c7;stroke-opacity:0.8;\" x=\"226.799932\" xlink:href=\"#me0a97321cd\" y=\"452.101351\"/>\r\n     <use style=\"fill:#8dd3c7;fill-opacity:0.8;stroke:#8dd3c7;stroke-opacity:0.8;\" x=\"354.851118\" xlink:href=\"#me0a97321cd\" y=\"467.554677\"/>\r\n     <use style=\"fill:#8dd3c7;fill-opacity:0.8;stroke:#8dd3c7;stroke-opacity:0.8;\" x=\"354.851118\" xlink:href=\"#me0a97321cd\" y=\"447.531644\"/>\r\n     <use style=\"fill:#8dd3c7;fill-opacity:0.8;stroke:#8dd3c7;stroke-opacity:0.8;\" x=\"322.838321\" xlink:href=\"#me0a97321cd\" y=\"456.766713\"/>\r\n     <use style=\"fill:#8dd3c7;fill-opacity:0.8;stroke:#8dd3c7;stroke-opacity:0.8;\" x=\"322.838321\" xlink:href=\"#me0a97321cd\" y=\"456.766713\"/>\r\n     <use style=\"fill:#8dd3c7;fill-opacity:0.8;stroke:#8dd3c7;stroke-opacity:0.8;\" x=\"434.883109\" xlink:href=\"#me0a97321cd\" y=\"423.859964\"/>\r\n     <use style=\"fill:#8dd3c7;fill-opacity:0.8;stroke:#8dd3c7;stroke-opacity:0.8;\" x=\"642.966286\" xlink:href=\"#me0a97321cd\" y=\"218.915306\"/>\r\n     <use style=\"fill:#8dd3c7;fill-opacity:0.8;stroke:#8dd3c7;stroke-opacity:0.8;\" x=\"434.883109\" xlink:href=\"#me0a97321cd\" y=\"404.671224\"/>\r\n     <use style=\"fill:#8dd3c7;fill-opacity:0.8;stroke:#8dd3c7;stroke-opacity:0.8;\" x=\"434.883109\" xlink:href=\"#me0a97321cd\" y=\"401.334051\"/>\r\n     <use style=\"fill:#8dd3c7;fill-opacity:0.8;stroke:#8dd3c7;stroke-opacity:0.8;\" x=\"434.883109\" xlink:href=\"#me0a97321cd\" y=\"392.991121\"/>\r\n     <use style=\"fill:#8dd3c7;fill-opacity:0.8;stroke:#8dd3c7;stroke-opacity:0.8;\" x=\"434.883109\" xlink:href=\"#me0a97321cd\" y=\"393.825414\"/>\r\n     <use style=\"fill:#8dd3c7;fill-opacity:0.8;stroke:#8dd3c7;stroke-opacity:0.8;\" x=\"434.883109\" xlink:href=\"#me0a97321cd\" y=\"385.482483\"/>\r\n     <use style=\"fill:#8dd3c7;fill-opacity:0.8;stroke:#8dd3c7;stroke-opacity:0.8;\" x=\"434.883109\" xlink:href=\"#me0a97321cd\" y=\"390.488242\"/>\r\n     <use style=\"fill:#8dd3c7;fill-opacity:0.8;stroke:#8dd3c7;stroke-opacity:0.8;\" x=\"434.883109\" xlink:href=\"#me0a97321cd\" y=\"382.145311\"/>\r\n     <use style=\"fill:#8dd3c7;fill-opacity:0.8;stroke:#8dd3c7;stroke-opacity:0.8;\" x=\"434.883109\" xlink:href=\"#me0a97321cd\" y=\"377.973845\"/>\r\n     <use style=\"fill:#8dd3c7;fill-opacity:0.8;stroke:#8dd3c7;stroke-opacity:0.8;\" x=\"386.863914\" xlink:href=\"#me0a97321cd\" y=\"407.42773\"/>\r\n     <use style=\"fill:#8dd3c7;fill-opacity:0.8;stroke:#8dd3c7;stroke-opacity:0.8;\" x=\"386.863914\" xlink:href=\"#me0a97321cd\" y=\"397.416213\"/>\r\n     <use style=\"fill:#8dd3c7;fill-opacity:0.8;stroke:#8dd3c7;stroke-opacity:0.8;\" x=\"194.787135\" xlink:href=\"#me0a97321cd\" y=\"496.043012\"/>\r\n     <use style=\"fill:#8dd3c7;fill-opacity:0.8;stroke:#8dd3c7;stroke-opacity:0.8;\" x=\"194.787135\" xlink:href=\"#me0a97321cd\" y=\"481.025737\"/>\r\n     <use style=\"fill:#8dd3c7;fill-opacity:0.8;stroke:#8dd3c7;stroke-opacity:0.8;\" x=\"242.80633\" xlink:href=\"#me0a97321cd\" y=\"454.909024\"/>\r\n     <use style=\"fill:#8dd3c7;fill-opacity:0.8;stroke:#8dd3c7;stroke-opacity:0.8;\" x=\"242.80633\" xlink:href=\"#me0a97321cd\" y=\"393.171337\"/>\r\n     <use style=\"fill:#8dd3c7;fill-opacity:0.8;stroke:#8dd3c7;stroke-opacity:0.8;\" x=\"210.793534\" xlink:href=\"#me0a97321cd\" y=\"378.879342\"/>\r\n     <use style=\"fill:#8dd3c7;fill-opacity:0.8;stroke:#8dd3c7;stroke-opacity:0.8;\" x=\"242.80633\" xlink:href=\"#me0a97321cd\" y=\"373.148303\"/>\r\n     <use style=\"fill:#8dd3c7;fill-opacity:0.8;stroke:#8dd3c7;stroke-opacity:0.8;\" x=\"226.799932\" xlink:href=\"#me0a97321cd\" y=\"495.301046\"/>\r\n     <use style=\"fill:#8dd3c7;fill-opacity:0.8;stroke:#8dd3c7;stroke-opacity:0.8;\" x=\"370.857516\" xlink:href=\"#me0a97321cd\" y=\"350.207463\"/>\r\n     <use style=\"fill:#8dd3c7;fill-opacity:0.8;stroke:#8dd3c7;stroke-opacity:0.8;\" x=\"226.799932\" xlink:href=\"#me0a97321cd\" y=\"486.290681\"/>\r\n     <use style=\"fill:#8dd3c7;fill-opacity:0.8;stroke:#8dd3c7;stroke-opacity:0.8;\" x=\"242.80633\" xlink:href=\"#me0a97321cd\" y=\"448.885428\"/>\r\n     <use style=\"fill:#8dd3c7;fill-opacity:0.8;stroke:#8dd3c7;stroke-opacity:0.8;\" x=\"226.799932\" xlink:href=\"#me0a97321cd\" y=\"433.897076\"/>\r\n     <use style=\"fill:#8dd3c7;fill-opacity:0.8;stroke:#8dd3c7;stroke-opacity:0.8;\" x=\"370.857516\" xlink:href=\"#me0a97321cd\" y=\"288.469775\"/>\r\n     <use style=\"fill:#8dd3c7;fill-opacity:0.8;stroke:#8dd3c7;stroke-opacity:0.8;\" x=\"226.799932\" xlink:href=\"#me0a97321cd\" y=\"415.29234\"/>\r\n     <use style=\"fill:#8dd3c7;fill-opacity:0.8;stroke:#8dd3c7;stroke-opacity:0.8;\" x=\"242.80633\" xlink:href=\"#me0a97321cd\" y=\"395.240384\"/>\r\n     <use style=\"fill:#8dd3c7;fill-opacity:0.8;stroke:#8dd3c7;stroke-opacity:0.8;\" x=\"226.799932\" xlink:href=\"#me0a97321cd\" y=\"416.376921\"/>\r\n     <use style=\"fill:#8dd3c7;fill-opacity:0.8;stroke:#8dd3c7;stroke-opacity:0.8;\" x=\"370.857516\" xlink:href=\"#me0a97321cd\" y=\"270.949621\"/>\r\n     <use style=\"fill:#8dd3c7;fill-opacity:0.8;stroke:#8dd3c7;stroke-opacity:0.8;\" x=\"226.799932\" xlink:href=\"#me0a97321cd\" y=\"391.014412\"/>\r\n     <use style=\"fill:#8dd3c7;fill-opacity:0.8;stroke:#8dd3c7;stroke-opacity:0.8;\" x=\"498.908702\" xlink:href=\"#me0a97321cd\" y=\"367.796579\"/>\r\n     <use style=\"fill:#8dd3c7;fill-opacity:0.8;stroke:#8dd3c7;stroke-opacity:0.8;\" x=\"322.838321\" xlink:href=\"#me0a97321cd\" y=\"478.825422\"/>\r\n     <use style=\"fill:#8dd3c7;fill-opacity:0.8;stroke:#8dd3c7;stroke-opacity:0.8;\" x=\"450.889507\" xlink:href=\"#me0a97321cd\" y=\"397.967956\"/>\r\n     <use style=\"fill:#8dd3c7;fill-opacity:0.8;stroke:#8dd3c7;stroke-opacity:0.8;\" x=\"450.889507\" xlink:href=\"#me0a97321cd\" y=\"390.242402\"/>\r\n     <use style=\"fill:#8dd3c7;fill-opacity:0.8;stroke:#8dd3c7;stroke-opacity:0.8;\" x=\"450.889507\" xlink:href=\"#me0a97321cd\" y=\"374.941467\"/>\r\n     <use style=\"fill:#8dd3c7;fill-opacity:0.8;stroke:#8dd3c7;stroke-opacity:0.8;\" x=\"322.838321\" xlink:href=\"#me0a97321cd\" y=\"462.740251\"/>\r\n     <use style=\"fill:#8dd3c7;fill-opacity:0.8;stroke:#8dd3c7;stroke-opacity:0.8;\" x=\"226.799932\" xlink:href=\"#me0a97321cd\" y=\"480.884462\"/>\r\n     <use style=\"fill:#8dd3c7;fill-opacity:0.8;stroke:#8dd3c7;stroke-opacity:0.8;\" x=\"274.819127\" xlink:href=\"#me0a97321cd\" y=\"285.339512\"/>\r\n     <use style=\"fill:#8dd3c7;fill-opacity:0.8;stroke:#8dd3c7;stroke-opacity:0.8;\" x=\"242.80633\" xlink:href=\"#me0a97321cd\" y=\"137.393767\"/>\r\n     <use style=\"fill:#8dd3c7;fill-opacity:0.8;stroke:#8dd3c7;stroke-opacity:0.8;\" x=\"242.80633\" xlink:href=\"#me0a97321cd\" y=\"112.364975\"/>\r\n     <use style=\"fill:#8dd3c7;fill-opacity:0.8;stroke:#8dd3c7;stroke-opacity:0.8;\" x=\"242.80633\" xlink:href=\"#me0a97321cd\" y=\"62.307391\"/>\r\n     <use style=\"fill:#8dd3c7;fill-opacity:0.8;stroke:#8dd3c7;stroke-opacity:0.8;\" x=\"338.84472\" xlink:href=\"#me0a97321cd\" y=\"442.78841\"/>\r\n     <use style=\"fill:#8dd3c7;fill-opacity:0.8;stroke:#8dd3c7;stroke-opacity:0.8;\" x=\"338.84472\" xlink:href=\"#me0a97321cd\" y=\"432.776893\"/>\r\n     <use style=\"fill:#8dd3c7;fill-opacity:0.8;stroke:#8dd3c7;stroke-opacity:0.8;\" x=\"290.825525\" xlink:href=\"#me0a97321cd\" y=\"441.290022\"/>\r\n     <use style=\"fill:#8dd3c7;fill-opacity:0.8;stroke:#8dd3c7;stroke-opacity:0.8;\" x=\"290.825525\" xlink:href=\"#me0a97321cd\" y=\"435.950546\"/>\r\n     <use style=\"fill:#8dd3c7;fill-opacity:0.8;stroke:#8dd3c7;stroke-opacity:0.8;\" x=\"290.825525\" xlink:href=\"#me0a97321cd\" y=\"388.062124\"/>\r\n     <use style=\"fill:#8dd3c7;fill-opacity:0.8;stroke:#8dd3c7;stroke-opacity:0.8;\" x=\"290.825525\" xlink:href=\"#me0a97321cd\" y=\"380.219769\"/>\r\n     <use style=\"fill:#8dd3c7;fill-opacity:0.8;stroke:#8dd3c7;stroke-opacity:0.8;\" x=\"258.812728\" xlink:href=\"#me0a97321cd\" y=\"363.591754\"/>\r\n     <use style=\"fill:#8dd3c7;fill-opacity:0.8;stroke:#8dd3c7;stroke-opacity:0.8;\" x=\"258.812728\" xlink:href=\"#me0a97321cd\" y=\"355.749399\"/>\r\n     <use style=\"fill:#8dd3c7;fill-opacity:0.8;stroke:#8dd3c7;stroke-opacity:0.8;\" x=\"418.876711\" xlink:href=\"#me0a97321cd\" y=\"443.928607\"/>\r\n     <use style=\"fill:#8dd3c7;fill-opacity:0.8;stroke:#8dd3c7;stroke-opacity:0.8;\" x=\"338.84472\" xlink:href=\"#me0a97321cd\" y=\"480.198111\"/>\r\n     <use style=\"fill:#8dd3c7;fill-opacity:0.8;stroke:#8dd3c7;stroke-opacity:0.8;\" x=\"338.84472\" xlink:href=\"#me0a97321cd\" y=\"471.020888\"/>\r\n     <use style=\"fill:#8dd3c7;fill-opacity:0.8;stroke:#8dd3c7;stroke-opacity:0.8;\" x=\"434.883109\" xlink:href=\"#me0a97321cd\" y=\"396.712068\"/>\r\n     <use style=\"fill:#8dd3c7;fill-opacity:0.8;stroke:#8dd3c7;stroke-opacity:0.8;\" x=\"370.857516\" xlink:href=\"#me0a97321cd\" y=\"440.728261\"/>\r\n     <use style=\"fill:#8dd3c7;fill-opacity:0.8;stroke:#8dd3c7;stroke-opacity:0.8;\" x=\"354.851118\" xlink:href=\"#me0a97321cd\" y=\"417.980983\"/>\r\n     <use style=\"fill:#8dd3c7;fill-opacity:0.8;stroke:#8dd3c7;stroke-opacity:0.8;\" x=\"242.80633\" xlink:href=\"#me0a97321cd\" y=\"526.090909\"/>\r\n     <use style=\"fill:#8dd3c7;fill-opacity:0.8;stroke:#8dd3c7;stroke-opacity:0.8;\" x=\"306.831923\" xlink:href=\"#me0a97321cd\" y=\"437.440037\"/>\r\n     <use style=\"fill:#8dd3c7;fill-opacity:0.8;stroke:#8dd3c7;stroke-opacity:0.8;\" x=\"354.851118\" xlink:href=\"#me0a97321cd\" y=\"459.645579\"/>\r\n     <use style=\"fill:#8dd3c7;fill-opacity:0.8;stroke:#8dd3c7;stroke-opacity:0.8;\" x=\"338.84472\" xlink:href=\"#me0a97321cd\" y=\"427.721077\"/>\r\n     <use style=\"fill:#8dd3c7;fill-opacity:0.8;stroke:#8dd3c7;stroke-opacity:0.8;\" x=\"306.831923\" xlink:href=\"#me0a97321cd\" y=\"491.602343\"/>\r\n     <use style=\"fill:#8dd3c7;fill-opacity:0.8;stroke:#8dd3c7;stroke-opacity:0.8;\" x=\"210.793534\" xlink:href=\"#me0a97321cd\" y=\"512.449663\"/>\r\n     <use style=\"fill:#8dd3c7;fill-opacity:0.8;stroke:#8dd3c7;stroke-opacity:0.8;\" x=\"466.895905\" xlink:href=\"#me0a97321cd\" y=\"398.956871\"/>\r\n     <use style=\"fill:#8dd3c7;fill-opacity:0.8;stroke:#8dd3c7;stroke-opacity:0.8;\" x=\"450.889507\" xlink:href=\"#me0a97321cd\" y=\"396.149197\"/>\r\n     <use style=\"fill:#8dd3c7;fill-opacity:0.8;stroke:#8dd3c7;stroke-opacity:0.8;\" x=\"450.889507\" xlink:href=\"#me0a97321cd\" y=\"393.646318\"/>\r\n     <use style=\"fill:#8dd3c7;fill-opacity:0.8;stroke:#8dd3c7;stroke-opacity:0.8;\" x=\"434.883109\" xlink:href=\"#me0a97321cd\" y=\"400.182727\"/>\r\n     <use style=\"fill:#8dd3c7;fill-opacity:0.8;stroke:#8dd3c7;stroke-opacity:0.8;\" x=\"354.851118\" xlink:href=\"#me0a97321cd\" y=\"452.387229\"/>\r\n     <use style=\"fill:#8dd3c7;fill-opacity:0.8;stroke:#8dd3c7;stroke-opacity:0.8;\" x=\"354.851118\" xlink:href=\"#me0a97321cd\" y=\"437.703671\"/>\r\n     <use style=\"fill:#8dd3c7;fill-opacity:0.8;stroke:#8dd3c7;stroke-opacity:0.8;\" x=\"434.883109\" xlink:href=\"#me0a97321cd\" y=\"399.84901\"/>\r\n     <use style=\"fill:#8dd3c7;fill-opacity:0.8;stroke:#8dd3c7;stroke-opacity:0.8;\" x=\"434.883109\" xlink:href=\"#me0a97321cd\" y=\"395.510686\"/>\r\n     <use style=\"fill:#8dd3c7;fill-opacity:0.8;stroke:#8dd3c7;stroke-opacity:0.8;\" x=\"418.876711\" xlink:href=\"#me0a97321cd\" y=\"397.541912\"/>\r\n     <use style=\"fill:#8dd3c7;fill-opacity:0.8;stroke:#8dd3c7;stroke-opacity:0.8;\" x=\"594.947091\" xlink:href=\"#me0a97321cd\" y=\"248.552735\"/>\r\n     <use style=\"fill:#8dd3c7;fill-opacity:0.8;stroke:#8dd3c7;stroke-opacity:0.8;\" x=\"594.947091\" xlink:href=\"#me0a97321cd\" y=\"249.387028\"/>\r\n     <use style=\"fill:#8dd3c7;fill-opacity:0.8;stroke:#8dd3c7;stroke-opacity:0.8;\" x=\"386.863914\" xlink:href=\"#me0a97321cd\" y=\"417.289074\"/>\r\n     <use style=\"fill:#8dd3c7;fill-opacity:0.8;stroke:#8dd3c7;stroke-opacity:0.8;\" x=\"386.863914\" xlink:href=\"#me0a97321cd\" y=\"402.271799\"/>\r\n     <use style=\"fill:#8dd3c7;fill-opacity:0.8;stroke:#8dd3c7;stroke-opacity:0.8;\" x=\"386.863914\" xlink:href=\"#me0a97321cd\" y=\"422.294833\"/>\r\n     <use style=\"fill:#8dd3c7;fill-opacity:0.8;stroke:#8dd3c7;stroke-opacity:0.8;\" x=\"386.863914\" xlink:href=\"#me0a97321cd\" y=\"419.291378\"/>\r\n     <use style=\"fill:#8dd3c7;fill-opacity:0.8;stroke:#8dd3c7;stroke-opacity:0.8;\" x=\"306.831923\" xlink:href=\"#me0a97321cd\" y=\"470.161011\"/>\r\n     <use style=\"fill:#8dd3c7;fill-opacity:0.8;stroke:#8dd3c7;stroke-opacity:0.8;\" x=\"306.831923\" xlink:href=\"#me0a97321cd\" y=\"466.156404\"/>\r\n     <use style=\"fill:#8dd3c7;fill-opacity:0.8;stroke:#8dd3c7;stroke-opacity:0.8;\" x=\"322.838321\" xlink:href=\"#me0a97321cd\" y=\"470.615978\"/>\r\n     <use style=\"fill:#8dd3c7;fill-opacity:0.8;stroke:#8dd3c7;stroke-opacity:0.8;\" x=\"322.838321\" xlink:href=\"#me0a97321cd\" y=\"450.759803\"/>\r\n     <use style=\"fill:#8dd3c7;fill-opacity:0.8;stroke:#8dd3c7;stroke-opacity:0.8;\" x=\"322.838321\" xlink:href=\"#me0a97321cd\" y=\"444.919751\"/>\r\n     <use style=\"fill:#8dd3c7;fill-opacity:0.8;stroke:#8dd3c7;stroke-opacity:0.8;\" x=\"322.838321\" xlink:href=\"#me0a97321cd\" y=\"424.729859\"/>\r\n     <use style=\"fill:#8dd3c7;fill-opacity:0.8;stroke:#8dd3c7;stroke-opacity:0.8;\" x=\"322.838321\" xlink:href=\"#me0a97321cd\" y=\"418.889808\"/>\r\n     <use style=\"fill:#8dd3c7;fill-opacity:0.8;stroke:#8dd3c7;stroke-opacity:0.8;\" x=\"322.838321\" xlink:href=\"#me0a97321cd\" y=\"316.772336\"/>\r\n     <use style=\"fill:#8dd3c7;fill-opacity:0.8;stroke:#8dd3c7;stroke-opacity:0.8;\" x=\"386.863914\" xlink:href=\"#me0a97321cd\" y=\"407.444416\"/>\r\n     <use style=\"fill:#8dd3c7;fill-opacity:0.8;stroke:#8dd3c7;stroke-opacity:0.8;\" x=\"370.857516\" xlink:href=\"#me0a97321cd\" y=\"391.955488\"/>\r\n     <use style=\"fill:#8dd3c7;fill-opacity:0.8;stroke:#8dd3c7;stroke-opacity:0.8;\" x=\"354.851118\" xlink:href=\"#me0a97321cd\" y=\"417.513779\"/>\r\n     <use style=\"fill:#8dd3c7;fill-opacity:0.8;stroke:#8dd3c7;stroke-opacity:0.8;\" x=\"354.851118\" xlink:href=\"#me0a97321cd\" y=\"402.329645\"/>\r\n     <use style=\"fill:#8dd3c7;fill-opacity:0.8;stroke:#8dd3c7;stroke-opacity:0.8;\" x=\"354.851118\" xlink:href=\"#me0a97321cd\" y=\"396.489593\"/>\r\n     <use style=\"fill:#8dd3c7;fill-opacity:0.8;stroke:#8dd3c7;stroke-opacity:0.8;\" x=\"226.799932\" xlink:href=\"#me0a97321cd\" y=\"417.578303\"/>\r\n     <use style=\"fill:#8dd3c7;fill-opacity:0.8;stroke:#8dd3c7;stroke-opacity:0.8;\" x=\"226.799932\" xlink:href=\"#me0a97321cd\" y=\"426.922386\"/>\r\n     <use style=\"fill:#8dd3c7;fill-opacity:0.8;stroke:#8dd3c7;stroke-opacity:0.8;\" x=\"226.799932\" xlink:href=\"#me0a97321cd\" y=\"432.061631\"/>\r\n     <use style=\"fill:#8dd3c7;fill-opacity:0.8;stroke:#8dd3c7;stroke-opacity:0.8;\" x=\"226.799932\" xlink:href=\"#me0a97321cd\" y=\"431.06048\"/>\r\n     <use style=\"fill:#8dd3c7;fill-opacity:0.8;stroke:#8dd3c7;stroke-opacity:0.8;\" x=\"578.940693\" xlink:href=\"#me0a97321cd\" y=\"262.48098\"/>\r\n     <use style=\"fill:#8dd3c7;fill-opacity:0.8;stroke:#8dd3c7;stroke-opacity:0.8;\" x=\"386.863914\" xlink:href=\"#me0a97321cd\" y=\"423.679759\"/>\r\n     <use style=\"fill:#8dd3c7;fill-opacity:0.8;stroke:#8dd3c7;stroke-opacity:0.8;\" x=\"578.940693\" xlink:href=\"#me0a97321cd\" y=\"258.810091\"/>\r\n     <use style=\"fill:#8dd3c7;fill-opacity:0.8;stroke:#8dd3c7;stroke-opacity:0.8;\" x=\"386.863914\" xlink:href=\"#me0a97321cd\" y=\"420.00887\"/>\r\n     <use style=\"fill:#8dd3c7;fill-opacity:0.8;stroke:#8dd3c7;stroke-opacity:0.8;\" x=\"386.863914\" xlink:href=\"#me0a97321cd\" y=\"415.003111\"/>\r\n     <use style=\"fill:#8dd3c7;fill-opacity:0.8;stroke:#8dd3c7;stroke-opacity:0.8;\" x=\"514.9151\" xlink:href=\"#me0a97321cd\" y=\"288.626616\"/>\r\n     <use style=\"fill:#8dd3c7;fill-opacity:0.8;stroke:#8dd3c7;stroke-opacity:0.8;\" x=\"354.851118\" xlink:href=\"#me0a97321cd\" y=\"417.396978\"/>\r\n     <use style=\"fill:#8dd3c7;fill-opacity:0.8;stroke:#8dd3c7;stroke-opacity:0.8;\" x=\"306.831923\" xlink:href=\"#me0a97321cd\" y=\"431.833587\"/>\r\n     <use style=\"fill:#8dd3c7;fill-opacity:0.8;stroke:#8dd3c7;stroke-opacity:0.8;\" x=\"306.831923\" xlink:href=\"#me0a97321cd\" y=\"458.781254\"/>\r\n     <use style=\"fill:#8dd3c7;fill-opacity:0.8;stroke:#8dd3c7;stroke-opacity:0.8;\" x=\"226.799932\" xlink:href=\"#me0a97321cd\" y=\"472.024269\"/>\r\n     <use style=\"fill:#8dd3c7;fill-opacity:0.8;stroke:#8dd3c7;stroke-opacity:0.8;\" x=\"450.889507\" xlink:href=\"#me0a97321cd\" y=\"270.888436\"/>\r\n     <use style=\"fill:#8dd3c7;fill-opacity:0.8;stroke:#8dd3c7;stroke-opacity:0.8;\" x=\"338.84472\" xlink:href=\"#me0a97321cd\" y=\"392.814255\"/>\r\n     <use style=\"fill:#8dd3c7;fill-opacity:0.8;stroke:#8dd3c7;stroke-opacity:0.8;\" x=\"290.825525\" xlink:href=\"#me0a97321cd\" y=\"423.102433\"/>\r\n     <use style=\"fill:#8dd3c7;fill-opacity:0.8;stroke:#8dd3c7;stroke-opacity:0.8;\" x=\"290.825525\" xlink:href=\"#me0a97321cd\" y=\"415.176649\"/>\r\n     <use style=\"fill:#8dd3c7;fill-opacity:0.8;stroke:#8dd3c7;stroke-opacity:0.8;\" x=\"290.825525\" xlink:href=\"#me0a97321cd\" y=\"372.293985\"/>\r\n     <use style=\"fill:#8dd3c7;fill-opacity:0.8;stroke:#8dd3c7;stroke-opacity:0.8;\" x=\"290.825525\" xlink:href=\"#me0a97321cd\" y=\"363.450478\"/>\r\n     <use style=\"fill:#8dd3c7;fill-opacity:0.8;stroke:#8dd3c7;stroke-opacity:0.8;\" x=\"194.787135\" xlink:href=\"#me0a97321cd\" y=\"413.931888\"/>\r\n     <use style=\"fill:#8dd3c7;fill-opacity:0.8;stroke:#8dd3c7;stroke-opacity:0.8;\" x=\"194.787135\" xlink:href=\"#me0a97321cd\" y=\"405.088382\"/>\r\n     <use style=\"fill:#8dd3c7;fill-opacity:0.8;stroke:#8dd3c7;stroke-opacity:0.8;\" x=\"290.825525\" xlink:href=\"#me0a97321cd\" y=\"357.944144\"/>\r\n     <use style=\"fill:#8dd3c7;fill-opacity:0.8;stroke:#8dd3c7;stroke-opacity:0.8;\" x=\"242.80633\" xlink:href=\"#me0a97321cd\" y=\"362.369237\"/>\r\n     <use style=\"fill:#8dd3c7;fill-opacity:0.8;stroke:#8dd3c7;stroke-opacity:0.8;\" x=\"210.793534\" xlink:href=\"#me0a97321cd\" y=\"349.078394\"/>\r\n     <use style=\"fill:#8dd3c7;fill-opacity:0.8;stroke:#8dd3c7;stroke-opacity:0.8;\" x=\"274.819127\" xlink:href=\"#me0a97321cd\" y=\"277.797503\"/>\r\n     <use style=\"fill:#8dd3c7;fill-opacity:0.8;stroke:#8dd3c7;stroke-opacity:0.8;\" x=\"242.80633\" xlink:href=\"#me0a97321cd\" y=\"302.633853\"/>\r\n    </g>\r\n   </g>\r\n   <g id=\"matplotlib.axis_1\">\r\n    <g id=\"xtick_1\">\r\n     <g id=\"line2d_1\">\r\n      <defs>\r\n       <path d=\"M 0 0 \r\nL 0 3.5 \r\n\" id=\"mfa8ac0ab57\" style=\"stroke:#ffffff;stroke-width:0.8;\"/>\r\n      </defs>\r\n      <g>\r\n       <use style=\"fill:#ffffff;stroke:#ffffff;stroke-width:0.8;\" x=\"82.742348\" xlink:href=\"#mfa8ac0ab57\" y=\"550.8\"/>\r\n      </g>\r\n     </g>\r\n     <g id=\"text_1\">\r\n      <!-- 15 -->\r\n      <defs>\r\n       <path d=\"M 12.40625 8.296875 \r\nL 28.515625 8.296875 \r\nL 28.515625 63.921875 \r\nL 10.984375 60.40625 \r\nL 10.984375 69.390625 \r\nL 28.421875 72.90625 \r\nL 38.28125 72.90625 \r\nL 38.28125 8.296875 \r\nL 54.390625 8.296875 \r\nL 54.390625 0 \r\nL 12.40625 0 \r\nz\r\n\" id=\"DejaVuSans-49\"/>\r\n       <path d=\"M 10.796875 72.90625 \r\nL 49.515625 72.90625 \r\nL 49.515625 64.59375 \r\nL 19.828125 64.59375 \r\nL 19.828125 46.734375 \r\nQ 21.96875 47.46875 24.109375 47.828125 \r\nQ 26.265625 48.1875 28.421875 48.1875 \r\nQ 40.625 48.1875 47.75 41.5 \r\nQ 54.890625 34.8125 54.890625 23.390625 \r\nQ 54.890625 11.625 47.5625 5.09375 \r\nQ 40.234375 -1.421875 26.90625 -1.421875 \r\nQ 22.3125 -1.421875 17.546875 -0.640625 \r\nQ 12.796875 0.140625 7.71875 1.703125 \r\nL 7.71875 11.625 \r\nQ 12.109375 9.234375 16.796875 8.0625 \r\nQ 21.484375 6.890625 26.703125 6.890625 \r\nQ 35.15625 6.890625 40.078125 11.328125 \r\nQ 45.015625 15.765625 45.015625 23.390625 \r\nQ 45.015625 31 40.078125 35.4375 \r\nQ 35.15625 39.890625 26.703125 39.890625 \r\nQ 22.75 39.890625 18.8125 39.015625 \r\nQ 14.890625 38.140625 10.796875 36.28125 \r\nz\r\n\" id=\"DejaVuSans-53\"/>\r\n      </defs>\r\n      <g style=\"fill:#ffffff;\" transform=\"translate(76.379848 565.398438)scale(0.1 -0.1)\">\r\n       <use xlink:href=\"#DejaVuSans-49\"/>\r\n       <use x=\"63.623047\" xlink:href=\"#DejaVuSans-53\"/>\r\n      </g>\r\n     </g>\r\n    </g>\r\n    <g id=\"xtick_2\">\r\n     <g id=\"line2d_2\">\r\n      <g>\r\n       <use style=\"fill:#ffffff;stroke:#ffffff;stroke-width:0.8;\" x=\"162.774339\" xlink:href=\"#mfa8ac0ab57\" y=\"550.8\"/>\r\n      </g>\r\n     </g>\r\n     <g id=\"text_2\">\r\n      <!-- 20 -->\r\n      <defs>\r\n       <path d=\"M 19.1875 8.296875 \r\nL 53.609375 8.296875 \r\nL 53.609375 0 \r\nL 7.328125 0 \r\nL 7.328125 8.296875 \r\nQ 12.9375 14.109375 22.625 23.890625 \r\nQ 32.328125 33.6875 34.8125 36.53125 \r\nQ 39.546875 41.84375 41.421875 45.53125 \r\nQ 43.3125 49.21875 43.3125 52.78125 \r\nQ 43.3125 58.59375 39.234375 62.25 \r\nQ 35.15625 65.921875 28.609375 65.921875 \r\nQ 23.96875 65.921875 18.8125 64.3125 \r\nQ 13.671875 62.703125 7.8125 59.421875 \r\nL 7.8125 69.390625 \r\nQ 13.765625 71.78125 18.9375 73 \r\nQ 24.125 74.21875 28.421875 74.21875 \r\nQ 39.75 74.21875 46.484375 68.546875 \r\nQ 53.21875 62.890625 53.21875 53.421875 \r\nQ 53.21875 48.921875 51.53125 44.890625 \r\nQ 49.859375 40.875 45.40625 35.40625 \r\nQ 44.1875 33.984375 37.640625 27.21875 \r\nQ 31.109375 20.453125 19.1875 8.296875 \r\nz\r\n\" id=\"DejaVuSans-50\"/>\r\n       <path d=\"M 31.78125 66.40625 \r\nQ 24.171875 66.40625 20.328125 58.90625 \r\nQ 16.5 51.421875 16.5 36.375 \r\nQ 16.5 21.390625 20.328125 13.890625 \r\nQ 24.171875 6.390625 31.78125 6.390625 \r\nQ 39.453125 6.390625 43.28125 13.890625 \r\nQ 47.125 21.390625 47.125 36.375 \r\nQ 47.125 51.421875 43.28125 58.90625 \r\nQ 39.453125 66.40625 31.78125 66.40625 \r\nz\r\nM 31.78125 74.21875 \r\nQ 44.046875 74.21875 50.515625 64.515625 \r\nQ 56.984375 54.828125 56.984375 36.375 \r\nQ 56.984375 17.96875 50.515625 8.265625 \r\nQ 44.046875 -1.421875 31.78125 -1.421875 \r\nQ 19.53125 -1.421875 13.0625 8.265625 \r\nQ 6.59375 17.96875 6.59375 36.375 \r\nQ 6.59375 54.828125 13.0625 64.515625 \r\nQ 19.53125 74.21875 31.78125 74.21875 \r\nz\r\n\" id=\"DejaVuSans-48\"/>\r\n      </defs>\r\n      <g style=\"fill:#ffffff;\" transform=\"translate(156.411839 565.398438)scale(0.1 -0.1)\">\r\n       <use xlink:href=\"#DejaVuSans-50\"/>\r\n       <use x=\"63.623047\" xlink:href=\"#DejaVuSans-48\"/>\r\n      </g>\r\n     </g>\r\n    </g>\r\n    <g id=\"xtick_3\">\r\n     <g id=\"line2d_3\">\r\n      <g>\r\n       <use style=\"fill:#ffffff;stroke:#ffffff;stroke-width:0.8;\" x=\"242.80633\" xlink:href=\"#mfa8ac0ab57\" y=\"550.8\"/>\r\n      </g>\r\n     </g>\r\n     <g id=\"text_3\">\r\n      <!-- 25 -->\r\n      <g style=\"fill:#ffffff;\" transform=\"translate(236.44383 565.398438)scale(0.1 -0.1)\">\r\n       <use xlink:href=\"#DejaVuSans-50\"/>\r\n       <use x=\"63.623047\" xlink:href=\"#DejaVuSans-53\"/>\r\n      </g>\r\n     </g>\r\n    </g>\r\n    <g id=\"xtick_4\">\r\n     <g id=\"line2d_4\">\r\n      <g>\r\n       <use style=\"fill:#ffffff;stroke:#ffffff;stroke-width:0.8;\" x=\"322.838321\" xlink:href=\"#mfa8ac0ab57\" y=\"550.8\"/>\r\n      </g>\r\n     </g>\r\n     <g id=\"text_4\">\r\n      <!-- 30 -->\r\n      <defs>\r\n       <path d=\"M 40.578125 39.3125 \r\nQ 47.65625 37.796875 51.625 33 \r\nQ 55.609375 28.21875 55.609375 21.1875 \r\nQ 55.609375 10.40625 48.1875 4.484375 \r\nQ 40.765625 -1.421875 27.09375 -1.421875 \r\nQ 22.515625 -1.421875 17.65625 -0.515625 \r\nQ 12.796875 0.390625 7.625 2.203125 \r\nL 7.625 11.71875 \r\nQ 11.71875 9.328125 16.59375 8.109375 \r\nQ 21.484375 6.890625 26.8125 6.890625 \r\nQ 36.078125 6.890625 40.9375 10.546875 \r\nQ 45.796875 14.203125 45.796875 21.1875 \r\nQ 45.796875 27.640625 41.28125 31.265625 \r\nQ 36.765625 34.90625 28.71875 34.90625 \r\nL 20.21875 34.90625 \r\nL 20.21875 43.015625 \r\nL 29.109375 43.015625 \r\nQ 36.375 43.015625 40.234375 45.921875 \r\nQ 44.09375 48.828125 44.09375 54.296875 \r\nQ 44.09375 59.90625 40.109375 62.90625 \r\nQ 36.140625 65.921875 28.71875 65.921875 \r\nQ 24.65625 65.921875 20.015625 65.03125 \r\nQ 15.375 64.15625 9.8125 62.3125 \r\nL 9.8125 71.09375 \r\nQ 15.4375 72.65625 20.34375 73.4375 \r\nQ 25.25 74.21875 29.59375 74.21875 \r\nQ 40.828125 74.21875 47.359375 69.109375 \r\nQ 53.90625 64.015625 53.90625 55.328125 \r\nQ 53.90625 49.265625 50.4375 45.09375 \r\nQ 46.96875 40.921875 40.578125 39.3125 \r\nz\r\n\" id=\"DejaVuSans-51\"/>\r\n      </defs>\r\n      <g style=\"fill:#ffffff;\" transform=\"translate(316.475821 565.398438)scale(0.1 -0.1)\">\r\n       <use xlink:href=\"#DejaVuSans-51\"/>\r\n       <use x=\"63.623047\" xlink:href=\"#DejaVuSans-48\"/>\r\n      </g>\r\n     </g>\r\n    </g>\r\n    <g id=\"xtick_5\">\r\n     <g id=\"line2d_5\">\r\n      <g>\r\n       <use style=\"fill:#ffffff;stroke:#ffffff;stroke-width:0.8;\" x=\"402.870313\" xlink:href=\"#mfa8ac0ab57\" y=\"550.8\"/>\r\n      </g>\r\n     </g>\r\n     <g id=\"text_5\">\r\n      <!-- 35 -->\r\n      <g style=\"fill:#ffffff;\" transform=\"translate(396.507813 565.398438)scale(0.1 -0.1)\">\r\n       <use xlink:href=\"#DejaVuSans-51\"/>\r\n       <use x=\"63.623047\" xlink:href=\"#DejaVuSans-53\"/>\r\n      </g>\r\n     </g>\r\n    </g>\r\n    <g id=\"xtick_6\">\r\n     <g id=\"line2d_6\">\r\n      <g>\r\n       <use style=\"fill:#ffffff;stroke:#ffffff;stroke-width:0.8;\" x=\"482.902304\" xlink:href=\"#mfa8ac0ab57\" y=\"550.8\"/>\r\n      </g>\r\n     </g>\r\n     <g id=\"text_6\">\r\n      <!-- 40 -->\r\n      <defs>\r\n       <path d=\"M 37.796875 64.3125 \r\nL 12.890625 25.390625 \r\nL 37.796875 25.390625 \r\nz\r\nM 35.203125 72.90625 \r\nL 47.609375 72.90625 \r\nL 47.609375 25.390625 \r\nL 58.015625 25.390625 \r\nL 58.015625 17.1875 \r\nL 47.609375 17.1875 \r\nL 47.609375 0 \r\nL 37.796875 0 \r\nL 37.796875 17.1875 \r\nL 4.890625 17.1875 \r\nL 4.890625 26.703125 \r\nz\r\n\" id=\"DejaVuSans-52\"/>\r\n      </defs>\r\n      <g style=\"fill:#ffffff;\" transform=\"translate(476.539804 565.398438)scale(0.1 -0.1)\">\r\n       <use xlink:href=\"#DejaVuSans-52\"/>\r\n       <use x=\"63.623047\" xlink:href=\"#DejaVuSans-48\"/>\r\n      </g>\r\n     </g>\r\n    </g>\r\n    <g id=\"xtick_7\">\r\n     <g id=\"line2d_7\">\r\n      <g>\r\n       <use style=\"fill:#ffffff;stroke:#ffffff;stroke-width:0.8;\" x=\"562.934295\" xlink:href=\"#mfa8ac0ab57\" y=\"550.8\"/>\r\n      </g>\r\n     </g>\r\n     <g id=\"text_7\">\r\n      <!-- 45 -->\r\n      <g style=\"fill:#ffffff;\" transform=\"translate(556.571795 565.398438)scale(0.1 -0.1)\">\r\n       <use xlink:href=\"#DejaVuSans-52\"/>\r\n       <use x=\"63.623047\" xlink:href=\"#DejaVuSans-53\"/>\r\n      </g>\r\n     </g>\r\n    </g>\r\n    <g id=\"xtick_8\">\r\n     <g id=\"line2d_8\">\r\n      <g>\r\n       <use style=\"fill:#ffffff;stroke:#ffffff;stroke-width:0.8;\" x=\"642.966286\" xlink:href=\"#mfa8ac0ab57\" y=\"550.8\"/>\r\n      </g>\r\n     </g>\r\n     <g id=\"text_8\">\r\n      <!-- 50 -->\r\n      <g style=\"fill:#ffffff;\" transform=\"translate(636.603786 565.398438)scale(0.1 -0.1)\">\r\n       <use xlink:href=\"#DejaVuSans-53\"/>\r\n       <use x=\"63.623047\" xlink:href=\"#DejaVuSans-48\"/>\r\n      </g>\r\n     </g>\r\n    </g>\r\n    <g id=\"xtick_9\">\r\n     <g id=\"line2d_9\">\r\n      <g>\r\n       <use style=\"fill:#ffffff;stroke:#ffffff;stroke-width:0.8;\" x=\"722.998277\" xlink:href=\"#mfa8ac0ab57\" y=\"550.8\"/>\r\n      </g>\r\n     </g>\r\n     <g id=\"text_9\">\r\n      <!-- 55 -->\r\n      <g style=\"fill:#ffffff;\" transform=\"translate(716.635777 565.398438)scale(0.1 -0.1)\">\r\n       <use xlink:href=\"#DejaVuSans-53\"/>\r\n       <use x=\"63.623047\" xlink:href=\"#DejaVuSans-53\"/>\r\n      </g>\r\n     </g>\r\n    </g>\r\n    <g id=\"text_10\">\r\n     <!-- highway-mpg -->\r\n     <defs>\r\n      <path d=\"M 54.890625 33.015625 \r\nL 54.890625 0 \r\nL 45.90625 0 \r\nL 45.90625 32.71875 \r\nQ 45.90625 40.484375 42.875 44.328125 \r\nQ 39.84375 48.1875 33.796875 48.1875 \r\nQ 26.515625 48.1875 22.3125 43.546875 \r\nQ 18.109375 38.921875 18.109375 30.90625 \r\nL 18.109375 0 \r\nL 9.078125 0 \r\nL 9.078125 75.984375 \r\nL 18.109375 75.984375 \r\nL 18.109375 46.1875 \r\nQ 21.34375 51.125 25.703125 53.5625 \r\nQ 30.078125 56 35.796875 56 \r\nQ 45.21875 56 50.046875 50.171875 \r\nQ 54.890625 44.34375 54.890625 33.015625 \r\nz\r\n\" id=\"DejaVuSans-104\"/>\r\n      <path d=\"M 9.421875 54.6875 \r\nL 18.40625 54.6875 \r\nL 18.40625 0 \r\nL 9.421875 0 \r\nz\r\nM 9.421875 75.984375 \r\nL 18.40625 75.984375 \r\nL 18.40625 64.59375 \r\nL 9.421875 64.59375 \r\nz\r\n\" id=\"DejaVuSans-105\"/>\r\n      <path d=\"M 45.40625 27.984375 \r\nQ 45.40625 37.75 41.375 43.109375 \r\nQ 37.359375 48.484375 30.078125 48.484375 \r\nQ 22.859375 48.484375 18.828125 43.109375 \r\nQ 14.796875 37.75 14.796875 27.984375 \r\nQ 14.796875 18.265625 18.828125 12.890625 \r\nQ 22.859375 7.515625 30.078125 7.515625 \r\nQ 37.359375 7.515625 41.375 12.890625 \r\nQ 45.40625 18.265625 45.40625 27.984375 \r\nz\r\nM 54.390625 6.78125 \r\nQ 54.390625 -7.171875 48.1875 -13.984375 \r\nQ 42 -20.796875 29.203125 -20.796875 \r\nQ 24.46875 -20.796875 20.265625 -20.09375 \r\nQ 16.0625 -19.390625 12.109375 -17.921875 \r\nL 12.109375 -9.1875 \r\nQ 16.0625 -11.328125 19.921875 -12.34375 \r\nQ 23.78125 -13.375 27.78125 -13.375 \r\nQ 36.625 -13.375 41.015625 -8.765625 \r\nQ 45.40625 -4.15625 45.40625 5.171875 \r\nL 45.40625 9.625 \r\nQ 42.625 4.78125 38.28125 2.390625 \r\nQ 33.9375 0 27.875 0 \r\nQ 17.828125 0 11.671875 7.65625 \r\nQ 5.515625 15.328125 5.515625 27.984375 \r\nQ 5.515625 40.671875 11.671875 48.328125 \r\nQ 17.828125 56 27.875 56 \r\nQ 33.9375 56 38.28125 53.609375 \r\nQ 42.625 51.21875 45.40625 46.390625 \r\nL 45.40625 54.6875 \r\nL 54.390625 54.6875 \r\nz\r\n\" id=\"DejaVuSans-103\"/>\r\n      <path d=\"M 4.203125 54.6875 \r\nL 13.1875 54.6875 \r\nL 24.421875 12.015625 \r\nL 35.59375 54.6875 \r\nL 46.1875 54.6875 \r\nL 57.421875 12.015625 \r\nL 68.609375 54.6875 \r\nL 77.59375 54.6875 \r\nL 63.28125 0 \r\nL 52.6875 0 \r\nL 40.921875 44.828125 \r\nL 29.109375 0 \r\nL 18.5 0 \r\nz\r\n\" id=\"DejaVuSans-119\"/>\r\n      <path d=\"M 34.28125 27.484375 \r\nQ 23.390625 27.484375 19.1875 25 \r\nQ 14.984375 22.515625 14.984375 16.5 \r\nQ 14.984375 11.71875 18.140625 8.90625 \r\nQ 21.296875 6.109375 26.703125 6.109375 \r\nQ 34.1875 6.109375 38.703125 11.40625 \r\nQ 43.21875 16.703125 43.21875 25.484375 \r\nL 43.21875 27.484375 \r\nz\r\nM 52.203125 31.203125 \r\nL 52.203125 0 \r\nL 43.21875 0 \r\nL 43.21875 8.296875 \r\nQ 40.140625 3.328125 35.546875 0.953125 \r\nQ 30.953125 -1.421875 24.3125 -1.421875 \r\nQ 15.921875 -1.421875 10.953125 3.296875 \r\nQ 6 8.015625 6 15.921875 \r\nQ 6 25.140625 12.171875 29.828125 \r\nQ 18.359375 34.515625 30.609375 34.515625 \r\nL 43.21875 34.515625 \r\nL 43.21875 35.40625 \r\nQ 43.21875 41.609375 39.140625 45 \r\nQ 35.0625 48.390625 27.6875 48.390625 \r\nQ 23 48.390625 18.546875 47.265625 \r\nQ 14.109375 46.140625 10.015625 43.890625 \r\nL 10.015625 52.203125 \r\nQ 14.9375 54.109375 19.578125 55.046875 \r\nQ 24.21875 56 28.609375 56 \r\nQ 40.484375 56 46.34375 49.84375 \r\nQ 52.203125 43.703125 52.203125 31.203125 \r\nz\r\n\" id=\"DejaVuSans-97\"/>\r\n      <path d=\"M 32.171875 -5.078125 \r\nQ 28.375 -14.84375 24.75 -17.8125 \r\nQ 21.140625 -20.796875 15.09375 -20.796875 \r\nL 7.90625 -20.796875 \r\nL 7.90625 -13.28125 \r\nL 13.1875 -13.28125 \r\nQ 16.890625 -13.28125 18.9375 -11.515625 \r\nQ 21 -9.765625 23.484375 -3.21875 \r\nL 25.09375 0.875 \r\nL 2.984375 54.6875 \r\nL 12.5 54.6875 \r\nL 29.59375 11.921875 \r\nL 46.6875 54.6875 \r\nL 56.203125 54.6875 \r\nz\r\n\" id=\"DejaVuSans-121\"/>\r\n      <path d=\"M 4.890625 31.390625 \r\nL 31.203125 31.390625 \r\nL 31.203125 23.390625 \r\nL 4.890625 23.390625 \r\nz\r\n\" id=\"DejaVuSans-45\"/>\r\n      <path d=\"M 52 44.1875 \r\nQ 55.375 50.25 60.0625 53.125 \r\nQ 64.75 56 71.09375 56 \r\nQ 79.640625 56 84.28125 50.015625 \r\nQ 88.921875 44.046875 88.921875 33.015625 \r\nL 88.921875 0 \r\nL 79.890625 0 \r\nL 79.890625 32.71875 \r\nQ 79.890625 40.578125 77.09375 44.375 \r\nQ 74.3125 48.1875 68.609375 48.1875 \r\nQ 61.625 48.1875 57.5625 43.546875 \r\nQ 53.515625 38.921875 53.515625 30.90625 \r\nL 53.515625 0 \r\nL 44.484375 0 \r\nL 44.484375 32.71875 \r\nQ 44.484375 40.625 41.703125 44.40625 \r\nQ 38.921875 48.1875 33.109375 48.1875 \r\nQ 26.21875 48.1875 22.15625 43.53125 \r\nQ 18.109375 38.875 18.109375 30.90625 \r\nL 18.109375 0 \r\nL 9.078125 0 \r\nL 9.078125 54.6875 \r\nL 18.109375 54.6875 \r\nL 18.109375 46.1875 \r\nQ 21.1875 51.21875 25.484375 53.609375 \r\nQ 29.78125 56 35.6875 56 \r\nQ 41.65625 56 45.828125 52.96875 \r\nQ 50 49.953125 52 44.1875 \r\nz\r\n\" id=\"DejaVuSans-109\"/>\r\n      <path d=\"M 18.109375 8.203125 \r\nL 18.109375 -20.796875 \r\nL 9.078125 -20.796875 \r\nL 9.078125 54.6875 \r\nL 18.109375 54.6875 \r\nL 18.109375 46.390625 \r\nQ 20.953125 51.265625 25.265625 53.625 \r\nQ 29.59375 56 35.59375 56 \r\nQ 45.5625 56 51.78125 48.09375 \r\nQ 58.015625 40.1875 58.015625 27.296875 \r\nQ 58.015625 14.40625 51.78125 6.484375 \r\nQ 45.5625 -1.421875 35.59375 -1.421875 \r\nQ 29.59375 -1.421875 25.265625 0.953125 \r\nQ 20.953125 3.328125 18.109375 8.203125 \r\nz\r\nM 48.6875 27.296875 \r\nQ 48.6875 37.203125 44.609375 42.84375 \r\nQ 40.53125 48.484375 33.40625 48.484375 \r\nQ 26.265625 48.484375 22.1875 42.84375 \r\nQ 18.109375 37.203125 18.109375 27.296875 \r\nQ 18.109375 17.390625 22.1875 11.75 \r\nQ 26.265625 6.109375 33.40625 6.109375 \r\nQ 40.53125 6.109375 44.609375 11.75 \r\nQ 48.6875 17.390625 48.6875 27.296875 \r\nz\r\n\" id=\"DejaVuSans-112\"/>\r\n     </defs>\r\n     <g style=\"fill:#ffffff;\" transform=\"translate(368.835156 579.076563)scale(0.1 -0.1)\">\r\n      <use xlink:href=\"#DejaVuSans-104\"/>\r\n      <use x=\"63.378906\" xlink:href=\"#DejaVuSans-105\"/>\r\n      <use x=\"91.162109\" xlink:href=\"#DejaVuSans-103\"/>\r\n      <use x=\"154.638672\" xlink:href=\"#DejaVuSans-104\"/>\r\n      <use x=\"218.017578\" xlink:href=\"#DejaVuSans-119\"/>\r\n      <use x=\"299.804688\" xlink:href=\"#DejaVuSans-97\"/>\r\n      <use x=\"361.083984\" xlink:href=\"#DejaVuSans-121\"/>\r\n      <use x=\"420.248047\" xlink:href=\"#DejaVuSans-45\"/>\r\n      <use x=\"456.332031\" xlink:href=\"#DejaVuSans-109\"/>\r\n      <use x=\"553.744141\" xlink:href=\"#DejaVuSans-112\"/>\r\n      <use x=\"617.220703\" xlink:href=\"#DejaVuSans-103\"/>\r\n     </g>\r\n    </g>\r\n   </g>\r\n   <g id=\"matplotlib.axis_2\">\r\n    <g id=\"ytick_1\">\r\n     <g id=\"line2d_10\">\r\n      <defs>\r\n       <path d=\"M 0 0 \r\nL -3.5 0 \r\n\" id=\"m88a2baff97\" style=\"stroke:#ffffff;stroke-width:0.8;\"/>\r\n      </defs>\r\n      <g>\r\n       <use style=\"fill:#ffffff;stroke:#ffffff;stroke-width:0.8;\" x=\"68.070312\" xlink:href=\"#m88a2baff97\" y=\"548.667357\"/>\r\n      </g>\r\n     </g>\r\n     <g id=\"text_11\">\r\n      <!-- −10000 -->\r\n      <defs>\r\n       <path d=\"M 10.59375 35.5 \r\nL 73.1875 35.5 \r\nL 73.1875 27.203125 \r\nL 10.59375 27.203125 \r\nz\r\n\" id=\"DejaVuSans-8722\"/>\r\n      </defs>\r\n      <g style=\"fill:#ffffff;\" transform=\"translate(20.878125 552.466576)scale(0.1 -0.1)\">\r\n       <use xlink:href=\"#DejaVuSans-8722\"/>\r\n       <use x=\"83.789062\" xlink:href=\"#DejaVuSans-49\"/>\r\n       <use x=\"147.412109\" xlink:href=\"#DejaVuSans-48\"/>\r\n       <use x=\"211.035156\" xlink:href=\"#DejaVuSans-48\"/>\r\n       <use x=\"274.658203\" xlink:href=\"#DejaVuSans-48\"/>\r\n       <use x=\"338.28125\" xlink:href=\"#DejaVuSans-48\"/>\r\n      </g>\r\n     </g>\r\n    </g>\r\n    <g id=\"ytick_2\">\r\n     <g id=\"line2d_11\">\r\n      <g>\r\n       <use style=\"fill:#ffffff;stroke:#ffffff;stroke-width:0.8;\" x=\"68.070312\" xlink:href=\"#m88a2baff97\" y=\"465.23805\"/>\r\n      </g>\r\n     </g>\r\n     <g id=\"text_12\">\r\n      <!-- −5000 -->\r\n      <g style=\"fill:#ffffff;\" transform=\"translate(27.240625 469.037268)scale(0.1 -0.1)\">\r\n       <use xlink:href=\"#DejaVuSans-8722\"/>\r\n       <use x=\"83.789062\" xlink:href=\"#DejaVuSans-53\"/>\r\n       <use x=\"147.412109\" xlink:href=\"#DejaVuSans-48\"/>\r\n       <use x=\"211.035156\" xlink:href=\"#DejaVuSans-48\"/>\r\n       <use x=\"274.658203\" xlink:href=\"#DejaVuSans-48\"/>\r\n      </g>\r\n     </g>\r\n    </g>\r\n    <g id=\"ytick_3\">\r\n     <g id=\"line2d_12\">\r\n      <g>\r\n       <use style=\"fill:#ffffff;stroke:#ffffff;stroke-width:0.8;\" x=\"68.070312\" xlink:href=\"#m88a2baff97\" y=\"381.808743\"/>\r\n      </g>\r\n     </g>\r\n     <g id=\"text_13\">\r\n      <!-- 0 -->\r\n      <g style=\"fill:#ffffff;\" transform=\"translate(54.707813 385.607961)scale(0.1 -0.1)\">\r\n       <use xlink:href=\"#DejaVuSans-48\"/>\r\n      </g>\r\n     </g>\r\n    </g>\r\n    <g id=\"ytick_4\">\r\n     <g id=\"line2d_13\">\r\n      <g>\r\n       <use style=\"fill:#ffffff;stroke:#ffffff;stroke-width:0.8;\" x=\"68.070312\" xlink:href=\"#m88a2baff97\" y=\"298.379436\"/>\r\n      </g>\r\n     </g>\r\n     <g id=\"text_14\">\r\n      <!-- 5000 -->\r\n      <g style=\"fill:#ffffff;\" transform=\"translate(35.620312 302.178654)scale(0.1 -0.1)\">\r\n       <use xlink:href=\"#DejaVuSans-53\"/>\r\n       <use x=\"63.623047\" xlink:href=\"#DejaVuSans-48\"/>\r\n       <use x=\"127.246094\" xlink:href=\"#DejaVuSans-48\"/>\r\n       <use x=\"190.869141\" xlink:href=\"#DejaVuSans-48\"/>\r\n      </g>\r\n     </g>\r\n    </g>\r\n    <g id=\"ytick_5\">\r\n     <g id=\"line2d_14\">\r\n      <g>\r\n       <use style=\"fill:#ffffff;stroke:#ffffff;stroke-width:0.8;\" x=\"68.070312\" xlink:href=\"#m88a2baff97\" y=\"214.950128\"/>\r\n      </g>\r\n     </g>\r\n     <g id=\"text_15\">\r\n      <!-- 10000 -->\r\n      <g style=\"fill:#ffffff;\" transform=\"translate(29.257812 218.749347)scale(0.1 -0.1)\">\r\n       <use xlink:href=\"#DejaVuSans-49\"/>\r\n       <use x=\"63.623047\" xlink:href=\"#DejaVuSans-48\"/>\r\n       <use x=\"127.246094\" xlink:href=\"#DejaVuSans-48\"/>\r\n       <use x=\"190.869141\" xlink:href=\"#DejaVuSans-48\"/>\r\n       <use x=\"254.492188\" xlink:href=\"#DejaVuSans-48\"/>\r\n      </g>\r\n     </g>\r\n    </g>\r\n    <g id=\"ytick_6\">\r\n     <g id=\"line2d_15\">\r\n      <g>\r\n       <use style=\"fill:#ffffff;stroke:#ffffff;stroke-width:0.8;\" x=\"68.070312\" xlink:href=\"#m88a2baff97\" y=\"131.520821\"/>\r\n      </g>\r\n     </g>\r\n     <g id=\"text_16\">\r\n      <!-- 15000 -->\r\n      <g style=\"fill:#ffffff;\" transform=\"translate(29.257812 135.32004)scale(0.1 -0.1)\">\r\n       <use xlink:href=\"#DejaVuSans-49\"/>\r\n       <use x=\"63.623047\" xlink:href=\"#DejaVuSans-53\"/>\r\n       <use x=\"127.246094\" xlink:href=\"#DejaVuSans-48\"/>\r\n       <use x=\"190.869141\" xlink:href=\"#DejaVuSans-48\"/>\r\n       <use x=\"254.492188\" xlink:href=\"#DejaVuSans-48\"/>\r\n      </g>\r\n     </g>\r\n    </g>\r\n    <g id=\"ytick_7\">\r\n     <g id=\"line2d_16\">\r\n      <g>\r\n       <use style=\"fill:#ffffff;stroke:#ffffff;stroke-width:0.8;\" x=\"68.070312\" xlink:href=\"#m88a2baff97\" y=\"48.091514\"/>\r\n      </g>\r\n     </g>\r\n     <g id=\"text_17\">\r\n      <!-- 20000 -->\r\n      <g style=\"fill:#ffffff;\" transform=\"translate(29.257812 51.890733)scale(0.1 -0.1)\">\r\n       <use xlink:href=\"#DejaVuSans-50\"/>\r\n       <use x=\"63.623047\" xlink:href=\"#DejaVuSans-48\"/>\r\n       <use x=\"127.246094\" xlink:href=\"#DejaVuSans-48\"/>\r\n       <use x=\"190.869141\" xlink:href=\"#DejaVuSans-48\"/>\r\n       <use x=\"254.492188\" xlink:href=\"#DejaVuSans-48\"/>\r\n      </g>\r\n     </g>\r\n    </g>\r\n    <g id=\"text_18\">\r\n     <!-- price -->\r\n     <defs>\r\n      <path d=\"M 41.109375 46.296875 \r\nQ 39.59375 47.171875 37.8125 47.578125 \r\nQ 36.03125 48 33.890625 48 \r\nQ 26.265625 48 22.1875 43.046875 \r\nQ 18.109375 38.09375 18.109375 28.8125 \r\nL 18.109375 0 \r\nL 9.078125 0 \r\nL 9.078125 54.6875 \r\nL 18.109375 54.6875 \r\nL 18.109375 46.1875 \r\nQ 20.953125 51.171875 25.484375 53.578125 \r\nQ 30.03125 56 36.53125 56 \r\nQ 37.453125 56 38.578125 55.875 \r\nQ 39.703125 55.765625 41.0625 55.515625 \r\nz\r\n\" id=\"DejaVuSans-114\"/>\r\n      <path d=\"M 48.78125 52.59375 \r\nL 48.78125 44.1875 \r\nQ 44.96875 46.296875 41.140625 47.34375 \r\nQ 37.3125 48.390625 33.40625 48.390625 \r\nQ 24.65625 48.390625 19.8125 42.84375 \r\nQ 14.984375 37.3125 14.984375 27.296875 \r\nQ 14.984375 17.28125 19.8125 11.734375 \r\nQ 24.65625 6.203125 33.40625 6.203125 \r\nQ 37.3125 6.203125 41.140625 7.25 \r\nQ 44.96875 8.296875 48.78125 10.40625 \r\nL 48.78125 2.09375 \r\nQ 45.015625 0.34375 40.984375 -0.53125 \r\nQ 36.96875 -1.421875 32.421875 -1.421875 \r\nQ 20.0625 -1.421875 12.78125 6.34375 \r\nQ 5.515625 14.109375 5.515625 27.296875 \r\nQ 5.515625 40.671875 12.859375 48.328125 \r\nQ 20.21875 56 33.015625 56 \r\nQ 37.15625 56 41.109375 55.140625 \r\nQ 45.0625 54.296875 48.78125 52.59375 \r\nz\r\n\" id=\"DejaVuSans-99\"/>\r\n      <path d=\"M 56.203125 29.59375 \r\nL 56.203125 25.203125 \r\nL 14.890625 25.203125 \r\nQ 15.484375 15.921875 20.484375 11.0625 \r\nQ 25.484375 6.203125 34.421875 6.203125 \r\nQ 39.59375 6.203125 44.453125 7.46875 \r\nQ 49.3125 8.734375 54.109375 11.28125 \r\nL 54.109375 2.78125 \r\nQ 49.265625 0.734375 44.1875 -0.34375 \r\nQ 39.109375 -1.421875 33.890625 -1.421875 \r\nQ 20.796875 -1.421875 13.15625 6.1875 \r\nQ 5.515625 13.8125 5.515625 26.8125 \r\nQ 5.515625 40.234375 12.765625 48.109375 \r\nQ 20.015625 56 32.328125 56 \r\nQ 43.359375 56 49.78125 48.890625 \r\nQ 56.203125 41.796875 56.203125 29.59375 \r\nz\r\nM 47.21875 32.234375 \r\nQ 47.125 39.59375 43.09375 43.984375 \r\nQ 39.0625 48.390625 32.421875 48.390625 \r\nQ 24.90625 48.390625 20.390625 44.140625 \r\nQ 15.875 39.890625 15.1875 32.171875 \r\nz\r\n\" id=\"DejaVuSans-101\"/>\r\n     </defs>\r\n     <g style=\"fill:#ffffff;\" transform=\"translate(14.798437 291.444531)rotate(-90)scale(0.1 -0.1)\">\r\n      <use xlink:href=\"#DejaVuSans-112\"/>\r\n      <use x=\"63.476562\" xlink:href=\"#DejaVuSans-114\"/>\r\n      <use x=\"104.589844\" xlink:href=\"#DejaVuSans-105\"/>\r\n      <use x=\"132.373047\" xlink:href=\"#DejaVuSans-99\"/>\r\n      <use x=\"187.353516\" xlink:href=\"#DejaVuSans-101\"/>\r\n     </g>\r\n    </g>\r\n   </g>\r\n   <g id=\"line2d_17\">\r\n    <path clip-path=\"url(#pddb2960360)\" d=\"M 68.070312 381.808743 \r\nL 737.670313 381.808743 \r\n\" style=\"fill:none;stroke:#333333;stroke-dasharray:1.5,2.475;stroke-dashoffset:0;stroke-width:1.5;\"/>\r\n   </g>\r\n   <g id=\"patch_3\">\r\n    <path d=\"M 68.070312 550.8 \r\nL 68.070312 7.2 \r\n\" style=\"fill:none;stroke:#ffffff;stroke-linecap:square;stroke-linejoin:miter;stroke-width:0.8;\"/>\r\n   </g>\r\n   <g id=\"patch_4\">\r\n    <path d=\"M 737.670313 550.8 \r\nL 737.670313 7.2 \r\n\" style=\"fill:none;stroke:#ffffff;stroke-linecap:square;stroke-linejoin:miter;stroke-width:0.8;\"/>\r\n   </g>\r\n   <g id=\"patch_5\">\r\n    <path d=\"M 68.070312 550.8 \r\nL 737.670313 550.8 \r\n\" style=\"fill:none;stroke:#ffffff;stroke-linecap:square;stroke-linejoin:miter;stroke-width:0.8;\"/>\r\n   </g>\r\n   <g id=\"patch_6\">\r\n    <path d=\"M 68.070312 7.2 \r\nL 737.670313 7.2 \r\n\" style=\"fill:none;stroke:#ffffff;stroke-linecap:square;stroke-linejoin:miter;stroke-width:0.8;\"/>\r\n   </g>\r\n  </g>\r\n </g>\r\n <defs>\r\n  <clipPath id=\"pddb2960360\">\r\n   <rect height=\"543.6\" width=\"669.6\" x=\"68.070312\" y=\"7.2\"/>\r\n  </clipPath>\r\n </defs>\r\n</svg>\r\n",
      "text/plain": "<Figure size 864x720 with 1 Axes>"
     },
     "metadata": {
      "needs_background": "dark"
     },
     "output_type": "display_data"
    }
   ],
   "source": [
    "width = 12\n",
    "height = 10\n",
    "plt.figure(figsize=(width, height))\n",
    "sns.residplot(df['highway-mpg'], df['price'])\n",
    "plt.show()"
   ]
  },
  {
   "cell_type": "markdown",
   "metadata": {},
   "source": [
    "<i>What is this plot telling us?</i>\n",
    "\n",
    "<p>We can see from this residual plot that the residuals are not randomly spread around the x-axis, which leads us to believe that maybe a non-linear model is more appropriate for this data.</p>"
   ]
  },
  {
   "cell_type": "markdown",
   "metadata": {},
   "source": [
    "<h3>Multiple Linear Regression</h3>"
   ]
  },
  {
   "cell_type": "markdown",
   "metadata": {},
   "source": [
    "<p>How do we visualize a model for Multiple Linear Regression? This gets a bit more complicated because you can't visualize it with regression or residual plot.</p>\n",
    "\n",
    "<p>One way to look at the fit of the model is by looking at the <b>distribution plot</b>: We can look at the distribution of the fitted values that result from the model and compare it to the distribution of the actual values.</p>"
   ]
  },
  {
   "cell_type": "markdown",
   "metadata": {},
   "source": [
    "First lets make a prediction "
   ]
  },
  {
   "cell_type": "code",
   "execution_count": 27,
   "metadata": {},
   "outputs": [],
   "source": [
    "Y_hat = lm.predict(Z)"
   ]
  },
  {
   "cell_type": "code",
   "execution_count": null,
   "metadata": {
    "collapsed": false,
    "scrolled": false
   },
   "outputs": [],
   "source": [
    "plt.figure(figsize=(width, height))\n",
    "\n",
    "\n",
    "ax1 = sns.distplot(df['price'], hist=False, color=\"r\", label=\"Actual Value\")\n",
    "sns.distplot(Yhat, hist=False, color=\"b\", label=\"Fitted Values\" , ax=ax1)\n",
    "\n",
    "\n",
    "plt.title('Actual vs Fitted Values for Price')\n",
    "plt.xlabel('Price (in dollars)')\n",
    "plt.ylabel('Proportion of Cars')\n",
    "\n",
    "plt.show()\n",
    "plt.close()"
   ]
  },
  {
   "cell_type": "markdown",
   "metadata": {},
   "source": [
    "<p>We can see that the fitted values are reasonably close to the actual values, since the two distributions overlap a bit. However, there is definitely some room for improvement.</p>"
   ]
  },
  {
   "cell_type": "markdown",
   "metadata": {},
   "source": [
    "<h2>Part 3: Polynomial Regression and Pipelines</h2>"
   ]
  },
  {
   "cell_type": "markdown",
   "metadata": {},
   "source": [
    "<p><b>Polynomial regression</b> is a particular case of the general linear regression model or multiple linear regression models.</p> \n",
    "<p>We get non-linear relationships by squaring or setting higher-order terms of the predictor variables.</p>\n",
    "\n",
    "<p>There are different orders of polynomial regression:</p>"
   ]
  },
  {
   "cell_type": "markdown",
   "metadata": {},
   "source": [
    "<center><b>Quadratic - 2nd order</b></center>\n",
    "$$\n",
    "Yhat = a + b_1 X^2 +b_2 X^2 \n",
    "$$\n",
    "\n",
    "\n",
    "<center><b>Cubic - 3rd order</b></center>\n",
    "$$\n",
    "Yhat = a + b_1 X^2 +b_2 X^2 +b_3 X^3\\\\\n",
    "$$\n",
    "\n",
    "\n",
    "<center><b>Higher order</b>:</center>\n",
    "$$\n",
    "Y = a + b_1 X^2 +b_2 X^2 +b_3 X^3 ....\\\\\n",
    "$$"
   ]
  },
  {
   "cell_type": "markdown",
   "metadata": {},
   "source": [
    "<p>We saw earlier that a linear model did not provide the best fit while using highway-mpg as the predictor variable. Let's see if we can try fitting a polynomial model to the data instead.</p>"
   ]
  },
  {
   "cell_type": "markdown",
   "metadata": {},
   "source": [
    "<p>We will use the following function to plot the data:</p>"
   ]
  },
  {
   "cell_type": "code",
   "execution_count": null,
   "metadata": {
    "collapsed": false
   },
   "outputs": [],
   "source": [
    "def PlotPolly(model, independent_variable, dependent_variabble, Name):\n",
    "    x_new = np.linspace(15, 55, 100)\n",
    "    y_new = model(x_new)\n",
    "\n",
    "    plt.plot(independent_variable, dependent_variabble, '.', x_new, y_new, '-')\n",
    "    plt.title('Polynomial Fit with Matplotlib for Price ~ Length')\n",
    "    ax = plt.gca()\n",
    "    ax.set_facecolor((0.898, 0.898, 0.898))\n",
    "    fig = plt.gcf()\n",
    "    plt.xlabel(Name)\n",
    "    plt.ylabel('Price of Cars')\n",
    "\n",
    "    plt.show()\n",
    "    plt.close()"
   ]
  },
  {
   "cell_type": "markdown",
   "metadata": {},
   "source": [
    "lets get the variables"
   ]
  },
  {
   "cell_type": "code",
   "execution_count": null,
   "metadata": {
    "collapsed": false
   },
   "outputs": [],
   "source": [
    "x = df['highway-mpg']\n",
    "y = df['price']"
   ]
  },
  {
   "cell_type": "markdown",
   "metadata": {},
   "source": [
    "Let's fit the polynomial using the function <b>polyfit</b>, then use the function <b>poly1d</b> to display the polynomial function."
   ]
  },
  {
   "cell_type": "code",
   "execution_count": null,
   "metadata": {
    "collapsed": false
   },
   "outputs": [],
   "source": [
    "# Here we use a polynomial of the 3rd order (cubic) \n",
    "f = np.polyfit(x, y, 3)\n",
    "p = np.poly1d(f)\n",
    "print(p)"
   ]
  },
  {
   "cell_type": "markdown",
   "metadata": {},
   "source": [
    " Let's plot the function "
   ]
  },
  {
   "cell_type": "code",
   "execution_count": null,
   "metadata": {
    "collapsed": false
   },
   "outputs": [],
   "source": [
    "PlotPolly(p, x, y, 'highway-mpg')"
   ]
  },
  {
   "cell_type": "code",
   "execution_count": null,
   "metadata": {
    "collapsed": false
   },
   "outputs": [],
   "source": [
    "np.polyfit(x, y, 3)"
   ]
  },
  {
   "cell_type": "markdown",
   "metadata": {},
   "source": [
    "<p>We can already see from plotting that this polynomial model performs better than the linear model. This is because the generated polynomial function  \"hits\" more of the data points.</p>"
   ]
  },
  {
   "cell_type": "markdown",
   "metadata": {},
   "source": [
    "<div class=\"alert alert-danger alertdanger\" style=\"margin-top: 20px\">\n",
    "<h1>Question  #4:</h1>\n",
    "<b>Create 11 order polynomial model with the variables x and y from above?</b>\n",
    "</div>"
   ]
  },
  {
   "cell_type": "code",
   "execution_count": null,
   "metadata": {
    "collapsed": true
   },
   "outputs": [],
   "source": [
    "# Write your code below and press Shift+Enter to execute \n"
   ]
  },
  {
   "cell_type": "markdown",
   "metadata": {},
   "source": [
    "Double-click <b>here</b> for the solution.\n",
    "\n",
    "<!-- The answer is below:\n",
    "\n",
    "# calculate polynomial\n",
    "# Here we use a polynomial of the 3rd order (cubic) \n",
    "f1 = np.polyfit(x, y, 11)\n",
    "p1 = np.poly1d(f1)\n",
    "print(p)\n",
    "PlotPolly(p1,x,y, 'Length')\n",
    "\n",
    "-->"
   ]
  },
  {
   "cell_type": "markdown",
   "metadata": {},
   "source": [
    "<p>The analytical expression for Multivariate Polynomial function gets complicated. For example, the expression for a second-order (degree=2)polynomial with two variables is given by:</p>"
   ]
  },
  {
   "cell_type": "markdown",
   "metadata": {},
   "source": [
    "$$\n",
    "Yhat = a + b_1 X_1 +b_2 X_2 +b_3 X_1 X_2+b_4 X_1^2+b_5 X_2^2\n",
    "$$"
   ]
  },
  {
   "cell_type": "markdown",
   "metadata": {},
   "source": [
    "We can perform a polynomial transform on multiple features. First, we import the module:"
   ]
  },
  {
   "cell_type": "code",
   "execution_count": null,
   "metadata": {
    "collapsed": true
   },
   "outputs": [],
   "source": [
    "from sklearn.preprocessing import PolynomialFeatures"
   ]
  },
  {
   "cell_type": "markdown",
   "metadata": {},
   "source": [
    "We create a <b>PolynomialFeatures</b> object of degree 2: "
   ]
  },
  {
   "cell_type": "code",
   "execution_count": null,
   "metadata": {
    "collapsed": false
   },
   "outputs": [],
   "source": [
    "pr=PolynomialFeatures(degree=2)\n",
    "pr"
   ]
  },
  {
   "cell_type": "code",
   "execution_count": null,
   "metadata": {
    "collapsed": true
   },
   "outputs": [],
   "source": [
    "Z_pr=pr.fit_transform(Z)"
   ]
  },
  {
   "cell_type": "markdown",
   "metadata": {},
   "source": [
    "The original data is of 201 samples and 4 features "
   ]
  },
  {
   "cell_type": "code",
   "execution_count": null,
   "metadata": {
    "collapsed": false
   },
   "outputs": [],
   "source": [
    "Z.shape"
   ]
  },
  {
   "cell_type": "markdown",
   "metadata": {},
   "source": [
    "after the transformation, there 201 samples and 15 features"
   ]
  },
  {
   "cell_type": "code",
   "execution_count": null,
   "metadata": {
    "collapsed": false
   },
   "outputs": [],
   "source": [
    "Z_pr.shape"
   ]
  },
  {
   "cell_type": "markdown",
   "metadata": {},
   "source": [
    "<h2>Pipeline</h2>"
   ]
  },
  {
   "cell_type": "markdown",
   "metadata": {},
   "source": [
    "<p>Data Pipelines simplify the steps of processing the data. We use the module <b>Pipeline</b> to create a pipeline. We also use <b>StandardScaler</b> as a step in our pipeline.</p>"
   ]
  },
  {
   "cell_type": "code",
   "execution_count": null,
   "metadata": {
    "collapsed": true
   },
   "outputs": [],
   "source": [
    "from sklearn.pipeline import Pipeline\n",
    "from sklearn.preprocessing import StandardScaler"
   ]
  },
  {
   "cell_type": "markdown",
   "metadata": {},
   "source": [
    "We create the pipeline, by creating a list of tuples including the name of the model or estimator and its corresponding constructor."
   ]
  },
  {
   "cell_type": "code",
   "execution_count": null,
   "metadata": {
    "collapsed": false
   },
   "outputs": [],
   "source": [
    "Input=[('scale',StandardScaler()), ('polynomial', PolynomialFeatures(include_bias=False)), ('model',LinearRegression())]"
   ]
  },
  {
   "cell_type": "markdown",
   "metadata": {},
   "source": [
    "we input the list as an argument to the pipeline constructor "
   ]
  },
  {
   "cell_type": "code",
   "execution_count": null,
   "metadata": {
    "collapsed": false
   },
   "outputs": [],
   "source": [
    "pipe=Pipeline(Input)\n",
    "pipe"
   ]
  },
  {
   "cell_type": "markdown",
   "metadata": {},
   "source": [
    "We can normalize the data,  perform a transform and fit the model simultaneously. "
   ]
  },
  {
   "cell_type": "code",
   "execution_count": null,
   "metadata": {
    "collapsed": false
   },
   "outputs": [],
   "source": [
    "pipe.fit(Z,y)"
   ]
  },
  {
   "cell_type": "markdown",
   "metadata": {},
   "source": [
    " Similarly,  we can normalize the data, perform a transform and produce a prediction  simultaneously"
   ]
  },
  {
   "cell_type": "code",
   "execution_count": null,
   "metadata": {
    "collapsed": false
   },
   "outputs": [],
   "source": [
    "ypipe=pipe.predict(Z)\n",
    "ypipe[0:4]"
   ]
  },
  {
   "cell_type": "markdown",
   "metadata": {},
   "source": [
    "<div class=\"alert alert-danger alertdanger\" style=\"margin-top: 20px\">\n",
    "<h1>Question #5:</h1>\n",
    "<b>Create a pipeline that Standardizes the data, then perform prediction using a linear regression model using the features Z and targets y</b>\n",
    "</div>"
   ]
  },
  {
   "cell_type": "code",
   "execution_count": null,
   "metadata": {},
   "outputs": [],
   "source": [
    "# Write your code below and press Shift+Enter to execute \n"
   ]
  },
  {
   "cell_type": "markdown",
   "metadata": {},
   "source": [
    "</div>\n",
    "Double-click <b>here</b> for the solution.\n",
    "\n",
    "<!-- The answer is below:\n",
    "\n",
    "Input=[('scale',StandardScaler()),('model',LinearRegression())]\n",
    "\n",
    "pipe=Pipeline(Input)\n",
    "\n",
    "pipe.fit(Z,y)\n",
    "\n",
    "ypipe=pipe.predict(Z)\n",
    "ypipe[0:10]\n",
    "\n",
    "-->"
   ]
  },
  {
   "cell_type": "markdown",
   "metadata": {},
   "source": [
    "<h2>Part 4: Measures for In-Sample Evaluation</h2>"
   ]
  },
  {
   "cell_type": "markdown",
   "metadata": {},
   "source": [
    "<p>When evaluating our models, not only do we want to visualize the results, but we also want a quantitative measure to determine how accurate the model is.</p>\n",
    "\n",
    "<p>Two very important measures that are often used in Statistics to determine the accuracy of a model are:</p>\n",
    "<ul>\n",
    "    <li><b>R^2 / R-squared</b></li>\n",
    "    <li><b>Mean Squared Error (MSE)</b></li>\n",
    "</ul>\n",
    "    \n",
    "<b>R-squared</b>\n",
    "\n",
    "<p>R squared, also known as the coefficient of determination, is a measure to indicate how close the data is to the fitted regression line.</p>\n",
    "    \n",
    "<p>The value of the R-squared is the percentage of variation of the response variable (y) that is explained by a linear model.</p>\n",
    "\n",
    "\n",
    "\n",
    "<b>Mean Squared Error (MSE)</b>\n",
    "\n",
    "<p>The Mean Squared Error measures the average of the squares of errors, that is, the difference between actual value (y) and the estimated value (ŷ).</p>"
   ]
  },
  {
   "cell_type": "markdown",
   "metadata": {},
   "source": [
    "<h3>Model 1: Simple Linear Regression</h3>"
   ]
  },
  {
   "cell_type": "markdown",
   "metadata": {},
   "source": [
    "Let's calculate the R^2"
   ]
  },
  {
   "cell_type": "code",
   "execution_count": null,
   "metadata": {
    "collapsed": false,
    "scrolled": true
   },
   "outputs": [],
   "source": [
    "#highway_mpg_fit\n",
    "lm.fit(X, Y)\n",
    "# Find the R^2\n",
    "print('The R-square is: ', lm.score(X, Y))"
   ]
  },
  {
   "cell_type": "markdown",
   "metadata": {},
   "source": [
    "We can say that ~ 49.659% of the variation of the price is explained by this simple linear model \"horsepower_fit\"."
   ]
  },
  {
   "cell_type": "markdown",
   "metadata": {},
   "source": [
    "Let's calculate the MSE"
   ]
  },
  {
   "cell_type": "markdown",
   "metadata": {},
   "source": [
    "We can predict the output i.e., \"yhat\" using the predict method, where X is the input variable:"
   ]
  },
  {
   "cell_type": "code",
   "execution_count": null,
   "metadata": {
    "collapsed": false
   },
   "outputs": [],
   "source": [
    "Yhat=lm.predict(X)\n",
    "print('The output of the first four predicted value is: ', Yhat[0:4])"
   ]
  },
  {
   "cell_type": "markdown",
   "metadata": {},
   "source": [
    "lets import the function <b>mean_squared_error</b> from the module <b>metrics</b>"
   ]
  },
  {
   "cell_type": "code",
   "execution_count": null,
   "metadata": {
    "collapsed": true
   },
   "outputs": [],
   "source": [
    "from sklearn.metrics import mean_squared_error"
   ]
  },
  {
   "cell_type": "markdown",
   "metadata": {},
   "source": [
    "we compare the predicted results with the actual results "
   ]
  },
  {
   "cell_type": "code",
   "execution_count": null,
   "metadata": {
    "collapsed": false
   },
   "outputs": [],
   "source": [
    "mse = mean_squared_error(df['price'], Yhat)\n",
    "print('The mean square error of price and predicted value is: ', mse)"
   ]
  },
  {
   "cell_type": "markdown",
   "metadata": {},
   "source": [
    "<h3>Model 2: Multiple Linear Regression</h3>"
   ]
  },
  {
   "cell_type": "markdown",
   "metadata": {},
   "source": [
    "Let's calculate the R^2"
   ]
  },
  {
   "cell_type": "code",
   "execution_count": null,
   "metadata": {
    "collapsed": false
   },
   "outputs": [],
   "source": [
    "# fit the model \n",
    "lm.fit(Z, df['price'])\n",
    "# Find the R^2\n",
    "print('The R-square is: ', lm.score(Z, df['price']))"
   ]
  },
  {
   "cell_type": "markdown",
   "metadata": {},
   "source": [
    "We can say that ~ 80.896 % of the variation of price is explained by this multiple linear regression \"multi_fit\"."
   ]
  },
  {
   "cell_type": "markdown",
   "metadata": {},
   "source": [
    "Let's calculate the MSE"
   ]
  },
  {
   "cell_type": "markdown",
   "metadata": {},
   "source": [
    " we produce a prediction "
   ]
  },
  {
   "cell_type": "code",
   "execution_count": null,
   "metadata": {
    "collapsed": false
   },
   "outputs": [],
   "source": [
    "Y_predict_multifit = lm.predict(Z)"
   ]
  },
  {
   "cell_type": "markdown",
   "metadata": {},
   "source": [
    " we compare the predicted results with the actual results "
   ]
  },
  {
   "cell_type": "code",
   "execution_count": null,
   "metadata": {
    "collapsed": false
   },
   "outputs": [],
   "source": [
    "print('The mean square error of price and predicted value using multifit is: ', \\\n",
    "      mean_squared_error(df['price'], Y_predict_multifit))"
   ]
  },
  {
   "cell_type": "markdown",
   "metadata": {},
   "source": [
    "<h3>Model 3: Polynomial Fit</h3>"
   ]
  },
  {
   "cell_type": "markdown",
   "metadata": {},
   "source": [
    "Let's calculate the R^2"
   ]
  },
  {
   "cell_type": "markdown",
   "metadata": {},
   "source": [
    "let’s import the function <b>r2_score</b> from the module <b>metrics</b> as we are using a different function"
   ]
  },
  {
   "cell_type": "code",
   "execution_count": null,
   "metadata": {
    "collapsed": true
   },
   "outputs": [],
   "source": [
    "from sklearn.metrics import r2_score"
   ]
  },
  {
   "cell_type": "markdown",
   "metadata": {},
   "source": [
    "We apply the function to get the value of r^2"
   ]
  },
  {
   "cell_type": "code",
   "execution_count": null,
   "metadata": {
    "collapsed": false
   },
   "outputs": [],
   "source": [
    "r_squared = r2_score(y, p(x))\n",
    "print('The R-square value is: ', r_squared)"
   ]
  },
  {
   "cell_type": "markdown",
   "metadata": {},
   "source": [
    "We can say that ~ 67.419 % of the variation of price is explained by this polynomial fit"
   ]
  },
  {
   "cell_type": "markdown",
   "metadata": {},
   "source": [
    "<h3>MSE</h3>"
   ]
  },
  {
   "cell_type": "markdown",
   "metadata": {},
   "source": [
    "We can also calculate the MSE:  "
   ]
  },
  {
   "cell_type": "code",
   "execution_count": null,
   "metadata": {
    "collapsed": false
   },
   "outputs": [],
   "source": [
    "mean_squared_error(df['price'], p(x))"
   ]
  },
  {
   "cell_type": "markdown",
   "metadata": {},
   "source": [
    "<h2>Part 5: Prediction and Decision Making</h2>\n",
    "<h3>Prediction</h3>\n",
    "\n",
    "<p>In the previous section, we trained the model using the method <b>fit</b>. Now we will use the method <b>predict</b> to produce a prediction. Lets import <b>pyplot</b> for plotting; we will also be using some functions from numpy.</p>"
   ]
  },
  {
   "cell_type": "code",
   "execution_count": null,
   "metadata": {
    "collapsed": true
   },
   "outputs": [],
   "source": [
    "import matplotlib.pyplot as plt\n",
    "import numpy as np\n",
    "\n",
    "%matplotlib inline "
   ]
  },
  {
   "cell_type": "markdown",
   "metadata": {},
   "source": [
    "Create a new input "
   ]
  },
  {
   "cell_type": "code",
   "execution_count": null,
   "metadata": {
    "collapsed": false
   },
   "outputs": [],
   "source": [
    "new_input=np.arange(1, 100, 1).reshape(-1, 1)"
   ]
  },
  {
   "cell_type": "markdown",
   "metadata": {},
   "source": [
    " Fit the model "
   ]
  },
  {
   "cell_type": "code",
   "execution_count": null,
   "metadata": {
    "collapsed": false
   },
   "outputs": [],
   "source": [
    "lm.fit(X, Y)\n",
    "lm"
   ]
  },
  {
   "cell_type": "markdown",
   "metadata": {},
   "source": [
    "Produce a prediction"
   ]
  },
  {
   "cell_type": "code",
   "execution_count": null,
   "metadata": {
    "collapsed": false
   },
   "outputs": [],
   "source": [
    "yhat=lm.predict(new_input)\n",
    "yhat[0:5]"
   ]
  },
  {
   "cell_type": "markdown",
   "metadata": {},
   "source": [
    "we can plot the data "
   ]
  },
  {
   "cell_type": "code",
   "execution_count": null,
   "metadata": {
    "collapsed": false
   },
   "outputs": [],
   "source": [
    "plt.plot(new_input, yhat)\n",
    "plt.show()"
   ]
  },
  {
   "cell_type": "markdown",
   "metadata": {},
   "source": [
    "<h3>Decision Making: Determining a Good Model Fit</h3>"
   ]
  },
  {
   "cell_type": "markdown",
   "metadata": {},
   "source": [
    "<p>Now that we have visualized the different models, and generated the R-squared and MSE values for the fits, how do we determine a good model fit?\n",
    "<ul>\n",
    "    <li><i>What is a good R-squared value?</i></li>\n",
    "</ul>\n",
    "</p>\n",
    "\n",
    "<p>When comparing models, <b>the model with the higher R-squared value is a better fit</b> for the data.\n",
    "<ul>\n",
    "    <li><i>What is a good MSE?</i></li>\n",
    "</ul>\n",
    "</p>\n",
    "\n",
    "<p>When comparing models, <b>the model with the smallest MSE value is a better fit</b> for the data.</p>\n",
    "\n",
    "\n",
    "<h4>Let's take a look at the values for the different models.</h4>\n",
    "<p>Simple Linear Regression: Using Highway-mpg as a Predictor Variable of Price.\n",
    "<ul>\n",
    "    <li>R-squared: 0.49659118843391759</li>\n",
    "    <li>MSE: 3.16 x10^7</li>\n",
    "</ul>\n",
    "</p>\n",
    "    \n",
    "<p>Multiple Linear Regression: Using Horsepower, Curb-weight, Engine-size, and Highway-mpg as Predictor Variables of Price.\n",
    "<ul>\n",
    "    <li>R-squared: 0.80896354913783497</li>\n",
    "    <li>MSE: 1.2 x10^7</li>\n",
    "</ul>\n",
    "</p>\n",
    "    \n",
    "<p>Polynomial Fit: Using Highway-mpg as a Predictor Variable of Price.\n",
    "<ul>\n",
    "    <li>R-squared: 0.6741946663906514</li>\n",
    "    <li>MSE: 2.05 x 10^7</li>\n",
    "</ul>\n",
    "</p>"
   ]
  },
  {
   "cell_type": "markdown",
   "metadata": {},
   "source": [
    "<h3>Simple Linear Regression model (SLR) vs Multiple Linear Regression model (MLR)</h3>"
   ]
  },
  {
   "cell_type": "markdown",
   "metadata": {},
   "source": [
    "<p>Usually, the more variables you have, the better your model is at predicting, but this is not always true. Sometimes you may not have enough data, you may run into numerical problems, or many of the variables may not be useful and or even act as noise. As a result, you should always check the MSE and R^2.</p>\n",
    "\n",
    "<p>So to be able to compare the results of the MLR vs SLR models, we look at a combination of both the R-squared and MSE to make the best conclusion about the fit of the model.\n",
    "<ul>\n",
    "    <li><b>MSE</b>The MSE of SLR is  3.16x10^7  while MLR has an MSE of 1.2 x10^7.  The MSE of MLR is much smaller.</li>\n",
    "    <li><b>R-squared</b>: In this case, we can also see that there is a big difference between the R-squared of the SLR and the R-squared of the MLR. The R-squared for the SLR (~0.497) is very small compared to the R-squared for the MLR (~0.809).</li>\n",
    "</ul>\n",
    "</p>\n",
    "\n",
    "This R-squared in combination with the MSE show that MLR seems like the better model fit in this case, compared to SLR."
   ]
  },
  {
   "cell_type": "markdown",
   "metadata": {},
   "source": [
    "<h3>Simple Linear Model (SLR) vs Polynomial Fit</h3>"
   ]
  },
  {
   "cell_type": "markdown",
   "metadata": {},
   "source": [
    "<ul>\n",
    "    <li><b>MSE</b>: We can see that Polynomial Fit brought down the MSE, since this MSE is smaller than the one from the SLR.</li> \n",
    "    <li><b>R-squared</b>: The R-squared for the Polyfit is larger than the R-squared for the SLR, so the Polynomial Fit also brought up the R-squared quite a bit.</li>\n",
    "</ul>\n",
    "<p>Since the Polynomial Fit resulted in a lower MSE and a higher R-squared, we can conclude that this was a better fit model than the simple linear regression for predicting Price with Highway-mpg as a predictor variable.</p>"
   ]
  },
  {
   "cell_type": "markdown",
   "metadata": {},
   "source": [
    "<h3>Multiple Linear Regression (MLR) vs Polynomial Fit</h3>"
   ]
  },
  {
   "cell_type": "markdown",
   "metadata": {},
   "source": [
    "<ul>\n",
    "    <li><b>MSE</b>: The MSE for the MLR is smaller than the MSE for the Polynomial Fit.</li>\n",
    "    <li><b>R-squared</b>: The R-squared for the MLR is also much larger than for the Polynomial Fit.</li>\n",
    "</ul>"
   ]
  },
  {
   "cell_type": "markdown",
   "metadata": {},
   "source": [
    "<h2>Conclusion:</h2>"
   ]
  },
  {
   "cell_type": "markdown",
   "metadata": {},
   "source": [
    "<p>Comparing these three models, we conclude that <b>the MLR model is the best model</b> to be able to predict price from our dataset. This result makes sense, since we have 27 variables in total, and we know that more than one of those variables are potential predictors of the final car price.</p>"
   ]
  },
  {
   "cell_type": "markdown",
   "metadata": {},
   "source": [
    "<h1>Thank you for completing this notebook</h1>"
   ]
  },
  {
   "cell_type": "markdown",
   "metadata": {},
   "source": [
    "<div class=\"alert alert-block alert-info\" style=\"margin-top: 20px\">\n",
    "\n",
    "    <p><a href=\"https://cocl.us/skills_network_DA0101EN_bottom\"><img src=\"https://s3-api.us-geo.objectstorage.softlayer.net/cf-courses-data/CognitiveClass/DA0101EN/Images/BottomAd.png\" width=\"750\" align=\"center\"></a></p>\n",
    "</div>\n"
   ]
  },
  {
   "cell_type": "markdown",
   "metadata": {},
   "source": [
    "<h3>About the Authors:</h3>\n",
    "\n",
    "This notebook was written by <a href=\"https://www.linkedin.com/in/mahdi-noorian-58219234/\" target=\"_blank\">Mahdi Noorian PhD</a>, <a href=\"https://www.linkedin.com/in/joseph-s-50398b136/\" target=\"_blank\">Joseph Santarcangelo</a>, Bahare Talayian, Eric Xiao, Steven Dong, Parizad, Hima Vsudevan and <a href=\"https://www.linkedin.com/in/fiorellawever/\" target=\"_blank\">Fiorella Wenver</a> and <a href=\" https://www.linkedin.com/in/yi-leng-yao-84451275/ \" target=\"_blank\" >Yi Yao</a>.\n",
    "\n",
    "<p><a href=\"https://www.linkedin.com/in/joseph-s-50398b136/\" target=\"_blank\">Joseph Santarcangelo</a> is a Data Scientist at IBM, and holds a PhD in Electrical Engineering. His research focused on using Machine Learning, Signal Processing, and Computer Vision to determine how videos impact human cognition. Joseph has been working for IBM since he completed his PhD.</p>"
   ]
  },
  {
   "cell_type": "markdown",
   "metadata": {},
   "source": [
    "<hr>\n",
    "<p>Copyright &copy; 2018 IBM Developer Skills Network. This notebook and its source code are released under the terms of the <a href=\"https://cognitiveclass.ai/mit-license/\">MIT License</a>.</p>"
   ]
  }
 ],
 "metadata": {
  "kernelspec": {
   "display_name": "Python 3",
   "language": "python",
   "name": "python3"
  },
  "language_info": {
   "codemirror_mode": {
    "name": "ipython",
    "version": 3
   },
   "file_extension": ".py",
   "mimetype": "text/x-python",
   "name": "python",
   "nbconvert_exporter": "python",
   "pygments_lexer": "ipython3",
   "version": "3.6.7"
  }
 },
 "nbformat": 4,
 "nbformat_minor": 2
}