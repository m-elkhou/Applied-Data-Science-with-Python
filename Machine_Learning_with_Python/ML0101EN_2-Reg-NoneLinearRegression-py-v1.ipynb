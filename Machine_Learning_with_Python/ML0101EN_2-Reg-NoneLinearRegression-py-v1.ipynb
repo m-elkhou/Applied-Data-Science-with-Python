{
 "cells": [
  {
   "cell_type": "markdown",
   "metadata": {},
   "source": [
    "<a href=\"https://www.bigdatauniversity.com\"><img src = \"https://ibm.box.com/shared/static/cw2c7r3o20w9zn8gkecaeyjhgw3xdgbj.png\" width = 400, align = \"center\"></a>\n",
    "# <center>Non Linear Regression Analysis</center>"
   ]
  },
  {
   "cell_type": "markdown",
   "metadata": {},
   "source": [
    "If the data shows a curvy trend, then linear regression will not produce very accurate results when compared to a non-linear regression because, as the name implies, linear regression presumes that the data is linear. \n",
    "Let's learn about non linear regressions and apply an example on python. In this notebook, we fit a non-linear model to the datapoints corrensponding to China's GDP from 1960 to 2014."
   ]
  },
  {
   "cell_type": "markdown",
   "metadata": {},
   "source": [
    "### Importing required libraries"
   ]
  },
  {
   "cell_type": "code",
   "execution_count": 1,
   "metadata": {},
   "outputs": [],
   "source": [
    "import numpy as np\n",
    "import matplotlib.pyplot as plt\n",
    "%matplotlib inline"
   ]
  },
  {
   "cell_type": "markdown",
   "metadata": {},
   "source": [
    "Though Linear regression is very good to solve many problems, it cannot be used for all datasets. First recall how linear regression, could model a dataset. It models a linear relation between a dependent variable y and independent variable x. It had a simple equation, of degree 1, for example y = 2*(x) + 3."
   ]
  },
  {
   "cell_type": "code",
   "execution_count": 2,
   "metadata": {},
   "outputs": [
    {
     "data": {
      "image/png": "[encoded data removed]",
      "image/svg+xml": "<?xml version=\"1.0\" encoding=\"utf-8\" standalone=\"no\"?>\r\n<!DOCTYPE svg PUBLIC \"-//W3C//DTD SVG 1.1//EN\"\r\n  \"http://www.w3.org/Graphics/SVG/1.1/DTD/svg11.dtd\">\r\n<!-- Created with matplotlib (https://matplotlib.org/) -->\r\n<svg height=\"262.19625pt\" version=\"1.1\" viewBox=\"0 0 390.982812 262.19625\" width=\"390.982812pt\" xmlns=\"http://www.w3.org/2000/svg\" xmlns:xlink=\"http://www.w3.org/1999/xlink\">\r\n <defs>\r\n  <style type=\"text/css\">\r\n*{stroke-linecap:butt;stroke-linejoin:round;}\r\n  </style>\r\n </defs>\r\n <g id=\"figure_1\">\r\n  <g id=\"patch_1\">\r\n   <path d=\"M 0 262.19625 \r\nL 390.982812 262.19625 \r\nL 390.982812 0 \r\nL 0 0 \r\nz\r\n\" style=\"fill:none;\"/>\r\n  </g>\r\n  <g id=\"axes_1\">\r\n   <g id=\"patch_2\">\r\n    <path d=\"M 48.982813 224.64 \r\nL 383.782813 224.64 \r\nL 383.782813 7.2 \r\nL 48.982813 7.2 \r\nz\r\n\"/>\r\n   </g>\r\n   <g id=\"matplotlib.axis_1\">\r\n    <g id=\"xtick_1\">\r\n     <g id=\"line2d_1\">\r\n      <defs>\r\n       <path d=\"M 0 0 \r\nL 0 3.5 \r\n\" id=\"mb7ccc5a917\" style=\"stroke:#ffffff;stroke-width:0.8;\"/>\r\n      </defs>\r\n      <g>\r\n       <use style=\"fill:#ffffff;stroke:#ffffff;stroke-width:0.8;\" x=\"94.944796\" xlink:href=\"#mb7ccc5a917\" y=\"224.64\"/>\r\n      </g>\r\n     </g>\r\n     <g id=\"text_1\">\r\n      <!-- −4 -->\r\n      <defs>\r\n       <path d=\"M 10.59375 35.5 \r\nL 73.1875 35.5 \r\nL 73.1875 27.203125 \r\nL 10.59375 27.203125 \r\nz\r\n\" id=\"DejaVuSans-8722\"/>\r\n       <path d=\"M 37.796875 64.3125 \r\nL 12.890625 25.390625 \r\nL 37.796875 25.390625 \r\nz\r\nM 35.203125 72.90625 \r\nL 47.609375 72.90625 \r\nL 47.609375 25.390625 \r\nL 58.015625 25.390625 \r\nL 58.015625 17.1875 \r\nL 47.609375 17.1875 \r\nL 47.609375 0 \r\nL 37.796875 0 \r\nL 37.796875 17.1875 \r\nL 4.890625 17.1875 \r\nL 4.890625 26.703125 \r\nz\r\n\" id=\"DejaVuSans-52\"/>\r\n      </defs>\r\n      <g style=\"fill:#ffffff;\" transform=\"translate(87.573702 239.238437)scale(0.1 -0.1)\">\r\n       <use xlink:href=\"#DejaVuSans-8722\"/>\r\n       <use x=\"83.789062\" xlink:href=\"#DejaVuSans-52\"/>\r\n      </g>\r\n     </g>\r\n    </g>\r\n    <g id=\"xtick_2\">\r\n     <g id=\"line2d_2\">\r\n      <g>\r\n       <use style=\"fill:#ffffff;stroke:#ffffff;stroke-width:0.8;\" x=\"156.432399\" xlink:href=\"#mb7ccc5a917\" y=\"224.64\"/>\r\n      </g>\r\n     </g>\r\n     <g id=\"text_2\">\r\n      <!-- −2 -->\r\n      <defs>\r\n       <path d=\"M 19.1875 8.296875 \r\nL 53.609375 8.296875 \r\nL 53.609375 0 \r\nL 7.328125 0 \r\nL 7.328125 8.296875 \r\nQ 12.9375 14.109375 22.625 23.890625 \r\nQ 32.328125 33.6875 34.8125 36.53125 \r\nQ 39.546875 41.84375 41.421875 45.53125 \r\nQ 43.3125 49.21875 43.3125 52.78125 \r\nQ 43.3125 58.59375 39.234375 62.25 \r\nQ 35.15625 65.921875 28.609375 65.921875 \r\nQ 23.96875 65.921875 18.8125 64.3125 \r\nQ 13.671875 62.703125 7.8125 59.421875 \r\nL 7.8125 69.390625 \r\nQ 13.765625 71.78125 18.9375 73 \r\nQ 24.125 74.21875 28.421875 74.21875 \r\nQ 39.75 74.21875 46.484375 68.546875 \r\nQ 53.21875 62.890625 53.21875 53.421875 \r\nQ 53.21875 48.921875 51.53125 44.890625 \r\nQ 49.859375 40.875 45.40625 35.40625 \r\nQ 44.1875 33.984375 37.640625 27.21875 \r\nQ 31.109375 20.453125 19.1875 8.296875 \r\nz\r\n\" id=\"DejaVuSans-50\"/>\r\n      </defs>\r\n      <g style=\"fill:#ffffff;\" transform=\"translate(149.061306 239.238437)scale(0.1 -0.1)\">\r\n       <use xlink:href=\"#DejaVuSans-8722\"/>\r\n       <use x=\"83.789062\" xlink:href=\"#DejaVuSans-50\"/>\r\n      </g>\r\n     </g>\r\n    </g>\r\n    <g id=\"xtick_3\">\r\n     <g id=\"line2d_3\">\r\n      <g>\r\n       <use style=\"fill:#ffffff;stroke:#ffffff;stroke-width:0.8;\" x=\"217.920003\" xlink:href=\"#mb7ccc5a917\" y=\"224.64\"/>\r\n      </g>\r\n     </g>\r\n     <g id=\"text_3\">\r\n      <!-- 0 -->\r\n      <defs>\r\n       <path d=\"M 31.78125 66.40625 \r\nQ 24.171875 66.40625 20.328125 58.90625 \r\nQ 16.5 51.421875 16.5 36.375 \r\nQ 16.5 21.390625 20.328125 13.890625 \r\nQ 24.171875 6.390625 31.78125 6.390625 \r\nQ 39.453125 6.390625 43.28125 13.890625 \r\nQ 47.125 21.390625 47.125 36.375 \r\nQ 47.125 51.421875 43.28125 58.90625 \r\nQ 39.453125 66.40625 31.78125 66.40625 \r\nz\r\nM 31.78125 74.21875 \r\nQ 44.046875 74.21875 50.515625 64.515625 \r\nQ 56.984375 54.828125 56.984375 36.375 \r\nQ 56.984375 17.96875 50.515625 8.265625 \r\nQ 44.046875 -1.421875 31.78125 -1.421875 \r\nQ 19.53125 -1.421875 13.0625 8.265625 \r\nQ 6.59375 17.96875 6.59375 36.375 \r\nQ 6.59375 54.828125 13.0625 64.515625 \r\nQ 19.53125 74.21875 31.78125 74.21875 \r\nz\r\n\" id=\"DejaVuSans-48\"/>\r\n      </defs>\r\n      <g style=\"fill:#ffffff;\" transform=\"translate(214.738753 239.238437)scale(0.1 -0.1)\">\r\n       <use xlink:href=\"#DejaVuSans-48\"/>\r\n      </g>\r\n     </g>\r\n    </g>\r\n    <g id=\"xtick_4\">\r\n     <g id=\"line2d_4\">\r\n      <g>\r\n       <use style=\"fill:#ffffff;stroke:#ffffff;stroke-width:0.8;\" x=\"279.407606\" xlink:href=\"#mb7ccc5a917\" y=\"224.64\"/>\r\n      </g>\r\n     </g>\r\n     <g id=\"text_4\">\r\n      <!-- 2 -->\r\n      <g style=\"fill:#ffffff;\" transform=\"translate(276.226356 239.238437)scale(0.1 -0.1)\">\r\n       <use xlink:href=\"#DejaVuSans-50\"/>\r\n      </g>\r\n     </g>\r\n    </g>\r\n    <g id=\"xtick_5\">\r\n     <g id=\"line2d_5\">\r\n      <g>\r\n       <use style=\"fill:#ffffff;stroke:#ffffff;stroke-width:0.8;\" x=\"340.895209\" xlink:href=\"#mb7ccc5a917\" y=\"224.64\"/>\r\n      </g>\r\n     </g>\r\n     <g id=\"text_5\">\r\n      <!-- 4 -->\r\n      <g style=\"fill:#ffffff;\" transform=\"translate(337.713959 239.238437)scale(0.1 -0.1)\">\r\n       <use xlink:href=\"#DejaVuSans-52\"/>\r\n      </g>\r\n     </g>\r\n    </g>\r\n    <g id=\"text_6\">\r\n     <!-- Indepdendent Variable -->\r\n     <defs>\r\n      <path d=\"M 9.8125 72.90625 \r\nL 19.671875 72.90625 \r\nL 19.671875 0 \r\nL 9.8125 0 \r\nz\r\n\" id=\"DejaVuSans-73\"/>\r\n      <path d=\"M 54.890625 33.015625 \r\nL 54.890625 0 \r\nL 45.90625 0 \r\nL 45.90625 32.71875 \r\nQ 45.90625 40.484375 42.875 44.328125 \r\nQ 39.84375 48.1875 33.796875 48.1875 \r\nQ 26.515625 48.1875 22.3125 43.546875 \r\nQ 18.109375 38.921875 18.109375 30.90625 \r\nL 18.109375 0 \r\nL 9.078125 0 \r\nL 9.078125 54.6875 \r\nL 18.109375 54.6875 \r\nL 18.109375 46.1875 \r\nQ 21.34375 51.125 25.703125 53.5625 \r\nQ 30.078125 56 35.796875 56 \r\nQ 45.21875 56 50.046875 50.171875 \r\nQ 54.890625 44.34375 54.890625 33.015625 \r\nz\r\n\" id=\"DejaVuSans-110\"/>\r\n      <path d=\"M 45.40625 46.390625 \r\nL 45.40625 75.984375 \r\nL 54.390625 75.984375 \r\nL 54.390625 0 \r\nL 45.40625 0 \r\nL 45.40625 8.203125 \r\nQ 42.578125 3.328125 38.25 0.953125 \r\nQ 33.9375 -1.421875 27.875 -1.421875 \r\nQ 17.96875 -1.421875 11.734375 6.484375 \r\nQ 5.515625 14.40625 5.515625 27.296875 \r\nQ 5.515625 40.1875 11.734375 48.09375 \r\nQ 17.96875 56 27.875 56 \r\nQ 33.9375 56 38.25 53.625 \r\nQ 42.578125 51.265625 45.40625 46.390625 \r\nz\r\nM 14.796875 27.296875 \r\nQ 14.796875 17.390625 18.875 11.75 \r\nQ 22.953125 6.109375 30.078125 6.109375 \r\nQ 37.203125 6.109375 41.296875 11.75 \r\nQ 45.40625 17.390625 45.40625 27.296875 \r\nQ 45.40625 37.203125 41.296875 42.84375 \r\nQ 37.203125 48.484375 30.078125 48.484375 \r\nQ 22.953125 48.484375 18.875 42.84375 \r\nQ 14.796875 37.203125 14.796875 27.296875 \r\nz\r\n\" id=\"DejaVuSans-100\"/>\r\n      <path d=\"M 56.203125 29.59375 \r\nL 56.203125 25.203125 \r\nL 14.890625 25.203125 \r\nQ 15.484375 15.921875 20.484375 11.0625 \r\nQ 25.484375 6.203125 34.421875 6.203125 \r\nQ 39.59375 6.203125 44.453125 7.46875 \r\nQ 49.3125 8.734375 54.109375 11.28125 \r\nL 54.109375 2.78125 \r\nQ 49.265625 0.734375 44.1875 -0.34375 \r\nQ 39.109375 -1.421875 33.890625 -1.421875 \r\nQ 20.796875 -1.421875 13.15625 6.1875 \r\nQ 5.515625 13.8125 5.515625 26.8125 \r\nQ 5.515625 40.234375 12.765625 48.109375 \r\nQ 20.015625 56 32.328125 56 \r\nQ 43.359375 56 49.78125 48.890625 \r\nQ 56.203125 41.796875 56.203125 29.59375 \r\nz\r\nM 47.21875 32.234375 \r\nQ 47.125 39.59375 43.09375 43.984375 \r\nQ 39.0625 48.390625 32.421875 48.390625 \r\nQ 24.90625 48.390625 20.390625 44.140625 \r\nQ 15.875 39.890625 15.1875 32.171875 \r\nz\r\n\" id=\"DejaVuSans-101\"/>\r\n      <path d=\"M 18.109375 8.203125 \r\nL 18.109375 -20.796875 \r\nL 9.078125 -20.796875 \r\nL 9.078125 54.6875 \r\nL 18.109375 54.6875 \r\nL 18.109375 46.390625 \r\nQ 20.953125 51.265625 25.265625 53.625 \r\nQ 29.59375 56 35.59375 56 \r\nQ 45.5625 56 51.78125 48.09375 \r\nQ 58.015625 40.1875 58.015625 27.296875 \r\nQ 58.015625 14.40625 51.78125 6.484375 \r\nQ 45.5625 -1.421875 35.59375 -1.421875 \r\nQ 29.59375 -1.421875 25.265625 0.953125 \r\nQ 20.953125 3.328125 18.109375 8.203125 \r\nz\r\nM 48.6875 27.296875 \r\nQ 48.6875 37.203125 44.609375 42.84375 \r\nQ 40.53125 48.484375 33.40625 48.484375 \r\nQ 26.265625 48.484375 22.1875 42.84375 \r\nQ 18.109375 37.203125 18.109375 27.296875 \r\nQ 18.109375 17.390625 22.1875 11.75 \r\nQ 26.265625 6.109375 33.40625 6.109375 \r\nQ 40.53125 6.109375 44.609375 11.75 \r\nQ 48.6875 17.390625 48.6875 27.296875 \r\nz\r\n\" id=\"DejaVuSans-112\"/>\r\n      <path d=\"M 18.3125 70.21875 \r\nL 18.3125 54.6875 \r\nL 36.8125 54.6875 \r\nL 36.8125 47.703125 \r\nL 18.3125 47.703125 \r\nL 18.3125 18.015625 \r\nQ 18.3125 11.328125 20.140625 9.421875 \r\nQ 21.96875 7.515625 27.59375 7.515625 \r\nL 36.8125 7.515625 \r\nL 36.8125 0 \r\nL 27.59375 0 \r\nQ 17.1875 0 13.234375 3.875 \r\nQ 9.28125 7.765625 9.28125 18.015625 \r\nL 9.28125 47.703125 \r\nL 2.6875 47.703125 \r\nL 2.6875 54.6875 \r\nL 9.28125 54.6875 \r\nL 9.28125 70.21875 \r\nz\r\n\" id=\"DejaVuSans-116\"/>\r\n      <path id=\"DejaVuSans-32\"/>\r\n      <path d=\"M 28.609375 0 \r\nL 0.78125 72.90625 \r\nL 11.078125 72.90625 \r\nL 34.1875 11.53125 \r\nL 57.328125 72.90625 \r\nL 67.578125 72.90625 \r\nL 39.796875 0 \r\nz\r\n\" id=\"DejaVuSans-86\"/>\r\n      <path d=\"M 34.28125 27.484375 \r\nQ 23.390625 27.484375 19.1875 25 \r\nQ 14.984375 22.515625 14.984375 16.5 \r\nQ 14.984375 11.71875 18.140625 8.90625 \r\nQ 21.296875 6.109375 26.703125 6.109375 \r\nQ 34.1875 6.109375 38.703125 11.40625 \r\nQ 43.21875 16.703125 43.21875 25.484375 \r\nL 43.21875 27.484375 \r\nz\r\nM 52.203125 31.203125 \r\nL 52.203125 0 \r\nL 43.21875 0 \r\nL 43.21875 8.296875 \r\nQ 40.140625 3.328125 35.546875 0.953125 \r\nQ 30.953125 -1.421875 24.3125 -1.421875 \r\nQ 15.921875 -1.421875 10.953125 3.296875 \r\nQ 6 8.015625 6 15.921875 \r\nQ 6 25.140625 12.171875 29.828125 \r\nQ 18.359375 34.515625 30.609375 34.515625 \r\nL 43.21875 34.515625 \r\nL 43.21875 35.40625 \r\nQ 43.21875 41.609375 39.140625 45 \r\nQ 35.0625 48.390625 27.6875 48.390625 \r\nQ 23 48.390625 18.546875 47.265625 \r\nQ 14.109375 46.140625 10.015625 43.890625 \r\nL 10.015625 52.203125 \r\nQ 14.9375 54.109375 19.578125 55.046875 \r\nQ 24.21875 56 28.609375 56 \r\nQ 40.484375 56 46.34375 49.84375 \r\nQ 52.203125 43.703125 52.203125 31.203125 \r\nz\r\n\" id=\"DejaVuSans-97\"/>\r\n      <path d=\"M 41.109375 46.296875 \r\nQ 39.59375 47.171875 37.8125 47.578125 \r\nQ 36.03125 48 33.890625 48 \r\nQ 26.265625 48 22.1875 43.046875 \r\nQ 18.109375 38.09375 18.109375 28.8125 \r\nL 18.109375 0 \r\nL 9.078125 0 \r\nL 9.078125 54.6875 \r\nL 18.109375 54.6875 \r\nL 18.109375 46.1875 \r\nQ 20.953125 51.171875 25.484375 53.578125 \r\nQ 30.03125 56 36.53125 56 \r\nQ 37.453125 56 38.578125 55.875 \r\nQ 39.703125 55.765625 41.0625 55.515625 \r\nz\r\n\" id=\"DejaVuSans-114\"/>\r\n      <path d=\"M 9.421875 54.6875 \r\nL 18.40625 54.6875 \r\nL 18.40625 0 \r\nL 9.421875 0 \r\nz\r\nM 9.421875 75.984375 \r\nL 18.40625 75.984375 \r\nL 18.40625 64.59375 \r\nL 9.421875 64.59375 \r\nz\r\n\" id=\"DejaVuSans-105\"/>\r\n      <path d=\"M 48.6875 27.296875 \r\nQ 48.6875 37.203125 44.609375 42.84375 \r\nQ 40.53125 48.484375 33.40625 48.484375 \r\nQ 26.265625 48.484375 22.1875 42.84375 \r\nQ 18.109375 37.203125 18.109375 27.296875 \r\nQ 18.109375 17.390625 22.1875 11.75 \r\nQ 26.265625 6.109375 33.40625 6.109375 \r\nQ 40.53125 6.109375 44.609375 11.75 \r\nQ 48.6875 17.390625 48.6875 27.296875 \r\nz\r\nM 18.109375 46.390625 \r\nQ 20.953125 51.265625 25.265625 53.625 \r\nQ 29.59375 56 35.59375 56 \r\nQ 45.5625 56 51.78125 48.09375 \r\nQ 58.015625 40.1875 58.015625 27.296875 \r\nQ 58.015625 14.40625 51.78125 6.484375 \r\nQ 45.5625 -1.421875 35.59375 -1.421875 \r\nQ 29.59375 -1.421875 25.265625 0.953125 \r\nQ 20.953125 3.328125 18.109375 8.203125 \r\nL 18.109375 0 \r\nL 9.078125 0 \r\nL 9.078125 75.984375 \r\nL 18.109375 75.984375 \r\nz\r\n\" id=\"DejaVuSans-98\"/>\r\n      <path d=\"M 9.421875 75.984375 \r\nL 18.40625 75.984375 \r\nL 18.40625 0 \r\nL 9.421875 0 \r\nz\r\n\" id=\"DejaVuSans-108\"/>\r\n     </defs>\r\n     <g style=\"fill:#ffffff;\" transform=\"translate(159.298438 252.916562)scale(0.1 -0.1)\">\r\n      <use xlink:href=\"#DejaVuSans-73\"/>\r\n      <use x=\"29.492188\" xlink:href=\"#DejaVuSans-110\"/>\r\n      <use x=\"92.871094\" xlink:href=\"#DejaVuSans-100\"/>\r\n      <use x=\"156.347656\" xlink:href=\"#DejaVuSans-101\"/>\r\n      <use x=\"217.871094\" xlink:href=\"#DejaVuSans-112\"/>\r\n      <use x=\"281.347656\" xlink:href=\"#DejaVuSans-100\"/>\r\n      <use x=\"344.824219\" xlink:href=\"#DejaVuSans-101\"/>\r\n      <use x=\"406.347656\" xlink:href=\"#DejaVuSans-110\"/>\r\n      <use x=\"469.726562\" xlink:href=\"#DejaVuSans-100\"/>\r\n      <use x=\"533.203125\" xlink:href=\"#DejaVuSans-101\"/>\r\n      <use x=\"594.726562\" xlink:href=\"#DejaVuSans-110\"/>\r\n      <use x=\"658.105469\" xlink:href=\"#DejaVuSans-116\"/>\r\n      <use x=\"697.314453\" xlink:href=\"#DejaVuSans-32\"/>\r\n      <use x=\"729.101562\" xlink:href=\"#DejaVuSans-86\"/>\r\n      <use x=\"797.400391\" xlink:href=\"#DejaVuSans-97\"/>\r\n      <use x=\"858.679688\" xlink:href=\"#DejaVuSans-114\"/>\r\n      <use x=\"899.792969\" xlink:href=\"#DejaVuSans-105\"/>\r\n      <use x=\"927.576172\" xlink:href=\"#DejaVuSans-97\"/>\r\n      <use x=\"988.855469\" xlink:href=\"#DejaVuSans-98\"/>\r\n      <use x=\"1052.332031\" xlink:href=\"#DejaVuSans-108\"/>\r\n      <use x=\"1080.115234\" xlink:href=\"#DejaVuSans-101\"/>\r\n     </g>\r\n    </g>\r\n   </g>\r\n   <g id=\"matplotlib.axis_2\">\r\n    <g id=\"ytick_1\">\r\n     <g id=\"line2d_6\">\r\n      <defs>\r\n       <path d=\"M 0 0 \r\nL -3.5 0 \r\n\" id=\"mb93c9c38f5\" style=\"stroke:#ffffff;stroke-width:0.8;\"/>\r\n      </defs>\r\n      <g>\r\n       <use style=\"fill:#ffffff;stroke:#ffffff;stroke-width:0.8;\" x=\"48.982813\" xlink:href=\"#mb93c9c38f5\" y=\"208.855341\"/>\r\n      </g>\r\n     </g>\r\n     <g id=\"text_7\">\r\n      <!-- −10 -->\r\n      <defs>\r\n       <path d=\"M 12.40625 8.296875 \r\nL 28.515625 8.296875 \r\nL 28.515625 63.921875 \r\nL 10.984375 60.40625 \r\nL 10.984375 69.390625 \r\nL 28.421875 72.90625 \r\nL 38.28125 72.90625 \r\nL 38.28125 8.296875 \r\nL 54.390625 8.296875 \r\nL 54.390625 0 \r\nL 12.40625 0 \r\nz\r\n\" id=\"DejaVuSans-49\"/>\r\n      </defs>\r\n      <g style=\"fill:#ffffff;\" transform=\"translate(20.878125 212.654559)scale(0.1 -0.1)\">\r\n       <use xlink:href=\"#DejaVuSans-8722\"/>\r\n       <use x=\"83.789062\" xlink:href=\"#DejaVuSans-49\"/>\r\n       <use x=\"147.412109\" xlink:href=\"#DejaVuSans-48\"/>\r\n      </g>\r\n     </g>\r\n    </g>\r\n    <g id=\"ytick_2\">\r\n     <g id=\"line2d_7\">\r\n      <g>\r\n       <use style=\"fill:#ffffff;stroke:#ffffff;stroke-width:0.8;\" x=\"48.982813\" xlink:href=\"#mb93c9c38f5\" y=\"172.458745\"/>\r\n      </g>\r\n     </g>\r\n     <g id=\"text_8\">\r\n      <!-- −5 -->\r\n      <defs>\r\n       <path d=\"M 10.796875 72.90625 \r\nL 49.515625 72.90625 \r\nL 49.515625 64.59375 \r\nL 19.828125 64.59375 \r\nL 19.828125 46.734375 \r\nQ 21.96875 47.46875 24.109375 47.828125 \r\nQ 26.265625 48.1875 28.421875 48.1875 \r\nQ 40.625 48.1875 47.75 41.5 \r\nQ 54.890625 34.8125 54.890625 23.390625 \r\nQ 54.890625 11.625 47.5625 5.09375 \r\nQ 40.234375 -1.421875 26.90625 -1.421875 \r\nQ 22.3125 -1.421875 17.546875 -0.640625 \r\nQ 12.796875 0.140625 7.71875 1.703125 \r\nL 7.71875 11.625 \r\nQ 12.109375 9.234375 16.796875 8.0625 \r\nQ 21.484375 6.890625 26.703125 6.890625 \r\nQ 35.15625 6.890625 40.078125 11.328125 \r\nQ 45.015625 15.765625 45.015625 23.390625 \r\nQ 45.015625 31 40.078125 35.4375 \r\nQ 35.15625 39.890625 26.703125 39.890625 \r\nQ 22.75 39.890625 18.8125 39.015625 \r\nQ 14.890625 38.140625 10.796875 36.28125 \r\nz\r\n\" id=\"DejaVuSans-53\"/>\r\n      </defs>\r\n      <g style=\"fill:#ffffff;\" transform=\"translate(27.240625 176.257964)scale(0.1 -0.1)\">\r\n       <use xlink:href=\"#DejaVuSans-8722\"/>\r\n       <use x=\"83.789062\" xlink:href=\"#DejaVuSans-53\"/>\r\n      </g>\r\n     </g>\r\n    </g>\r\n    <g id=\"ytick_3\">\r\n     <g id=\"line2d_8\">\r\n      <g>\r\n       <use style=\"fill:#ffffff;stroke:#ffffff;stroke-width:0.8;\" x=\"48.982813\" xlink:href=\"#mb93c9c38f5\" y=\"136.062149\"/>\r\n      </g>\r\n     </g>\r\n     <g id=\"text_9\">\r\n      <!-- 0 -->\r\n      <g style=\"fill:#ffffff;\" transform=\"translate(35.620313 139.861368)scale(0.1 -0.1)\">\r\n       <use xlink:href=\"#DejaVuSans-48\"/>\r\n      </g>\r\n     </g>\r\n    </g>\r\n    <g id=\"ytick_4\">\r\n     <g id=\"line2d_9\">\r\n      <g>\r\n       <use style=\"fill:#ffffff;stroke:#ffffff;stroke-width:0.8;\" x=\"48.982813\" xlink:href=\"#mb93c9c38f5\" y=\"99.665553\"/>\r\n      </g>\r\n     </g>\r\n     <g id=\"text_10\">\r\n      <!-- 5 -->\r\n      <g style=\"fill:#ffffff;\" transform=\"translate(35.620313 103.464772)scale(0.1 -0.1)\">\r\n       <use xlink:href=\"#DejaVuSans-53\"/>\r\n      </g>\r\n     </g>\r\n    </g>\r\n    <g id=\"ytick_5\">\r\n     <g id=\"line2d_10\">\r\n      <g>\r\n       <use style=\"fill:#ffffff;stroke:#ffffff;stroke-width:0.8;\" x=\"48.982813\" xlink:href=\"#mb93c9c38f5\" y=\"63.268958\"/>\r\n      </g>\r\n     </g>\r\n     <g id=\"text_11\">\r\n      <!-- 10 -->\r\n      <g style=\"fill:#ffffff;\" transform=\"translate(29.257813 67.068176)scale(0.1 -0.1)\">\r\n       <use xlink:href=\"#DejaVuSans-49\"/>\r\n       <use x=\"63.623047\" xlink:href=\"#DejaVuSans-48\"/>\r\n      </g>\r\n     </g>\r\n    </g>\r\n    <g id=\"ytick_6\">\r\n     <g id=\"line2d_11\">\r\n      <g>\r\n       <use style=\"fill:#ffffff;stroke:#ffffff;stroke-width:0.8;\" x=\"48.982813\" xlink:href=\"#mb93c9c38f5\" y=\"26.872362\"/>\r\n      </g>\r\n     </g>\r\n     <g id=\"text_12\">\r\n      <!-- 15 -->\r\n      <g style=\"fill:#ffffff;\" transform=\"translate(29.257813 30.67158)scale(0.1 -0.1)\">\r\n       <use xlink:href=\"#DejaVuSans-49\"/>\r\n       <use x=\"63.623047\" xlink:href=\"#DejaVuSans-53\"/>\r\n      </g>\r\n     </g>\r\n    </g>\r\n    <g id=\"text_13\">\r\n     <!-- Dependent Variable -->\r\n     <defs>\r\n      <path d=\"M 19.671875 64.796875 \r\nL 19.671875 8.109375 \r\nL 31.59375 8.109375 \r\nQ 46.6875 8.109375 53.6875 14.9375 \r\nQ 60.6875 21.78125 60.6875 36.53125 \r\nQ 60.6875 51.171875 53.6875 57.984375 \r\nQ 46.6875 64.796875 31.59375 64.796875 \r\nz\r\nM 9.8125 72.90625 \r\nL 30.078125 72.90625 \r\nQ 51.265625 72.90625 61.171875 64.09375 \r\nQ 71.09375 55.28125 71.09375 36.53125 \r\nQ 71.09375 17.671875 61.125 8.828125 \r\nQ 51.171875 0 30.078125 0 \r\nL 9.8125 0 \r\nz\r\n\" id=\"DejaVuSans-68\"/>\r\n     </defs>\r\n     <g style=\"fill:#ffffff;\" transform=\"translate(14.798438 165.862187)rotate(-90)scale(0.1 -0.1)\">\r\n      <use xlink:href=\"#DejaVuSans-68\"/>\r\n      <use x=\"77.001953\" xlink:href=\"#DejaVuSans-101\"/>\r\n      <use x=\"138.525391\" xlink:href=\"#DejaVuSans-112\"/>\r\n      <use x=\"202.001953\" xlink:href=\"#DejaVuSans-101\"/>\r\n      <use x=\"263.525391\" xlink:href=\"#DejaVuSans-110\"/>\r\n      <use x=\"326.904297\" xlink:href=\"#DejaVuSans-100\"/>\r\n      <use x=\"390.380859\" xlink:href=\"#DejaVuSans-101\"/>\r\n      <use x=\"451.904297\" xlink:href=\"#DejaVuSans-110\"/>\r\n      <use x=\"515.283203\" xlink:href=\"#DejaVuSans-116\"/>\r\n      <use x=\"554.492188\" xlink:href=\"#DejaVuSans-32\"/>\r\n      <use x=\"586.279297\" xlink:href=\"#DejaVuSans-86\"/>\r\n      <use x=\"654.578125\" xlink:href=\"#DejaVuSans-97\"/>\r\n      <use x=\"715.857422\" xlink:href=\"#DejaVuSans-114\"/>\r\n      <use x=\"756.970703\" xlink:href=\"#DejaVuSans-105\"/>\r\n      <use x=\"784.753906\" xlink:href=\"#DejaVuSans-97\"/>\r\n      <use x=\"846.033203\" xlink:href=\"#DejaVuSans-98\"/>\r\n      <use x=\"909.509766\" xlink:href=\"#DejaVuSans-108\"/>\r\n      <use x=\"937.292969\" xlink:href=\"#DejaVuSans-101\"/>\r\n     </g>\r\n    </g>\r\n   </g>\r\n   <g id=\"line2d_12\">\r\n    <defs>\r\n     <path d=\"M 0 3 \r\nC 0.795609 3 1.55874 2.683901 2.12132 2.12132 \r\nC 2.683901 1.55874 3 0.795609 3 0 \r\nC 3 -0.795609 2.683901 -1.55874 2.12132 -2.12132 \r\nC 1.55874 -2.683901 0.795609 -3 0 -3 \r\nC -0.795609 -3 -1.55874 -2.683901 -2.12132 -2.12132 \r\nC -2.683901 -1.55874 -3 -0.795609 -3 0 \r\nC -3 0.795609 -2.683901 1.55874 -2.12132 2.12132 \r\nC -1.55874 2.683901 -0.795609 3 0 3 \r\nz\r\n\" id=\"me3f2bdda04\" style=\"stroke:#0000ff;\"/>\r\n    </defs>\r\n    <g clip-path=\"url(#pb4e170f2e8)\">\r\n     <use style=\"fill:#0000ff;stroke:#0000ff;\" x=\"64.200994\" xlink:href=\"#me3f2bdda04\" y=\"178.277952\"/>\r\n     <use style=\"fill:#0000ff;stroke:#0000ff;\" x=\"67.275374\" xlink:href=\"#me3f2bdda04\" y=\"174.232179\"/>\r\n     <use style=\"fill:#0000ff;stroke:#0000ff;\" x=\"70.349755\" xlink:href=\"#me3f2bdda04\" y=\"190.429065\"/>\r\n     <use style=\"fill:#0000ff;stroke:#0000ff;\" x=\"73.424135\" xlink:href=\"#me3f2bdda04\" y=\"168.640541\"/>\r\n     <use style=\"fill:#0000ff;stroke:#0000ff;\" x=\"76.498515\" xlink:href=\"#me3f2bdda04\" y=\"180.112153\"/>\r\n     <use style=\"fill:#0000ff;stroke:#0000ff;\" x=\"79.572895\" xlink:href=\"#me3f2bdda04\" y=\"211.869744\"/>\r\n     <use style=\"fill:#0000ff;stroke:#0000ff;\" x=\"82.647275\" xlink:href=\"#me3f2bdda04\" y=\"214.756364\"/>\r\n     <use style=\"fill:#0000ff;stroke:#0000ff;\" x=\"85.721655\" xlink:href=\"#me3f2bdda04\" y=\"183.277794\"/>\r\n     <use style=\"fill:#0000ff;stroke:#0000ff;\" x=\"88.796036\" xlink:href=\"#me3f2bdda04\" y=\"166.407397\"/>\r\n     <use style=\"fill:#0000ff;stroke:#0000ff;\" x=\"91.870416\" xlink:href=\"#me3f2bdda04\" y=\"176.722148\"/>\r\n     <use style=\"fill:#0000ff;stroke:#0000ff;\" x=\"94.944796\" xlink:href=\"#me3f2bdda04\" y=\"184.013474\"/>\r\n     <use style=\"fill:#0000ff;stroke:#0000ff;\" x=\"98.019176\" xlink:href=\"#me3f2bdda04\" y=\"165.111797\"/>\r\n     <use style=\"fill:#0000ff;stroke:#0000ff;\" x=\"101.093556\" xlink:href=\"#me3f2bdda04\" y=\"154.621675\"/>\r\n     <use style=\"fill:#0000ff;stroke:#0000ff;\" x=\"104.167936\" xlink:href=\"#me3f2bdda04\" y=\"162.966655\"/>\r\n     <use style=\"fill:#0000ff;stroke:#0000ff;\" x=\"107.242317\" xlink:href=\"#me3f2bdda04\" y=\"148.116209\"/>\r\n     <use style=\"fill:#0000ff;stroke:#0000ff;\" x=\"110.316697\" xlink:href=\"#me3f2bdda04\" y=\"159.918949\"/>\r\n     <use style=\"fill:#0000ff;stroke:#0000ff;\" x=\"113.391077\" xlink:href=\"#me3f2bdda04\" y=\"143.670186\"/>\r\n     <use style=\"fill:#0000ff;stroke:#0000ff;\" x=\"116.465457\" xlink:href=\"#me3f2bdda04\" y=\"180.394435\"/>\r\n     <use style=\"fill:#0000ff;stroke:#0000ff;\" x=\"119.539837\" xlink:href=\"#me3f2bdda04\" y=\"194.264565\"/>\r\n     <use style=\"fill:#0000ff;stroke:#0000ff;\" x=\"122.614217\" xlink:href=\"#me3f2bdda04\" y=\"169.734479\"/>\r\n     <use style=\"fill:#0000ff;stroke:#0000ff;\" x=\"125.688598\" xlink:href=\"#me3f2bdda04\" y=\"138.158781\"/>\r\n     <use style=\"fill:#0000ff;stroke:#0000ff;\" x=\"128.762978\" xlink:href=\"#me3f2bdda04\" y=\"135.423943\"/>\r\n     <use style=\"fill:#0000ff;stroke:#0000ff;\" x=\"131.837358\" xlink:href=\"#me3f2bdda04\" y=\"159.497664\"/>\r\n     <use style=\"fill:#0000ff;stroke:#0000ff;\" x=\"134.911738\" xlink:href=\"#me3f2bdda04\" y=\"156.525878\"/>\r\n     <use style=\"fill:#0000ff;stroke:#0000ff;\" x=\"137.986118\" xlink:href=\"#me3f2bdda04\" y=\"152.851844\"/>\r\n     <use style=\"fill:#0000ff;stroke:#0000ff;\" x=\"141.060498\" xlink:href=\"#me3f2bdda04\" y=\"187.908619\"/>\r\n     <use style=\"fill:#0000ff;stroke:#0000ff;\" x=\"144.134879\" xlink:href=\"#me3f2bdda04\" y=\"139.08486\"/>\r\n     <use style=\"fill:#0000ff;stroke:#0000ff;\" x=\"147.209259\" xlink:href=\"#me3f2bdda04\" y=\"146.834894\"/>\r\n     <use style=\"fill:#0000ff;stroke:#0000ff;\" x=\"150.283639\" xlink:href=\"#me3f2bdda04\" y=\"177.361367\"/>\r\n     <use style=\"fill:#0000ff;stroke:#0000ff;\" x=\"153.358019\" xlink:href=\"#me3f2bdda04\" y=\"163.908047\"/>\r\n     <use style=\"fill:#0000ff;stroke:#0000ff;\" x=\"156.432399\" xlink:href=\"#me3f2bdda04\" y=\"157.301094\"/>\r\n     <use style=\"fill:#0000ff;stroke:#0000ff;\" x=\"159.506779\" xlink:href=\"#me3f2bdda04\" y=\"146.879086\"/>\r\n     <use style=\"fill:#0000ff;stroke:#0000ff;\" x=\"162.58116\" xlink:href=\"#me3f2bdda04\" y=\"125.890357\"/>\r\n     <use style=\"fill:#0000ff;stroke:#0000ff;\" x=\"165.65554\" xlink:href=\"#me3f2bdda04\" y=\"148.191804\"/>\r\n     <use style=\"fill:#0000ff;stroke:#0000ff;\" x=\"168.72992\" xlink:href=\"#me3f2bdda04\" y=\"109.692448\"/>\r\n     <use style=\"fill:#0000ff;stroke:#0000ff;\" x=\"171.8043\" xlink:href=\"#me3f2bdda04\" y=\"143.831742\"/>\r\n     <use style=\"fill:#0000ff;stroke:#0000ff;\" x=\"174.87868\" xlink:href=\"#me3f2bdda04\" y=\"135.298071\"/>\r\n     <use style=\"fill:#0000ff;stroke:#0000ff;\" x=\"177.95306\" xlink:href=\"#me3f2bdda04\" y=\"145.935418\"/>\r\n     <use style=\"fill:#0000ff;stroke:#0000ff;\" x=\"181.027441\" xlink:href=\"#me3f2bdda04\" y=\"131.611518\"/>\r\n     <use style=\"fill:#0000ff;stroke:#0000ff;\" x=\"184.101821\" xlink:href=\"#me3f2bdda04\" y=\"113.083078\"/>\r\n     <use style=\"fill:#0000ff;stroke:#0000ff;\" x=\"187.176201\" xlink:href=\"#me3f2bdda04\" y=\"120.064596\"/>\r\n     <use style=\"fill:#0000ff;stroke:#0000ff;\" x=\"190.250581\" xlink:href=\"#me3f2bdda04\" y=\"114.211989\"/>\r\n     <use style=\"fill:#0000ff;stroke:#0000ff;\" x=\"193.324961\" xlink:href=\"#me3f2bdda04\" y=\"129.525622\"/>\r\n     <use style=\"fill:#0000ff;stroke:#0000ff;\" x=\"196.399341\" xlink:href=\"#me3f2bdda04\" y=\"115.585635\"/>\r\n     <use style=\"fill:#0000ff;stroke:#0000ff;\" x=\"199.473722\" xlink:href=\"#me3f2bdda04\" y=\"119.770811\"/>\r\n     <use style=\"fill:#0000ff;stroke:#0000ff;\" x=\"202.548102\" xlink:href=\"#me3f2bdda04\" y=\"138.880339\"/>\r\n     <use style=\"fill:#0000ff;stroke:#0000ff;\" x=\"205.622482\" xlink:href=\"#me3f2bdda04\" y=\"112.417781\"/>\r\n     <use style=\"fill:#0000ff;stroke:#0000ff;\" x=\"208.696862\" xlink:href=\"#me3f2bdda04\" y=\"137.121148\"/>\r\n     <use style=\"fill:#0000ff;stroke:#0000ff;\" x=\"211.771242\" xlink:href=\"#me3f2bdda04\" y=\"114.724196\"/>\r\n     <use style=\"fill:#0000ff;stroke:#0000ff;\" x=\"214.845622\" xlink:href=\"#me3f2bdda04\" y=\"112.353351\"/>\r\n     <use style=\"fill:#0000ff;stroke:#0000ff;\" x=\"217.920003\" xlink:href=\"#me3f2bdda04\" y=\"137.307345\"/>\r\n     <use style=\"fill:#0000ff;stroke:#0000ff;\" x=\"220.994383\" xlink:href=\"#me3f2bdda04\" y=\"100.571464\"/>\r\n     <use style=\"fill:#0000ff;stroke:#0000ff;\" x=\"224.068763\" xlink:href=\"#me3f2bdda04\" y=\"88.340975\"/>\r\n     <use style=\"fill:#0000ff;stroke:#0000ff;\" x=\"227.143143\" xlink:href=\"#me3f2bdda04\" y=\"107.671365\"/>\r\n     <use style=\"fill:#0000ff;stroke:#0000ff;\" x=\"230.217523\" xlink:href=\"#me3f2bdda04\" y=\"96.674572\"/>\r\n     <use style=\"fill:#0000ff;stroke:#0000ff;\" x=\"233.291903\" xlink:href=\"#me3f2bdda04\" y=\"80.443608\"/>\r\n     <use style=\"fill:#0000ff;stroke:#0000ff;\" x=\"236.366284\" xlink:href=\"#me3f2bdda04\" y=\"89.133175\"/>\r\n     <use style=\"fill:#0000ff;stroke:#0000ff;\" x=\"239.440664\" xlink:href=\"#me3f2bdda04\" y=\"83.545133\"/>\r\n     <use style=\"fill:#0000ff;stroke:#0000ff;\" x=\"242.515044\" xlink:href=\"#me3f2bdda04\" y=\"75.712205\"/>\r\n     <use style=\"fill:#0000ff;stroke:#0000ff;\" x=\"245.589424\" xlink:href=\"#me3f2bdda04\" y=\"110.622537\"/>\r\n     <use style=\"fill:#0000ff;stroke:#0000ff;\" x=\"248.663804\" xlink:href=\"#me3f2bdda04\" y=\"101.513225\"/>\r\n     <use style=\"fill:#0000ff;stroke:#0000ff;\" x=\"251.738184\" xlink:href=\"#me3f2bdda04\" y=\"92.127497\"/>\r\n     <use style=\"fill:#0000ff;stroke:#0000ff;\" x=\"254.812565\" xlink:href=\"#me3f2bdda04\" y=\"77.602591\"/>\r\n     <use style=\"fill:#0000ff;stroke:#0000ff;\" x=\"257.886945\" xlink:href=\"#me3f2bdda04\" y=\"79.054226\"/>\r\n     <use style=\"fill:#0000ff;stroke:#0000ff;\" x=\"260.961325\" xlink:href=\"#me3f2bdda04\" y=\"82.846934\"/>\r\n     <use style=\"fill:#0000ff;stroke:#0000ff;\" x=\"264.035705\" xlink:href=\"#me3f2bdda04\" y=\"82.384996\"/>\r\n     <use style=\"fill:#0000ff;stroke:#0000ff;\" x=\"267.110085\" xlink:href=\"#me3f2bdda04\" y=\"79.532525\"/>\r\n     <use style=\"fill:#0000ff;stroke:#0000ff;\" x=\"270.184465\" xlink:href=\"#me3f2bdda04\" y=\"71.068664\"/>\r\n     <use style=\"fill:#0000ff;stroke:#0000ff;\" x=\"273.258846\" xlink:href=\"#me3f2bdda04\" y=\"114.447059\"/>\r\n     <use style=\"fill:#0000ff;stroke:#0000ff;\" x=\"276.333226\" xlink:href=\"#me3f2bdda04\" y=\"94.608095\"/>\r\n     <use style=\"fill:#0000ff;stroke:#0000ff;\" x=\"279.407606\" xlink:href=\"#me3f2bdda04\" y=\"104.027127\"/>\r\n     <use style=\"fill:#0000ff;stroke:#0000ff;\" x=\"282.481986\" xlink:href=\"#me3f2bdda04\" y=\"94.848704\"/>\r\n     <use style=\"fill:#0000ff;stroke:#0000ff;\" x=\"285.556366\" xlink:href=\"#me3f2bdda04\" y=\"92.25891\"/>\r\n     <use style=\"fill:#0000ff;stroke:#0000ff;\" x=\"288.630746\" xlink:href=\"#me3f2bdda04\" y=\"87.383659\"/>\r\n     <use style=\"fill:#0000ff;stroke:#0000ff;\" x=\"291.705127\" xlink:href=\"#me3f2bdda04\" y=\"57.092235\"/>\r\n     <use style=\"fill:#0000ff;stroke:#0000ff;\" x=\"294.779507\" xlink:href=\"#me3f2bdda04\" y=\"96.848783\"/>\r\n     <use style=\"fill:#0000ff;stroke:#0000ff;\" x=\"297.853887\" xlink:href=\"#me3f2bdda04\" y=\"82.201158\"/>\r\n     <use style=\"fill:#0000ff;stroke:#0000ff;\" x=\"300.928267\" xlink:href=\"#me3f2bdda04\" y=\"83.591439\"/>\r\n     <use style=\"fill:#0000ff;stroke:#0000ff;\" x=\"304.002647\" xlink:href=\"#me3f2bdda04\" y=\"87.434086\"/>\r\n     <use style=\"fill:#0000ff;stroke:#0000ff;\" x=\"307.077027\" xlink:href=\"#me3f2bdda04\" y=\"64.59278\"/>\r\n     <use style=\"fill:#0000ff;stroke:#0000ff;\" x=\"310.151408\" xlink:href=\"#me3f2bdda04\" y=\"76.216405\"/>\r\n     <use style=\"fill:#0000ff;stroke:#0000ff;\" x=\"313.225788\" xlink:href=\"#me3f2bdda04\" y=\"94.928067\"/>\r\n     <use style=\"fill:#0000ff;stroke:#0000ff;\" x=\"316.300168\" xlink:href=\"#me3f2bdda04\" y=\"75.918997\"/>\r\n     <use style=\"fill:#0000ff;stroke:#0000ff;\" x=\"319.374548\" xlink:href=\"#me3f2bdda04\" y=\"81.650052\"/>\r\n     <use style=\"fill:#0000ff;stroke:#0000ff;\" x=\"322.448928\" xlink:href=\"#me3f2bdda04\" y=\"88.820004\"/>\r\n     <use style=\"fill:#0000ff;stroke:#0000ff;\" x=\"325.523308\" xlink:href=\"#me3f2bdda04\" y=\"63.615763\"/>\r\n     <use style=\"fill:#0000ff;stroke:#0000ff;\" x=\"328.597689\" xlink:href=\"#me3f2bdda04\" y=\"55.912037\"/>\r\n     <use style=\"fill:#0000ff;stroke:#0000ff;\" x=\"331.672069\" xlink:href=\"#me3f2bdda04\" y=\"63.640915\"/>\r\n     <use style=\"fill:#0000ff;stroke:#0000ff;\" x=\"334.746449\" xlink:href=\"#me3f2bdda04\" y=\"62.148595\"/>\r\n     <use style=\"fill:#0000ff;stroke:#0000ff;\" x=\"337.820829\" xlink:href=\"#me3f2bdda04\" y=\"53.550433\"/>\r\n     <use style=\"fill:#0000ff;stroke:#0000ff;\" x=\"340.895209\" xlink:href=\"#me3f2bdda04\" y=\"58.763697\"/>\r\n     <use style=\"fill:#0000ff;stroke:#0000ff;\" x=\"343.969589\" xlink:href=\"#me3f2bdda04\" y=\"71.045464\"/>\r\n     <use style=\"fill:#0000ff;stroke:#0000ff;\" x=\"347.04397\" xlink:href=\"#me3f2bdda04\" y=\"54.694188\"/>\r\n     <use style=\"fill:#0000ff;stroke:#0000ff;\" x=\"350.11835\" xlink:href=\"#me3f2bdda04\" y=\"39.289266\"/>\r\n     <use style=\"fill:#0000ff;stroke:#0000ff;\" x=\"353.19273\" xlink:href=\"#me3f2bdda04\" y=\"48.710343\"/>\r\n     <use style=\"fill:#0000ff;stroke:#0000ff;\" x=\"356.26711\" xlink:href=\"#me3f2bdda04\" y=\"46.923771\"/>\r\n     <use style=\"fill:#0000ff;stroke:#0000ff;\" x=\"359.34149\" xlink:href=\"#me3f2bdda04\" y=\"67.261691\"/>\r\n     <use style=\"fill:#0000ff;stroke:#0000ff;\" x=\"362.41587\" xlink:href=\"#me3f2bdda04\" y=\"56.969889\"/>\r\n     <use style=\"fill:#0000ff;stroke:#0000ff;\" x=\"365.490251\" xlink:href=\"#me3f2bdda04\" y=\"17.083636\"/>\r\n     <use style=\"fill:#0000ff;stroke:#0000ff;\" x=\"368.564631\" xlink:href=\"#me3f2bdda04\" y=\"18.323587\"/>\r\n    </g>\r\n   </g>\r\n   <g id=\"line2d_13\">\r\n    <path clip-path=\"url(#pb4e170f2e8)\" d=\"M 64.200994 187.017383 \r\nL 67.275374 185.561519 \r\nL 70.349755 184.105656 \r\nL 73.424135 182.649792 \r\nL 76.498515 181.193928 \r\nL 79.572895 179.738064 \r\nL 82.647275 178.2822 \r\nL 85.721655 176.826336 \r\nL 88.796036 175.370473 \r\nL 91.870416 173.914609 \r\nL 94.944796 172.458745 \r\nL 98.019176 171.002881 \r\nL 101.093556 169.547017 \r\nL 104.167936 168.091153 \r\nL 107.242317 166.63529 \r\nL 110.316697 165.179426 \r\nL 113.391077 163.723562 \r\nL 116.465457 162.267698 \r\nL 119.539837 160.811834 \r\nL 122.614217 159.35597 \r\nL 125.688598 157.900107 \r\nL 128.762978 156.444243 \r\nL 131.837358 154.988379 \r\nL 134.911738 153.532515 \r\nL 137.986118 152.076651 \r\nL 141.060498 150.620787 \r\nL 144.134879 149.164924 \r\nL 147.209259 147.70906 \r\nL 150.283639 146.253196 \r\nL 153.358019 144.797332 \r\nL 156.432399 143.341468 \r\nL 159.506779 141.885604 \r\nL 162.58116 140.429741 \r\nL 165.65554 138.973877 \r\nL 168.72992 137.518013 \r\nL 171.8043 136.062149 \r\nL 174.87868 134.606285 \r\nL 177.95306 133.150421 \r\nL 181.027441 131.694558 \r\nL 184.101821 130.238694 \r\nL 187.176201 128.78283 \r\nL 190.250581 127.326966 \r\nL 193.324961 125.871102 \r\nL 196.399341 124.415238 \r\nL 199.473722 122.959375 \r\nL 202.548102 121.503511 \r\nL 205.622482 120.047647 \r\nL 208.696862 118.591783 \r\nL 211.771242 117.135919 \r\nL 214.845622 115.680055 \r\nL 217.920003 114.224192 \r\nL 220.994383 112.768328 \r\nL 224.068763 111.312464 \r\nL 227.143143 109.8566 \r\nL 230.217523 108.400736 \r\nL 233.291903 106.944872 \r\nL 236.366284 105.489009 \r\nL 239.440664 104.033145 \r\nL 242.515044 102.577281 \r\nL 245.589424 101.121417 \r\nL 248.663804 99.665553 \r\nL 251.738184 98.209689 \r\nL 254.812565 96.753826 \r\nL 257.886945 95.297962 \r\nL 260.961325 93.842098 \r\nL 264.035705 92.386234 \r\nL 267.110085 90.93037 \r\nL 270.184465 89.474506 \r\nL 273.258846 88.018643 \r\nL 276.333226 86.562779 \r\nL 279.407606 85.106915 \r\nL 282.481986 83.651051 \r\nL 285.556366 82.195187 \r\nL 288.630746 80.739323 \r\nL 291.705127 79.28346 \r\nL 294.779507 77.827596 \r\nL 297.853887 76.371732 \r\nL 300.928267 74.915868 \r\nL 304.002647 73.460004 \r\nL 307.077027 72.00414 \r\nL 310.151408 70.548277 \r\nL 313.225788 69.092413 \r\nL 316.300168 67.636549 \r\nL 319.374548 66.180685 \r\nL 322.448928 64.724821 \r\nL 325.523308 63.268958 \r\nL 328.597689 61.813094 \r\nL 331.672069 60.35723 \r\nL 334.746449 58.901366 \r\nL 337.820829 57.445502 \r\nL 340.895209 55.989638 \r\nL 343.969589 54.533775 \r\nL 347.04397 53.077911 \r\nL 350.11835 51.622047 \r\nL 353.19273 50.166183 \r\nL 356.26711 48.710319 \r\nL 359.34149 47.254455 \r\nL 362.41587 45.798592 \r\nL 365.490251 44.342728 \r\nL 368.564631 42.886864 \r\n\" style=\"fill:none;stroke:#ff0000;stroke-linecap:square;stroke-width:1.5;\"/>\r\n   </g>\r\n   <g id=\"patch_3\">\r\n    <path d=\"M 48.982813 224.64 \r\nL 48.982813 7.2 \r\n\" style=\"fill:none;stroke:#ffffff;stroke-linecap:square;stroke-linejoin:miter;stroke-width:0.8;\"/>\r\n   </g>\r\n   <g id=\"patch_4\">\r\n    <path d=\"M 383.782813 224.64 \r\nL 383.782813 7.2 \r\n\" style=\"fill:none;stroke:#ffffff;stroke-linecap:square;stroke-linejoin:miter;stroke-width:0.8;\"/>\r\n   </g>\r\n   <g id=\"patch_5\">\r\n    <path d=\"M 48.982813 224.64 \r\nL 383.782813 224.64 \r\n\" style=\"fill:none;stroke:#ffffff;stroke-linecap:square;stroke-linejoin:miter;stroke-width:0.8;\"/>\r\n   </g>\r\n   <g id=\"patch_6\">\r\n    <path d=\"M 48.982813 7.2 \r\nL 383.782813 7.2 \r\n\" style=\"fill:none;stroke:#ffffff;stroke-linecap:square;stroke-linejoin:miter;stroke-width:0.8;\"/>\r\n   </g>\r\n  </g>\r\n </g>\r\n <defs>\r\n  <clipPath id=\"pb4e170f2e8\">\r\n   <rect height=\"217.44\" width=\"334.8\" x=\"48.982813\" y=\"7.2\"/>\r\n  </clipPath>\r\n </defs>\r\n</svg>\r\n",
      "text/plain": "<Figure size 432x288 with 1 Axes>"
     },
     "metadata": {
      "needs_background": "dark"
     },
     "output_type": "display_data"
    }
   ],
   "source": [
    "x = np.arange(-5.0, 5.0, 0.1)\n",
    "\n",
    "##You can adjust the slope and intercept to verify the changes in the graph\n",
    "y = 2*(x) + 3\n",
    "y_noise = 2 * np.random.normal(size=x.size)\n",
    "ydata = y + y_noise\n",
    "#plt.figure(figsize=(8,6))\n",
    "plt.plot(x, ydata,  'bo')\n",
    "plt.plot(x,y, 'r') \n",
    "plt.ylabel('Dependent Variable')\n",
    "plt.xlabel('Indepdendent Variable')\n",
    "plt.show()"
   ]
  },
  {
   "cell_type": "markdown",
   "metadata": {},
   "source": [
    "Non-linear regressions are a relationship between independent variables $x$ and a dependent variable $y$ which result in a non-linear function modeled data. Essentially any relationship that is not linear can be termed as non-linear, and is usually represented by the polynomial of $k$ degrees (maximum power of $x$). \n",
    "\n",
    "$$ \\ y = a x^3 + b x^2 + c x + d \\ $$\n",
    "\n",
    "Non-linear functions can have elements like exponentials, logarithms, fractions, and others. For example: $$ y = \\log(x)$$\n",
    "    \n",
    "Or even, more complicated such as :\n",
    "$$ y = \\log(a x^3 + b x^2 + c x + d)$$"
   ]
  },
  {
   "cell_type": "markdown",
   "metadata": {},
   "source": [
    "Let's take a look at a cubic function's graph."
   ]
  },
  {
   "cell_type": "code",
   "execution_count": null,
   "metadata": {
    "collapsed": false
   },
   "outputs": [],
   "source": [
    "x = np.arange(-5.0, 5.0, 0.1)\n",
    "\n",
    "##You can adjust the slope and intercept to verify the changes in the graph\n",
    "y = 1*(x**3) + 1*(x**2) + 1*x + 3\n",
    "y_noise = 20 * np.random.normal(size=x.size)\n",
    "ydata = y + y_noise\n",
    "plt.plot(x, ydata,  'bo')\n",
    "plt.plot(x,y, 'r') \n",
    "plt.ylabel('Dependent Variable')\n",
    "plt.xlabel('Indepdendent Variable')\n",
    "plt.show()"
   ]
  },
  {
   "cell_type": "markdown",
   "metadata": {},
   "source": [
    "As you can see, this function has $x^3$ and $x^2$ as independent variables. Also, the graphic of this function is not a straight line over the 2D plane. So this is a non-linear function."
   ]
  },
  {
   "cell_type": "markdown",
   "metadata": {},
   "source": [
    "Some other types of non-linear functions are:"
   ]
  },
  {
   "cell_type": "markdown",
   "metadata": {},
   "source": [
    "### Quadratic"
   ]
  },
  {
   "cell_type": "markdown",
   "metadata": {},
   "source": [
    "$$ Y = X^2 $$"
   ]
  },
  {
   "cell_type": "code",
   "execution_count": null,
   "metadata": {
    "collapsed": false
   },
   "outputs": [],
   "source": [
    "x = np.arange(-5.0, 5.0, 0.1)\n",
    "\n",
    "##You can adjust the slope and intercept to verify the changes in the graph\n",
    "\n",
    "y = np.power(x,2)\n",
    "y_noise = 2 * np.random.normal(size=x.size)\n",
    "ydata = y + y_noise\n",
    "plt.plot(x, ydata,  'bo')\n",
    "plt.plot(x,y, 'r') \n",
    "plt.ylabel('Dependent Variable')\n",
    "plt.xlabel('Indepdendent Variable')\n",
    "plt.show()"
   ]
  },
  {
   "cell_type": "markdown",
   "metadata": {},
   "source": [
    "### Exponential"
   ]
  },
  {
   "cell_type": "markdown",
   "metadata": {},
   "source": [
    "An exponential function with base c is defined by $$ Y = a + b c^X$$ where b ≠0, c > 0 , c ≠1, and x is any real number. The base, c, is constant and the exponent, x, is a variable. \n",
    "\n"
   ]
  },
  {
   "cell_type": "code",
   "execution_count": null,
   "metadata": {
    "collapsed": false
   },
   "outputs": [],
   "source": [
    "X = np.arange(-5.0, 5.0, 0.1)\n",
    "\n",
    "##You can adjust the slope and intercept to verify the changes in the graph\n",
    "\n",
    "Y= np.exp(X)\n",
    "\n",
    "plt.plot(X,Y) \n",
    "plt.ylabel('Dependent Variable')\n",
    "plt.xlabel('Indepdendent Variable')\n",
    "plt.show()"
   ]
  },
  {
   "cell_type": "markdown",
   "metadata": {},
   "source": [
    "### Logarithmic\n",
    "\n",
    "The response $y$ is a results of applying logarithmic map from input $x$'s to output variable $y$. It is one of the simplest form of __log()__: i.e. $$ y = \\log(x)$$\n",
    "\n",
    "Please consider that instead of $x$, we can use $X$, which can be polynomial representation of the $x$'s. In general form it would be written as  \n",
    "\\begin{equation}\n",
    "y = \\log(X)\n",
    "\\end{equation}"
   ]
  },
  {
   "cell_type": "code",
   "execution_count": null,
   "metadata": {
    "collapsed": false
   },
   "outputs": [],
   "source": [
    "X = np.arange(-5.0, 5.0, 0.1)\n",
    "\n",
    "Y = np.log(X)\n",
    "\n",
    "plt.plot(X,Y) \n",
    "plt.ylabel('Dependent Variable')\n",
    "plt.xlabel('Indepdendent Variable')\n",
    "plt.show()"
   ]
  },
  {
   "cell_type": "markdown",
   "metadata": {},
   "source": [
    "### Sigmoidal/Logistic"
   ]
  },
  {
   "cell_type": "markdown",
   "metadata": {},
   "source": [
    "$$ Y = a + \\frac{b}{1+ c^{(X-d)}}$$"
   ]
  },
  {
   "cell_type": "code",
   "execution_count": null,
   "metadata": {},
   "outputs": [],
   "source": [
    "X = np.arange(-5.0, 5.0, 0.1)\n",
    "\n",
    "\n",
    "Y = 1-4/(1+np.power(3, X-2))\n",
    "\n",
    "plt.plot(X,Y) \n",
    "plt.ylabel('Dependent Variable')\n",
    "plt.xlabel('Indepdendent Variable')\n",
    "plt.show()"
   ]
  },
  {
   "cell_type": "markdown",
   "metadata": {},
   "source": [
    "<a id=\"ref2\"></a>\n",
    "# Non-Linear Regression example"
   ]
  },
  {
   "cell_type": "markdown",
   "metadata": {},
   "source": [
    "For an example, we're going to try and fit a non-linear model to the datapoints corrensponding to China's GDP from 1960 to 2014. We download a dataset with two columns, the first, a year between 1960 and 2014, the second, China's corresponding annual gross domestic income in US dollars for that year. "
   ]
  },
  {
   "cell_type": "code",
   "execution_count": null,
   "metadata": {
    "collapsed": false
   },
   "outputs": [],
   "source": [
    "import numpy as np\n",
    "import pandas as pd\n",
    "\n",
    "#downloading dataset\n",
    "!wget -nv -O china_gdp.csv https://s3-api.us-geo.objectstorage.softlayer.net/cf-courses-data/CognitiveClass/ML0101ENv3/labs/china_gdp.csv\n",
    "    \n",
    "df = pd.read_csv(\"china_gdp.csv\")\n",
    "df.head(10)"
   ]
  },
  {
   "cell_type": "markdown",
   "metadata": {},
   "source": [
    "__Did you know?__ When it comes to Machine Learning, you will likely be working with large datasets. As a business, where can you host your data? IBM is offering a unique opportunity for businesses, with 10 Tb of IBM Cloud Object Storage: [Sign up now for free](http://cocl.us/ML0101EN-IBM-Offer-CC)"
   ]
  },
  {
   "cell_type": "markdown",
   "metadata": {},
   "source": [
    "### Plotting the Dataset ###\n",
    "This is what the datapoints look like. It kind of looks like an either logistic or exponential function. The growth starts off slow, then from 2005 on forward, the growth is very significant. And finally, it deaccelerates slightly in the 2010s."
   ]
  },
  {
   "cell_type": "code",
   "execution_count": null,
   "metadata": {
    "collapsed": false
   },
   "outputs": [],
   "source": [
    "plt.figure(figsize=(8,5))\n",
    "x_data, y_data = (df[\"Year\"].values, df[\"Value\"].values)\n",
    "plt.plot(x_data, y_data, 'ro')\n",
    "plt.ylabel('GDP')\n",
    "plt.xlabel('Year')\n",
    "plt.show()"
   ]
  },
  {
   "cell_type": "markdown",
   "metadata": {},
   "source": [
    "### Choosing a model ###\n",
    "\n",
    "From an initial look at the plot, we determine that the logistic function could be a good approximation,\n",
    "since it has the property of starting with a slow growth, increasing growth in the middle, and then decreasing again at the end; as illustrated below:"
   ]
  },
  {
   "cell_type": "code",
   "execution_count": null,
   "metadata": {
    "collapsed": false
   },
   "outputs": [],
   "source": [
    "X = np.arange(-5.0, 5.0, 0.1)\n",
    "Y = 1.0 / (1.0 + np.exp(-X))\n",
    "\n",
    "plt.plot(X,Y) \n",
    "plt.ylabel('Dependent Variable')\n",
    "plt.xlabel('Indepdendent Variable')\n",
    "plt.show()"
   ]
  },
  {
   "cell_type": "markdown",
   "metadata": {},
   "source": [
    "\n",
    "\n",
    "The formula for the logistic function is the following:\n",
    "\n",
    "$$ \\hat{Y} = \\frac1{1+e^{\\beta_1(X-\\beta_2)}}$$\n",
    "\n",
    "$\\beta_1$: Controls the curve's steepness,\n",
    "\n",
    "$\\beta_2$: Slides the curve on the x-axis."
   ]
  },
  {
   "cell_type": "markdown",
   "metadata": {},
   "source": [
    "### Building The Model ###\n",
    "Now, let's build our regression model and initialize its parameters. "
   ]
  },
  {
   "cell_type": "code",
   "execution_count": null,
   "metadata": {},
   "outputs": [],
   "source": [
    "def sigmoid(x, Beta_1, Beta_2):\n",
    "     y = 1 / (1 + np.exp(-Beta_1*(x-Beta_2)))\n",
    "     return y"
   ]
  },
  {
   "cell_type": "markdown",
   "metadata": {},
   "source": [
    "Lets look at a sample sigmoid line that might fit with the data:"
   ]
  },
  {
   "cell_type": "code",
   "execution_count": null,
   "metadata": {
    "collapsed": false
   },
   "outputs": [],
   "source": [
    "beta_1 = 0.10\n",
    "beta_2 = 1990.0\n",
    "\n",
    "#logistic function\n",
    "Y_pred = sigmoid(x_data, beta_1 , beta_2)\n",
    "\n",
    "#plot initial prediction against datapoints\n",
    "plt.plot(x_data, Y_pred*15000000000000.)\n",
    "plt.plot(x_data, y_data, 'ro')"
   ]
  },
  {
   "cell_type": "markdown",
   "metadata": {},
   "source": [
    "Our task here is to find the best parameters for our model. Lets first normalize our x and y:"
   ]
  },
  {
   "cell_type": "code",
   "execution_count": null,
   "metadata": {},
   "outputs": [],
   "source": [
    "# Lets normalize our data\n",
    "xdata =x_data/max(x_data)\n",
    "ydata =y_data/max(y_data)"
   ]
  },
  {
   "cell_type": "markdown",
   "metadata": {},
   "source": [
    "#### How we find the best parameters for our fit line?\n",
    "we can use __curve_fit__ which uses non-linear least squares to fit our sigmoid function, to data. Optimal values for the parameters so that the sum of the squared residuals of sigmoid(xdata, *popt) - ydata is minimized.\n",
    "\n",
    "popt are our optimized parameters."
   ]
  },
  {
   "cell_type": "code",
   "execution_count": null,
   "metadata": {},
   "outputs": [],
   "source": [
    "from scipy.optimize import curve_fit\n",
    "popt, pcov = curve_fit(sigmoid, xdata, ydata)\n",
    "#print the final parameters\n",
    "print(\" beta_1 = %f, beta_2 = %f\" % (popt[0], popt[1]))"
   ]
  },
  {
   "cell_type": "markdown",
   "metadata": {},
   "source": [
    "Now we plot our resulting regresssion model."
   ]
  },
  {
   "cell_type": "code",
   "execution_count": null,
   "metadata": {},
   "outputs": [],
   "source": [
    "x = np.linspace(1960, 2015, 55)\n",
    "x = x/max(x)\n",
    "plt.figure(figsize=(8,5))\n",
    "y = sigmoid(x, *popt)\n",
    "plt.plot(xdata, ydata, 'ro', label='data')\n",
    "plt.plot(x,y, linewidth=3.0, label='fit')\n",
    "plt.legend(loc='best')\n",
    "plt.ylabel('GDP')\n",
    "plt.xlabel('Year')\n",
    "plt.show()"
   ]
  },
  {
   "cell_type": "markdown",
   "metadata": {},
   "source": [
    "## Practice\n",
    "Can you calculate what is the accuracy of our model?"
   ]
  },
  {
   "cell_type": "code",
   "execution_count": null,
   "metadata": {},
   "outputs": [],
   "source": [
    "# write your code here\n",
    "\n",
    "\n"
   ]
  },
  {
   "cell_type": "markdown",
   "metadata": {},
   "source": [
    "Double-click __here__ for the solution.\n",
    "\n",
    "<!-- Your answer is below:\n",
    "    \n",
    "# split data into train/test\n",
    "msk = np.random.rand(len(df)) < 0.8\n",
    "train_x = xdata[msk]\n",
    "test_x = xdata[~msk]\n",
    "train_y = ydata[msk]\n",
    "test_y = ydata[~msk]\n",
    "\n",
    "# build the model using train set\n",
    "popt, pcov = curve_fit(sigmoid, train_x, train_y)\n",
    "\n",
    "# predict using test set\n",
    "y_hat = sigmoid(test_x, *popt)\n",
    "\n",
    "# evaluation\n",
    "print(\"Mean absolute error: %.2f\" % np.mean(np.absolute(y_hat - test_y)))\n",
    "print(\"Residual sum of squares (MSE): %.2f\" % np.mean((y_hat - test_y) ** 2))\n",
    "from sklearn.metrics import r2_score\n",
    "print(\"R2-score: %.2f\" % r2_score(y_hat , test_y) )\n",
    "\n",
    "-->"
   ]
  },
  {
   "cell_type": "markdown",
   "metadata": {},
   "source": [
    "## Want to learn more?\n",
    "\n",
    "IBM SPSS Modeler is a comprehensive analytics platform that has many machine learning algorithms. It has been designed to bring predictive intelligence to decisions made by individuals, by groups, by systems – by your enterprise as a whole. A free trial is available through this course, available here: [SPSS Modeler](http://cocl.us/ML0101EN-SPSSModeler).\n",
    "\n",
    "Also, you can use Watson Studio to run these notebooks faster with bigger datasets. Watson Studio is IBM's leading cloud solution for data scientists, built by data scientists. With Jupyter notebooks, RStudio, Apache Spark and popular libraries pre-packaged in the cloud, Watson Studio enables data scientists to collaborate on their projects without having to install anything. Join the fast-growing community of Watson Studio users today with a free account at [Watson Studio](https://cocl.us/ML0101EN_DSX)\n",
    "\n",
    "### Thanks for completing this lesson!\n",
    "\n",
    "Notebook created by: <a href = \"https://ca.linkedin.com/in/saeedaghabozorgi\">Saeed Aghabozorgi</a>\n",
    "\n",
    "<hr>\n",
    "Copyright &copy; 2018 [Cognitive Class](https://cocl.us/DX0108EN_CC). This notebook and its source code are released under the terms of the [MIT License](https://bigdatauniversity.com/mit-license/).​"
   ]
  }
 ],
 "metadata": {
  "kernelspec": {
   "display_name": "Python 3",
   "language": "python",
   "name": "python3"
  },
  "language_info": {
   "codemirror_mode": {
    "name": "ipython",
    "version": 3
   },
   "file_extension": ".py",
   "mimetype": "text/x-python",
   "name": "python",
   "nbconvert_exporter": "python",
   "pygments_lexer": "ipython3",
   "version": "3.6.5"
  }
 },
 "nbformat": 4,
 "nbformat_minor": 2
}