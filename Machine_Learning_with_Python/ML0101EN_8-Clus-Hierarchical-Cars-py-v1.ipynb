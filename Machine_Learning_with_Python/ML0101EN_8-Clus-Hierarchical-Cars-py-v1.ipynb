{
 "cells": [
  {
   "cell_type": "markdown",
   "metadata": {},
   "source": [
    "<a href=\"https://www.bigdatauniversity.com\"><img src = \"https://ibm.box.com/shared/static/cw2c7r3o20w9zn8gkecaeyjhgw3xdgbj.png\" width = 400, align = \"center\"></a>\n",
    "\n",
    "# <center>Hierarchical Clustering</center>"
   ]
  },
  {
   "cell_type": "markdown",
   "metadata": {},
   "source": [
    "Welcome to Lab of Hierarchical Clustering with Python using Scipy and Scikit-learn package."
   ]
  },
  {
   "cell_type": "markdown",
   "metadata": {},
   "source": [
    "#  Hierarchical Clustering - Agglomerative\n",
    "\n",
    "We will be looking at a clustering technique, which is <b>Agglomerative Hierarchical Clustering</b>. Remember that agglomerative is the bottom up approach. <br> <br>\n",
    "In this lab, we will be looking at Agglomerative clustering, which is more popular than Divisive clustering. <br> <br>\n",
    "We will also be using Complete Linkage as the Linkage Criteria. <br>\n",
    "<b> <i> NOTE: You can also try using Average Linkage wherever Complete Linkage would be used to see the difference! </i> </b>"
   ]
  },
  {
   "cell_type": "code",
   "execution_count": 1,
   "metadata": {},
   "outputs": [],
   "source": [
    "import numpy as np \n",
    "import pandas as pd\n",
    "from scipy import ndimage \n",
    "from scipy.cluster import hierarchy \n",
    "from scipy.spatial import distance_matrix \n",
    "from matplotlib import pyplot as plt \n",
    "from sklearn import manifold, datasets \n",
    "from sklearn.cluster import AgglomerativeClustering \n",
    "from sklearn.datasets.samples_generator import make_blobs \n",
    "%matplotlib inline"
   ]
  },
  {
   "cell_type": "markdown",
   "metadata": {},
   "source": [
    "---\n",
    "### Generating Random Data\n",
    "We will be generating a set of data using the <b>make_blobs</b> class. <br> <br>\n",
    "Input these parameters into make_blobs:\n",
    "<ul>\n",
    "    <li> <b>n_samples</b>: The total number of points equally divided among clusters. </li>\n",
    "    <ul> <li> Choose a number from 10-1500 </li> </ul>\n",
    "    <li> <b>centers</b>: The number of centers to generate, or the fixed center locations. </li>\n",
    "    <ul> <li> Choose arrays of x,y coordinates for generating the centers. Have 1-10 centers (ex. centers=[[1,1], [2,5]]) </li> </ul>\n",
    "    <li> <b>cluster_std</b>: The standard deviation of the clusters. The larger the number, the further apart the clusters</li>\n",
    "    <ul> <li> Choose a number between 0.5-1.5 </li> </ul>\n",
    "</ul> <br>\n",
    "Save the result to <b>X1</b> and <b>y1</b>."
   ]
  },
  {
   "cell_type": "code",
   "execution_count": 2,
   "metadata": {},
   "outputs": [],
   "source": [
    "X1, y1 = make_blobs(n_samples=50, centers=[[4,4], [-2, -1], [1, 1], [10,4]], cluster_std=0.9)"
   ]
  },
  {
   "cell_type": "markdown",
   "metadata": {},
   "source": [
    "Plot the scatter plot of the randomly generated data"
   ]
  },
  {
   "cell_type": "code",
   "execution_count": 3,
   "metadata": {},
   "outputs": [
    {
     "data": {
      "text/plain": "<matplotlib.collections.PathCollection at 0x2287ff56608>"
     },
     "execution_count": 3,
     "metadata": {},
     "output_type": "execute_result"
    },
    {
     "data": {
      "image/png": "[encoded data removed]",
      "image/svg+xml": "<?xml version=\"1.0\" encoding=\"utf-8\" standalone=\"no\"?>\r\n<!DOCTYPE svg PUBLIC \"-//W3C//DTD SVG 1.1//EN\"\r\n  \"http://www.w3.org/Graphics/SVG/1.1/DTD/svg11.dtd\">\r\n<!-- Created with matplotlib (https://matplotlib.org/) -->\r\n<svg height=\"248.518125pt\" version=\"1.1\" viewBox=\"0 0 370.942187 248.518125\" width=\"370.942187pt\" xmlns=\"http://www.w3.org/2000/svg\" xmlns:xlink=\"http://www.w3.org/1999/xlink\">\r\n <defs>\r\n  <style type=\"text/css\">\r\n*{stroke-linecap:butt;stroke-linejoin:round;}\r\n  </style>\r\n </defs>\r\n <g id=\"figure_1\">\r\n  <g id=\"patch_1\">\r\n   <path d=\"M 0 248.518125 \r\nL 370.942187 248.518125 \r\nL 370.942187 0 \r\nL 0 0 \r\nz\r\n\" style=\"fill:none;\"/>\r\n  </g>\r\n  <g id=\"axes_1\">\r\n   <g id=\"patch_2\">\r\n    <path d=\"M 28.942188 224.64 \r\nL 363.742188 224.64 \r\nL 363.742188 7.2 \r\nL 28.942188 7.2 \r\nz\r\n\"/>\r\n   </g>\r\n   <g id=\"PathCollection_1\">\r\n    <defs>\r\n     <path d=\"M 0 3 \r\nC 0.795609 3 1.55874 2.683901 2.12132 2.12132 \r\nC 2.683901 1.55874 3 0.795609 3 0 \r\nC 3 -0.795609 2.683901 -1.55874 2.12132 -2.12132 \r\nC 1.55874 -2.683901 0.795609 -3 0 -3 \r\nC -0.795609 -3 -1.55874 -2.683901 -2.12132 -2.12132 \r\nC -2.683901 -1.55874 -3 -0.795609 -3 0 \r\nC -3 0.795609 -2.683901 1.55874 -2.12132 2.12132 \r\nC -1.55874 2.683901 -0.795609 3 0 3 \r\nz\r\n\" id=\"m7f3b13f1fd\" style=\"stroke:#8dd3c7;\"/>\r\n    </defs>\r\n    <g clip-path=\"url(#pfb8404a102)\">\r\n     <use style=\"fill:#8dd3c7;stroke:#8dd3c7;\" x=\"168.063585\" xlink:href=\"#m7f3b13f1fd\" y=\"126.374914\"/>\r\n     <use style=\"fill:#8dd3c7;stroke:#8dd3c7;\" x=\"329.838562\" xlink:href=\"#m7f3b13f1fd\" y=\"49.148357\"/>\r\n     <use style=\"fill:#8dd3c7;stroke:#8dd3c7;\" x=\"145.410108\" xlink:href=\"#m7f3b13f1fd\" y=\"135.822645\"/>\r\n     <use style=\"fill:#8dd3c7;stroke:#8dd3c7;\" x=\"156.502299\" xlink:href=\"#m7f3b13f1fd\" y=\"92.740748\"/>\r\n     <use style=\"fill:#8dd3c7;stroke:#8dd3c7;\" x=\"165.469206\" xlink:href=\"#m7f3b13f1fd\" y=\"71.402733\"/>\r\n     <use style=\"fill:#8dd3c7;stroke:#8dd3c7;\" x=\"74.887843\" xlink:href=\"#m7f3b13f1fd\" y=\"187.656067\"/>\r\n     <use style=\"fill:#8dd3c7;stroke:#8dd3c7;\" x=\"83.485677\" xlink:href=\"#m7f3b13f1fd\" y=\"214.384113\"/>\r\n     <use style=\"fill:#8dd3c7;stroke:#8dd3c7;\" x=\"200.951113\" xlink:href=\"#m7f3b13f1fd\" y=\"45.495336\"/>\r\n     <use style=\"fill:#8dd3c7;stroke:#8dd3c7;\" x=\"81.814141\" xlink:href=\"#m7f3b13f1fd\" y=\"188.056596\"/>\r\n     <use style=\"fill:#8dd3c7;stroke:#8dd3c7;\" x=\"45.483317\" xlink:href=\"#m7f3b13f1fd\" y=\"212.363076\"/>\r\n     <use style=\"fill:#8dd3c7;stroke:#8dd3c7;\" x=\"212.597864\" xlink:href=\"#m7f3b13f1fd\" y=\"17.455887\"/>\r\n     <use style=\"fill:#8dd3c7;stroke:#8dd3c7;\" x=\"61.480503\" xlink:href=\"#m7f3b13f1fd\" y=\"203.24168\"/>\r\n     <use style=\"fill:#8dd3c7;stroke:#8dd3c7;\" x=\"202.993407\" xlink:href=\"#m7f3b13f1fd\" y=\"44.030064\"/>\r\n     <use style=\"fill:#8dd3c7;stroke:#8dd3c7;\" x=\"348.339471\" xlink:href=\"#m7f3b13f1fd\" y=\"40.580991\"/>\r\n     <use style=\"fill:#8dd3c7;stroke:#8dd3c7;\" x=\"210.075339\" xlink:href=\"#m7f3b13f1fd\" y=\"59.422202\"/>\r\n     <use style=\"fill:#8dd3c7;stroke:#8dd3c7;\" x=\"100.951342\" xlink:href=\"#m7f3b13f1fd\" y=\"192.887348\"/>\r\n     <use style=\"fill:#8dd3c7;stroke:#8dd3c7;\" x=\"214.929484\" xlink:href=\"#m7f3b13f1fd\" y=\"32.866416\"/>\r\n     <use style=\"fill:#8dd3c7;stroke:#8dd3c7;\" x=\"226.239158\" xlink:href=\"#m7f3b13f1fd\" y=\"52.874875\"/>\r\n     <use style=\"fill:#8dd3c7;stroke:#8dd3c7;\" x=\"82.884935\" xlink:href=\"#m7f3b13f1fd\" y=\"208.022115\"/>\r\n     <use style=\"fill:#8dd3c7;stroke:#8dd3c7;\" x=\"323.408846\" xlink:href=\"#m7f3b13f1fd\" y=\"55.207276\"/>\r\n     <use style=\"fill:#8dd3c7;stroke:#8dd3c7;\" x=\"202.798266\" xlink:href=\"#m7f3b13f1fd\" y=\"71.517533\"/>\r\n     <use style=\"fill:#8dd3c7;stroke:#8dd3c7;\" x=\"90.226771\" xlink:href=\"#m7f3b13f1fd\" y=\"135.803479\"/>\r\n     <use style=\"fill:#8dd3c7;stroke:#8dd3c7;\" x=\"311.414977\" xlink:href=\"#m7f3b13f1fd\" y=\"100.369474\"/>\r\n     <use style=\"fill:#8dd3c7;stroke:#8dd3c7;\" x=\"326.731357\" xlink:href=\"#m7f3b13f1fd\" y=\"52.768462\"/>\r\n     <use style=\"fill:#8dd3c7;stroke:#8dd3c7;\" x=\"330.928329\" xlink:href=\"#m7f3b13f1fd\" y=\"90.627079\"/>\r\n     <use style=\"fill:#8dd3c7;stroke:#8dd3c7;\" x=\"59.472462\" xlink:href=\"#m7f3b13f1fd\" y=\"174.125064\"/>\r\n     <use style=\"fill:#8dd3c7;stroke:#8dd3c7;\" x=\"171.767873\" xlink:href=\"#m7f3b13f1fd\" y=\"117.729219\"/>\r\n     <use style=\"fill:#8dd3c7;stroke:#8dd3c7;\" x=\"72.876986\" xlink:href=\"#m7f3b13f1fd\" y=\"145.804171\"/>\r\n     <use style=\"fill:#8dd3c7;stroke:#8dd3c7;\" x=\"163.588544\" xlink:href=\"#m7f3b13f1fd\" y=\"123.040179\"/>\r\n     <use style=\"fill:#8dd3c7;stroke:#8dd3c7;\" x=\"204.644451\" xlink:href=\"#m7f3b13f1fd\" y=\"59.224836\"/>\r\n     <use style=\"fill:#8dd3c7;stroke:#8dd3c7;\" x=\"312.936548\" xlink:href=\"#m7f3b13f1fd\" y=\"69.485846\"/>\r\n     <use style=\"fill:#8dd3c7;stroke:#8dd3c7;\" x=\"162.259827\" xlink:href=\"#m7f3b13f1fd\" y=\"106.696998\"/>\r\n     <use style=\"fill:#8dd3c7;stroke:#8dd3c7;\" x=\"296.941349\" xlink:href=\"#m7f3b13f1fd\" y=\"34.528949\"/>\r\n     <use style=\"fill:#8dd3c7;stroke:#8dd3c7;\" x=\"329.066807\" xlink:href=\"#m7f3b13f1fd\" y=\"87.354258\"/>\r\n     <use style=\"fill:#8dd3c7;stroke:#8dd3c7;\" x=\"140.69437\" xlink:href=\"#m7f3b13f1fd\" y=\"124.420441\"/>\r\n     <use style=\"fill:#8dd3c7;stroke:#8dd3c7;\" x=\"243.81947\" xlink:href=\"#m7f3b13f1fd\" y=\"52.341358\"/>\r\n     <use style=\"fill:#8dd3c7;stroke:#8dd3c7;\" x=\"140.610993\" xlink:href=\"#m7f3b13f1fd\" y=\"135.300434\"/>\r\n     <use style=\"fill:#8dd3c7;stroke:#8dd3c7;\" x=\"44.344904\" xlink:href=\"#m7f3b13f1fd\" y=\"180.234078\"/>\r\n     <use style=\"fill:#8dd3c7;stroke:#8dd3c7;\" x=\"328.775934\" xlink:href=\"#m7f3b13f1fd\" y=\"75.097651\"/>\r\n     <use style=\"fill:#8dd3c7;stroke:#8dd3c7;\" x=\"50.117991\" xlink:href=\"#m7f3b13f1fd\" y=\"175.199696\"/>\r\n     <use style=\"fill:#8dd3c7;stroke:#8dd3c7;\" x=\"340.140128\" xlink:href=\"#m7f3b13f1fd\" y=\"66.228487\"/>\r\n     <use style=\"fill:#8dd3c7;stroke:#8dd3c7;\" x=\"201.398676\" xlink:href=\"#m7f3b13f1fd\" y=\"25.272003\"/>\r\n     <use style=\"fill:#8dd3c7;stroke:#8dd3c7;\" x=\"175.959138\" xlink:href=\"#m7f3b13f1fd\" y=\"148.747533\"/>\r\n     <use style=\"fill:#8dd3c7;stroke:#8dd3c7;\" x=\"63.339375\" xlink:href=\"#m7f3b13f1fd\" y=\"189.853618\"/>\r\n     <use style=\"fill:#8dd3c7;stroke:#8dd3c7;\" x=\"314.001285\" xlink:href=\"#m7f3b13f1fd\" y=\"62.568463\"/>\r\n     <use style=\"fill:#8dd3c7;stroke:#8dd3c7;\" x=\"121.366713\" xlink:href=\"#m7f3b13f1fd\" y=\"195.885617\"/>\r\n     <use style=\"fill:#8dd3c7;stroke:#8dd3c7;\" x=\"143.488752\" xlink:href=\"#m7f3b13f1fd\" y=\"103.227888\"/>\r\n     <use style=\"fill:#8dd3c7;stroke:#8dd3c7;\" x=\"165.007711\" xlink:href=\"#m7f3b13f1fd\" y=\"123.508845\"/>\r\n     <use style=\"fill:#8dd3c7;stroke:#8dd3c7;\" x=\"245.456748\" xlink:href=\"#m7f3b13f1fd\" y=\"30.926648\"/>\r\n     <use style=\"fill:#8dd3c7;stroke:#8dd3c7;\" x=\"194.616321\" xlink:href=\"#m7f3b13f1fd\" y=\"94.230478\"/>\r\n    </g>\r\n   </g>\r\n   <g id=\"matplotlib.axis_1\">\r\n    <g id=\"xtick_1\">\r\n     <g id=\"line2d_1\">\r\n      <defs>\r\n       <path d=\"M 0 0 \r\nL 0 3.5 \r\n\" id=\"m3f91b9ee40\" style=\"stroke:#ffffff;stroke-width:0.8;\"/>\r\n      </defs>\r\n      <g>\r\n       <use style=\"fill:#ffffff;stroke:#ffffff;stroke-width:0.8;\" x=\"42.568291\" xlink:href=\"#m3f91b9ee40\" y=\"224.64\"/>\r\n      </g>\r\n     </g>\r\n     <g id=\"text_1\">\r\n      <!-- −4 -->\r\n      <defs>\r\n       <path d=\"M 10.59375 35.5 \r\nL 73.1875 35.5 \r\nL 73.1875 27.203125 \r\nL 10.59375 27.203125 \r\nz\r\n\" id=\"DejaVuSans-8722\"/>\r\n       <path d=\"M 37.796875 64.3125 \r\nL 12.890625 25.390625 \r\nL 37.796875 25.390625 \r\nz\r\nM 35.203125 72.90625 \r\nL 47.609375 72.90625 \r\nL 47.609375 25.390625 \r\nL 58.015625 25.390625 \r\nL 58.015625 17.1875 \r\nL 47.609375 17.1875 \r\nL 47.609375 0 \r\nL 37.796875 0 \r\nL 37.796875 17.1875 \r\nL 4.890625 17.1875 \r\nL 4.890625 26.703125 \r\nz\r\n\" id=\"DejaVuSans-52\"/>\r\n      </defs>\r\n      <g style=\"fill:#ffffff;\" transform=\"translate(35.197198 239.238437)scale(0.1 -0.1)\">\r\n       <use xlink:href=\"#DejaVuSans-8722\"/>\r\n       <use x=\"83.789062\" xlink:href=\"#DejaVuSans-52\"/>\r\n      </g>\r\n     </g>\r\n    </g>\r\n    <g id=\"xtick_2\">\r\n     <g id=\"line2d_2\">\r\n      <g>\r\n       <use style=\"fill:#ffffff;stroke:#ffffff;stroke-width:0.8;\" x=\"83.756351\" xlink:href=\"#m3f91b9ee40\" y=\"224.64\"/>\r\n      </g>\r\n     </g>\r\n     <g id=\"text_2\">\r\n      <!-- −2 -->\r\n      <defs>\r\n       <path d=\"M 19.1875 8.296875 \r\nL 53.609375 8.296875 \r\nL 53.609375 0 \r\nL 7.328125 0 \r\nL 7.328125 8.296875 \r\nQ 12.9375 14.109375 22.625 23.890625 \r\nQ 32.328125 33.6875 34.8125 36.53125 \r\nQ 39.546875 41.84375 41.421875 45.53125 \r\nQ 43.3125 49.21875 43.3125 52.78125 \r\nQ 43.3125 58.59375 39.234375 62.25 \r\nQ 35.15625 65.921875 28.609375 65.921875 \r\nQ 23.96875 65.921875 18.8125 64.3125 \r\nQ 13.671875 62.703125 7.8125 59.421875 \r\nL 7.8125 69.390625 \r\nQ 13.765625 71.78125 18.9375 73 \r\nQ 24.125 74.21875 28.421875 74.21875 \r\nQ 39.75 74.21875 46.484375 68.546875 \r\nQ 53.21875 62.890625 53.21875 53.421875 \r\nQ 53.21875 48.921875 51.53125 44.890625 \r\nQ 49.859375 40.875 45.40625 35.40625 \r\nQ 44.1875 33.984375 37.640625 27.21875 \r\nQ 31.109375 20.453125 19.1875 8.296875 \r\nz\r\n\" id=\"DejaVuSans-50\"/>\r\n      </defs>\r\n      <g style=\"fill:#ffffff;\" transform=\"translate(76.385257 239.238437)scale(0.1 -0.1)\">\r\n       <use xlink:href=\"#DejaVuSans-8722\"/>\r\n       <use x=\"83.789062\" xlink:href=\"#DejaVuSans-50\"/>\r\n      </g>\r\n     </g>\r\n    </g>\r\n    <g id=\"xtick_3\">\r\n     <g id=\"line2d_3\">\r\n      <g>\r\n       <use style=\"fill:#ffffff;stroke:#ffffff;stroke-width:0.8;\" x=\"124.94441\" xlink:href=\"#m3f91b9ee40\" y=\"224.64\"/>\r\n      </g>\r\n     </g>\r\n     <g id=\"text_3\">\r\n      <!-- 0 -->\r\n      <defs>\r\n       <path d=\"M 31.78125 66.40625 \r\nQ 24.171875 66.40625 20.328125 58.90625 \r\nQ 16.5 51.421875 16.5 36.375 \r\nQ 16.5 21.390625 20.328125 13.890625 \r\nQ 24.171875 6.390625 31.78125 6.390625 \r\nQ 39.453125 6.390625 43.28125 13.890625 \r\nQ 47.125 21.390625 47.125 36.375 \r\nQ 47.125 51.421875 43.28125 58.90625 \r\nQ 39.453125 66.40625 31.78125 66.40625 \r\nz\r\nM 31.78125 74.21875 \r\nQ 44.046875 74.21875 50.515625 64.515625 \r\nQ 56.984375 54.828125 56.984375 36.375 \r\nQ 56.984375 17.96875 50.515625 8.265625 \r\nQ 44.046875 -1.421875 31.78125 -1.421875 \r\nQ 19.53125 -1.421875 13.0625 8.265625 \r\nQ 6.59375 17.96875 6.59375 36.375 \r\nQ 6.59375 54.828125 13.0625 64.515625 \r\nQ 19.53125 74.21875 31.78125 74.21875 \r\nz\r\n\" id=\"DejaVuSans-48\"/>\r\n      </defs>\r\n      <g style=\"fill:#ffffff;\" transform=\"translate(121.76316 239.238437)scale(0.1 -0.1)\">\r\n       <use xlink:href=\"#DejaVuSans-48\"/>\r\n      </g>\r\n     </g>\r\n    </g>\r\n    <g id=\"xtick_4\">\r\n     <g id=\"line2d_4\">\r\n      <g>\r\n       <use style=\"fill:#ffffff;stroke:#ffffff;stroke-width:0.8;\" x=\"166.132469\" xlink:href=\"#m3f91b9ee40\" y=\"224.64\"/>\r\n      </g>\r\n     </g>\r\n     <g id=\"text_4\">\r\n      <!-- 2 -->\r\n      <g style=\"fill:#ffffff;\" transform=\"translate(162.951219 239.238437)scale(0.1 -0.1)\">\r\n       <use xlink:href=\"#DejaVuSans-50\"/>\r\n      </g>\r\n     </g>\r\n    </g>\r\n    <g id=\"xtick_5\">\r\n     <g id=\"line2d_5\">\r\n      <g>\r\n       <use style=\"fill:#ffffff;stroke:#ffffff;stroke-width:0.8;\" x=\"207.320529\" xlink:href=\"#m3f91b9ee40\" y=\"224.64\"/>\r\n      </g>\r\n     </g>\r\n     <g id=\"text_5\">\r\n      <!-- 4 -->\r\n      <g style=\"fill:#ffffff;\" transform=\"translate(204.139279 239.238437)scale(0.1 -0.1)\">\r\n       <use xlink:href=\"#DejaVuSans-52\"/>\r\n      </g>\r\n     </g>\r\n    </g>\r\n    <g id=\"xtick_6\">\r\n     <g id=\"line2d_6\">\r\n      <g>\r\n       <use style=\"fill:#ffffff;stroke:#ffffff;stroke-width:0.8;\" x=\"248.508588\" xlink:href=\"#m3f91b9ee40\" y=\"224.64\"/>\r\n      </g>\r\n     </g>\r\n     <g id=\"text_6\">\r\n      <!-- 6 -->\r\n      <defs>\r\n       <path d=\"M 33.015625 40.375 \r\nQ 26.375 40.375 22.484375 35.828125 \r\nQ 18.609375 31.296875 18.609375 23.390625 \r\nQ 18.609375 15.53125 22.484375 10.953125 \r\nQ 26.375 6.390625 33.015625 6.390625 \r\nQ 39.65625 6.390625 43.53125 10.953125 \r\nQ 47.40625 15.53125 47.40625 23.390625 \r\nQ 47.40625 31.296875 43.53125 35.828125 \r\nQ 39.65625 40.375 33.015625 40.375 \r\nz\r\nM 52.59375 71.296875 \r\nL 52.59375 62.3125 \r\nQ 48.875 64.0625 45.09375 64.984375 \r\nQ 41.3125 65.921875 37.59375 65.921875 \r\nQ 27.828125 65.921875 22.671875 59.328125 \r\nQ 17.53125 52.734375 16.796875 39.40625 \r\nQ 19.671875 43.65625 24.015625 45.921875 \r\nQ 28.375 48.1875 33.59375 48.1875 \r\nQ 44.578125 48.1875 50.953125 41.515625 \r\nQ 57.328125 34.859375 57.328125 23.390625 \r\nQ 57.328125 12.15625 50.6875 5.359375 \r\nQ 44.046875 -1.421875 33.015625 -1.421875 \r\nQ 20.359375 -1.421875 13.671875 8.265625 \r\nQ 6.984375 17.96875 6.984375 36.375 \r\nQ 6.984375 53.65625 15.1875 63.9375 \r\nQ 23.390625 74.21875 37.203125 74.21875 \r\nQ 40.921875 74.21875 44.703125 73.484375 \r\nQ 48.484375 72.75 52.59375 71.296875 \r\nz\r\n\" id=\"DejaVuSans-54\"/>\r\n      </defs>\r\n      <g style=\"fill:#ffffff;\" transform=\"translate(245.327338 239.238437)scale(0.1 -0.1)\">\r\n       <use xlink:href=\"#DejaVuSans-54\"/>\r\n      </g>\r\n     </g>\r\n    </g>\r\n    <g id=\"xtick_7\">\r\n     <g id=\"line2d_7\">\r\n      <g>\r\n       <use style=\"fill:#ffffff;stroke:#ffffff;stroke-width:0.8;\" x=\"289.696648\" xlink:href=\"#m3f91b9ee40\" y=\"224.64\"/>\r\n      </g>\r\n     </g>\r\n     <g id=\"text_7\">\r\n      <!-- 8 -->\r\n      <defs>\r\n       <path d=\"M 31.78125 34.625 \r\nQ 24.75 34.625 20.71875 30.859375 \r\nQ 16.703125 27.09375 16.703125 20.515625 \r\nQ 16.703125 13.921875 20.71875 10.15625 \r\nQ 24.75 6.390625 31.78125 6.390625 \r\nQ 38.8125 6.390625 42.859375 10.171875 \r\nQ 46.921875 13.96875 46.921875 20.515625 \r\nQ 46.921875 27.09375 42.890625 30.859375 \r\nQ 38.875 34.625 31.78125 34.625 \r\nz\r\nM 21.921875 38.8125 \r\nQ 15.578125 40.375 12.03125 44.71875 \r\nQ 8.5 49.078125 8.5 55.328125 \r\nQ 8.5 64.0625 14.71875 69.140625 \r\nQ 20.953125 74.21875 31.78125 74.21875 \r\nQ 42.671875 74.21875 48.875 69.140625 \r\nQ 55.078125 64.0625 55.078125 55.328125 \r\nQ 55.078125 49.078125 51.53125 44.71875 \r\nQ 48 40.375 41.703125 38.8125 \r\nQ 48.828125 37.15625 52.796875 32.3125 \r\nQ 56.78125 27.484375 56.78125 20.515625 \r\nQ 56.78125 9.90625 50.3125 4.234375 \r\nQ 43.84375 -1.421875 31.78125 -1.421875 \r\nQ 19.734375 -1.421875 13.25 4.234375 \r\nQ 6.78125 9.90625 6.78125 20.515625 \r\nQ 6.78125 27.484375 10.78125 32.3125 \r\nQ 14.796875 37.15625 21.921875 38.8125 \r\nz\r\nM 18.3125 54.390625 \r\nQ 18.3125 48.734375 21.84375 45.5625 \r\nQ 25.390625 42.390625 31.78125 42.390625 \r\nQ 38.140625 42.390625 41.71875 45.5625 \r\nQ 45.3125 48.734375 45.3125 54.390625 \r\nQ 45.3125 60.0625 41.71875 63.234375 \r\nQ 38.140625 66.40625 31.78125 66.40625 \r\nQ 25.390625 66.40625 21.84375 63.234375 \r\nQ 18.3125 60.0625 18.3125 54.390625 \r\nz\r\n\" id=\"DejaVuSans-56\"/>\r\n      </defs>\r\n      <g style=\"fill:#ffffff;\" transform=\"translate(286.515398 239.238437)scale(0.1 -0.1)\">\r\n       <use xlink:href=\"#DejaVuSans-56\"/>\r\n      </g>\r\n     </g>\r\n    </g>\r\n    <g id=\"xtick_8\">\r\n     <g id=\"line2d_8\">\r\n      <g>\r\n       <use style=\"fill:#ffffff;stroke:#ffffff;stroke-width:0.8;\" x=\"330.884707\" xlink:href=\"#m3f91b9ee40\" y=\"224.64\"/>\r\n      </g>\r\n     </g>\r\n     <g id=\"text_8\">\r\n      <!-- 10 -->\r\n      <defs>\r\n       <path d=\"M 12.40625 8.296875 \r\nL 28.515625 8.296875 \r\nL 28.515625 63.921875 \r\nL 10.984375 60.40625 \r\nL 10.984375 69.390625 \r\nL 28.421875 72.90625 \r\nL 38.28125 72.90625 \r\nL 38.28125 8.296875 \r\nL 54.390625 8.296875 \r\nL 54.390625 0 \r\nL 12.40625 0 \r\nz\r\n\" id=\"DejaVuSans-49\"/>\r\n      </defs>\r\n      <g style=\"fill:#ffffff;\" transform=\"translate(324.522207 239.238437)scale(0.1 -0.1)\">\r\n       <use xlink:href=\"#DejaVuSans-49\"/>\r\n       <use x=\"63.623047\" xlink:href=\"#DejaVuSans-48\"/>\r\n      </g>\r\n     </g>\r\n    </g>\r\n   </g>\r\n   <g id=\"matplotlib.axis_2\">\r\n    <g id=\"ytick_1\">\r\n     <g id=\"line2d_9\">\r\n      <defs>\r\n       <path d=\"M 0 0 \r\nL -3.5 0 \r\n\" id=\"m2c5a2f5e18\" style=\"stroke:#ffffff;stroke-width:0.8;\"/>\r\n      </defs>\r\n      <g>\r\n       <use style=\"fill:#ffffff;stroke:#ffffff;stroke-width:0.8;\" x=\"28.942188\" xlink:href=\"#m2c5a2f5e18\" y=\"214.349003\"/>\r\n      </g>\r\n     </g>\r\n     <g id=\"text_9\">\r\n      <!-- −2 -->\r\n      <g style=\"fill:#ffffff;\" transform=\"translate(7.2 218.148222)scale(0.1 -0.1)\">\r\n       <use xlink:href=\"#DejaVuSans-8722\"/>\r\n       <use x=\"83.789062\" xlink:href=\"#DejaVuSans-50\"/>\r\n      </g>\r\n     </g>\r\n    </g>\r\n    <g id=\"ytick_2\">\r\n     <g id=\"line2d_10\">\r\n      <g>\r\n       <use style=\"fill:#ffffff;stroke:#ffffff;stroke-width:0.8;\" x=\"28.942188\" xlink:href=\"#m2c5a2f5e18\" y=\"187.368293\"/>\r\n      </g>\r\n     </g>\r\n     <g id=\"text_10\">\r\n      <!-- −1 -->\r\n      <g style=\"fill:#ffffff;\" transform=\"translate(7.2 191.167512)scale(0.1 -0.1)\">\r\n       <use xlink:href=\"#DejaVuSans-8722\"/>\r\n       <use x=\"83.789062\" xlink:href=\"#DejaVuSans-49\"/>\r\n      </g>\r\n     </g>\r\n    </g>\r\n    <g id=\"ytick_3\">\r\n     <g id=\"line2d_11\">\r\n      <g>\r\n       <use style=\"fill:#ffffff;stroke:#ffffff;stroke-width:0.8;\" x=\"28.942188\" xlink:href=\"#m2c5a2f5e18\" y=\"160.387584\"/>\r\n      </g>\r\n     </g>\r\n     <g id=\"text_11\">\r\n      <!-- 0 -->\r\n      <g style=\"fill:#ffffff;\" transform=\"translate(15.579688 164.186802)scale(0.1 -0.1)\">\r\n       <use xlink:href=\"#DejaVuSans-48\"/>\r\n      </g>\r\n     </g>\r\n    </g>\r\n    <g id=\"ytick_4\">\r\n     <g id=\"line2d_12\">\r\n      <g>\r\n       <use style=\"fill:#ffffff;stroke:#ffffff;stroke-width:0.8;\" x=\"28.942188\" xlink:href=\"#m2c5a2f5e18\" y=\"133.406874\"/>\r\n      </g>\r\n     </g>\r\n     <g id=\"text_12\">\r\n      <!-- 1 -->\r\n      <g style=\"fill:#ffffff;\" transform=\"translate(15.579688 137.206093)scale(0.1 -0.1)\">\r\n       <use xlink:href=\"#DejaVuSans-49\"/>\r\n      </g>\r\n     </g>\r\n    </g>\r\n    <g id=\"ytick_5\">\r\n     <g id=\"line2d_13\">\r\n      <g>\r\n       <use style=\"fill:#ffffff;stroke:#ffffff;stroke-width:0.8;\" x=\"28.942188\" xlink:href=\"#m2c5a2f5e18\" y=\"106.426164\"/>\r\n      </g>\r\n     </g>\r\n     <g id=\"text_13\">\r\n      <!-- 2 -->\r\n      <g style=\"fill:#ffffff;\" transform=\"translate(15.579688 110.225383)scale(0.1 -0.1)\">\r\n       <use xlink:href=\"#DejaVuSans-50\"/>\r\n      </g>\r\n     </g>\r\n    </g>\r\n    <g id=\"ytick_6\">\r\n     <g id=\"line2d_14\">\r\n      <g>\r\n       <use style=\"fill:#ffffff;stroke:#ffffff;stroke-width:0.8;\" x=\"28.942188\" xlink:href=\"#m2c5a2f5e18\" y=\"79.445455\"/>\r\n      </g>\r\n     </g>\r\n     <g id=\"text_14\">\r\n      <!-- 3 -->\r\n      <defs>\r\n       <path d=\"M 40.578125 39.3125 \r\nQ 47.65625 37.796875 51.625 33 \r\nQ 55.609375 28.21875 55.609375 21.1875 \r\nQ 55.609375 10.40625 48.1875 4.484375 \r\nQ 40.765625 -1.421875 27.09375 -1.421875 \r\nQ 22.515625 -1.421875 17.65625 -0.515625 \r\nQ 12.796875 0.390625 7.625 2.203125 \r\nL 7.625 11.71875 \r\nQ 11.71875 9.328125 16.59375 8.109375 \r\nQ 21.484375 6.890625 26.8125 6.890625 \r\nQ 36.078125 6.890625 40.9375 10.546875 \r\nQ 45.796875 14.203125 45.796875 21.1875 \r\nQ 45.796875 27.640625 41.28125 31.265625 \r\nQ 36.765625 34.90625 28.71875 34.90625 \r\nL 20.21875 34.90625 \r\nL 20.21875 43.015625 \r\nL 29.109375 43.015625 \r\nQ 36.375 43.015625 40.234375 45.921875 \r\nQ 44.09375 48.828125 44.09375 54.296875 \r\nQ 44.09375 59.90625 40.109375 62.90625 \r\nQ 36.140625 65.921875 28.71875 65.921875 \r\nQ 24.65625 65.921875 20.015625 65.03125 \r\nQ 15.375 64.15625 9.8125 62.3125 \r\nL 9.8125 71.09375 \r\nQ 15.4375 72.65625 20.34375 73.4375 \r\nQ 25.25 74.21875 29.59375 74.21875 \r\nQ 40.828125 74.21875 47.359375 69.109375 \r\nQ 53.90625 64.015625 53.90625 55.328125 \r\nQ 53.90625 49.265625 50.4375 45.09375 \r\nQ 46.96875 40.921875 40.578125 39.3125 \r\nz\r\n\" id=\"DejaVuSans-51\"/>\r\n      </defs>\r\n      <g style=\"fill:#ffffff;\" transform=\"translate(15.579688 83.244673)scale(0.1 -0.1)\">\r\n       <use xlink:href=\"#DejaVuSans-51\"/>\r\n      </g>\r\n     </g>\r\n    </g>\r\n    <g id=\"ytick_7\">\r\n     <g id=\"line2d_15\">\r\n      <g>\r\n       <use style=\"fill:#ffffff;stroke:#ffffff;stroke-width:0.8;\" x=\"28.942188\" xlink:href=\"#m2c5a2f5e18\" y=\"52.464745\"/>\r\n      </g>\r\n     </g>\r\n     <g id=\"text_15\">\r\n      <!-- 4 -->\r\n      <g style=\"fill:#ffffff;\" transform=\"translate(15.579688 56.263964)scale(0.1 -0.1)\">\r\n       <use xlink:href=\"#DejaVuSans-52\"/>\r\n      </g>\r\n     </g>\r\n    </g>\r\n    <g id=\"ytick_8\">\r\n     <g id=\"line2d_16\">\r\n      <g>\r\n       <use style=\"fill:#ffffff;stroke:#ffffff;stroke-width:0.8;\" x=\"28.942188\" xlink:href=\"#m2c5a2f5e18\" y=\"25.484035\"/>\r\n      </g>\r\n     </g>\r\n     <g id=\"text_16\">\r\n      <!-- 5 -->\r\n      <defs>\r\n       <path d=\"M 10.796875 72.90625 \r\nL 49.515625 72.90625 \r\nL 49.515625 64.59375 \r\nL 19.828125 64.59375 \r\nL 19.828125 46.734375 \r\nQ 21.96875 47.46875 24.109375 47.828125 \r\nQ 26.265625 48.1875 28.421875 48.1875 \r\nQ 40.625 48.1875 47.75 41.5 \r\nQ 54.890625 34.8125 54.890625 23.390625 \r\nQ 54.890625 11.625 47.5625 5.09375 \r\nQ 40.234375 -1.421875 26.90625 -1.421875 \r\nQ 22.3125 -1.421875 17.546875 -0.640625 \r\nQ 12.796875 0.140625 7.71875 1.703125 \r\nL 7.71875 11.625 \r\nQ 12.109375 9.234375 16.796875 8.0625 \r\nQ 21.484375 6.890625 26.703125 6.890625 \r\nQ 35.15625 6.890625 40.078125 11.328125 \r\nQ 45.015625 15.765625 45.015625 23.390625 \r\nQ 45.015625 31 40.078125 35.4375 \r\nQ 35.15625 39.890625 26.703125 39.890625 \r\nQ 22.75 39.890625 18.8125 39.015625 \r\nQ 14.890625 38.140625 10.796875 36.28125 \r\nz\r\n\" id=\"DejaVuSans-53\"/>\r\n      </defs>\r\n      <g style=\"fill:#ffffff;\" transform=\"translate(15.579688 29.283254)scale(0.1 -0.1)\">\r\n       <use xlink:href=\"#DejaVuSans-53\"/>\r\n      </g>\r\n     </g>\r\n    </g>\r\n   </g>\r\n   <g id=\"patch_3\">\r\n    <path d=\"M 28.942188 224.64 \r\nL 28.942188 7.2 \r\n\" style=\"fill:none;stroke:#ffffff;stroke-linecap:square;stroke-linejoin:miter;stroke-width:0.8;\"/>\r\n   </g>\r\n   <g id=\"patch_4\">\r\n    <path d=\"M 363.742188 224.64 \r\nL 363.742188 7.2 \r\n\" style=\"fill:none;stroke:#ffffff;stroke-linecap:square;stroke-linejoin:miter;stroke-width:0.8;\"/>\r\n   </g>\r\n   <g id=\"patch_5\">\r\n    <path d=\"M 28.942188 224.64 \r\nL 363.742188 224.64 \r\n\" style=\"fill:none;stroke:#ffffff;stroke-linecap:square;stroke-linejoin:miter;stroke-width:0.8;\"/>\r\n   </g>\r\n   <g id=\"patch_6\">\r\n    <path d=\"M 28.942188 7.2 \r\nL 363.742188 7.2 \r\n\" style=\"fill:none;stroke:#ffffff;stroke-linecap:square;stroke-linejoin:miter;stroke-width:0.8;\"/>\r\n   </g>\r\n  </g>\r\n </g>\r\n <defs>\r\n  <clipPath id=\"pfb8404a102\">\r\n   <rect height=\"217.44\" width=\"334.8\" x=\"28.942188\" y=\"7.2\"/>\r\n  </clipPath>\r\n </defs>\r\n</svg>\r\n",
      "text/plain": "<Figure size 432x288 with 1 Axes>"
     },
     "metadata": {
      "needs_background": "dark"
     },
     "output_type": "display_data"
    }
   ],
   "source": [
    "plt.scatter(X1[:, 0], X1[:, 1], marker='o') "
   ]
  },
  {
   "cell_type": "markdown",
   "metadata": {},
   "source": [
    "---\n",
    "### Agglomerative Clustering\n",
    "We will start by clustering the random data points we just created."
   ]
  },
  {
   "cell_type": "markdown",
   "metadata": {},
   "source": [
    "The <b> Agglomerative Clustering </b> class will require two inputs:\n",
    "<ul>\n",
    "    <li> <b>n_clusters</b>: The number of clusters to form as well as the number of centroids to generate. </li>\n",
    "    <ul> <li> Value will be: 4 </li> </ul>\n",
    "    <li> <b>linkage</b>: Which linkage criterion to use. The linkage criterion determines which distance to use between sets of observation. The algorithm will merge the pairs of cluster that minimize this criterion. </li>\n",
    "    <ul> \n",
    "        <li> Value will be: 'complete' </li> \n",
    "        <li> <b>Note</b>: It is recommended you try everything with 'average' as well </li>\n",
    "    </ul>\n",
    "</ul> <br>\n",
    "Save the result to a variable called <b> agglom </b>"
   ]
  },
  {
   "cell_type": "code",
   "execution_count": 4,
   "metadata": {},
   "outputs": [],
   "source": [
    "agglom = AgglomerativeClustering(n_clusters = 4, linkage = 'average')"
   ]
  },
  {
   "cell_type": "markdown",
   "metadata": {},
   "source": [
    "Fit the model with <b> X2 </b> and <b> y2 </b> from the generated data above."
   ]
  },
  {
   "cell_type": "code",
   "execution_count": 5,
   "metadata": {},
   "outputs": [
    {
     "data": {
      "text/plain": "AgglomerativeClustering(affinity='euclidean', compute_full_tree='auto',\n                        connectivity=None, distance_threshold=None,\n                        linkage='average', memory=None, n_clusters=4,\n                        pooling_func='deprecated')"
     },
     "execution_count": 5,
     "metadata": {},
     "output_type": "execute_result"
    }
   ],
   "source": [
    "agglom.fit(X1,y1)"
   ]
  },
  {
   "cell_type": "markdown",
   "metadata": {},
   "source": [
    "Run the following code to show the clustering! <br>\n",
    "Remember to read the code and comments to gain more understanding on how the plotting works."
   ]
  },
  {
   "cell_type": "code",
   "execution_count": 6,
   "metadata": {},
   "outputs": [
    {
     "data": {
      "image/png": "[encoded data removed]",
      "image/svg+xml": "<?xml version=\"1.0\" encoding=\"utf-8\" standalone=\"no\"?>\r\n<!DOCTYPE svg PUBLIC \"-//W3C//DTD SVG 1.1//EN\"\r\n  \"http://www.w3.org/Graphics/SVG/1.1/DTD/svg11.dtd\">\r\n<!-- Created with matplotlib (https://matplotlib.org/) -->\r\n<svg height=\"235.34pt\" version=\"1.1\" viewBox=\"0 0 352.7 235.34\" width=\"352.7pt\" xmlns=\"http://www.w3.org/2000/svg\" xmlns:xlink=\"http://www.w3.org/1999/xlink\">\r\n <defs>\r\n  <style type=\"text/css\">\r\n*{stroke-linecap:butt;stroke-linejoin:round;}\r\n  </style>\r\n </defs>\r\n <g id=\"figure_1\">\r\n  <g id=\"patch_1\">\r\n   <path d=\"M 0 235.34 \r\nL 352.7 235.34 \r\nL 352.7 0 \r\nL 0 0 \r\nz\r\n\" style=\"fill:none;\"/>\r\n  </g>\r\n  <g id=\"axes_1\">\r\n   <g id=\"patch_2\">\r\n    <path d=\"M 10.7 224.64 \r\nL 345.5 224.64 \r\nL 345.5 7.2 \r\nL 10.7 7.2 \r\nz\r\n\"/>\r\n   </g>\r\n   <g id=\"PathCollection_1\">\r\n    <defs>\r\n     <path d=\"M 0 1.5 \r\nC 0.397805 1.5 0.77937 1.341951 1.06066 1.06066 \r\nC 1.341951 0.77937 1.5 0.397805 1.5 0 \r\nC 1.5 -0.397805 1.341951 -0.77937 1.06066 -1.06066 \r\nC 0.77937 -1.341951 0.397805 -1.5 0 -1.5 \r\nC -0.397805 -1.5 -0.77937 -1.341951 -1.06066 -1.06066 \r\nC -1.341951 -0.77937 -1.5 -0.397805 -1.5 0 \r\nC -1.5 0.397805 -1.341951 0.77937 -1.06066 1.06066 \r\nC -0.77937 1.341951 -0.397805 1.5 0 1.5 \r\nz\r\n\" id=\"maa1e7b910b\" style=\"stroke:#8dd3c7;\"/>\r\n    </defs>\r\n    <g clip-path=\"url(#p17c37ae914)\">\r\n     <use style=\"fill:#8dd3c7;stroke:#8dd3c7;\" x=\"150.038512\" xlink:href=\"#maa1e7b910b\" y=\"126.271619\"/>\r\n     <use style=\"fill:#8dd3c7;stroke:#8dd3c7;\" x=\"310.571427\" xlink:href=\"#maa1e7b910b\" y=\"49.808063\"/>\r\n     <use style=\"fill:#8dd3c7;stroke:#8dd3c7;\" x=\"127.558962\" xlink:href=\"#maa1e7b910b\" y=\"135.626006\"/>\r\n     <use style=\"fill:#8dd3c7;stroke:#8dd3c7;\" x=\"138.56599\" xlink:href=\"#maa1e7b910b\" y=\"92.96976\"/>\r\n     <use style=\"fill:#8dd3c7;stroke:#8dd3c7;\" x=\"147.464052\" xlink:href=\"#maa1e7b910b\" y=\"71.842565\"/>\r\n     <use style=\"fill:#8dd3c7;stroke:#8dd3c7;\" x=\"57.578147\" xlink:href=\"#maa1e7b910b\" y=\"186.947313\"/>\r\n     <use style=\"fill:#8dd3c7;stroke:#8dd3c7;\" x=\"66.10997\" xlink:href=\"#maa1e7b910b\" y=\"213.411285\"/>\r\n     <use style=\"fill:#8dd3c7;stroke:#8dd3c7;\" x=\"182.67354\" xlink:href=\"#maa1e7b910b\" y=\"46.191134\"/>\r\n     <use style=\"fill:#8dd3c7;stroke:#8dd3c7;\" x=\"64.451267\" xlink:href=\"#maa1e7b910b\" y=\"187.343884\"/>\r\n     <use style=\"fill:#8dd3c7;stroke:#8dd3c7;\" x=\"28.39938\" xlink:href=\"#maa1e7b910b\" y=\"211.410216\"/>\r\n     <use style=\"fill:#8dd3c7;stroke:#8dd3c7;\" x=\"194.23087\" xlink:href=\"#maa1e7b910b\" y=\"18.428715\"/>\r\n     <use style=\"fill:#8dd3c7;stroke:#8dd3c7;\" x=\"44.273745\" xlink:href=\"#maa1e7b910b\" y=\"202.37894\"/>\r\n     <use style=\"fill:#8dd3c7;stroke:#8dd3c7;\" x=\"184.700153\" xlink:href=\"#maa1e7b910b\" y=\"44.740339\"/>\r\n     <use style=\"fill:#8dd3c7;stroke:#8dd3c7;\" x=\"328.930292\" xlink:href=\"#maa1e7b910b\" y=\"41.325343\"/>\r\n     <use style=\"fill:#8dd3c7;stroke:#8dd3c7;\" x=\"191.727713\" xlink:href=\"#maa1e7b910b\" y=\"59.980401\"/>\r\n     <use style=\"fill:#8dd3c7;stroke:#8dd3c7;\" x=\"83.441538\" xlink:href=\"#maa1e7b910b\" y=\"192.126908\"/>\r\n     <use style=\"fill:#8dd3c7;stroke:#8dd3c7;\" x=\"196.544589\" xlink:href=\"#maa1e7b910b\" y=\"33.686987\"/>\r\n     <use style=\"fill:#8dd3c7;stroke:#8dd3c7;\" x=\"207.767431\" xlink:href=\"#maa1e7b910b\" y=\"53.497762\"/>\r\n     <use style=\"fill:#8dd3c7;stroke:#8dd3c7;\" x=\"65.51384\" xlink:href=\"#maa1e7b910b\" y=\"207.112144\"/>\r\n     <use style=\"fill:#8dd3c7;stroke:#8dd3c7;\" x=\"304.191077\" xlink:href=\"#maa1e7b910b\" y=\"55.807119\"/>\r\n     <use style=\"fill:#8dd3c7;stroke:#8dd3c7;\" x=\"184.506511\" xlink:href=\"#maa1e7b910b\" y=\"71.956231\"/>\r\n     <use style=\"fill:#8dd3c7;stroke:#8dd3c7;\" x=\"72.799308\" xlink:href=\"#maa1e7b910b\" y=\"135.60703\"/>\r\n     <use style=\"fill:#8dd3c7;stroke:#8dd3c7;\" x=\"292.289293\" xlink:href=\"#maa1e7b910b\" y=\"100.523114\"/>\r\n     <use style=\"fill:#8dd3c7;stroke:#8dd3c7;\" x=\"307.488079\" xlink:href=\"#maa1e7b910b\" y=\"53.392401\"/>\r\n     <use style=\"fill:#8dd3c7;stroke:#8dd3c7;\" x=\"311.652828\" xlink:href=\"#maa1e7b910b\" y=\"90.876974\"/>\r\n     <use style=\"fill:#8dd3c7;stroke:#8dd3c7;\" x=\"42.281121\" xlink:href=\"#maa1e7b910b\" y=\"173.549997\"/>\r\n     <use style=\"fill:#8dd3c7;stroke:#8dd3c7;\" x=\"153.71436\" xlink:href=\"#maa1e7b910b\" y=\"117.711344\"/>\r\n     <use style=\"fill:#8dd3c7;stroke:#8dd3c7;\" x=\"55.582729\" xlink:href=\"#maa1e7b910b\" y=\"145.508914\"/>\r\n     <use style=\"fill:#8dd3c7;stroke:#8dd3c7;\" x=\"145.59783\" xlink:href=\"#maa1e7b910b\" y=\"122.969831\"/>\r\n     <use style=\"fill:#8dd3c7;stroke:#8dd3c7;\" x=\"186.338521\" xlink:href=\"#maa1e7b910b\" y=\"59.784985\"/>\r\n     <use style=\"fill:#8dd3c7;stroke:#8dd3c7;\" x=\"293.799183\" xlink:href=\"#maa1e7b910b\" y=\"69.944617\"/>\r\n     <use style=\"fill:#8dd3c7;stroke:#8dd3c7;\" x=\"144.279314\" xlink:href=\"#maa1e7b910b\" y=\"106.788122\"/>\r\n     <use style=\"fill:#8dd3c7;stroke:#8dd3c7;\" x=\"277.92679\" xlink:href=\"#maa1e7b910b\" y=\"35.333095\"/>\r\n     <use style=\"fill:#8dd3c7;stroke:#8dd3c7;\" x=\"309.805598\" xlink:href=\"#maa1e7b910b\" y=\"87.636489\"/>\r\n     <use style=\"fill:#8dd3c7;stroke:#8dd3c7;\" x=\"122.87943\" xlink:href=\"#maa1e7b910b\" y=\"124.336457\"/>\r\n     <use style=\"fill:#8dd3c7;stroke:#8dd3c7;\" x=\"225.212765\" xlink:href=\"#maa1e7b910b\" y=\"52.969517\"/>\r\n     <use style=\"fill:#8dd3c7;stroke:#8dd3c7;\" x=\"122.796694\" xlink:href=\"#maa1e7b910b\" y=\"135.108955\"/>\r\n     <use style=\"fill:#8dd3c7;stroke:#8dd3c7;\" x=\"27.269708\" xlink:href=\"#maa1e7b910b\" y=\"179.598653\"/>\r\n     <use style=\"fill:#8dd3c7;stroke:#8dd3c7;\" x=\"309.516958\" xlink:href=\"#maa1e7b910b\" y=\"75.500977\"/>\r\n     <use style=\"fill:#8dd3c7;stroke:#8dd3c7;\" x=\"32.998471\" xlink:href=\"#maa1e7b910b\" y=\"174.614011\"/>\r\n     <use style=\"fill:#8dd3c7;stroke:#8dd3c7;\" x=\"320.793901\" xlink:href=\"#maa1e7b910b\" y=\"66.719441\"/>\r\n     <use style=\"fill:#8dd3c7;stroke:#8dd3c7;\" x=\"183.117666\" xlink:href=\"#maa1e7b910b\" y=\"26.167607\"/>\r\n     <use style=\"fill:#8dd3c7;stroke:#8dd3c7;\" x=\"157.873446\" xlink:href=\"#maa1e7b910b\" y=\"148.423196\"/>\r\n     <use style=\"fill:#8dd3c7;stroke:#8dd3c7;\" x=\"46.118345\" xlink:href=\"#maa1e7b910b\" y=\"189.123152\"/>\r\n     <use style=\"fill:#8dd3c7;stroke:#8dd3c7;\" x=\"294.855744\" xlink:href=\"#maa1e7b910b\" y=\"63.095578\"/>\r\n     <use style=\"fill:#8dd3c7;stroke:#8dd3c7;\" x=\"103.700165\" xlink:href=\"#maa1e7b910b\" y=\"195.095554\"/>\r\n     <use style=\"fill:#8dd3c7;stroke:#8dd3c7;\" x=\"125.652358\" xlink:href=\"#maa1e7b910b\" y=\"103.353286\"/>\r\n     <use style=\"fill:#8dd3c7;stroke:#8dd3c7;\" x=\"147.006101\" xlink:href=\"#maa1e7b910b\" y=\"123.433867\"/>\r\n     <use style=\"fill:#8dd3c7;stroke:#8dd3c7;\" x=\"226.837473\" xlink:href=\"#maa1e7b910b\" y=\"31.766385\"/>\r\n     <use style=\"fill:#8dd3c7;stroke:#8dd3c7;\" x=\"176.387385\" xlink:href=\"#maa1e7b910b\" y=\"94.444771\"/>\r\n    </g>\r\n   </g>\r\n   <g id=\"matplotlib.axis_1\"/>\r\n   <g id=\"matplotlib.axis_2\"/>\r\n   <g id=\"patch_3\">\r\n    <path d=\"M 10.7 224.64 \r\nL 10.7 7.2 \r\n\" style=\"fill:none;stroke:#ffffff;stroke-linecap:square;stroke-linejoin:miter;stroke-width:0.8;\"/>\r\n   </g>\r\n   <g id=\"patch_4\">\r\n    <path d=\"M 345.5 224.64 \r\nL 345.5 7.2 \r\n\" style=\"fill:none;stroke:#ffffff;stroke-linecap:square;stroke-linejoin:miter;stroke-width:0.8;\"/>\r\n   </g>\r\n   <g id=\"patch_5\">\r\n    <path d=\"M 10.7 224.64 \r\nL 345.5 224.64 \r\n\" style=\"fill:none;stroke:#ffffff;stroke-linecap:square;stroke-linejoin:miter;stroke-width:0.8;\"/>\r\n   </g>\r\n   <g id=\"patch_6\">\r\n    <path d=\"M 10.7 7.2 \r\nL 345.5 7.2 \r\n\" style=\"fill:none;stroke:#ffffff;stroke-linecap:square;stroke-linejoin:miter;stroke-width:0.8;\"/>\r\n   </g>\r\n   <g id=\"text_1\">\r\n    <!-- 2 -->\r\n    <defs>\r\n     <path d=\"M 28.8125 13.8125 \r\nL 60.890625 13.8125 \r\nL 60.890625 0 \r\nL 7.90625 0 \r\nL 7.90625 13.8125 \r\nL 34.515625 37.3125 \r\nQ 38.09375 40.53125 39.796875 43.609375 \r\nQ 41.5 46.6875 41.5 50 \r\nQ 41.5 55.125 38.0625 58.25 \r\nQ 34.625 61.375 28.90625 61.375 \r\nQ 24.515625 61.375 19.28125 59.5 \r\nQ 14.0625 57.625 8.109375 53.90625 \r\nL 8.109375 69.921875 \r\nQ 14.453125 72.015625 20.65625 73.109375 \r\nQ 26.859375 74.21875 32.8125 74.21875 \r\nQ 45.90625 74.21875 53.15625 68.453125 \r\nQ 60.40625 62.703125 60.40625 52.390625 \r\nQ 60.40625 46.4375 57.328125 41.28125 \r\nQ 54.25 36.140625 44.390625 27.484375 \r\nz\r\n\" id=\"DejaVuSans-Bold-50\"/>\r\n    </defs>\r\n    <g style=\"fill:#0000dd;\" transform=\"translate(150.038512 126.271619)scale(0.09 -0.09)\">\r\n     <use xlink:href=\"#DejaVuSans-Bold-50\"/>\r\n    </g>\r\n   </g>\r\n   <g id=\"text_2\">\r\n    <!-- 3 -->\r\n    <defs>\r\n     <path d=\"M 46.578125 39.3125 \r\nQ 53.953125 37.40625 57.78125 32.6875 \r\nQ 61.625 27.984375 61.625 20.703125 \r\nQ 61.625 9.859375 53.3125 4.21875 \r\nQ 45.015625 -1.421875 29.109375 -1.421875 \r\nQ 23.484375 -1.421875 17.84375 -0.515625 \r\nQ 12.203125 0.390625 6.6875 2.203125 \r\nL 6.6875 16.703125 \r\nQ 11.96875 14.0625 17.15625 12.71875 \r\nQ 22.359375 11.375 27.390625 11.375 \r\nQ 34.859375 11.375 38.84375 13.953125 \r\nQ 42.828125 16.546875 42.828125 21.390625 \r\nQ 42.828125 26.375 38.75 28.9375 \r\nQ 34.671875 31.5 26.703125 31.5 \r\nL 19.1875 31.5 \r\nL 19.1875 43.609375 \r\nL 27.09375 43.609375 \r\nQ 34.1875 43.609375 37.640625 45.828125 \r\nQ 41.109375 48.046875 41.109375 52.59375 \r\nQ 41.109375 56.78125 37.734375 59.078125 \r\nQ 34.375 61.375 28.21875 61.375 \r\nQ 23.6875 61.375 19.046875 60.34375 \r\nQ 14.40625 59.328125 9.8125 57.328125 \r\nL 9.8125 71.09375 \r\nQ 15.375 72.65625 20.84375 73.4375 \r\nQ 26.3125 74.21875 31.59375 74.21875 \r\nQ 45.796875 74.21875 52.84375 69.546875 \r\nQ 59.90625 64.890625 59.90625 55.515625 \r\nQ 59.90625 49.125 56.53125 45.046875 \r\nQ 53.171875 40.96875 46.578125 39.3125 \r\nz\r\n\" id=\"DejaVuSans-Bold-51\"/>\r\n    </defs>\r\n    <g style=\"fill:#870098;\" transform=\"translate(310.571427 49.808063)scale(0.09 -0.09)\">\r\n     <use xlink:href=\"#DejaVuSans-Bold-51\"/>\r\n    </g>\r\n   </g>\r\n   <g id=\"text_3\">\r\n    <!-- 2 -->\r\n    <g style=\"fill:#0000dd;\" transform=\"translate(127.558962 135.626006)scale(0.09 -0.09)\">\r\n     <use xlink:href=\"#DejaVuSans-Bold-50\"/>\r\n    </g>\r\n   </g>\r\n   <g id=\"text_4\">\r\n    <!-- 2 -->\r\n    <g style=\"fill:#0000dd;\" transform=\"translate(138.56599 92.96976)scale(0.09 -0.09)\">\r\n     <use xlink:href=\"#DejaVuSans-Bold-50\"/>\r\n    </g>\r\n   </g>\r\n   <g id=\"text_5\">\r\n    <!-- 2 -->\r\n    <g style=\"fill:#0000dd;\" transform=\"translate(147.464052 71.842565)scale(0.09 -0.09)\">\r\n     <use xlink:href=\"#DejaVuSans-Bold-50\"/>\r\n    </g>\r\n   </g>\r\n   <g id=\"text_6\">\r\n    <!-- 1 -->\r\n    <defs>\r\n     <path d=\"M 11.71875 12.984375 \r\nL 28.328125 12.984375 \r\nL 28.328125 60.109375 \r\nL 11.28125 56.59375 \r\nL 11.28125 69.390625 \r\nL 28.21875 72.90625 \r\nL 46.09375 72.90625 \r\nL 46.09375 12.984375 \r\nL 62.703125 12.984375 \r\nL 62.703125 0 \r\nL 11.71875 0 \r\nz\r\n\" id=\"DejaVuSans-Bold-49\"/>\r\n    </defs>\r\n    <g transform=\"translate(57.578147 186.947313)scale(0.09 -0.09)\">\r\n     <use xlink:href=\"#DejaVuSans-Bold-49\"/>\r\n    </g>\r\n   </g>\r\n   <g id=\"text_7\">\r\n    <!-- 1 -->\r\n    <g transform=\"translate(66.10997 213.411285)scale(0.09 -0.09)\">\r\n     <use xlink:href=\"#DejaVuSans-Bold-49\"/>\r\n    </g>\r\n   </g>\r\n   <g id=\"text_8\">\r\n    <!-- 0 -->\r\n    <defs>\r\n     <path d=\"M 46 36.53125 \r\nQ 46 50.203125 43.4375 55.78125 \r\nQ 40.875 61.375 34.8125 61.375 \r\nQ 28.765625 61.375 26.171875 55.78125 \r\nQ 23.578125 50.203125 23.578125 36.53125 \r\nQ 23.578125 22.703125 26.171875 17.03125 \r\nQ 28.765625 11.375 34.8125 11.375 \r\nQ 40.828125 11.375 43.40625 17.03125 \r\nQ 46 22.703125 46 36.53125 \r\nz\r\nM 64.796875 36.375 \r\nQ 64.796875 18.265625 56.984375 8.421875 \r\nQ 49.171875 -1.421875 34.8125 -1.421875 \r\nQ 20.40625 -1.421875 12.59375 8.421875 \r\nQ 4.78125 18.265625 4.78125 36.375 \r\nQ 4.78125 54.546875 12.59375 64.375 \r\nQ 20.40625 74.21875 34.8125 74.21875 \r\nQ 49.171875 74.21875 56.984375 64.375 \r\nQ 64.796875 54.546875 64.796875 36.375 \r\nz\r\n\" id=\"DejaVuSans-Bold-48\"/>\r\n    </defs>\r\n    <g style=\"fill:#0098dd;\" transform=\"translate(182.67354 46.191134)scale(0.09 -0.09)\">\r\n     <use xlink:href=\"#DejaVuSans-Bold-48\"/>\r\n    </g>\r\n   </g>\r\n   <g id=\"text_9\">\r\n    <!-- 1 -->\r\n    <g transform=\"translate(64.451267 187.343884)scale(0.09 -0.09)\">\r\n     <use xlink:href=\"#DejaVuSans-Bold-49\"/>\r\n    </g>\r\n   </g>\r\n   <g id=\"text_10\">\r\n    <!-- 1 -->\r\n    <g transform=\"translate(28.39938 211.410216)scale(0.09 -0.09)\">\r\n     <use xlink:href=\"#DejaVuSans-Bold-49\"/>\r\n    </g>\r\n   </g>\r\n   <g id=\"text_11\">\r\n    <!-- 0 -->\r\n    <g style=\"fill:#0098dd;\" transform=\"translate(194.23087 18.428715)scale(0.09 -0.09)\">\r\n     <use xlink:href=\"#DejaVuSans-Bold-48\"/>\r\n    </g>\r\n   </g>\r\n   <g id=\"text_12\">\r\n    <!-- 1 -->\r\n    <g transform=\"translate(44.273745 202.37894)scale(0.09 -0.09)\">\r\n     <use xlink:href=\"#DejaVuSans-Bold-49\"/>\r\n    </g>\r\n   </g>\r\n   <g id=\"text_13\">\r\n    <!-- 0 -->\r\n    <g style=\"fill:#0098dd;\" transform=\"translate(184.700153 44.740339)scale(0.09 -0.09)\">\r\n     <use xlink:href=\"#DejaVuSans-Bold-48\"/>\r\n    </g>\r\n   </g>\r\n   <g id=\"text_14\">\r\n    <!-- 3 -->\r\n    <g style=\"fill:#870098;\" transform=\"translate(328.930292 41.325343)scale(0.09 -0.09)\">\r\n     <use xlink:href=\"#DejaVuSans-Bold-51\"/>\r\n    </g>\r\n   </g>\r\n   <g id=\"text_15\">\r\n    <!-- 0 -->\r\n    <g style=\"fill:#0098dd;\" transform=\"translate(191.727713 59.980401)scale(0.09 -0.09)\">\r\n     <use xlink:href=\"#DejaVuSans-Bold-48\"/>\r\n    </g>\r\n   </g>\r\n   <g id=\"text_16\">\r\n    <!-- 1 -->\r\n    <g transform=\"translate(83.441538 192.126908)scale(0.09 -0.09)\">\r\n     <use xlink:href=\"#DejaVuSans-Bold-49\"/>\r\n    </g>\r\n   </g>\r\n   <g id=\"text_17\">\r\n    <!-- 0 -->\r\n    <g style=\"fill:#0098dd;\" transform=\"translate(196.544589 33.686987)scale(0.09 -0.09)\">\r\n     <use xlink:href=\"#DejaVuSans-Bold-48\"/>\r\n    </g>\r\n   </g>\r\n   <g id=\"text_18\">\r\n    <!-- 0 -->\r\n    <g style=\"fill:#0098dd;\" transform=\"translate(207.767431 53.497762)scale(0.09 -0.09)\">\r\n     <use xlink:href=\"#DejaVuSans-Bold-48\"/>\r\n    </g>\r\n   </g>\r\n   <g id=\"text_19\">\r\n    <!-- 1 -->\r\n    <g transform=\"translate(65.51384 207.112144)scale(0.09 -0.09)\">\r\n     <use xlink:href=\"#DejaVuSans-Bold-49\"/>\r\n    </g>\r\n   </g>\r\n   <g id=\"text_20\">\r\n    <!-- 3 -->\r\n    <g style=\"fill:#870098;\" transform=\"translate(304.191077 55.807119)scale(0.09 -0.09)\">\r\n     <use xlink:href=\"#DejaVuSans-Bold-51\"/>\r\n    </g>\r\n   </g>\r\n   <g id=\"text_21\">\r\n    <!-- 0 -->\r\n    <g style=\"fill:#0098dd;\" transform=\"translate(184.506511 71.956231)scale(0.09 -0.09)\">\r\n     <use xlink:href=\"#DejaVuSans-Bold-48\"/>\r\n    </g>\r\n   </g>\r\n   <g id=\"text_22\">\r\n    <!-- 1 -->\r\n    <g transform=\"translate(72.799308 135.60703)scale(0.09 -0.09)\">\r\n     <use xlink:href=\"#DejaVuSans-Bold-49\"/>\r\n    </g>\r\n   </g>\r\n   <g id=\"text_23\">\r\n    <!-- 3 -->\r\n    <g style=\"fill:#870098;\" transform=\"translate(292.289293 100.523114)scale(0.09 -0.09)\">\r\n     <use xlink:href=\"#DejaVuSans-Bold-51\"/>\r\n    </g>\r\n   </g>\r\n   <g id=\"text_24\">\r\n    <!-- 3 -->\r\n    <g style=\"fill:#870098;\" transform=\"translate(307.488079 53.392401)scale(0.09 -0.09)\">\r\n     <use xlink:href=\"#DejaVuSans-Bold-51\"/>\r\n    </g>\r\n   </g>\r\n   <g id=\"text_25\">\r\n    <!-- 3 -->\r\n    <g style=\"fill:#870098;\" transform=\"translate(311.652828 90.876974)scale(0.09 -0.09)\">\r\n     <use xlink:href=\"#DejaVuSans-Bold-51\"/>\r\n    </g>\r\n   </g>\r\n   <g id=\"text_26\">\r\n    <!-- 1 -->\r\n    <g transform=\"translate(42.281121 173.549997)scale(0.09 -0.09)\">\r\n     <use xlink:href=\"#DejaVuSans-Bold-49\"/>\r\n    </g>\r\n   </g>\r\n   <g id=\"text_27\">\r\n    <!-- 2 -->\r\n    <g style=\"fill:#0000dd;\" transform=\"translate(153.71436 117.711344)scale(0.09 -0.09)\">\r\n     <use xlink:href=\"#DejaVuSans-Bold-50\"/>\r\n    </g>\r\n   </g>\r\n   <g id=\"text_28\">\r\n    <!-- 1 -->\r\n    <g transform=\"translate(55.582729 145.508914)scale(0.09 -0.09)\">\r\n     <use xlink:href=\"#DejaVuSans-Bold-49\"/>\r\n    </g>\r\n   </g>\r\n   <g id=\"text_29\">\r\n    <!-- 2 -->\r\n    <g style=\"fill:#0000dd;\" transform=\"translate(145.59783 122.969831)scale(0.09 -0.09)\">\r\n     <use xlink:href=\"#DejaVuSans-Bold-50\"/>\r\n    </g>\r\n   </g>\r\n   <g id=\"text_30\">\r\n    <!-- 0 -->\r\n    <g style=\"fill:#0098dd;\" transform=\"translate(186.338521 59.784985)scale(0.09 -0.09)\">\r\n     <use xlink:href=\"#DejaVuSans-Bold-48\"/>\r\n    </g>\r\n   </g>\r\n   <g id=\"text_31\">\r\n    <!-- 3 -->\r\n    <g style=\"fill:#870098;\" transform=\"translate(293.799183 69.944617)scale(0.09 -0.09)\">\r\n     <use xlink:href=\"#DejaVuSans-Bold-51\"/>\r\n    </g>\r\n   </g>\r\n   <g id=\"text_32\">\r\n    <!-- 0 -->\r\n    <g style=\"fill:#0000dd;\" transform=\"translate(144.279314 106.788122)scale(0.09 -0.09)\">\r\n     <use xlink:href=\"#DejaVuSans-Bold-48\"/>\r\n    </g>\r\n   </g>\r\n   <g id=\"text_33\">\r\n    <!-- 3 -->\r\n    <g style=\"fill:#870098;\" transform=\"translate(277.92679 35.333095)scale(0.09 -0.09)\">\r\n     <use xlink:href=\"#DejaVuSans-Bold-51\"/>\r\n    </g>\r\n   </g>\r\n   <g id=\"text_34\">\r\n    <!-- 3 -->\r\n    <g style=\"fill:#870098;\" transform=\"translate(309.805598 87.636489)scale(0.09 -0.09)\">\r\n     <use xlink:href=\"#DejaVuSans-Bold-51\"/>\r\n    </g>\r\n   </g>\r\n   <g id=\"text_35\">\r\n    <!-- 2 -->\r\n    <g style=\"fill:#0000dd;\" transform=\"translate(122.87943 124.336457)scale(0.09 -0.09)\">\r\n     <use xlink:href=\"#DejaVuSans-Bold-50\"/>\r\n    </g>\r\n   </g>\r\n   <g id=\"text_36\">\r\n    <!-- 0 -->\r\n    <g style=\"fill:#0098dd;\" transform=\"translate(225.212765 52.969517)scale(0.09 -0.09)\">\r\n     <use xlink:href=\"#DejaVuSans-Bold-48\"/>\r\n    </g>\r\n   </g>\r\n   <g id=\"text_37\">\r\n    <!-- 2 -->\r\n    <g style=\"fill:#0000dd;\" transform=\"translate(122.796694 135.108955)scale(0.09 -0.09)\">\r\n     <use xlink:href=\"#DejaVuSans-Bold-50\"/>\r\n    </g>\r\n   </g>\r\n   <g id=\"text_38\">\r\n    <!-- 1 -->\r\n    <g transform=\"translate(27.269708 179.598653)scale(0.09 -0.09)\">\r\n     <use xlink:href=\"#DejaVuSans-Bold-49\"/>\r\n    </g>\r\n   </g>\r\n   <g id=\"text_39\">\r\n    <!-- 3 -->\r\n    <g style=\"fill:#870098;\" transform=\"translate(309.516958 75.500977)scale(0.09 -0.09)\">\r\n     <use xlink:href=\"#DejaVuSans-Bold-51\"/>\r\n    </g>\r\n   </g>\r\n   <g id=\"text_40\">\r\n    <!-- 1 -->\r\n    <g transform=\"translate(32.998471 174.614011)scale(0.09 -0.09)\">\r\n     <use xlink:href=\"#DejaVuSans-Bold-49\"/>\r\n    </g>\r\n   </g>\r\n   <g id=\"text_41\">\r\n    <!-- 3 -->\r\n    <g style=\"fill:#870098;\" transform=\"translate(320.793901 66.719441)scale(0.09 -0.09)\">\r\n     <use xlink:href=\"#DejaVuSans-Bold-51\"/>\r\n    </g>\r\n   </g>\r\n   <g id=\"text_42\">\r\n    <!-- 0 -->\r\n    <g style=\"fill:#0098dd;\" transform=\"translate(183.117666 26.167607)scale(0.09 -0.09)\">\r\n     <use xlink:href=\"#DejaVuSans-Bold-48\"/>\r\n    </g>\r\n   </g>\r\n   <g id=\"text_43\">\r\n    <!-- 2 -->\r\n    <g style=\"fill:#0000dd;\" transform=\"translate(157.873446 148.423196)scale(0.09 -0.09)\">\r\n     <use xlink:href=\"#DejaVuSans-Bold-50\"/>\r\n    </g>\r\n   </g>\r\n   <g id=\"text_44\">\r\n    <!-- 1 -->\r\n    <g transform=\"translate(46.118345 189.123152)scale(0.09 -0.09)\">\r\n     <use xlink:href=\"#DejaVuSans-Bold-49\"/>\r\n    </g>\r\n   </g>\r\n   <g id=\"text_45\">\r\n    <!-- 3 -->\r\n    <g style=\"fill:#870098;\" transform=\"translate(294.855744 63.095578)scale(0.09 -0.09)\">\r\n     <use xlink:href=\"#DejaVuSans-Bold-51\"/>\r\n    </g>\r\n   </g>\r\n   <g id=\"text_46\">\r\n    <!-- 2 -->\r\n    <g transform=\"translate(103.700165 195.095554)scale(0.09 -0.09)\">\r\n     <use xlink:href=\"#DejaVuSans-Bold-50\"/>\r\n    </g>\r\n   </g>\r\n   <g id=\"text_47\">\r\n    <!-- 2 -->\r\n    <g style=\"fill:#0000dd;\" transform=\"translate(125.652358 103.353286)scale(0.09 -0.09)\">\r\n     <use xlink:href=\"#DejaVuSans-Bold-50\"/>\r\n    </g>\r\n   </g>\r\n   <g id=\"text_48\">\r\n    <!-- 2 -->\r\n    <g style=\"fill:#0000dd;\" transform=\"translate(147.006101 123.433867)scale(0.09 -0.09)\">\r\n     <use xlink:href=\"#DejaVuSans-Bold-50\"/>\r\n    </g>\r\n   </g>\r\n   <g id=\"text_49\">\r\n    <!-- 0 -->\r\n    <g style=\"fill:#0098dd;\" transform=\"translate(226.837473 31.766385)scale(0.09 -0.09)\">\r\n     <use xlink:href=\"#DejaVuSans-Bold-48\"/>\r\n    </g>\r\n   </g>\r\n   <g id=\"text_50\">\r\n    <!-- 0 -->\r\n    <g style=\"fill:#0000dd;\" transform=\"translate(176.387385 94.444771)scale(0.09 -0.09)\">\r\n     <use xlink:href=\"#DejaVuSans-Bold-48\"/>\r\n    </g>\r\n   </g>\r\n  </g>\r\n </g>\r\n <defs>\r\n  <clipPath id=\"p17c37ae914\">\r\n   <rect height=\"217.44\" width=\"334.8\" x=\"10.7\" y=\"7.2\"/>\r\n  </clipPath>\r\n </defs>\r\n</svg>\r\n",
      "text/plain": "<Figure size 432x288 with 1 Axes>"
     },
     "metadata": {},
     "output_type": "display_data"
    }
   ],
   "source": [
    "# Create a figure of size 6 inches by 4 inches.\n",
    "plt.figure(figsize=(6,4))\n",
    "\n",
    "# These two lines of code are used to scale the data points down,\n",
    "# Or else the data points will be scattered very far apart.\n",
    "\n",
    "# Create a minimum and maximum range of X1.\n",
    "x_min, x_max = np.min(X1, axis=0), np.max(X1, axis=0)\n",
    "\n",
    "# Get the average distance for X1.\n",
    "X1 = (X1 - x_min) / (x_max - x_min)\n",
    "\n",
    "# This loop displays all of the datapoints.\n",
    "for i in range(X1.shape[0]):\n",
    "    # Replace the data points with their respective cluster value \n",
    "    # (ex. 0) and is color coded with a colormap (plt.cm.spectral)\n",
    "    plt.text(X1[i, 0], X1[i, 1], str(y1[i]),\n",
    "             color=plt.cm.nipy_spectral(agglom.labels_[i] / 10.),\n",
    "             fontdict={'weight': 'bold', 'size': 9})\n",
    "    \n",
    "# Remove the x ticks, y ticks, x and y axis\n",
    "plt.xticks([])\n",
    "plt.yticks([])\n",
    "#plt.axis('off')\n",
    "\n",
    "\n",
    "\n",
    "# Display the plot of the original data before clustering\n",
    "plt.scatter(X1[:, 0], X1[:, 1], marker='.')\n",
    "# Display the plot\n",
    "plt.show()"
   ]
  },
  {
   "cell_type": "markdown",
   "metadata": {},
   "source": [
    "\n",
    "### Dendrogram Associated for the Agglomerative Hierarchical Clustering\n",
    "Remember that a <b>distance matrix</b> contains the <b> distance from each point to every other point of a dataset </b>. <br>\n",
    "Use the function <b> distance_matrix, </b> which requires <b>two inputs</b>. Use the Feature Matrix, <b> X2 </b> as both inputs and save the distance matrix to a variable called <b> dist_matrix </b> <br> <br>\n",
    "Remember that the distance values are symmetric, with a diagonal of 0's. This is one way of making sure your matrix is correct. <br> (print out dist_matrix to make sure it's correct)"
   ]
  },
  {
   "cell_type": "code",
   "execution_count": 7,
   "metadata": {},
   "outputs": [
    {
     "name": "stdout",
     "output_type": "stream",
     "text": "[[0.         0.66104824 0.08862721 ... 0.01768802 0.5474804  0.18512998]\n [0.66104824 0.         0.74952008 ... 0.66074346 0.29259285 0.50027035]\n [0.08862721 0.74952008 0.         ... 0.08981042 0.62613018 0.26609743]\n ...\n [0.01768802 0.66074346 0.08981042 ... 0.         0.53949789 0.17773805]\n [0.5474804  0.29259285 0.62613018 ... 0.53949789 0.         0.36235869]\n [0.18512998 0.50027035 0.26609743 ... 0.17773805 0.36235869 0.        ]]\n"
    }
   ],
   "source": [
    "dist_matrix = distance_matrix(X1,X1) \n",
    "print(dist_matrix)"
   ]
  },
  {
   "cell_type": "markdown",
   "metadata": {},
   "source": [
    "Using the <b> linkage </b> class from hierarchy, pass in the parameters:\n",
    "<ul>\n",
    "    <li> The distance matrix </li>\n",
    "    <li> 'complete' for complete linkage </li>\n",
    "</ul> <br>\n",
    "Save the result to a variable called <b> Z </b>"
   ]
  },
  {
   "cell_type": "code",
   "execution_count": 8,
   "metadata": {},
   "outputs": [
    {
     "name": "stderr",
     "output_type": "stream",
     "text": "C:\\Users\\mhmh2\\Anaconda3\\lib\\site-packages\\ipykernel_launcher.py:1: ClusterWarning: scipy.cluster: The symmetric non-negative hollow observation matrix looks suspiciously like an uncondensed distance matrix\n  \"\"\"Entry point for launching an IPython kernel.\n"
    }
   ],
   "source": [
    "Z = hierarchy.linkage(dist_matrix, 'complete')"
   ]
  },
  {
   "cell_type": "markdown",
   "metadata": {},
   "source": [
    "A Hierarchical clustering is typically visualized as a dendrogram as shown in the following cell. Each merge is represented by a horizontal line. The y-coordinate of the horizontal line is the similarity of the two clusters that were merged, where cities are viewed as singleton clusters. \n",
    "By moving up from the bottom layer to the top node, a dendrogram allows us to reconstruct the history of merges that resulted in the depicted clustering. \n",
    "\n",
    "Next, we will save the dendrogram to a variable called <b>dendro</b>. In doing this, the dendrogram will also be displayed.\n",
    "Using the <b> dendrogram </b> class from hierarchy, pass in the parameter:\n",
    "<ul> <li> Z </li> </ul>"
   ]
  },
  {
   "cell_type": "code",
   "execution_count": 9,
   "metadata": {},
   "outputs": [
    {
     "data": {
      "image/png": "[encoded data removed]",
      "image/svg+xml": "<?xml version=\"1.0\" encoding=\"utf-8\" standalone=\"no\"?>\r\n<!DOCTYPE svg PUBLIC \"-//W3C//DTD SVG 1.1//EN\"\r\n  \"http://www.w3.org/Graphics/SVG/1.1/DTD/svg11.dtd\">\r\n<!-- Created with matplotlib (https://matplotlib.org/) -->\r\n<svg height=\"249.02pt\" version=\"1.1\" viewBox=\"0 0 363.08575 249.02\" width=\"363.08575pt\" xmlns=\"http://www.w3.org/2000/svg\" xmlns:xlink=\"http://www.w3.org/1999/xlink\">\r\n <defs>\r\n  <style type=\"text/css\">\r\n*{stroke-linecap:butt;stroke-linejoin:round;}\r\n  </style>\r\n </defs>\r\n <g id=\"figure_1\">\r\n  <g id=\"patch_1\">\r\n   <path d=\"M 0 249.02 \r\nL 363.08575 249.02 \r\nL 363.08575 0 \r\nL 0 0 \r\nz\r\n\" style=\"fill:none;\"/>\r\n  </g>\r\n  <g id=\"axes_1\">\r\n   <g id=\"patch_2\">\r\n    <path d=\"M 20.5625 224.64 \r\nL 355.3625 224.64 \r\nL 355.3625 7.2 \r\nL 20.5625 7.2 \r\nz\r\n\"/>\r\n   </g>\r\n   <g id=\"matplotlib.axis_1\">\r\n    <g id=\"xtick_1\">\r\n     <g id=\"text_1\">\r\n      <!-- 21 -->\r\n      <defs>\r\n       <path d=\"M 19.1875 8.296875 \r\nL 53.609375 8.296875 \r\nL 53.609375 0 \r\nL 7.328125 0 \r\nL 7.328125 8.296875 \r\nQ 12.9375 14.109375 22.625 23.890625 \r\nQ 32.328125 33.6875 34.8125 36.53125 \r\nQ 39.546875 41.84375 41.421875 45.53125 \r\nQ 43.3125 49.21875 43.3125 52.78125 \r\nQ 43.3125 58.59375 39.234375 62.25 \r\nQ 35.15625 65.921875 28.609375 65.921875 \r\nQ 23.96875 65.921875 18.8125 64.3125 \r\nQ 13.671875 62.703125 7.8125 59.421875 \r\nL 7.8125 69.390625 \r\nQ 13.765625 71.78125 18.9375 73 \r\nQ 24.125 74.21875 28.421875 74.21875 \r\nQ 39.75 74.21875 46.484375 68.546875 \r\nQ 53.21875 62.890625 53.21875 53.421875 \r\nQ 53.21875 48.921875 51.53125 44.890625 \r\nQ 49.859375 40.875 45.40625 35.40625 \r\nQ 44.1875 33.984375 37.640625 27.21875 \r\nQ 31.109375 20.453125 19.1875 8.296875 \r\nz\r\n\" id=\"DejaVuSans-50\"/>\r\n       <path d=\"M 12.40625 8.296875 \r\nL 28.515625 8.296875 \r\nL 28.515625 63.921875 \r\nL 10.984375 60.40625 \r\nL 10.984375 69.390625 \r\nL 28.421875 72.90625 \r\nL 38.28125 72.90625 \r\nL 38.28125 8.296875 \r\nL 54.390625 8.296875 \r\nL 54.390625 0 \r\nL 12.40625 0 \r\nz\r\n\" id=\"DejaVuSans-49\"/>\r\n      </defs>\r\n      <g style=\"fill:#ffffff;\" transform=\"translate(26.118 241.82)rotate(-90)scale(0.08 -0.08)\">\r\n       <use xlink:href=\"#DejaVuSans-50\"/>\r\n       <use x=\"63.623047\" xlink:href=\"#DejaVuSans-49\"/>\r\n      </g>\r\n     </g>\r\n    </g>\r\n    <g id=\"xtick_2\">\r\n     <g id=\"text_2\">\r\n      <!-- 27 -->\r\n      <defs>\r\n       <path d=\"M 8.203125 72.90625 \r\nL 55.078125 72.90625 \r\nL 55.078125 68.703125 \r\nL 28.609375 0 \r\nL 18.3125 0 \r\nL 43.21875 64.59375 \r\nL 8.203125 64.59375 \r\nz\r\n\" id=\"DejaVuSans-55\"/>\r\n      </defs>\r\n      <g style=\"fill:#ffffff;\" transform=\"translate(32.814 241.82)rotate(-90)scale(0.08 -0.08)\">\r\n       <use xlink:href=\"#DejaVuSans-50\"/>\r\n       <use x=\"63.623047\" xlink:href=\"#DejaVuSans-55\"/>\r\n      </g>\r\n     </g>\r\n    </g>\r\n    <g id=\"xtick_3\">\r\n     <g id=\"text_3\">\r\n      <!-- 9 -->\r\n      <defs>\r\n       <path d=\"M 10.984375 1.515625 \r\nL 10.984375 10.5 \r\nQ 14.703125 8.734375 18.5 7.8125 \r\nQ 22.3125 6.890625 25.984375 6.890625 \r\nQ 35.75 6.890625 40.890625 13.453125 \r\nQ 46.046875 20.015625 46.78125 33.40625 \r\nQ 43.953125 29.203125 39.59375 26.953125 \r\nQ 35.25 24.703125 29.984375 24.703125 \r\nQ 19.046875 24.703125 12.671875 31.3125 \r\nQ 6.296875 37.9375 6.296875 49.421875 \r\nQ 6.296875 60.640625 12.9375 67.421875 \r\nQ 19.578125 74.21875 30.609375 74.21875 \r\nQ 43.265625 74.21875 49.921875 64.515625 \r\nQ 56.59375 54.828125 56.59375 36.375 \r\nQ 56.59375 19.140625 48.40625 8.859375 \r\nQ 40.234375 -1.421875 26.421875 -1.421875 \r\nQ 22.703125 -1.421875 18.890625 -0.6875 \r\nQ 15.09375 0.046875 10.984375 1.515625 \r\nz\r\nM 30.609375 32.421875 \r\nQ 37.25 32.421875 41.125 36.953125 \r\nQ 45.015625 41.5 45.015625 49.421875 \r\nQ 45.015625 57.28125 41.125 61.84375 \r\nQ 37.25 66.40625 30.609375 66.40625 \r\nQ 23.96875 66.40625 20.09375 61.84375 \r\nQ 16.21875 57.28125 16.21875 49.421875 \r\nQ 16.21875 41.5 20.09375 36.953125 \r\nQ 23.96875 32.421875 30.609375 32.421875 \r\nz\r\n\" id=\"DejaVuSans-57\"/>\r\n      </defs>\r\n      <g style=\"fill:#ffffff;\" transform=\"translate(39.51 236.73)rotate(-90)scale(0.08 -0.08)\">\r\n       <use xlink:href=\"#DejaVuSans-57\"/>\r\n      </g>\r\n     </g>\r\n    </g>\r\n    <g id=\"xtick_4\">\r\n     <g id=\"text_4\">\r\n      <!-- 11 -->\r\n      <g style=\"fill:#ffffff;\" transform=\"translate(46.206 241.82)rotate(-90)scale(0.08 -0.08)\">\r\n       <use xlink:href=\"#DejaVuSans-49\"/>\r\n       <use x=\"63.623047\" xlink:href=\"#DejaVuSans-49\"/>\r\n      </g>\r\n     </g>\r\n    </g>\r\n    <g id=\"xtick_5\">\r\n     <g id=\"text_5\">\r\n      <!-- 6 -->\r\n      <defs>\r\n       <path d=\"M 33.015625 40.375 \r\nQ 26.375 40.375 22.484375 35.828125 \r\nQ 18.609375 31.296875 18.609375 23.390625 \r\nQ 18.609375 15.53125 22.484375 10.953125 \r\nQ 26.375 6.390625 33.015625 6.390625 \r\nQ 39.65625 6.390625 43.53125 10.953125 \r\nQ 47.40625 15.53125 47.40625 23.390625 \r\nQ 47.40625 31.296875 43.53125 35.828125 \r\nQ 39.65625 40.375 33.015625 40.375 \r\nz\r\nM 52.59375 71.296875 \r\nL 52.59375 62.3125 \r\nQ 48.875 64.0625 45.09375 64.984375 \r\nQ 41.3125 65.921875 37.59375 65.921875 \r\nQ 27.828125 65.921875 22.671875 59.328125 \r\nQ 17.53125 52.734375 16.796875 39.40625 \r\nQ 19.671875 43.65625 24.015625 45.921875 \r\nQ 28.375 48.1875 33.59375 48.1875 \r\nQ 44.578125 48.1875 50.953125 41.515625 \r\nQ 57.328125 34.859375 57.328125 23.390625 \r\nQ 57.328125 12.15625 50.6875 5.359375 \r\nQ 44.046875 -1.421875 33.015625 -1.421875 \r\nQ 20.359375 -1.421875 13.671875 8.265625 \r\nQ 6.984375 17.96875 6.984375 36.375 \r\nQ 6.984375 53.65625 15.1875 63.9375 \r\nQ 23.390625 74.21875 37.203125 74.21875 \r\nQ 40.921875 74.21875 44.703125 73.484375 \r\nQ 48.484375 72.75 52.59375 71.296875 \r\nz\r\n\" id=\"DejaVuSans-54\"/>\r\n      </defs>\r\n      <g style=\"fill:#ffffff;\" transform=\"translate(52.902 236.73)rotate(-90)scale(0.08 -0.08)\">\r\n       <use xlink:href=\"#DejaVuSans-54\"/>\r\n      </g>\r\n     </g>\r\n    </g>\r\n    <g id=\"xtick_6\">\r\n     <g id=\"text_6\">\r\n      <!-- 18 -->\r\n      <defs>\r\n       <path d=\"M 31.78125 34.625 \r\nQ 24.75 34.625 20.71875 30.859375 \r\nQ 16.703125 27.09375 16.703125 20.515625 \r\nQ 16.703125 13.921875 20.71875 10.15625 \r\nQ 24.75 6.390625 31.78125 6.390625 \r\nQ 38.8125 6.390625 42.859375 10.171875 \r\nQ 46.921875 13.96875 46.921875 20.515625 \r\nQ 46.921875 27.09375 42.890625 30.859375 \r\nQ 38.875 34.625 31.78125 34.625 \r\nz\r\nM 21.921875 38.8125 \r\nQ 15.578125 40.375 12.03125 44.71875 \r\nQ 8.5 49.078125 8.5 55.328125 \r\nQ 8.5 64.0625 14.71875 69.140625 \r\nQ 20.953125 74.21875 31.78125 74.21875 \r\nQ 42.671875 74.21875 48.875 69.140625 \r\nQ 55.078125 64.0625 55.078125 55.328125 \r\nQ 55.078125 49.078125 51.53125 44.71875 \r\nQ 48 40.375 41.703125 38.8125 \r\nQ 48.828125 37.15625 52.796875 32.3125 \r\nQ 56.78125 27.484375 56.78125 20.515625 \r\nQ 56.78125 9.90625 50.3125 4.234375 \r\nQ 43.84375 -1.421875 31.78125 -1.421875 \r\nQ 19.734375 -1.421875 13.25 4.234375 \r\nQ 6.78125 9.90625 6.78125 20.515625 \r\nQ 6.78125 27.484375 10.78125 32.3125 \r\nQ 14.796875 37.15625 21.921875 38.8125 \r\nz\r\nM 18.3125 54.390625 \r\nQ 18.3125 48.734375 21.84375 45.5625 \r\nQ 25.390625 42.390625 31.78125 42.390625 \r\nQ 38.140625 42.390625 41.71875 45.5625 \r\nQ 45.3125 48.734375 45.3125 54.390625 \r\nQ 45.3125 60.0625 41.71875 63.234375 \r\nQ 38.140625 66.40625 31.78125 66.40625 \r\nQ 25.390625 66.40625 21.84375 63.234375 \r\nQ 18.3125 60.0625 18.3125 54.390625 \r\nz\r\n\" id=\"DejaVuSans-56\"/>\r\n      </defs>\r\n      <g style=\"fill:#ffffff;\" transform=\"translate(59.598 241.82)rotate(-90)scale(0.08 -0.08)\">\r\n       <use xlink:href=\"#DejaVuSans-49\"/>\r\n       <use x=\"63.623047\" xlink:href=\"#DejaVuSans-56\"/>\r\n      </g>\r\n     </g>\r\n    </g>\r\n    <g id=\"xtick_7\">\r\n     <g id=\"text_7\">\r\n      <!-- 15 -->\r\n      <defs>\r\n       <path d=\"M 10.796875 72.90625 \r\nL 49.515625 72.90625 \r\nL 49.515625 64.59375 \r\nL 19.828125 64.59375 \r\nL 19.828125 46.734375 \r\nQ 21.96875 47.46875 24.109375 47.828125 \r\nQ 26.265625 48.1875 28.421875 48.1875 \r\nQ 40.625 48.1875 47.75 41.5 \r\nQ 54.890625 34.8125 54.890625 23.390625 \r\nQ 54.890625 11.625 47.5625 5.09375 \r\nQ 40.234375 -1.421875 26.90625 -1.421875 \r\nQ 22.3125 -1.421875 17.546875 -0.640625 \r\nQ 12.796875 0.140625 7.71875 1.703125 \r\nL 7.71875 11.625 \r\nQ 12.109375 9.234375 16.796875 8.0625 \r\nQ 21.484375 6.890625 26.703125 6.890625 \r\nQ 35.15625 6.890625 40.078125 11.328125 \r\nQ 45.015625 15.765625 45.015625 23.390625 \r\nQ 45.015625 31 40.078125 35.4375 \r\nQ 35.15625 39.890625 26.703125 39.890625 \r\nQ 22.75 39.890625 18.8125 39.015625 \r\nQ 14.890625 38.140625 10.796875 36.28125 \r\nz\r\n\" id=\"DejaVuSans-53\"/>\r\n      </defs>\r\n      <g style=\"fill:#ffffff;\" transform=\"translate(66.294 241.82)rotate(-90)scale(0.08 -0.08)\">\r\n       <use xlink:href=\"#DejaVuSans-49\"/>\r\n       <use x=\"63.623047\" xlink:href=\"#DejaVuSans-53\"/>\r\n      </g>\r\n     </g>\r\n    </g>\r\n    <g id=\"xtick_8\">\r\n     <g id=\"text_8\">\r\n      <!-- 45 -->\r\n      <defs>\r\n       <path d=\"M 37.796875 64.3125 \r\nL 12.890625 25.390625 \r\nL 37.796875 25.390625 \r\nz\r\nM 35.203125 72.90625 \r\nL 47.609375 72.90625 \r\nL 47.609375 25.390625 \r\nL 58.015625 25.390625 \r\nL 58.015625 17.1875 \r\nL 47.609375 17.1875 \r\nL 47.609375 0 \r\nL 37.796875 0 \r\nL 37.796875 17.1875 \r\nL 4.890625 17.1875 \r\nL 4.890625 26.703125 \r\nz\r\n\" id=\"DejaVuSans-52\"/>\r\n      </defs>\r\n      <g style=\"fill:#ffffff;\" transform=\"translate(72.99 241.82)rotate(-90)scale(0.08 -0.08)\">\r\n       <use xlink:href=\"#DejaVuSans-52\"/>\r\n       <use x=\"63.623047\" xlink:href=\"#DejaVuSans-53\"/>\r\n      </g>\r\n     </g>\r\n    </g>\r\n    <g id=\"xtick_9\">\r\n     <g id=\"text_9\">\r\n      <!-- 5 -->\r\n      <g style=\"fill:#ffffff;\" transform=\"translate(79.686 236.73)rotate(-90)scale(0.08 -0.08)\">\r\n       <use xlink:href=\"#DejaVuSans-53\"/>\r\n      </g>\r\n     </g>\r\n    </g>\r\n    <g id=\"xtick_10\">\r\n     <g id=\"text_10\">\r\n      <!-- 8 -->\r\n      <g style=\"fill:#ffffff;\" transform=\"translate(86.382 236.73)rotate(-90)scale(0.08 -0.08)\">\r\n       <use xlink:href=\"#DejaVuSans-56\"/>\r\n      </g>\r\n     </g>\r\n    </g>\r\n    <g id=\"xtick_11\">\r\n     <g id=\"text_11\">\r\n      <!-- 25 -->\r\n      <g style=\"fill:#ffffff;\" transform=\"translate(93.078 241.82)rotate(-90)scale(0.08 -0.08)\">\r\n       <use xlink:href=\"#DejaVuSans-50\"/>\r\n       <use x=\"63.623047\" xlink:href=\"#DejaVuSans-53\"/>\r\n      </g>\r\n     </g>\r\n    </g>\r\n    <g id=\"xtick_12\">\r\n     <g id=\"text_12\">\r\n      <!-- 39 -->\r\n      <defs>\r\n       <path d=\"M 40.578125 39.3125 \r\nQ 47.65625 37.796875 51.625 33 \r\nQ 55.609375 28.21875 55.609375 21.1875 \r\nQ 55.609375 10.40625 48.1875 4.484375 \r\nQ 40.765625 -1.421875 27.09375 -1.421875 \r\nQ 22.515625 -1.421875 17.65625 -0.515625 \r\nQ 12.796875 0.390625 7.625 2.203125 \r\nL 7.625 11.71875 \r\nQ 11.71875 9.328125 16.59375 8.109375 \r\nQ 21.484375 6.890625 26.8125 6.890625 \r\nQ 36.078125 6.890625 40.9375 10.546875 \r\nQ 45.796875 14.203125 45.796875 21.1875 \r\nQ 45.796875 27.640625 41.28125 31.265625 \r\nQ 36.765625 34.90625 28.71875 34.90625 \r\nL 20.21875 34.90625 \r\nL 20.21875 43.015625 \r\nL 29.109375 43.015625 \r\nQ 36.375 43.015625 40.234375 45.921875 \r\nQ 44.09375 48.828125 44.09375 54.296875 \r\nQ 44.09375 59.90625 40.109375 62.90625 \r\nQ 36.140625 65.921875 28.71875 65.921875 \r\nQ 24.65625 65.921875 20.015625 65.03125 \r\nQ 15.375 64.15625 9.8125 62.3125 \r\nL 9.8125 71.09375 \r\nQ 15.4375 72.65625 20.34375 73.4375 \r\nQ 25.25 74.21875 29.59375 74.21875 \r\nQ 40.828125 74.21875 47.359375 69.109375 \r\nQ 53.90625 64.015625 53.90625 55.328125 \r\nQ 53.90625 49.265625 50.4375 45.09375 \r\nQ 46.96875 40.921875 40.578125 39.3125 \r\nz\r\n\" id=\"DejaVuSans-51\"/>\r\n      </defs>\r\n      <g style=\"fill:#ffffff;\" transform=\"translate(99.774 241.82)rotate(-90)scale(0.08 -0.08)\">\r\n       <use xlink:href=\"#DejaVuSans-51\"/>\r\n       <use x=\"63.623047\" xlink:href=\"#DejaVuSans-57\"/>\r\n      </g>\r\n     </g>\r\n    </g>\r\n    <g id=\"xtick_13\">\r\n     <g id=\"text_13\">\r\n      <!-- 37 -->\r\n      <g style=\"fill:#ffffff;\" transform=\"translate(106.47 241.82)rotate(-90)scale(0.08 -0.08)\">\r\n       <use xlink:href=\"#DejaVuSans-51\"/>\r\n       <use x=\"63.623047\" xlink:href=\"#DejaVuSans-55\"/>\r\n      </g>\r\n     </g>\r\n    </g>\r\n    <g id=\"xtick_14\">\r\n     <g id=\"text_14\">\r\n      <!-- 43 -->\r\n      <g style=\"fill:#ffffff;\" transform=\"translate(113.166 241.82)rotate(-90)scale(0.08 -0.08)\">\r\n       <use xlink:href=\"#DejaVuSans-52\"/>\r\n       <use x=\"63.623047\" xlink:href=\"#DejaVuSans-51\"/>\r\n      </g>\r\n     </g>\r\n    </g>\r\n    <g id=\"xtick_15\">\r\n     <g id=\"text_15\">\r\n      <!-- 3 -->\r\n      <g style=\"fill:#ffffff;\" transform=\"translate(119.862 236.73)rotate(-90)scale(0.08 -0.08)\">\r\n       <use xlink:href=\"#DejaVuSans-51\"/>\r\n      </g>\r\n     </g>\r\n    </g>\r\n    <g id=\"xtick_16\">\r\n     <g id=\"text_16\">\r\n      <!-- 4 -->\r\n      <g style=\"fill:#ffffff;\" transform=\"translate(126.558 236.73)rotate(-90)scale(0.08 -0.08)\">\r\n       <use xlink:href=\"#DejaVuSans-52\"/>\r\n      </g>\r\n     </g>\r\n    </g>\r\n    <g id=\"xtick_17\">\r\n     <g id=\"text_17\">\r\n      <!-- 49 -->\r\n      <g style=\"fill:#ffffff;\" transform=\"translate(133.254 241.82)rotate(-90)scale(0.08 -0.08)\">\r\n       <use xlink:href=\"#DejaVuSans-52\"/>\r\n       <use x=\"63.623047\" xlink:href=\"#DejaVuSans-57\"/>\r\n      </g>\r\n     </g>\r\n    </g>\r\n    <g id=\"xtick_18\">\r\n     <g id=\"text_18\">\r\n      <!-- 0 -->\r\n      <defs>\r\n       <path d=\"M 31.78125 66.40625 \r\nQ 24.171875 66.40625 20.328125 58.90625 \r\nQ 16.5 51.421875 16.5 36.375 \r\nQ 16.5 21.390625 20.328125 13.890625 \r\nQ 24.171875 6.390625 31.78125 6.390625 \r\nQ 39.453125 6.390625 43.28125 13.890625 \r\nQ 47.125 21.390625 47.125 36.375 \r\nQ 47.125 51.421875 43.28125 58.90625 \r\nQ 39.453125 66.40625 31.78125 66.40625 \r\nz\r\nM 31.78125 74.21875 \r\nQ 44.046875 74.21875 50.515625 64.515625 \r\nQ 56.984375 54.828125 56.984375 36.375 \r\nQ 56.984375 17.96875 50.515625 8.265625 \r\nQ 44.046875 -1.421875 31.78125 -1.421875 \r\nQ 19.53125 -1.421875 13.0625 8.265625 \r\nQ 6.59375 17.96875 6.59375 36.375 \r\nQ 6.59375 54.828125 13.0625 64.515625 \r\nQ 19.53125 74.21875 31.78125 74.21875 \r\nz\r\n\" id=\"DejaVuSans-48\"/>\r\n      </defs>\r\n      <g style=\"fill:#ffffff;\" transform=\"translate(139.95 236.73)rotate(-90)scale(0.08 -0.08)\">\r\n       <use xlink:href=\"#DejaVuSans-48\"/>\r\n      </g>\r\n     </g>\r\n    </g>\r\n    <g id=\"xtick_19\">\r\n     <g id=\"text_19\">\r\n      <!-- 28 -->\r\n      <g style=\"fill:#ffffff;\" transform=\"translate(146.646 241.82)rotate(-90)scale(0.08 -0.08)\">\r\n       <use xlink:href=\"#DejaVuSans-50\"/>\r\n       <use x=\"63.623047\" xlink:href=\"#DejaVuSans-56\"/>\r\n      </g>\r\n     </g>\r\n    </g>\r\n    <g id=\"xtick_20\">\r\n     <g id=\"text_20\">\r\n      <!-- 47 -->\r\n      <g style=\"fill:#ffffff;\" transform=\"translate(153.342 241.82)rotate(-90)scale(0.08 -0.08)\">\r\n       <use xlink:href=\"#DejaVuSans-52\"/>\r\n       <use x=\"63.623047\" xlink:href=\"#DejaVuSans-55\"/>\r\n      </g>\r\n     </g>\r\n    </g>\r\n    <g id=\"xtick_21\">\r\n     <g id=\"text_21\">\r\n      <!-- 46 -->\r\n      <g style=\"fill:#ffffff;\" transform=\"translate(160.038 241.82)rotate(-90)scale(0.08 -0.08)\">\r\n       <use xlink:href=\"#DejaVuSans-52\"/>\r\n       <use x=\"63.623047\" xlink:href=\"#DejaVuSans-54\"/>\r\n      </g>\r\n     </g>\r\n    </g>\r\n    <g id=\"xtick_22\">\r\n     <g id=\"text_22\">\r\n      <!-- 26 -->\r\n      <g style=\"fill:#ffffff;\" transform=\"translate(166.734 241.82)rotate(-90)scale(0.08 -0.08)\">\r\n       <use xlink:href=\"#DejaVuSans-50\"/>\r\n       <use x=\"63.623047\" xlink:href=\"#DejaVuSans-54\"/>\r\n      </g>\r\n     </g>\r\n    </g>\r\n    <g id=\"xtick_23\">\r\n     <g id=\"text_23\">\r\n      <!-- 31 -->\r\n      <g style=\"fill:#ffffff;\" transform=\"translate(173.43 241.82)rotate(-90)scale(0.08 -0.08)\">\r\n       <use xlink:href=\"#DejaVuSans-51\"/>\r\n       <use x=\"63.623047\" xlink:href=\"#DejaVuSans-49\"/>\r\n      </g>\r\n     </g>\r\n    </g>\r\n    <g id=\"xtick_24\">\r\n     <g id=\"text_24\">\r\n      <!-- 42 -->\r\n      <g style=\"fill:#ffffff;\" transform=\"translate(180.126 241.82)rotate(-90)scale(0.08 -0.08)\">\r\n       <use xlink:href=\"#DejaVuSans-52\"/>\r\n       <use x=\"63.623047\" xlink:href=\"#DejaVuSans-50\"/>\r\n      </g>\r\n     </g>\r\n    </g>\r\n    <g id=\"xtick_25\">\r\n     <g id=\"text_25\">\r\n      <!-- 34 -->\r\n      <g style=\"fill:#ffffff;\" transform=\"translate(186.822 241.82)rotate(-90)scale(0.08 -0.08)\">\r\n       <use xlink:href=\"#DejaVuSans-51\"/>\r\n       <use x=\"63.623047\" xlink:href=\"#DejaVuSans-52\"/>\r\n      </g>\r\n     </g>\r\n    </g>\r\n    <g id=\"xtick_26\">\r\n     <g id=\"text_26\">\r\n      <!-- 2 -->\r\n      <g style=\"fill:#ffffff;\" transform=\"translate(193.518 236.73)rotate(-90)scale(0.08 -0.08)\">\r\n       <use xlink:href=\"#DejaVuSans-50\"/>\r\n      </g>\r\n     </g>\r\n    </g>\r\n    <g id=\"xtick_27\">\r\n     <g id=\"text_27\">\r\n      <!-- 36 -->\r\n      <g style=\"fill:#ffffff;\" transform=\"translate(200.214 241.82)rotate(-90)scale(0.08 -0.08)\">\r\n       <use xlink:href=\"#DejaVuSans-51\"/>\r\n       <use x=\"63.623047\" xlink:href=\"#DejaVuSans-54\"/>\r\n      </g>\r\n     </g>\r\n    </g>\r\n    <g id=\"xtick_28\">\r\n     <g id=\"text_28\">\r\n      <!-- 20 -->\r\n      <g style=\"fill:#ffffff;\" transform=\"translate(206.91 241.82)rotate(-90)scale(0.08 -0.08)\">\r\n       <use xlink:href=\"#DejaVuSans-50\"/>\r\n       <use x=\"63.623047\" xlink:href=\"#DejaVuSans-48\"/>\r\n      </g>\r\n     </g>\r\n    </g>\r\n    <g id=\"xtick_29\">\r\n     <g id=\"text_29\">\r\n      <!-- 14 -->\r\n      <g style=\"fill:#ffffff;\" transform=\"translate(213.606 241.82)rotate(-90)scale(0.08 -0.08)\">\r\n       <use xlink:href=\"#DejaVuSans-49\"/>\r\n       <use x=\"63.623047\" xlink:href=\"#DejaVuSans-52\"/>\r\n      </g>\r\n     </g>\r\n    </g>\r\n    <g id=\"xtick_30\">\r\n     <g id=\"text_30\">\r\n      <!-- 29 -->\r\n      <g style=\"fill:#ffffff;\" transform=\"translate(220.302 241.82)rotate(-90)scale(0.08 -0.08)\">\r\n       <use xlink:href=\"#DejaVuSans-50\"/>\r\n       <use x=\"63.623047\" xlink:href=\"#DejaVuSans-57\"/>\r\n      </g>\r\n     </g>\r\n    </g>\r\n    <g id=\"xtick_31\">\r\n     <g id=\"text_31\">\r\n      <!-- 48 -->\r\n      <g style=\"fill:#ffffff;\" transform=\"translate(226.998 241.82)rotate(-90)scale(0.08 -0.08)\">\r\n       <use xlink:href=\"#DejaVuSans-52\"/>\r\n       <use x=\"63.623047\" xlink:href=\"#DejaVuSans-56\"/>\r\n      </g>\r\n     </g>\r\n    </g>\r\n    <g id=\"xtick_32\">\r\n     <g id=\"text_32\">\r\n      <!-- 10 -->\r\n      <g style=\"fill:#ffffff;\" transform=\"translate(233.694 241.82)rotate(-90)scale(0.08 -0.08)\">\r\n       <use xlink:href=\"#DejaVuSans-49\"/>\r\n       <use x=\"63.623047\" xlink:href=\"#DejaVuSans-48\"/>\r\n      </g>\r\n     </g>\r\n    </g>\r\n    <g id=\"xtick_33\">\r\n     <g id=\"text_33\">\r\n      <!-- 16 -->\r\n      <g style=\"fill:#ffffff;\" transform=\"translate(240.39 241.82)rotate(-90)scale(0.08 -0.08)\">\r\n       <use xlink:href=\"#DejaVuSans-49\"/>\r\n       <use x=\"63.623047\" xlink:href=\"#DejaVuSans-54\"/>\r\n      </g>\r\n     </g>\r\n    </g>\r\n    <g id=\"xtick_34\">\r\n     <g id=\"text_34\">\r\n      <!-- 41 -->\r\n      <g style=\"fill:#ffffff;\" transform=\"translate(247.086 241.82)rotate(-90)scale(0.08 -0.08)\">\r\n       <use xlink:href=\"#DejaVuSans-52\"/>\r\n       <use x=\"63.623047\" xlink:href=\"#DejaVuSans-49\"/>\r\n      </g>\r\n     </g>\r\n    </g>\r\n    <g id=\"xtick_35\">\r\n     <g id=\"text_35\">\r\n      <!-- 7 -->\r\n      <g style=\"fill:#ffffff;\" transform=\"translate(253.782 236.73)rotate(-90)scale(0.08 -0.08)\">\r\n       <use xlink:href=\"#DejaVuSans-55\"/>\r\n      </g>\r\n     </g>\r\n    </g>\r\n    <g id=\"xtick_36\">\r\n     <g id=\"text_36\">\r\n      <!-- 12 -->\r\n      <g style=\"fill:#ffffff;\" transform=\"translate(260.478 241.82)rotate(-90)scale(0.08 -0.08)\">\r\n       <use xlink:href=\"#DejaVuSans-49\"/>\r\n       <use x=\"63.623047\" xlink:href=\"#DejaVuSans-50\"/>\r\n      </g>\r\n     </g>\r\n    </g>\r\n    <g id=\"xtick_37\">\r\n     <g id=\"text_37\">\r\n      <!-- 17 -->\r\n      <g style=\"fill:#ffffff;\" transform=\"translate(267.174 241.82)rotate(-90)scale(0.08 -0.08)\">\r\n       <use xlink:href=\"#DejaVuSans-49\"/>\r\n       <use x=\"63.623047\" xlink:href=\"#DejaVuSans-55\"/>\r\n      </g>\r\n     </g>\r\n    </g>\r\n    <g id=\"xtick_38\">\r\n     <g id=\"text_38\">\r\n      <!-- 35 -->\r\n      <g style=\"fill:#ffffff;\" transform=\"translate(273.87 241.82)rotate(-90)scale(0.08 -0.08)\">\r\n       <use xlink:href=\"#DejaVuSans-51\"/>\r\n       <use x=\"63.623047\" xlink:href=\"#DejaVuSans-53\"/>\r\n      </g>\r\n     </g>\r\n    </g>\r\n    <g id=\"xtick_39\">\r\n     <g id=\"text_39\">\r\n      <!-- 22 -->\r\n      <g style=\"fill:#ffffff;\" transform=\"translate(280.566 241.82)rotate(-90)scale(0.08 -0.08)\">\r\n       <use xlink:href=\"#DejaVuSans-50\"/>\r\n       <use x=\"63.623047\" xlink:href=\"#DejaVuSans-50\"/>\r\n      </g>\r\n     </g>\r\n    </g>\r\n    <g id=\"xtick_40\">\r\n     <g id=\"text_40\">\r\n      <!-- 24 -->\r\n      <g style=\"fill:#ffffff;\" transform=\"translate(287.262 241.82)rotate(-90)scale(0.08 -0.08)\">\r\n       <use xlink:href=\"#DejaVuSans-50\"/>\r\n       <use x=\"63.623047\" xlink:href=\"#DejaVuSans-52\"/>\r\n      </g>\r\n     </g>\r\n    </g>\r\n    <g id=\"xtick_41\">\r\n     <g id=\"text_41\">\r\n      <!-- 33 -->\r\n      <g style=\"fill:#ffffff;\" transform=\"translate(293.958 241.82)rotate(-90)scale(0.08 -0.08)\">\r\n       <use xlink:href=\"#DejaVuSans-51\"/>\r\n       <use x=\"63.623047\" xlink:href=\"#DejaVuSans-51\"/>\r\n      </g>\r\n     </g>\r\n    </g>\r\n    <g id=\"xtick_42\">\r\n     <g id=\"text_42\">\r\n      <!-- 13 -->\r\n      <g style=\"fill:#ffffff;\" transform=\"translate(300.654 241.82)rotate(-90)scale(0.08 -0.08)\">\r\n       <use xlink:href=\"#DejaVuSans-49\"/>\r\n       <use x=\"63.623047\" xlink:href=\"#DejaVuSans-51\"/>\r\n      </g>\r\n     </g>\r\n    </g>\r\n    <g id=\"xtick_43\">\r\n     <g id=\"text_43\">\r\n      <!-- 32 -->\r\n      <g style=\"fill:#ffffff;\" transform=\"translate(307.35 241.82)rotate(-90)scale(0.08 -0.08)\">\r\n       <use xlink:href=\"#DejaVuSans-51\"/>\r\n       <use x=\"63.623047\" xlink:href=\"#DejaVuSans-50\"/>\r\n      </g>\r\n     </g>\r\n    </g>\r\n    <g id=\"xtick_44\">\r\n     <g id=\"text_44\">\r\n      <!-- 40 -->\r\n      <g style=\"fill:#ffffff;\" transform=\"translate(314.046 241.82)rotate(-90)scale(0.08 -0.08)\">\r\n       <use xlink:href=\"#DejaVuSans-52\"/>\r\n       <use x=\"63.623047\" xlink:href=\"#DejaVuSans-48\"/>\r\n      </g>\r\n     </g>\r\n    </g>\r\n    <g id=\"xtick_45\">\r\n     <g id=\"text_45\">\r\n      <!-- 1 -->\r\n      <g style=\"fill:#ffffff;\" transform=\"translate(320.742 236.73)rotate(-90)scale(0.08 -0.08)\">\r\n       <use xlink:href=\"#DejaVuSans-49\"/>\r\n      </g>\r\n     </g>\r\n    </g>\r\n    <g id=\"xtick_46\">\r\n     <g id=\"text_46\">\r\n      <!-- 19 -->\r\n      <g style=\"fill:#ffffff;\" transform=\"translate(327.438 241.82)rotate(-90)scale(0.08 -0.08)\">\r\n       <use xlink:href=\"#DejaVuSans-49\"/>\r\n       <use x=\"63.623047\" xlink:href=\"#DejaVuSans-57\"/>\r\n      </g>\r\n     </g>\r\n    </g>\r\n    <g id=\"xtick_47\">\r\n     <g id=\"text_47\">\r\n      <!-- 23 -->\r\n      <g style=\"fill:#ffffff;\" transform=\"translate(334.134 241.82)rotate(-90)scale(0.08 -0.08)\">\r\n       <use xlink:href=\"#DejaVuSans-50\"/>\r\n       <use x=\"63.623047\" xlink:href=\"#DejaVuSans-51\"/>\r\n      </g>\r\n     </g>\r\n    </g>\r\n    <g id=\"xtick_48\">\r\n     <g id=\"text_48\">\r\n      <!-- 38 -->\r\n      <g style=\"fill:#ffffff;\" transform=\"translate(340.83 241.82)rotate(-90)scale(0.08 -0.08)\">\r\n       <use xlink:href=\"#DejaVuSans-51\"/>\r\n       <use x=\"63.623047\" xlink:href=\"#DejaVuSans-56\"/>\r\n      </g>\r\n     </g>\r\n    </g>\r\n    <g id=\"xtick_49\">\r\n     <g id=\"text_49\">\r\n      <!-- 30 -->\r\n      <g style=\"fill:#ffffff;\" transform=\"translate(347.526 241.82)rotate(-90)scale(0.08 -0.08)\">\r\n       <use xlink:href=\"#DejaVuSans-51\"/>\r\n       <use x=\"63.623047\" xlink:href=\"#DejaVuSans-48\"/>\r\n      </g>\r\n     </g>\r\n    </g>\r\n    <g id=\"xtick_50\">\r\n     <g id=\"text_50\">\r\n      <!-- 44 -->\r\n      <g style=\"fill:#ffffff;\" transform=\"translate(354.222 241.82)rotate(-90)scale(0.08 -0.08)\">\r\n       <use xlink:href=\"#DejaVuSans-52\"/>\r\n       <use x=\"63.623047\" xlink:href=\"#DejaVuSans-52\"/>\r\n      </g>\r\n     </g>\r\n    </g>\r\n   </g>\r\n   <g id=\"matplotlib.axis_2\">\r\n    <g id=\"ytick_1\">\r\n     <g id=\"line2d_1\">\r\n      <defs>\r\n       <path d=\"M 0 0 \r\nL -3.5 0 \r\n\" id=\"m7f57d20366\" style=\"stroke:#ffffff;stroke-width:0.8;\"/>\r\n      </defs>\r\n      <g>\r\n       <use style=\"fill:#ffffff;stroke:#ffffff;stroke-width:0.8;\" x=\"20.5625\" xlink:href=\"#m7f57d20366\" y=\"224.64\"/>\r\n      </g>\r\n     </g>\r\n     <g id=\"text_51\">\r\n      <!-- 0 -->\r\n      <g style=\"fill:#ffffff;\" transform=\"translate(7.2 228.439219)scale(0.1 -0.1)\">\r\n       <use xlink:href=\"#DejaVuSans-48\"/>\r\n      </g>\r\n     </g>\r\n    </g>\r\n    <g id=\"ytick_2\">\r\n     <g id=\"line2d_2\">\r\n      <g>\r\n       <use style=\"fill:#ffffff;stroke:#ffffff;stroke-width:0.8;\" x=\"20.5625\" xlink:href=\"#m7f57d20366\" y=\"187.593372\"/>\r\n      </g>\r\n     </g>\r\n     <g id=\"text_52\">\r\n      <!-- 1 -->\r\n      <g style=\"fill:#ffffff;\" transform=\"translate(7.2 191.392591)scale(0.1 -0.1)\">\r\n       <use xlink:href=\"#DejaVuSans-49\"/>\r\n      </g>\r\n     </g>\r\n    </g>\r\n    <g id=\"ytick_3\">\r\n     <g id=\"line2d_3\">\r\n      <g>\r\n       <use style=\"fill:#ffffff;stroke:#ffffff;stroke-width:0.8;\" x=\"20.5625\" xlink:href=\"#m7f57d20366\" y=\"150.546744\"/>\r\n      </g>\r\n     </g>\r\n     <g id=\"text_53\">\r\n      <!-- 2 -->\r\n      <g style=\"fill:#ffffff;\" transform=\"translate(7.2 154.345963)scale(0.1 -0.1)\">\r\n       <use xlink:href=\"#DejaVuSans-50\"/>\r\n      </g>\r\n     </g>\r\n    </g>\r\n    <g id=\"ytick_4\">\r\n     <g id=\"line2d_4\">\r\n      <g>\r\n       <use style=\"fill:#ffffff;stroke:#ffffff;stroke-width:0.8;\" x=\"20.5625\" xlink:href=\"#m7f57d20366\" y=\"113.500116\"/>\r\n      </g>\r\n     </g>\r\n     <g id=\"text_54\">\r\n      <!-- 3 -->\r\n      <g style=\"fill:#ffffff;\" transform=\"translate(7.2 117.299335)scale(0.1 -0.1)\">\r\n       <use xlink:href=\"#DejaVuSans-51\"/>\r\n      </g>\r\n     </g>\r\n    </g>\r\n    <g id=\"ytick_5\">\r\n     <g id=\"line2d_5\">\r\n      <g>\r\n       <use style=\"fill:#ffffff;stroke:#ffffff;stroke-width:0.8;\" x=\"20.5625\" xlink:href=\"#m7f57d20366\" y=\"76.453488\"/>\r\n      </g>\r\n     </g>\r\n     <g id=\"text_55\">\r\n      <!-- 4 -->\r\n      <g style=\"fill:#ffffff;\" transform=\"translate(7.2 80.252707)scale(0.1 -0.1)\">\r\n       <use xlink:href=\"#DejaVuSans-52\"/>\r\n      </g>\r\n     </g>\r\n    </g>\r\n    <g id=\"ytick_6\">\r\n     <g id=\"line2d_6\">\r\n      <g>\r\n       <use style=\"fill:#ffffff;stroke:#ffffff;stroke-width:0.8;\" x=\"20.5625\" xlink:href=\"#m7f57d20366\" y=\"39.40686\"/>\r\n      </g>\r\n     </g>\r\n     <g id=\"text_56\">\r\n      <!-- 5 -->\r\n      <g style=\"fill:#ffffff;\" transform=\"translate(7.2 43.206079)scale(0.1 -0.1)\">\r\n       <use xlink:href=\"#DejaVuSans-53\"/>\r\n      </g>\r\n     </g>\r\n    </g>\r\n   </g>\r\n   <g id=\"LineCollection_1\">\r\n    <path clip-path=\"url(#pacfa88d09f)\" d=\"M 23.9105 224.64 \r\nL 23.9105 206.416309 \r\nL 30.6065 206.416309 \r\nL 30.6065 224.64 \r\n\" style=\"fill:none;stroke:#008000;stroke-width:1.5;\"/>\r\n    <path clip-path=\"url(#pacfa88d09f)\" d=\"M 50.6945 224.64 \r\nL 50.6945 217.802434 \r\nL 57.3905 217.802434 \r\nL 57.3905 224.64 \r\n\" style=\"fill:none;stroke:#008000;stroke-width:1.5;\"/>\r\n    <path clip-path=\"url(#pacfa88d09f)\" d=\"M 43.9985 224.64 \r\nL 43.9985 215.159486 \r\nL 54.0425 215.159486 \r\nL 54.0425 217.802434 \r\n\" style=\"fill:none;stroke:#008000;stroke-width:1.5;\"/>\r\n    <path clip-path=\"url(#pacfa88d09f)\" d=\"M 37.3025 224.64 \r\nL 37.3025 201.508127 \r\nL 49.0205 201.508127 \r\nL 49.0205 215.159486 \r\n\" style=\"fill:none;stroke:#008000;stroke-width:1.5;\"/>\r\n    <path clip-path=\"url(#pacfa88d09f)\" d=\"M 64.0865 224.64 \r\nL 64.0865 214.62631 \r\nL 70.7825 214.62631 \r\nL 70.7825 224.64 \r\n\" style=\"fill:none;stroke:#008000;stroke-width:1.5;\"/>\r\n    <path clip-path=\"url(#pacfa88d09f)\" d=\"M 77.4785 224.64 \r\nL 77.4785 220.815498 \r\nL 84.1745 220.815498 \r\nL 84.1745 224.64 \r\n\" style=\"fill:none;stroke:#008000;stroke-width:1.5;\"/>\r\n    <path clip-path=\"url(#pacfa88d09f)\" d=\"M 90.8705 224.64 \r\nL 90.8705 218.102031 \r\nL 97.5665 218.102031 \r\nL 97.5665 224.64 \r\n\" style=\"fill:none;stroke:#008000;stroke-width:1.5;\"/>\r\n    <path clip-path=\"url(#pacfa88d09f)\" d=\"M 104.2625 224.64 \r\nL 104.2625 215.25667 \r\nL 110.9585 215.25667 \r\nL 110.9585 224.64 \r\n\" style=\"fill:none;stroke:#008000;stroke-width:1.5;\"/>\r\n    <path clip-path=\"url(#pacfa88d09f)\" d=\"M 94.2185 218.102031 \r\nL 94.2185 210.919089 \r\nL 107.6105 210.919089 \r\nL 107.6105 215.25667 \r\n\" style=\"fill:none;stroke:#008000;stroke-width:1.5;\"/>\r\n    <path clip-path=\"url(#pacfa88d09f)\" d=\"M 80.8265 220.815498 \r\nL 80.8265 206.676491 \r\nL 100.9145 206.676491 \r\nL 100.9145 210.919089 \r\n\" style=\"fill:none;stroke:#008000;stroke-width:1.5;\"/>\r\n    <path clip-path=\"url(#pacfa88d09f)\" d=\"M 67.4345 214.62631 \r\nL 67.4345 193.593798 \r\nL 90.8705 193.593798 \r\nL 90.8705 206.676491 \r\n\" style=\"fill:none;stroke:#008000;stroke-width:1.5;\"/>\r\n    <path clip-path=\"url(#pacfa88d09f)\" d=\"M 43.1615 201.508127 \r\nL 43.1615 174.911856 \r\nL 79.1525 174.911856 \r\nL 79.1525 193.593798 \r\n\" style=\"fill:none;stroke:#008000;stroke-width:1.5;\"/>\r\n    <path clip-path=\"url(#pacfa88d09f)\" d=\"M 27.2585 206.416309 \r\nL 27.2585 138.279051 \r\nL 61.157 138.279051 \r\nL 61.157 174.911856 \r\n\" style=\"fill:none;stroke:#008000;stroke-width:1.5;\"/>\r\n   </g>\r\n   <g id=\"LineCollection_2\">\r\n    <path clip-path=\"url(#pacfa88d09f)\" d=\"M 124.3505 224.64 \r\nL 124.3505 206.697645 \r\nL 131.0465 206.697645 \r\nL 131.0465 224.64 \r\n\" style=\"fill:none;stroke:#ff0000;stroke-width:1.5;\"/>\r\n    <path clip-path=\"url(#pacfa88d09f)\" d=\"M 117.6545 224.64 \r\nL 117.6545 200.325585 \r\nL 127.6985 200.325585 \r\nL 127.6985 206.697645 \r\n\" style=\"fill:none;stroke:#ff0000;stroke-width:1.5;\"/>\r\n    <path clip-path=\"url(#pacfa88d09f)\" d=\"M 144.4385 224.64 \r\nL 144.4385 223.96686 \r\nL 151.1345 223.96686 \r\nL 151.1345 224.64 \r\n\" style=\"fill:none;stroke:#ff0000;stroke-width:1.5;\"/>\r\n    <path clip-path=\"url(#pacfa88d09f)\" d=\"M 137.7425 224.64 \r\nL 137.7425 221.908874 \r\nL 147.7865 221.908874 \r\nL 147.7865 223.96686 \r\n\" style=\"fill:none;stroke:#ff0000;stroke-width:1.5;\"/>\r\n    <path clip-path=\"url(#pacfa88d09f)\" d=\"M 164.5265 224.64 \r\nL 164.5265 215.735475 \r\nL 171.2225 215.735475 \r\nL 171.2225 224.64 \r\n\" style=\"fill:none;stroke:#ff0000;stroke-width:1.5;\"/>\r\n    <path clip-path=\"url(#pacfa88d09f)\" d=\"M 157.8305 224.64 \r\nL 157.8305 211.276299 \r\nL 167.8745 211.276299 \r\nL 167.8745 215.735475 \r\n\" style=\"fill:none;stroke:#ff0000;stroke-width:1.5;\"/>\r\n    <path clip-path=\"url(#pacfa88d09f)\" d=\"M 142.7645 221.908874 \r\nL 142.7645 207.26738 \r\nL 162.8525 207.26738 \r\nL 162.8525 211.276299 \r\n\" style=\"fill:none;stroke:#ff0000;stroke-width:1.5;\"/>\r\n    <path clip-path=\"url(#pacfa88d09f)\" d=\"M 191.3105 224.64 \r\nL 191.3105 222.120818 \r\nL 198.0065 222.120818 \r\nL 198.0065 224.64 \r\n\" style=\"fill:none;stroke:#ff0000;stroke-width:1.5;\"/>\r\n    <path clip-path=\"url(#pacfa88d09f)\" d=\"M 184.6145 224.64 \r\nL 184.6145 214.026663 \r\nL 194.6585 214.026663 \r\nL 194.6585 222.120818 \r\n\" style=\"fill:none;stroke:#ff0000;stroke-width:1.5;\"/>\r\n    <path clip-path=\"url(#pacfa88d09f)\" d=\"M 177.9185 224.64 \r\nL 177.9185 206.207029 \r\nL 189.6365 206.207029 \r\nL 189.6365 214.026663 \r\n\" style=\"fill:none;stroke:#ff0000;stroke-width:1.5;\"/>\r\n    <path clip-path=\"url(#pacfa88d09f)\" d=\"M 152.8085 207.26738 \r\nL 152.8085 188.202835 \r\nL 183.7775 188.202835 \r\nL 183.7775 206.207029 \r\n\" style=\"fill:none;stroke:#ff0000;stroke-width:1.5;\"/>\r\n    <path clip-path=\"url(#pacfa88d09f)\" d=\"M 122.6765 200.325585 \r\nL 122.6765 157.456185 \r\nL 168.293 157.456185 \r\nL 168.293 188.202835 \r\n\" style=\"fill:none;stroke:#ff0000;stroke-width:1.5;\"/>\r\n   </g>\r\n   <g id=\"LineCollection_3\">\r\n    <path clip-path=\"url(#pacfa88d09f)\" d=\"M 211.3985 224.64 \r\nL 211.3985 221.503241 \r\nL 218.0945 221.503241 \r\nL 218.0945 224.64 \r\n\" style=\"fill:none;stroke:#00bfbf;stroke-width:1.5;\"/>\r\n    <path clip-path=\"url(#pacfa88d09f)\" d=\"M 204.7025 224.64 \r\nL 204.7025 210.052362 \r\nL 214.7465 210.052362 \r\nL 214.7465 221.503241 \r\n\" style=\"fill:none;stroke:#00bfbf;stroke-width:1.5;\"/>\r\n    <path clip-path=\"url(#pacfa88d09f)\" d=\"M 238.1825 224.64 \r\nL 238.1825 215.068078 \r\nL 244.8785 215.068078 \r\nL 244.8785 224.64 \r\n\" style=\"fill:none;stroke:#00bfbf;stroke-width:1.5;\"/>\r\n    <path clip-path=\"url(#pacfa88d09f)\" d=\"M 231.4865 224.64 \r\nL 231.4865 208.27345 \r\nL 241.5305 208.27345 \r\nL 241.5305 215.068078 \r\n\" style=\"fill:none;stroke:#00bfbf;stroke-width:1.5;\"/>\r\n    <path clip-path=\"url(#pacfa88d09f)\" d=\"M 224.7905 224.64 \r\nL 224.7905 202.529901 \r\nL 236.5085 202.529901 \r\nL 236.5085 208.27345 \r\n\" style=\"fill:none;stroke:#00bfbf;stroke-width:1.5;\"/>\r\n    <path clip-path=\"url(#pacfa88d09f)\" d=\"M 251.5745 224.64 \r\nL 251.5745 222.471223 \r\nL 258.2705 222.471223 \r\nL 258.2705 224.64 \r\n\" style=\"fill:none;stroke:#00bfbf;stroke-width:1.5;\"/>\r\n    <path clip-path=\"url(#pacfa88d09f)\" d=\"M 264.9665 224.64 \r\nL 264.9665 213.108288 \r\nL 271.6625 213.108288 \r\nL 271.6625 224.64 \r\n\" style=\"fill:none;stroke:#00bfbf;stroke-width:1.5;\"/>\r\n    <path clip-path=\"url(#pacfa88d09f)\" d=\"M 254.9225 222.471223 \r\nL 254.9225 201.379538 \r\nL 268.3145 201.379538 \r\nL 268.3145 213.108288 \r\n\" style=\"fill:none;stroke:#00bfbf;stroke-width:1.5;\"/>\r\n    <path clip-path=\"url(#pacfa88d09f)\" d=\"M 230.6495 202.529901 \r\nL 230.6495 191.378959 \r\nL 261.6185 191.378959 \r\nL 261.6185 201.379538 \r\n\" style=\"fill:none;stroke:#00bfbf;stroke-width:1.5;\"/>\r\n    <path clip-path=\"url(#pacfa88d09f)\" d=\"M 209.7245 210.052362 \r\nL 209.7245 171.571518 \r\nL 246.134 171.571518 \r\nL 246.134 191.378959 \r\n\" style=\"fill:none;stroke:#00bfbf;stroke-width:1.5;\"/>\r\n    <path clip-path=\"url(#pacfa88d09f)\" d=\"M 285.0545 224.64 \r\nL 285.0545 221.872508 \r\nL 291.7505 221.872508 \r\nL 291.7505 224.64 \r\n\" style=\"fill:none;stroke:#00bfbf;stroke-width:1.5;\"/>\r\n    <path clip-path=\"url(#pacfa88d09f)\" d=\"M 278.3585 224.64 \r\nL 278.3585 207.077332 \r\nL 288.4025 207.077332 \r\nL 288.4025 221.872508 \r\n\" style=\"fill:none;stroke:#00bfbf;stroke-width:1.5;\"/>\r\n    <path clip-path=\"url(#pacfa88d09f)\" d=\"M 325.2305 224.64 \r\nL 325.2305 220.939955 \r\nL 331.9265 220.939955 \r\nL 331.9265 224.64 \r\n\" style=\"fill:none;stroke:#00bfbf;stroke-width:1.5;\"/>\r\n    <path clip-path=\"url(#pacfa88d09f)\" d=\"M 318.5345 224.64 \r\nL 318.5345 216.603395 \r\nL 328.5785 216.603395 \r\nL 328.5785 220.939955 \r\n\" style=\"fill:none;stroke:#00bfbf;stroke-width:1.5;\"/>\r\n    <path clip-path=\"url(#pacfa88d09f)\" d=\"M 311.8385 224.64 \r\nL 311.8385 213.10794 \r\nL 323.5565 213.10794 \r\nL 323.5565 216.603395 \r\n\" style=\"fill:none;stroke:#00bfbf;stroke-width:1.5;\"/>\r\n    <path clip-path=\"url(#pacfa88d09f)\" d=\"M 345.3185 224.64 \r\nL 345.3185 218.789249 \r\nL 352.0145 218.789249 \r\nL 352.0145 224.64 \r\n\" style=\"fill:none;stroke:#00bfbf;stroke-width:1.5;\"/>\r\n    <path clip-path=\"url(#pacfa88d09f)\" d=\"M 338.6225 224.64 \r\nL 338.6225 213.081995 \r\nL 348.6665 213.081995 \r\nL 348.6665 218.789249 \r\n\" style=\"fill:none;stroke:#00bfbf;stroke-width:1.5;\"/>\r\n    <path clip-path=\"url(#pacfa88d09f)\" d=\"M 317.6975 213.10794 \r\nL 317.6975 201.639967 \r\nL 343.6445 201.639967 \r\nL 343.6445 213.081995 \r\n\" style=\"fill:none;stroke:#00bfbf;stroke-width:1.5;\"/>\r\n    <path clip-path=\"url(#pacfa88d09f)\" d=\"M 305.1425 224.64 \r\nL 305.1425 196.968842 \r\nL 330.671 196.968842 \r\nL 330.671 201.639967 \r\n\" style=\"fill:none;stroke:#00bfbf;stroke-width:1.5;\"/>\r\n    <path clip-path=\"url(#pacfa88d09f)\" d=\"M 298.4465 224.64 \r\nL 298.4465 185.51859 \r\nL 317.90675 185.51859 \r\nL 317.90675 196.968842 \r\n\" style=\"fill:none;stroke:#00bfbf;stroke-width:1.5;\"/>\r\n    <path clip-path=\"url(#pacfa88d09f)\" d=\"M 283.3805 207.077332 \r\nL 283.3805 171.074915 \r\nL 308.176625 171.074915 \r\nL 308.176625 185.51859 \r\n\" style=\"fill:none;stroke:#00bfbf;stroke-width:1.5;\"/>\r\n    <path clip-path=\"url(#pacfa88d09f)\" d=\"M 227.92925 171.571518 \r\nL 227.92925 122.992093 \r\nL 295.778563 122.992093 \r\nL 295.778563 171.074915 \r\n\" style=\"fill:none;stroke:#00bfbf;stroke-width:1.5;\"/>\r\n   </g>\r\n   <g id=\"LineCollection_4\">\r\n    <path clip-path=\"url(#pacfa88d09f)\" d=\"M 145.48475 157.456185 \r\nL 145.48475 66.35561 \r\nL 261.853906 66.35561 \r\nL 261.853906 122.992093 \r\n\" style=\"fill:none;stroke:#0000ff;stroke-width:1.5;\"/>\r\n    <path clip-path=\"url(#pacfa88d09f)\" d=\"M 44.20775 138.279051 \r\nL 44.20775 17.554286 \r\nL 203.669328 17.554286 \r\nL 203.669328 66.35561 \r\n\" style=\"fill:none;stroke:#0000ff;stroke-width:1.5;\"/>\r\n   </g>\r\n   <g id=\"patch_3\">\r\n    <path d=\"M 20.5625 224.64 \r\nL 20.5625 7.2 \r\n\" style=\"fill:none;stroke:#ffffff;stroke-linecap:square;stroke-linejoin:miter;stroke-width:0.8;\"/>\r\n   </g>\r\n   <g id=\"patch_4\">\r\n    <path d=\"M 355.3625 224.64 \r\nL 355.3625 7.2 \r\n\" style=\"fill:none;stroke:#ffffff;stroke-linecap:square;stroke-linejoin:miter;stroke-width:0.8;\"/>\r\n   </g>\r\n   <g id=\"patch_5\">\r\n    <path d=\"M 20.5625 224.64 \r\nL 355.3625 224.64 \r\n\" style=\"fill:none;stroke:#ffffff;stroke-linecap:square;stroke-linejoin:miter;stroke-width:0.8;\"/>\r\n   </g>\r\n   <g id=\"patch_6\">\r\n    <path d=\"M 20.5625 7.2 \r\nL 355.3625 7.2 \r\n\" style=\"fill:none;stroke:#ffffff;stroke-linecap:square;stroke-linejoin:miter;stroke-width:0.8;\"/>\r\n   </g>\r\n  </g>\r\n </g>\r\n <defs>\r\n  <clipPath id=\"pacfa88d09f\">\r\n   <rect height=\"217.44\" width=\"334.8\" x=\"20.5625\" y=\"7.2\"/>\r\n  </clipPath>\r\n </defs>\r\n</svg>\r\n",
      "text/plain": "<Figure size 432x288 with 1 Axes>"
     },
     "metadata": {
      "needs_background": "dark"
     },
     "output_type": "display_data"
    }
   ],
   "source": [
    "dendro = hierarchy.dendrogram(Z)"
   ]
  },
  {
   "cell_type": "markdown",
   "metadata": {},
   "source": [
    "## Practice\n",
    "We used __complete__ linkage for our case, change it to __average__ linkage to see how the dendogram changes."
   ]
  },
  {
   "cell_type": "code",
   "execution_count": 10,
   "metadata": {},
   "outputs": [],
   "source": [
    "# write your code here\n",
    "\n",
    "\n"
   ]
  },
  {
   "cell_type": "markdown",
   "metadata": {},
   "source": [
    "Double-click __here__ for the solution.\n",
    "\n",
    "<!-- Your answer is below:\n",
    "    \n",
    "Z = hierarchy.linkage(dist_matrix, 'average')\n",
    "dendro = hierarchy.dendrogram(Z)\n",
    "\n",
    "-->"
   ]
  },
  {
   "cell_type": "markdown",
   "metadata": {},
   "source": [
    "---\n",
    "# Clustering on Vehicle dataset\n",
    "\n",
    "Imagine that an automobile manufacturer has developed prototypes for a new vehicle. Before introducing the new model into its range, the manufacturer wants to determine which existing vehicles on the market are most like the prototypes--that is, how vehicles can be grouped, which group is the most similar with the model, and therefore which models they will be competing against.\n",
    "\n",
    "Our objective here, is to use clustering methods, to find the most distinctive clusters of vehicles. It will summarize the existing vehicles and help manufacture to make decision about new models simply."
   ]
  },
  {
   "cell_type": "markdown",
   "metadata": {},
   "source": [
    "### Download data\n",
    "To download the data, we will use **`!wget`**. To download the data, we will use `!wget` to download it from IBM Object Storage.  \n",
    "__Did you know?__ When it comes to Machine Learning, you will likely be working with large datasets. As a business, where can you host your data? IBM is offering a unique opportunity for businesses, with 10 Tb of IBM Cloud Object Storage: [Sign up now for free](http://cocl.us/ML0101EN-IBM-Offer-CC)"
   ]
  },
  {
   "cell_type": "code",
   "execution_count": null,
   "metadata": {},
   "outputs": [],
   "source": [
    "!wget -O cars_clus.csv https://s3-api.us-geo.objectstorage.softlayer.net/cf-courses-data/CognitiveClass/ML0101ENv3/labs/cars_clus.csv"
   ]
  },
  {
   "cell_type": "markdown",
   "metadata": {},
   "source": [
    "## Read data\n",
    "lets read dataset to see what features the manufacturer has collected about the existing models."
   ]
  },
  {
   "cell_type": "code",
   "execution_count": null,
   "metadata": {},
   "outputs": [],
   "source": [
    "filename = 'cars_clus.csv'\n",
    "\n",
    "#Read csv\n",
    "pdf = pd.read_csv(filename)\n",
    "print (\"Shape of dataset: \", pdf.shape)\n",
    "\n",
    "pdf.head(5)"
   ]
  },
  {
   "cell_type": "markdown",
   "metadata": {},
   "source": [
    "The featuresets include  price in thousands (price), engine size (engine_s), horsepower (horsepow), wheelbase (wheelbas), width (width), length (length), curb weight (curb_wgt), fuel capacity (fuel_cap) and fuel efficiency (mpg)."
   ]
  },
  {
   "cell_type": "markdown",
   "metadata": {},
   "source": [
    "### Data Cleaning\n",
    "lets simply clear the dataset by dropping the rows that have null value:"
   ]
  },
  {
   "cell_type": "code",
   "execution_count": null,
   "metadata": {},
   "outputs": [],
   "source": [
    "print (\"Shape of dataset before cleaning: \", pdf.size)\n",
    "pdf[[ 'sales', 'resale', 'type', 'price', 'engine_s',\n",
    "       'horsepow', 'wheelbas', 'width', 'length', 'curb_wgt', 'fuel_cap',\n",
    "       'mpg', 'lnsales']] = pdf[['sales', 'resale', 'type', 'price', 'engine_s',\n",
    "       'horsepow', 'wheelbas', 'width', 'length', 'curb_wgt', 'fuel_cap',\n",
    "       'mpg', 'lnsales']].apply(pd.to_numeric, errors='coerce')\n",
    "pdf = pdf.dropna()\n",
    "pdf = pdf.reset_index(drop=True)\n",
    "print (\"Shape of dataset after cleaning: \", pdf.size)\n",
    "pdf.head(5)"
   ]
  },
  {
   "cell_type": "markdown",
   "metadata": {},
   "source": [
    "### Feature selection\n",
    "Lets select our feature set:"
   ]
  },
  {
   "cell_type": "code",
   "execution_count": null,
   "metadata": {},
   "outputs": [],
   "source": [
    "featureset = pdf[['engine_s',  'horsepow', 'wheelbas', 'width', 'length', 'curb_wgt', 'fuel_cap', 'mpg']]"
   ]
  },
  {
   "cell_type": "markdown",
   "metadata": {},
   "source": [
    "### Normalization\n",
    "Now we can normalize the feature set. __MinMaxScaler__ transforms features by scaling each feature to a given range. It is by default (0, 1). That is, this estimator scales and translates each feature individually such that it is between zero and one."
   ]
  },
  {
   "cell_type": "code",
   "execution_count": null,
   "metadata": {},
   "outputs": [],
   "source": [
    "from sklearn.preprocessing import MinMaxScaler\n",
    "x = featureset.values #returns a numpy array\n",
    "min_max_scaler = MinMaxScaler()\n",
    "feature_mtx = min_max_scaler.fit_transform(x)\n",
    "feature_mtx [0:5]"
   ]
  },
  {
   "cell_type": "markdown",
   "metadata": {},
   "source": [
    "## Clustering using Scipy\n",
    "In this part we use Scipy package to cluster the dataset:  \n",
    "First, we calculate the distance matrix. "
   ]
  },
  {
   "cell_type": "code",
   "execution_count": null,
   "metadata": {},
   "outputs": [],
   "source": [
    "import scipy\n",
    "leng = feature_mtx.shape[0]\n",
    "D = scipy.zeros([leng,leng])\n",
    "for i in range(leng):\n",
    "    for j in range(leng):\n",
    "        D[i,j] = scipy.spatial.distance.euclidean(feature_mtx[i], feature_mtx[j])"
   ]
  },
  {
   "cell_type": "markdown",
   "metadata": {},
   "source": [
    "In agglomerative clustering, at each iteration, the algorithm must update the distance matrix to reflect the distance of the newly formed cluster with the remaining clusters in the forest. \n",
    "The following methods are supported in Scipy for calculating the distance between the newly formed cluster and each:\n",
    "    - single\n",
    "    - complete\n",
    "    - average\n",
    "    - weighted\n",
    "    - centroid\n",
    "    \n",
    "    \n",
    "We use __complete__ for our case, but feel free to change it to see how the results change."
   ]
  },
  {
   "cell_type": "code",
   "execution_count": null,
   "metadata": {},
   "outputs": [],
   "source": [
    "import pylab\n",
    "import scipy.cluster.hierarchy\n",
    "Z = hierarchy.linkage(D, 'complete')"
   ]
  },
  {
   "cell_type": "markdown",
   "metadata": {},
   "source": [
    "Essentially, Hierarchical clustering does not require a pre-specified number of clusters. However, in some applications we want a partition of disjoint clusters just as in flat clustering.\n",
    "So you can use a cutting line:"
   ]
  },
  {
   "cell_type": "code",
   "execution_count": null,
   "metadata": {},
   "outputs": [],
   "source": [
    "from scipy.cluster.hierarchy import fcluster\n",
    "max_d = 3\n",
    "clusters = fcluster(Z, max_d, criterion='distance')\n",
    "clusters"
   ]
  },
  {
   "cell_type": "markdown",
   "metadata": {},
   "source": [
    "Also, you can determine the number of clusters directly:"
   ]
  },
  {
   "cell_type": "code",
   "execution_count": null,
   "metadata": {},
   "outputs": [],
   "source": [
    "from scipy.cluster.hierarchy import fcluster\n",
    "k = 5\n",
    "clusters = fcluster(Z, k, criterion='maxclust')\n",
    "clusters\n"
   ]
  },
  {
   "cell_type": "markdown",
   "metadata": {},
   "source": [
    "Now, plot the dendrogram:"
   ]
  },
  {
   "cell_type": "code",
   "execution_count": null,
   "metadata": {},
   "outputs": [],
   "source": [
    "fig = pylab.figure(figsize=(18,50))\n",
    "def llf(id):\n",
    "    return '[%s %s %s]' % (pdf['manufact'][id], pdf['model'][id], int(float(pdf['type'][id])) )\n",
    "    \n",
    "dendro = hierarchy.dendrogram(Z,  leaf_label_func=llf, leaf_rotation=0, leaf_font_size =12, orientation = 'right')"
   ]
  },
  {
   "cell_type": "markdown",
   "metadata": {},
   "source": [
    "## Clustering using scikit-learn\n",
    "Lets redo it again, but this time using scikit-learn package:"
   ]
  },
  {
   "cell_type": "code",
   "execution_count": null,
   "metadata": {},
   "outputs": [],
   "source": [
    "dist_matrix = distance_matrix(feature_mtx,feature_mtx) \n",
    "print(dist_matrix)"
   ]
  },
  {
   "cell_type": "markdown",
   "metadata": {},
   "source": [
    "Now, we can use the 'AgglomerativeClustering' function from scikit-learn library to cluster the dataset. The AgglomerativeClustering performs a hierarchical clustering using a bottom up approach. The linkage criteria determines the metric used for the merge strategy:\n",
    "\n",
    "- Ward minimizes the sum of squared differences within all clusters. It is a variance-minimizing approach and in this sense is similar to the k-means objective function but tackled with an agglomerative hierarchical approach.\n",
    "- Maximum or complete linkage minimizes the maximum distance between observations of pairs of clusters.\n",
    "- Average linkage minimizes the average of the distances between all observations of pairs of clusters."
   ]
  },
  {
   "cell_type": "code",
   "execution_count": null,
   "metadata": {},
   "outputs": [],
   "source": [
    "agglom = AgglomerativeClustering(n_clusters = 6, linkage = 'complete')\n",
    "agglom.fit(feature_mtx)\n",
    "agglom.labels_"
   ]
  },
  {
   "cell_type": "markdown",
   "metadata": {},
   "source": [
    "And, we can add a new field to our dataframe to show the cluster of each row:"
   ]
  },
  {
   "cell_type": "code",
   "execution_count": null,
   "metadata": {},
   "outputs": [],
   "source": [
    "pdf['cluster_'] = agglom.labels_\n",
    "pdf.head()"
   ]
  },
  {
   "cell_type": "code",
   "execution_count": null,
   "metadata": {},
   "outputs": [],
   "source": [
    "import matplotlib.cm as cm\n",
    "n_clusters = max(agglom.labels_)+1\n",
    "colors = cm.rainbow(np.linspace(0, 1, n_clusters))\n",
    "cluster_labels = list(range(0, n_clusters))\n",
    "\n",
    "# Create a figure of size 6 inches by 4 inches.\n",
    "plt.figure(figsize=(16,14))\n",
    "\n",
    "for color, label in zip(colors, cluster_labels):\n",
    "    subset = pdf[pdf.cluster_ == label]\n",
    "    for i in subset.index:\n",
    "            plt.text(subset.horsepow[i], subset.mpg[i],str(subset['model'][i]), rotation=25) \n",
    "    plt.scatter(subset.horsepow, subset.mpg, s= subset.price*10, c=color, label='cluster'+str(label),alpha=0.5)\n",
    "#    plt.scatter(subset.horsepow, subset.mpg)\n",
    "plt.legend()\n",
    "plt.title('Clusters')\n",
    "plt.xlabel('horsepow')\n",
    "plt.ylabel('mpg')"
   ]
  },
  {
   "cell_type": "markdown",
   "metadata": {},
   "source": [
    "As you can see, we are seeing the distribution of each cluster using the scatter plot, but it is not very clear where is the centroid of each cluster. Moreover, there are 2 types of vehicles in our dataset, \"truck\" (value of 1 in the type column) and \"car\" (value of 1 in the type column). So, we use them to distinguish the classes, and summarize the cluster. First we count the number of cases in each group:"
   ]
  },
  {
   "cell_type": "code",
   "execution_count": null,
   "metadata": {},
   "outputs": [],
   "source": [
    "pdf.groupby(['cluster_','type'])['cluster_'].count()"
   ]
  },
  {
   "cell_type": "markdown",
   "metadata": {},
   "source": [
    "Now we can look at the characterestics of each cluster:"
   ]
  },
  {
   "cell_type": "code",
   "execution_count": null,
   "metadata": {},
   "outputs": [],
   "source": [
    "agg_cars = pdf.groupby(['cluster_','type'])['horsepow','engine_s','mpg','price'].mean()\n",
    "agg_cars"
   ]
  },
  {
   "cell_type": "markdown",
   "metadata": {},
   "source": [
    "\n",
    "It is obvious that we have 3 main clusters with the majority of vehicles in those.\n",
    "\n",
    "__Cars__:\n",
    "- Cluster 1: with almost high mpg, and low in horsepower.\n",
    "- Cluster 2: with good mpg and horsepower, but higher price than average.\n",
    "- Cluster 3: with low mpg, high horsepower, highest price.\n",
    "    \n",
    "    \n",
    "    \n",
    "__Trucks__:\n",
    "- Cluster 1: with almost highest mpg among trucks, and lowest in horsepower and price.\n",
    "- Cluster 2: with almost low mpg and medium horsepower, but higher price than average.\n",
    "- Cluster 3: with good mpg and horsepower, low price.\n",
    "\n",
    "\n",
    "Please notice that we did not use __type__ , and __price__ of cars in the clustering process, but Hierarchical clustering could forge the clusters and discriminate them with quite high accuracy."
   ]
  },
  {
   "cell_type": "code",
   "execution_count": null,
   "metadata": {},
   "outputs": [],
   "source": [
    "plt.figure(figsize=(16,10))\n",
    "for color, label in zip(colors, cluster_labels):\n",
    "    subset = agg_cars.loc[(label,),]\n",
    "    for i in subset.index:\n",
    "        plt.text(subset.loc[i][0]+5, subset.loc[i][2], 'type='+str(int(i)) + ', price='+str(int(subset.loc[i][3]))+'k')\n",
    "    plt.scatter(subset.horsepow, subset.mpg, s=subset.price*20, c=color, label='cluster'+str(label))\n",
    "plt.legend()\n",
    "plt.title('Clusters')\n",
    "plt.xlabel('horsepow')\n",
    "plt.ylabel('mpg')\n"
   ]
  },
  {
   "cell_type": "markdown",
   "metadata": {},
   "source": [
    "## Want to learn more?\n",
    "\n",
    "IBM SPSS Modeler is a comprehensive analytics platform that has many machine learning algorithms. It has been designed to bring predictive intelligence to decisions made by individuals, by groups, by systems – by your enterprise as a whole. A free trial is available through this course, available here: [SPSS Modeler](http://cocl.us/ML0101EN-SPSSModeler).\n",
    "\n",
    "Also, you can use Watson Studio to run these notebooks faster with bigger datasets. Watson Studio is IBM's leading cloud solution for data scientists, built by data scientists. With Jupyter notebooks, RStudio, Apache Spark and popular libraries pre-packaged in the cloud, Watson Studio enables data scientists to collaborate on their projects without having to install anything. Join the fast-growing community of Watson Studio users today with a free account at [Watson Studio](https://cocl.us/ML0101EN_DSX)\n",
    "\n",
    "### Thanks for completing this lesson!\n",
    "\n",
    "Notebook created by: <a href = \"https://ca.linkedin.com/in/saeedaghabozorgi\">Saeed Aghabozorgi</a>\n",
    "\n",
    "<hr>\n",
    "Copyright &copy; 2018 [Cognitive Class](https://cocl.us/DX0108EN_CC). This notebook and its source code are released under the terms of the [MIT License](https://bigdatauniversity.com/mit-license/).​"
   ]
  },
  {
   "cell_type": "code",
   "execution_count": null,
   "metadata": {},
   "outputs": [],
   "source": []
  }
 ],
 "metadata": {
  "kernelspec": {
   "display_name": "Python 3",
   "language": "python",
   "name": "python3"
  },
  "language_info": {
   "codemirror_mode": {
    "name": "ipython",
    "version": 3
   },
   "file_extension": ".py",
   "mimetype": "text/x-python",
   "name": "python",
   "nbconvert_exporter": "python",
   "pygments_lexer": "ipython3",
   "version": "3.6.5"
  }
 },
 "nbformat": 4,
 "nbformat_minor": 2
}